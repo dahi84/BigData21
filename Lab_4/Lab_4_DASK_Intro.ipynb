{
 "cells": [
  {
   "cell_type": "markdown",
   "metadata": {
    "id": "8WbhIZm5Tjx4"
   },
   "source": [
    "<img src=\"https://github.com/dahi84/BigData21/blob/branch_4/Lab_4/IMG/dask_horizontal.svg?raw=1\"  width=\"30%\">\n",
    "\n"
   ]
  },
  {
   "cell_type": "markdown",
   "metadata": {
    "id": "CDYKpi5ZTjx5"
   },
   "source": [
    "# Introduction to DASK\n",
    "Dask is a parallel computing library that scales the existing Python ecosystem. This tutorial will introduce Dask and parallel data analysis more generally.\n",
    "\n",
    "Dask can scale down to your laptop laptop and up to a cluster.\n",
    "\n",
    "\n",
    "*  **High level Interface:**  Dask provides high-level Array, Bag, and DataFrame\n",
    "   collections that mimic NumPy, lists, and Pandas but can operate in parallel on\n",
    "   datasets that don't fit into memory.  Dask's high-level collections are\n",
    "   alternatives to NumPy and Pandas for large datasets.\n",
    "\n",
    "*  **Low Level Interface:** Dask provides dynamic task schedulers that\n",
    "   execute task graphs in parallel.  These execution engines power the\n",
    "   high-level collections mentioned above but can also power custom,\n",
    "   user-defined workloads.  These schedulers are low-latency (around 1ms) and\n",
    "   work hard to run computations in a small memory footprint.  Dask's\n",
    "   schedulers are an alternative to direct use of `threading` or\n",
    "   `multiprocessing` libraries in complex cases or other task scheduling\n",
    "   systems like `Luigi` or `IPython parallel`.\n",
    "   \n",
    "## DASK Ressources \n",
    "*  [DASK Website](http://dask.org)\n",
    "*  [Documentation](https://dask.pydata.org/en/latest/)\n"
   ]
  },
  {
   "cell_type": "markdown",
   "metadata": {
    "id": "IcBHnPxGTjx6"
   },
   "source": [
    "# High Level Interfaces: Parallelizing NumPy and Pandas"
   ]
  },
  {
   "cell_type": "markdown",
   "metadata": {
    "id": "HHjRjXkWTjx6"
   },
   "source": [
    "## Pandas\n",
    "Pandas Dataframes are a very popular tool that provide full speadsheet and in-memory database functionality for the ***Python*** ecco system. It has become one of tstandard tools in Data Science and is also widely used for pre-processing / data wrangling tasks in machine learning\n",
    "\n",
    "* the ***DASK*** API for ***Pandas*** is analog to the one for ***NumPy*** and will not be discussed here, see https://docs.dask.org/en/latest/dataframe.html for details.\n",
    "\n",
    "## NumPy\n",
    "As seen before, NumPy arrays are the dominat array and matrix data structure in the ***Python*** data science and machine learning ecco system.\n",
    "* refresh your NumPy skills with this extra [tutorial](Extra_Material/Numpy.ipynb)\n",
    "\n",
    "### Functionality of Dask arrays\n",
    "\n",
    "* Arithmetic and scalar mathematics: +, *, exp, log, ...\n",
    "* Reductions along axes: sum(), mean(), std(), sum(axis=0), ...\n",
    "* Tensor contractions / dot products / matrix multiply: tensordot\n",
    "* Axis reordering / transpose: transpose\n",
    "* Slicing: x[:100, 500:100:-2]\n",
    "* Fancy indexing along single axes with lists or NumPy arrays: x[:, [10, 1, 5]]\n",
    "* Array protocols like __array__ and __array_ufunc__\n",
    "* Some linear algebra: svd, qr, solve, solve_triangular, lstsq\n",
    "\n",
    "**Full Array API: https://docs.dask.org/en/latest/array-api.html**\n",
    "\n",
    "### Limitations\n",
    "However, Dask Array does not implement the entire NumPy interface. Users expecting this will be disappointed. Notably, Dask Array lacks the following features:\n",
    "\n",
    "* Much of np.linalg has not been implemented. This has been done by a number of excellent BLAS/LAPACK implementations, and is the focus of numerous ongoing academic research projects\n",
    "* Arrays with unknown shapes do not support all operations\n",
    "* Operations like sort which are notoriously difficult to do in parallel, and are of somewhat diminished value on very large data (you rarely actually need a full sort). Often we include parallel-friendly alternatives like topk\n",
    "* Dask Array doesn’t implement operations like tolist that would be very inefficient for larger datasets. Likewise, it is very inefficient to iterate over a Dask array with for loops\n",
    "  \n",
    "**DASK is still evolving ...**\n"
   ]
  },
  {
   "cell_type": "markdown",
   "metadata": {
    "id": "IPKnvLYATjx7"
   },
   "source": [
    "## Just get started!"
   ]
  },
  {
   "cell_type": "code",
   "execution_count": 3,
   "metadata": {
    "colab": {
     "base_uri": "https://localhost:8080/"
    },
    "id": "eG1B7kMnTjx8",
    "outputId": "d403113f-577d-4e48-904b-8441eeaed1cf"
   },
   "outputs": [
    {
     "name": "stdout",
     "output_type": "stream",
     "text": [
      "Wall time: 163 ms\n"
     ]
    },
    {
     "data": {
      "text/plain": [
       "49999840.627775155"
      ]
     },
     "execution_count": 3,
     "metadata": {},
     "output_type": "execute_result"
    }
   ],
   "source": [
    "#let's parallelize a simple array opperations\n",
    "import numpy as np\n",
    "np_A = np.random.rand(10000,10000) #create random NumPy array\n",
    "%time np_A.sum()"
   ]
  },
  {
   "cell_type": "code",
   "execution_count": 13,
   "metadata": {
    "id": "Z9GB85YRTjx9"
   },
   "outputs": [],
   "source": [
    "#now in parallel \n",
    "import dask.array as da\n",
    "da_A = da.from_array(np_A, chunks=(5000)) #create DASk array from existing NumPy array\n",
    "res = da_A.sum() #tell dask to compute the sum of A"
   ]
  },
  {
   "cell_type": "code",
   "execution_count": 14,
   "metadata": {
    "colab": {
     "base_uri": "https://localhost:8080/",
     "height": 121
    },
    "id": "BoruYRTOTjx-",
    "outputId": "d4151696-738f-4748-b95b-17c5ca804a83"
   },
   "outputs": [
    {
     "data": {
      "text/html": [
       "<table>\n",
       "<tr>\n",
       "<td>\n",
       "<table>\n",
       "  <thead>\n",
       "    <tr><td> </td><th> Array </th><th> Chunk </th></tr>\n",
       "  </thead>\n",
       "  <tbody>\n",
       "    <tr><th> Bytes </th><td> 8 B </td> <td> 8 B </td></tr>\n",
       "    <tr><th> Shape </th><td> () </td> <td> () </td></tr>\n",
       "    <tr><th> Count </th><td> 10 Tasks </td><td> 1 Chunks </td></tr>\n",
       "    <tr><th> Type </th><td> float64 </td><td> numpy.ndarray </td></tr>\n",
       "  </tbody>\n",
       "</table>\n",
       "</td>\n",
       "<td>\n",
       "\n",
       "</td>\n",
       "</tr>\n",
       "</table>"
      ],
      "text/plain": [
       "dask.array<sum-aggregate, shape=(), dtype=float64, chunksize=(), chunktype=numpy.ndarray>"
      ]
     },
     "execution_count": 14,
     "metadata": {},
     "output_type": "execute_result"
    }
   ],
   "source": [
    "res"
   ]
  },
  {
   "cell_type": "markdown",
   "metadata": {
    "id": "sTkmsOCGTjx_"
   },
   "source": [
    "### Where is my result?\n",
    "In a nutshell: ***DASK*** basically works like ***TensorFlow***:\n",
    "* First, it builds an execution graph\n",
    "* Then, we need to execute it by calling ``compute()``"
   ]
  },
  {
   "cell_type": "code",
   "execution_count": 15,
   "metadata": {
    "colab": {
     "base_uri": "https://localhost:8080/"
    },
    "id": "yYssNJ2HTjx_",
    "outputId": "690f9683-507c-49c8-bb6c-3bd47f6938f9"
   },
   "outputs": [
    {
     "name": "stdout",
     "output_type": "stream",
     "text": [
      "Wall time: 87.8 ms\n"
     ]
    },
    {
     "data": {
      "text/plain": [
       "49999840.627774976"
      ]
     },
     "execution_count": 15,
     "metadata": {},
     "output_type": "execute_result"
    }
   ],
   "source": [
    "#call compute\n",
    "%time res.compute()"
   ]
  },
  {
   "cell_type": "markdown",
   "metadata": {
    "id": "-a-ho5GZTjyA"
   },
   "source": [
    "### Why is this not faster?\n",
    "Well, building the graph, parallelizing it and scheduling it's execution causes some overhead...\n",
    "* probably, our problem was to small :-)\n"
   ]
  },
  {
   "cell_type": "markdown",
   "metadata": {
    "id": "lh6PvDt_TjyA"
   },
   "source": [
    "### What is happening at ``compute()`` ?\n"
   ]
  },
  {
   "cell_type": "code",
   "execution_count": 16,
   "metadata": {
    "colab": {
     "base_uri": "https://localhost:8080/",
     "height": 834
    },
    "id": "PMYR1fd9TjyB",
    "outputId": "22102d98-ac8e-46b0-dc98-fa3889ca0837"
   },
   "outputs": [
    {
     "ename": "RuntimeError",
     "evalue": "Drawing dask graphs requires the `graphviz` python library and the `graphviz` system library to be installed.",
     "output_type": "error",
     "traceback": [
      "\u001b[1;31m---------------------------------------------------------------------------\u001b[0m",
      "\u001b[1;31mModuleNotFoundError\u001b[0m                       Traceback (most recent call last)",
      "\u001b[1;32mC:\\Users\\danie\\Anaconda3\\lib\\site-packages\\dask\\utils.py\u001b[0m in \u001b[0;36mimport_required\u001b[1;34m(mod_name, error_msg)\u001b[0m\n\u001b[0;32m     95\u001b[0m     \u001b[1;32mtry\u001b[0m\u001b[1;33m:\u001b[0m\u001b[1;33m\u001b[0m\u001b[1;33m\u001b[0m\u001b[0m\n\u001b[1;32m---> 96\u001b[1;33m         \u001b[1;32mreturn\u001b[0m \u001b[0mimport_module\u001b[0m\u001b[1;33m(\u001b[0m\u001b[0mmod_name\u001b[0m\u001b[1;33m)\u001b[0m\u001b[1;33m\u001b[0m\u001b[1;33m\u001b[0m\u001b[0m\n\u001b[0m\u001b[0;32m     97\u001b[0m     \u001b[1;32mexcept\u001b[0m \u001b[0mImportError\u001b[0m\u001b[1;33m:\u001b[0m\u001b[1;33m\u001b[0m\u001b[1;33m\u001b[0m\u001b[0m\n",
      "\u001b[1;32mC:\\Users\\danie\\Anaconda3\\lib\\importlib\\__init__.py\u001b[0m in \u001b[0;36mimport_module\u001b[1;34m(name, package)\u001b[0m\n\u001b[0;32m    126\u001b[0m             \u001b[0mlevel\u001b[0m \u001b[1;33m+=\u001b[0m \u001b[1;36m1\u001b[0m\u001b[1;33m\u001b[0m\u001b[1;33m\u001b[0m\u001b[0m\n\u001b[1;32m--> 127\u001b[1;33m     \u001b[1;32mreturn\u001b[0m \u001b[0m_bootstrap\u001b[0m\u001b[1;33m.\u001b[0m\u001b[0m_gcd_import\u001b[0m\u001b[1;33m(\u001b[0m\u001b[0mname\u001b[0m\u001b[1;33m[\u001b[0m\u001b[0mlevel\u001b[0m\u001b[1;33m:\u001b[0m\u001b[1;33m]\u001b[0m\u001b[1;33m,\u001b[0m \u001b[0mpackage\u001b[0m\u001b[1;33m,\u001b[0m \u001b[0mlevel\u001b[0m\u001b[1;33m)\u001b[0m\u001b[1;33m\u001b[0m\u001b[1;33m\u001b[0m\u001b[0m\n\u001b[0m\u001b[0;32m    128\u001b[0m \u001b[1;33m\u001b[0m\u001b[0m\n",
      "\u001b[1;32mC:\\Users\\danie\\Anaconda3\\lib\\importlib\\_bootstrap.py\u001b[0m in \u001b[0;36m_gcd_import\u001b[1;34m(name, package, level)\u001b[0m\n",
      "\u001b[1;32mC:\\Users\\danie\\Anaconda3\\lib\\importlib\\_bootstrap.py\u001b[0m in \u001b[0;36m_find_and_load\u001b[1;34m(name, import_)\u001b[0m\n",
      "\u001b[1;32mC:\\Users\\danie\\Anaconda3\\lib\\importlib\\_bootstrap.py\u001b[0m in \u001b[0;36m_find_and_load_unlocked\u001b[1;34m(name, import_)\u001b[0m\n",
      "\u001b[1;31mModuleNotFoundError\u001b[0m: No module named 'graphviz'",
      "\nDuring handling of the above exception, another exception occurred:\n",
      "\u001b[1;31mRuntimeError\u001b[0m                              Traceback (most recent call last)",
      "\u001b[1;32m<ipython-input-16-1b4a3ff638ac>\u001b[0m in \u001b[0;36m<module>\u001b[1;34m\u001b[0m\n\u001b[0;32m      1\u001b[0m \u001b[1;31m#have look at the actual compute graph build by DASK\u001b[0m\u001b[1;33m\u001b[0m\u001b[1;33m\u001b[0m\u001b[1;33m\u001b[0m\u001b[0m\n\u001b[1;32m----> 2\u001b[1;33m \u001b[0mres\u001b[0m\u001b[1;33m.\u001b[0m\u001b[0mvisualize\u001b[0m\u001b[1;33m(\u001b[0m\u001b[0mfilename\u001b[0m\u001b[1;33m=\u001b[0m\u001b[1;34m'graph.svg'\u001b[0m\u001b[1;33m)\u001b[0m\u001b[1;33m\u001b[0m\u001b[1;33m\u001b[0m\u001b[0m\n\u001b[0m",
      "\u001b[1;32mC:\\Users\\danie\\Anaconda3\\lib\\site-packages\\dask\\base.py\u001b[0m in \u001b[0;36mvisualize\u001b[1;34m(self, filename, format, optimize_graph, **kwargs)\u001b[0m\n\u001b[0;32m     94\u001b[0m             \u001b[0mformat\u001b[0m\u001b[1;33m=\u001b[0m\u001b[0mformat\u001b[0m\u001b[1;33m,\u001b[0m\u001b[1;33m\u001b[0m\u001b[1;33m\u001b[0m\u001b[0m\n\u001b[0;32m     95\u001b[0m             \u001b[0moptimize_graph\u001b[0m\u001b[1;33m=\u001b[0m\u001b[0moptimize_graph\u001b[0m\u001b[1;33m,\u001b[0m\u001b[1;33m\u001b[0m\u001b[1;33m\u001b[0m\u001b[0m\n\u001b[1;32m---> 96\u001b[1;33m             \u001b[1;33m**\u001b[0m\u001b[0mkwargs\u001b[0m\u001b[1;33m\u001b[0m\u001b[1;33m\u001b[0m\u001b[0m\n\u001b[0m\u001b[0;32m     97\u001b[0m         )\n\u001b[0;32m     98\u001b[0m \u001b[1;33m\u001b[0m\u001b[0m\n",
      "\u001b[1;32mC:\\Users\\danie\\Anaconda3\\lib\\site-packages\\dask\\base.py\u001b[0m in \u001b[0;36mvisualize\u001b[1;34m(*args, **kwargs)\u001b[0m\n\u001b[0;32m    484\u001b[0m     \u001b[0mhttps\u001b[0m\u001b[1;33m:\u001b[0m\u001b[1;33m//\u001b[0m\u001b[0mdocs\u001b[0m\u001b[1;33m.\u001b[0m\u001b[0mdask\u001b[0m\u001b[1;33m.\u001b[0m\u001b[0morg\u001b[0m\u001b[1;33m/\u001b[0m\u001b[0men\u001b[0m\u001b[1;33m/\u001b[0m\u001b[0mlatest\u001b[0m\u001b[1;33m/\u001b[0m\u001b[0moptimize\u001b[0m\u001b[1;33m.\u001b[0m\u001b[0mhtml\u001b[0m\u001b[1;33m\u001b[0m\u001b[1;33m\u001b[0m\u001b[0m\n\u001b[0;32m    485\u001b[0m     \"\"\"\n\u001b[1;32m--> 486\u001b[1;33m     \u001b[1;32mfrom\u001b[0m \u001b[0mdask\u001b[0m\u001b[1;33m.\u001b[0m\u001b[0mdot\u001b[0m \u001b[1;32mimport\u001b[0m \u001b[0mdot_graph\u001b[0m\u001b[1;33m\u001b[0m\u001b[1;33m\u001b[0m\u001b[0m\n\u001b[0m\u001b[0;32m    487\u001b[0m \u001b[1;33m\u001b[0m\u001b[0m\n\u001b[0;32m    488\u001b[0m     \u001b[0mfilename\u001b[0m \u001b[1;33m=\u001b[0m \u001b[0mkwargs\u001b[0m\u001b[1;33m.\u001b[0m\u001b[0mpop\u001b[0m\u001b[1;33m(\u001b[0m\u001b[1;34m\"filename\"\u001b[0m\u001b[1;33m,\u001b[0m \u001b[1;34m\"mydask\"\u001b[0m\u001b[1;33m)\u001b[0m\u001b[1;33m\u001b[0m\u001b[1;33m\u001b[0m\u001b[0m\n",
      "\u001b[1;32mC:\\Users\\danie\\Anaconda3\\lib\\site-packages\\dask\\dot.py\u001b[0m in \u001b[0;36m<module>\u001b[1;34m\u001b[0m\n\u001b[0;32m      9\u001b[0m graphviz = import_required(\n\u001b[0;32m     10\u001b[0m     \u001b[1;34m\"graphviz\"\u001b[0m\u001b[1;33m,\u001b[0m\u001b[1;33m\u001b[0m\u001b[1;33m\u001b[0m\u001b[0m\n\u001b[1;32m---> 11\u001b[1;33m     \u001b[1;34m\"Drawing dask graphs requires the \"\u001b[0m\u001b[1;33m\u001b[0m\u001b[1;33m\u001b[0m\u001b[0m\n\u001b[0m\u001b[0;32m     12\u001b[0m     \u001b[1;34m\"`graphviz` python library and the \"\u001b[0m\u001b[1;33m\u001b[0m\u001b[1;33m\u001b[0m\u001b[0m\n\u001b[0;32m     13\u001b[0m     \u001b[1;34m\"`graphviz` system library to be \"\u001b[0m\u001b[1;33m\u001b[0m\u001b[1;33m\u001b[0m\u001b[0m\n",
      "\u001b[1;32mC:\\Users\\danie\\Anaconda3\\lib\\site-packages\\dask\\utils.py\u001b[0m in \u001b[0;36mimport_required\u001b[1;34m(mod_name, error_msg)\u001b[0m\n\u001b[0;32m     96\u001b[0m         \u001b[1;32mreturn\u001b[0m \u001b[0mimport_module\u001b[0m\u001b[1;33m(\u001b[0m\u001b[0mmod_name\u001b[0m\u001b[1;33m)\u001b[0m\u001b[1;33m\u001b[0m\u001b[1;33m\u001b[0m\u001b[0m\n\u001b[0;32m     97\u001b[0m     \u001b[1;32mexcept\u001b[0m \u001b[0mImportError\u001b[0m\u001b[1;33m:\u001b[0m\u001b[1;33m\u001b[0m\u001b[1;33m\u001b[0m\u001b[0m\n\u001b[1;32m---> 98\u001b[1;33m         \u001b[1;32mraise\u001b[0m \u001b[0mRuntimeError\u001b[0m\u001b[1;33m(\u001b[0m\u001b[0merror_msg\u001b[0m\u001b[1;33m)\u001b[0m\u001b[1;33m\u001b[0m\u001b[1;33m\u001b[0m\u001b[0m\n\u001b[0m\u001b[0;32m     99\u001b[0m \u001b[1;33m\u001b[0m\u001b[0m\n\u001b[0;32m    100\u001b[0m \u001b[1;33m\u001b[0m\u001b[0m\n",
      "\u001b[1;31mRuntimeError\u001b[0m: Drawing dask graphs requires the `graphviz` python library and the `graphviz` system library to be installed."
     ]
    }
   ],
   "source": [
    "#have look at the actual compute graph build by DASK\n",
    "res.visualize(filename='graph.svg')"
   ]
  },
  {
   "cell_type": "markdown",
   "metadata": {
    "id": "wKY1rCDNTjyC"
   },
   "source": [
    "### Ahh - MapReduce!\n",
    "* looks like ***DASK*** automatically implemented MapReduce\n",
    "* but, why did it use 4 parallel paths?"
   ]
  },
  {
   "cell_type": "markdown",
   "metadata": {
    "id": "sIitRH3eTjyC"
   },
   "source": [
    "### Block concept of DASK arrays\n",
    "* ***DASK*** splitts arrays into blocks \n",
    "* parallelization (here MapReduce) runs over Blocks\n",
    "* Blocks sizes are definde by the ``chunks`` \n",
    "\n",
    "```\n",
    "#recall array creation\n",
    "da_A = da.from_array(np_A, chunks=(5000))\n",
    "```\n",
    "\n",
    "<img SRC=\"IMG/array.png\">"
   ]
  },
  {
   "cell_type": "code",
   "execution_count": 17,
   "metadata": {
    "colab": {
     "base_uri": "https://localhost:8080/"
    },
    "id": "d1Jz15JNTjyC",
    "outputId": "d064eddd-38ed-49d7-bc9d-cfbca39c4970"
   },
   "outputs": [
    {
     "data": {
      "text/plain": [
       "((5000, 5000), (5000, 5000))"
      ]
     },
     "execution_count": 17,
     "metadata": {},
     "output_type": "execute_result"
    }
   ],
   "source": [
    "#get size of chucks\n",
    "da_A.chunks"
   ]
  },
  {
   "cell_type": "code",
   "execution_count": 18,
   "metadata": {
    "colab": {
     "base_uri": "https://localhost:8080/"
    },
    "id": "_NBzXlbiTjyD",
    "outputId": "46b74c18-4a7f-413c-974f-003ea4cfa32d"
   },
   "outputs": [
    {
     "data": {
      "text/plain": [
       "(5000, 5000)"
      ]
     },
     "execution_count": 18,
     "metadata": {},
     "output_type": "execute_result"
    }
   ],
   "source": [
    "da_A.chunksize"
   ]
  },
  {
   "cell_type": "code",
   "execution_count": 19,
   "metadata": {
    "id": "_xVKU8XaTjyE"
   },
   "outputs": [],
   "source": [
    "#change chunk size\n",
    "#WARNING: can be very expensive - better think about the chunk size before ...\n",
    "B=da_A.rechunk(1000)"
   ]
  },
  {
   "cell_type": "code",
   "execution_count": 20,
   "metadata": {
    "colab": {
     "base_uri": "https://localhost:8080/"
    },
    "id": "8QA2IOGeTjyE",
    "outputId": "4207a2bf-146f-4d89-eb66-4febc10c2157"
   },
   "outputs": [
    {
     "data": {
      "text/plain": [
       "((1000, 1000, 1000, 1000, 1000, 1000, 1000, 1000, 1000, 1000),\n",
       " (1000, 1000, 1000, 1000, 1000, 1000, 1000, 1000, 1000, 1000))"
      ]
     },
     "execution_count": 20,
     "metadata": {},
     "output_type": "execute_result"
    }
   ],
   "source": [
    "B.chunks"
   ]
  },
  {
   "cell_type": "code",
   "execution_count": 21,
   "metadata": {
    "id": "MRWRCz8HTjyF"
   },
   "outputs": [
    {
     "ename": "RuntimeError",
     "evalue": "Drawing dask graphs requires the `graphviz` python library and the `graphviz` system library to be installed.",
     "output_type": "error",
     "traceback": [
      "\u001b[1;31m---------------------------------------------------------------------------\u001b[0m",
      "\u001b[1;31mModuleNotFoundError\u001b[0m                       Traceback (most recent call last)",
      "\u001b[1;32mC:\\Users\\danie\\Anaconda3\\lib\\site-packages\\dask\\utils.py\u001b[0m in \u001b[0;36mimport_required\u001b[1;34m(mod_name, error_msg)\u001b[0m\n\u001b[0;32m     95\u001b[0m     \u001b[1;32mtry\u001b[0m\u001b[1;33m:\u001b[0m\u001b[1;33m\u001b[0m\u001b[1;33m\u001b[0m\u001b[0m\n\u001b[1;32m---> 96\u001b[1;33m         \u001b[1;32mreturn\u001b[0m \u001b[0mimport_module\u001b[0m\u001b[1;33m(\u001b[0m\u001b[0mmod_name\u001b[0m\u001b[1;33m)\u001b[0m\u001b[1;33m\u001b[0m\u001b[1;33m\u001b[0m\u001b[0m\n\u001b[0m\u001b[0;32m     97\u001b[0m     \u001b[1;32mexcept\u001b[0m \u001b[0mImportError\u001b[0m\u001b[1;33m:\u001b[0m\u001b[1;33m\u001b[0m\u001b[1;33m\u001b[0m\u001b[0m\n",
      "\u001b[1;32mC:\\Users\\danie\\Anaconda3\\lib\\importlib\\__init__.py\u001b[0m in \u001b[0;36mimport_module\u001b[1;34m(name, package)\u001b[0m\n\u001b[0;32m    126\u001b[0m             \u001b[0mlevel\u001b[0m \u001b[1;33m+=\u001b[0m \u001b[1;36m1\u001b[0m\u001b[1;33m\u001b[0m\u001b[1;33m\u001b[0m\u001b[0m\n\u001b[1;32m--> 127\u001b[1;33m     \u001b[1;32mreturn\u001b[0m \u001b[0m_bootstrap\u001b[0m\u001b[1;33m.\u001b[0m\u001b[0m_gcd_import\u001b[0m\u001b[1;33m(\u001b[0m\u001b[0mname\u001b[0m\u001b[1;33m[\u001b[0m\u001b[0mlevel\u001b[0m\u001b[1;33m:\u001b[0m\u001b[1;33m]\u001b[0m\u001b[1;33m,\u001b[0m \u001b[0mpackage\u001b[0m\u001b[1;33m,\u001b[0m \u001b[0mlevel\u001b[0m\u001b[1;33m)\u001b[0m\u001b[1;33m\u001b[0m\u001b[1;33m\u001b[0m\u001b[0m\n\u001b[0m\u001b[0;32m    128\u001b[0m \u001b[1;33m\u001b[0m\u001b[0m\n",
      "\u001b[1;32mC:\\Users\\danie\\Anaconda3\\lib\\importlib\\_bootstrap.py\u001b[0m in \u001b[0;36m_gcd_import\u001b[1;34m(name, package, level)\u001b[0m\n",
      "\u001b[1;32mC:\\Users\\danie\\Anaconda3\\lib\\importlib\\_bootstrap.py\u001b[0m in \u001b[0;36m_find_and_load\u001b[1;34m(name, import_)\u001b[0m\n",
      "\u001b[1;32mC:\\Users\\danie\\Anaconda3\\lib\\importlib\\_bootstrap.py\u001b[0m in \u001b[0;36m_find_and_load_unlocked\u001b[1;34m(name, import_)\u001b[0m\n",
      "\u001b[1;31mModuleNotFoundError\u001b[0m: No module named 'graphviz'",
      "\nDuring handling of the above exception, another exception occurred:\n",
      "\u001b[1;31mRuntimeError\u001b[0m                              Traceback (most recent call last)",
      "\u001b[1;32m<ipython-input-21-14870dcef883>\u001b[0m in \u001b[0;36m<module>\u001b[1;34m\u001b[0m\n\u001b[0;32m      1\u001b[0m \u001b[0mres\u001b[0m\u001b[1;33m=\u001b[0m\u001b[0mB\u001b[0m\u001b[1;33m.\u001b[0m\u001b[0msum\u001b[0m\u001b[1;33m(\u001b[0m\u001b[1;33m)\u001b[0m\u001b[1;33m\u001b[0m\u001b[1;33m\u001b[0m\u001b[0m\n\u001b[1;32m----> 2\u001b[1;33m \u001b[0mgraph\u001b[0m\u001b[1;33m=\u001b[0m\u001b[0mres\u001b[0m\u001b[1;33m.\u001b[0m\u001b[0mvisualize\u001b[0m\u001b[1;33m(\u001b[0m\u001b[0mfilename\u001b[0m\u001b[1;33m=\u001b[0m\u001b[1;34m'graph.svg'\u001b[0m\u001b[1;33m)\u001b[0m\u001b[1;31m#saving graph to file\u001b[0m\u001b[1;33m\u001b[0m\u001b[1;33m\u001b[0m\u001b[0m\n\u001b[0m",
      "\u001b[1;32mC:\\Users\\danie\\Anaconda3\\lib\\site-packages\\dask\\base.py\u001b[0m in \u001b[0;36mvisualize\u001b[1;34m(self, filename, format, optimize_graph, **kwargs)\u001b[0m\n\u001b[0;32m     94\u001b[0m             \u001b[0mformat\u001b[0m\u001b[1;33m=\u001b[0m\u001b[0mformat\u001b[0m\u001b[1;33m,\u001b[0m\u001b[1;33m\u001b[0m\u001b[1;33m\u001b[0m\u001b[0m\n\u001b[0;32m     95\u001b[0m             \u001b[0moptimize_graph\u001b[0m\u001b[1;33m=\u001b[0m\u001b[0moptimize_graph\u001b[0m\u001b[1;33m,\u001b[0m\u001b[1;33m\u001b[0m\u001b[1;33m\u001b[0m\u001b[0m\n\u001b[1;32m---> 96\u001b[1;33m             \u001b[1;33m**\u001b[0m\u001b[0mkwargs\u001b[0m\u001b[1;33m\u001b[0m\u001b[1;33m\u001b[0m\u001b[0m\n\u001b[0m\u001b[0;32m     97\u001b[0m         )\n\u001b[0;32m     98\u001b[0m \u001b[1;33m\u001b[0m\u001b[0m\n",
      "\u001b[1;32mC:\\Users\\danie\\Anaconda3\\lib\\site-packages\\dask\\base.py\u001b[0m in \u001b[0;36mvisualize\u001b[1;34m(*args, **kwargs)\u001b[0m\n\u001b[0;32m    484\u001b[0m     \u001b[0mhttps\u001b[0m\u001b[1;33m:\u001b[0m\u001b[1;33m//\u001b[0m\u001b[0mdocs\u001b[0m\u001b[1;33m.\u001b[0m\u001b[0mdask\u001b[0m\u001b[1;33m.\u001b[0m\u001b[0morg\u001b[0m\u001b[1;33m/\u001b[0m\u001b[0men\u001b[0m\u001b[1;33m/\u001b[0m\u001b[0mlatest\u001b[0m\u001b[1;33m/\u001b[0m\u001b[0moptimize\u001b[0m\u001b[1;33m.\u001b[0m\u001b[0mhtml\u001b[0m\u001b[1;33m\u001b[0m\u001b[1;33m\u001b[0m\u001b[0m\n\u001b[0;32m    485\u001b[0m     \"\"\"\n\u001b[1;32m--> 486\u001b[1;33m     \u001b[1;32mfrom\u001b[0m \u001b[0mdask\u001b[0m\u001b[1;33m.\u001b[0m\u001b[0mdot\u001b[0m \u001b[1;32mimport\u001b[0m \u001b[0mdot_graph\u001b[0m\u001b[1;33m\u001b[0m\u001b[1;33m\u001b[0m\u001b[0m\n\u001b[0m\u001b[0;32m    487\u001b[0m \u001b[1;33m\u001b[0m\u001b[0m\n\u001b[0;32m    488\u001b[0m     \u001b[0mfilename\u001b[0m \u001b[1;33m=\u001b[0m \u001b[0mkwargs\u001b[0m\u001b[1;33m.\u001b[0m\u001b[0mpop\u001b[0m\u001b[1;33m(\u001b[0m\u001b[1;34m\"filename\"\u001b[0m\u001b[1;33m,\u001b[0m \u001b[1;34m\"mydask\"\u001b[0m\u001b[1;33m)\u001b[0m\u001b[1;33m\u001b[0m\u001b[1;33m\u001b[0m\u001b[0m\n",
      "\u001b[1;32mC:\\Users\\danie\\Anaconda3\\lib\\site-packages\\dask\\dot.py\u001b[0m in \u001b[0;36m<module>\u001b[1;34m\u001b[0m\n\u001b[0;32m      9\u001b[0m graphviz = import_required(\n\u001b[0;32m     10\u001b[0m     \u001b[1;34m\"graphviz\"\u001b[0m\u001b[1;33m,\u001b[0m\u001b[1;33m\u001b[0m\u001b[1;33m\u001b[0m\u001b[0m\n\u001b[1;32m---> 11\u001b[1;33m     \u001b[1;34m\"Drawing dask graphs requires the \"\u001b[0m\u001b[1;33m\u001b[0m\u001b[1;33m\u001b[0m\u001b[0m\n\u001b[0m\u001b[0;32m     12\u001b[0m     \u001b[1;34m\"`graphviz` python library and the \"\u001b[0m\u001b[1;33m\u001b[0m\u001b[1;33m\u001b[0m\u001b[0m\n\u001b[0;32m     13\u001b[0m     \u001b[1;34m\"`graphviz` system library to be \"\u001b[0m\u001b[1;33m\u001b[0m\u001b[1;33m\u001b[0m\u001b[0m\n",
      "\u001b[1;32mC:\\Users\\danie\\Anaconda3\\lib\\site-packages\\dask\\utils.py\u001b[0m in \u001b[0;36mimport_required\u001b[1;34m(mod_name, error_msg)\u001b[0m\n\u001b[0;32m     96\u001b[0m         \u001b[1;32mreturn\u001b[0m \u001b[0mimport_module\u001b[0m\u001b[1;33m(\u001b[0m\u001b[0mmod_name\u001b[0m\u001b[1;33m)\u001b[0m\u001b[1;33m\u001b[0m\u001b[1;33m\u001b[0m\u001b[0m\n\u001b[0;32m     97\u001b[0m     \u001b[1;32mexcept\u001b[0m \u001b[0mImportError\u001b[0m\u001b[1;33m:\u001b[0m\u001b[1;33m\u001b[0m\u001b[1;33m\u001b[0m\u001b[0m\n\u001b[1;32m---> 98\u001b[1;33m         \u001b[1;32mraise\u001b[0m \u001b[0mRuntimeError\u001b[0m\u001b[1;33m(\u001b[0m\u001b[0merror_msg\u001b[0m\u001b[1;33m)\u001b[0m\u001b[1;33m\u001b[0m\u001b[1;33m\u001b[0m\u001b[0m\n\u001b[0m\u001b[0;32m     99\u001b[0m \u001b[1;33m\u001b[0m\u001b[0m\n\u001b[0;32m    100\u001b[0m \u001b[1;33m\u001b[0m\u001b[0m\n",
      "\u001b[1;31mRuntimeError\u001b[0m: Drawing dask graphs requires the `graphviz` python library and the `graphviz` system library to be installed."
     ]
    }
   ],
   "source": [
    "res=B.sum()\n",
    "graph=res.visualize(filename='graph.svg')#saving graph to file"
   ]
  },
  {
   "cell_type": "markdown",
   "metadata": {
    "id": "qxzu1Ed9TjyF"
   },
   "source": [
    "### Is this running in Parallel ?\n",
    "* open ternminal\n",
    "* start ``top``\n",
    "* execute ``compute()``"
   ]
  },
  {
   "cell_type": "code",
   "execution_count": 22,
   "metadata": {
    "colab": {
     "base_uri": "https://localhost:8080/"
    },
    "id": "1px10XyWTjyF",
    "outputId": "9f1a95bb-51ca-4918-bb8e-1dbb2e571173"
   },
   "outputs": [
    {
     "name": "stdout",
     "output_type": "stream",
     "text": [
      "108 ms ± 9.44 ms per loop (mean ± std. dev. of 7 runs, 1 loop each)\n"
     ]
    }
   ],
   "source": [
    "%%timeit #measure mean of 10 runs\n",
    "res.compute()"
   ]
  },
  {
   "cell_type": "markdown",
   "metadata": {
    "id": "EHsxqEqKTjyF"
   },
   "source": [
    "### Memory Usage\n",
    "By processing each block at a time, ***DASK*** is not only able tu run in parallel, but also needs only tthe memory for the bock size...\n",
    "* allows easy processing of **larger than memory** data sets"
   ]
  },
  {
   "cell_type": "code",
   "execution_count": 23,
   "metadata": {
    "colab": {
     "base_uri": "https://localhost:8080/"
    },
    "id": "EF9FxFhnTjyG",
    "outputId": "93c47e33-2c01-464e-bc02-544d101ff881"
   },
   "outputs": [
    {
     "name": "stdout",
     "output_type": "stream",
     "text": [
      "Wall time: 21.1 s\n",
      "Wall time: 1.27 s\n"
     ]
    }
   ],
   "source": [
    "#a larger example in NumPy\n",
    "%time x = np.random.normal(10, 0.1, size=(20000, 20000)) \n",
    "%time y = x.mean(axis=0) #compute mean along first axis\n"
   ]
  },
  {
   "cell_type": "code",
   "execution_count": 24,
   "metadata": {
    "colab": {
     "base_uri": "https://localhost:8080/"
    },
    "id": "IMQU0qvMTjyG",
    "outputId": "3384dfe1-51a2-4f69-f510-992a3fe9ccc7"
   },
   "outputs": [
    {
     "name": "stdout",
     "output_type": "stream",
     "text": [
      "Wall time: 7.74 s\n"
     ]
    }
   ],
   "source": [
    "#same in DASK\n",
    "x = da.random.normal(10, 0.1, size=(20000, 20000), chunks=(1000, 1000))\n",
    "y = x.mean(axis=0) \n",
    "%time res=y.compute() "
   ]
  },
  {
   "cell_type": "markdown",
   "metadata": {
    "id": "7EPhzLc3TjyH"
   },
   "source": [
    "# Distributed Execution"
   ]
  },
  {
   "cell_type": "code",
   "execution_count": 25,
   "metadata": {
    "id": "anXuZ7T0TjyH"
   },
   "outputs": [],
   "source": [
    "from dask.distributed import Client #import distributed client"
   ]
  },
  {
   "cell_type": "markdown",
   "metadata": {
    "id": "oqzAqWBxTjyH"
   },
   "source": [
    "In our cluster enviroment, the ***DASK*** Cluster is automatically started for multi node jobs. See DASK documentation on how to setup a ***DASK*** cluster: http://distributed.dask.org/en/latest/setup.html"
   ]
  },
  {
   "cell_type": "code",
   "execution_count": 26,
   "metadata": {
    "colab": {
     "base_uri": "https://localhost:8080/",
     "height": 1000
    },
    "id": "N_c-PrUETjyI",
    "outputId": "3c56da3e-43d4-4dce-a3c9-dc55f8893873"
   },
   "outputs": [],
   "source": [
    "client = Client() # on a cluster, give MASTER IP -> client = Client(MASTER_IP)"
   ]
  },
  {
   "cell_type": "code",
   "execution_count": 27,
   "metadata": {
    "id": "hRV6mhqsTjyI",
    "outputId": "b819c5fa-c56f-4de2-b175-15e87a3e83ce"
   },
   "outputs": [
    {
     "name": "stdout",
     "output_type": "stream",
     "text": [
      "tcp://127.0.0.1:64292\n",
      "tcp://127.0.0.1:64296\n",
      "tcp://127.0.0.1:64301\n",
      "tcp://127.0.0.1:64303\n"
     ]
    }
   ],
   "source": [
    "#see how many workers we have\n",
    "workers=client.scheduler_info()['workers']\n",
    "for w in workers:\n",
    "    print(w)"
   ]
  },
  {
   "cell_type": "markdown",
   "metadata": {
    "id": "PfjdDPDTTjyJ"
   },
   "source": [
    "## Submit work to the Cluster"
   ]
  },
  {
   "cell_type": "code",
   "execution_count": 28,
   "metadata": {
    "id": "HAzAwOT8TjyJ"
   },
   "outputs": [],
   "source": [
    "#simple remote functions\n",
    "def square(x):\n",
    "    return x ** 2\n",
    "\n",
    "def neg(x):\n",
    "    return -x\n",
    "\n",
    "#using the map future, functions will be scheduled for execution - NO graph building and compute()\n",
    "A = client.map(square, range(1000))\n",
    "B = client.map(neg, A)"
   ]
  },
  {
   "cell_type": "code",
   "execution_count": 29,
   "metadata": {
    "id": "bwgr0DA_TjyJ"
   },
   "outputs": [],
   "source": [
    "total = client.submit(sum, B)"
   ]
  },
  {
   "cell_type": "code",
   "execution_count": 30,
   "metadata": {
    "id": "GktJy3aoTjyK",
    "outputId": "7b6d7c5f-28e8-4b92-e0ea-2e451b3f369e"
   },
   "outputs": [
    {
     "name": "stdout",
     "output_type": "stream",
     "text": [
      "done:  -332833500\n"
     ]
    }
   ],
   "source": [
    "res = total.result()\n",
    "print (\"done: \",res)"
   ]
  },
  {
   "cell_type": "markdown",
   "metadata": {
    "id": "cYucVsolTjyK"
   },
   "source": [
    "### Arrays on the Cluster\n",
    "Starting a cluster client automatically cause the high level interfaces to use the cluster"
   ]
  },
  {
   "cell_type": "code",
   "execution_count": 31,
   "metadata": {
    "id": "zkgjgpR9TjyK"
   },
   "outputs": [],
   "source": [
    "import numpy as np\n",
    "np_A = np.random.rand(10000,10000) #create random NumPy array\n",
    "import dask.array as da\n",
    "cluster_A = da.from_array(np_A, chunks=(5000)) #create DASk array from existing NumPy array\n",
    "res = cluster_A.sum() #tell dask to compute the sum of A"
   ]
  },
  {
   "cell_type": "code",
   "execution_count": 32,
   "metadata": {
    "id": "EaWICUwOTjyL",
    "outputId": "5489eb52-e15b-4e2d-83ff-6ab330307766"
   },
   "outputs": [
    {
     "name": "stdout",
     "output_type": "stream",
     "text": [
      "Wall time: 1min 8s\n"
     ]
    },
    {
     "data": {
      "text/plain": [
       "49995672.195544474"
      ]
     },
     "execution_count": 32,
     "metadata": {},
     "output_type": "execute_result"
    }
   ],
   "source": [
    "%time res.compute()"
   ]
  },
  {
   "cell_type": "markdown",
   "metadata": {
    "id": "EcI0fjAeTjyM"
   },
   "source": [
    "# Using ***Scikit-Learn*** with ***Dask***\n",
    "Note: This is quit new and under heavy development"
   ]
  },
  {
   "cell_type": "code",
   "execution_count": 33,
   "metadata": {
    "id": "vl2czdUPTjyN"
   },
   "outputs": [],
   "source": [
    "from sklearn.datasets import make_classification\n",
    "from sklearn.svm import SVC\n",
    "from sklearn.model_selection import GridSearchCV\n",
    "import pandas as pd"
   ]
  },
  {
   "cell_type": "code",
   "execution_count": 34,
   "metadata": {
    "id": "T5VngrW4TjyN",
    "outputId": "a2a90eea-d1d0-4f1c-ebc2-34724d6c475c"
   },
   "outputs": [
    {
     "data": {
      "text/plain": [
       "array([[-1.06377997,  0.67640868,  1.06935647, -0.21758002,  0.46021477,\n",
       "        -0.39916689, -0.07918751,  1.20938491, -0.78531472, -0.17218611,\n",
       "        -1.08535744, -0.99311895,  0.30693511,  0.06405769, -1.0542328 ,\n",
       "        -0.52749607, -0.0741832 , -0.35562842,  1.05721416, -0.90259159],\n",
       "       [ 0.0708476 , -1.69528125,  2.44944917, -0.5304942 , -0.93296221,\n",
       "         2.86520354,  2.43572851, -1.61850016,  1.30071691,  0.34840246,\n",
       "         0.54493439,  0.22532411,  0.60556322, -0.19210097, -0.06802699,\n",
       "         0.9716812 , -1.79204799,  0.01708348, -0.37566904, -0.62323644],\n",
       "       [ 0.94028404, -0.49214582,  0.67795602, -0.22775445,  1.40175261,\n",
       "         1.23165333, -0.77746425,  0.01561602,  1.33171299,  1.08477266,\n",
       "        -0.97805157, -0.05012039,  0.94838552, -0.17342825, -0.47767184,\n",
       "         0.76089649,  1.00115812, -0.06946407,  1.35904607, -1.18958963],\n",
       "       [-0.29951677,  0.75988955,  0.18280267, -1.55023271,  0.33821802,\n",
       "         0.36324148, -2.10052547, -0.4380675 , -0.16639343, -0.34083531,\n",
       "         0.42435643,  1.17872434,  2.8314804 ,  0.14241375, -0.20281911,\n",
       "         2.40571546,  0.31330473,  0.40435568, -0.28754632, -2.8478034 ],\n",
       "       [-2.63062675,  0.23103376,  0.04246253,  0.47885055,  1.54674163,\n",
       "         1.6379556 , -1.53207229, -0.73444479,  0.46585484,  0.4738362 ,\n",
       "         0.98981401, -1.06119392, -0.88887952,  1.23840892, -0.57282854,\n",
       "        -1.27533949,  1.0030065 , -0.47712843,  0.09853558,  0.52780407]])"
      ]
     },
     "execution_count": 34,
     "metadata": {},
     "output_type": "execute_result"
    }
   ],
   "source": [
    "#generate some random classification data\n",
    "X, y = make_classification(n_samples=1000, random_state=0)\n",
    "X[:5]"
   ]
  },
  {
   "cell_type": "code",
   "execution_count": 35,
   "metadata": {
    "id": "ttJ1CvJtTjyN"
   },
   "outputs": [],
   "source": [
    "# SKlearn Hyper-Parameter Search\n",
    "param_grid = {\"C\": [0.001, 0.01, 0.1, 0.5, 1.0, 2.0, 5.0, 10.0],\n",
    "              \"kernel\": ['rbf', 'poly', 'sigmoid'],\n",
    "              \"shrinking\": [True, False]}\n",
    "\n",
    "grid_search = GridSearchCV(SVC(gamma='auto', random_state=0, probability=True),\n",
    "                           param_grid=param_grid,\n",
    "                           return_train_score=False,\n",
    "                           cv=3,\n",
    "                           n_jobs=-1)"
   ]
  },
  {
   "cell_type": "code",
   "execution_count": 36,
   "metadata": {
    "id": "LON3MQx6TjyO",
    "outputId": "02b7c22c-1d9b-41c2-9b53-ca091594c347"
   },
   "outputs": [
    {
     "name": "stdout",
     "output_type": "stream",
     "text": [
      "Wall time: 10.2 s\n"
     ]
    },
    {
     "data": {
      "text/plain": [
       "GridSearchCV(cv=3,\n",
       "             estimator=SVC(gamma='auto', probability=True, random_state=0),\n",
       "             n_jobs=-1,\n",
       "             param_grid={'C': [0.001, 0.01, 0.1, 0.5, 1.0, 2.0, 5.0, 10.0],\n",
       "                         'kernel': ['rbf', 'poly', 'sigmoid'],\n",
       "                         'shrinking': [True, False]})"
      ]
     },
     "execution_count": 36,
     "metadata": {},
     "output_type": "execute_result"
    }
   ],
   "source": [
    "%time grid_search.fit(X, y)\n"
   ]
  },
  {
   "cell_type": "code",
   "execution_count": 37,
   "metadata": {
    "id": "-aL_j8OJTjyO",
    "outputId": "8c202811-2dd4-417a-8efc-f41fa1c6b040"
   },
   "outputs": [
    {
     "name": "stderr",
     "output_type": "stream",
     "text": [
      "C:\\Users\\danie\\Anaconda3\\lib\\site-packages\\distributed\\dashboard\\core.py:72: UserWarning: \n",
      "Failed to start diagnostics server on port 8787. [WinError 10048] Normalerweise darf jede Socketadresse (Protokoll, Netzwerkadresse oder Anschluss) nur jeweils einmal verwendet werden\n",
      "  warnings.warn(\"\\n\" + msg)\n"
     ]
    },
    {
     "name": "stdout",
     "output_type": "stream",
     "text": [
      "Wall time: 0 ns\n"
     ]
    }
   ],
   "source": [
    "#noe map this to the cluster\n",
    "import joblib\n",
    "from dask.distributed import Client, LocalCluster\n",
    "cluster = LocalCluster()\n",
    "client = Client(cluster)\n",
    "\n",
    "%time\n",
    "with joblib.parallel_backend('dask'):\n",
    "    grid_search.fit(X, y)"
   ]
  },
  {
   "cell_type": "code",
   "execution_count": 38,
   "metadata": {
    "id": "LTFniWryTjyP",
    "outputId": "efbfb534-8105-4779-9ba1-688d621553f0"
   },
   "outputs": [
    {
     "data": {
      "text/html": [
       "<div>\n",
       "<style scoped>\n",
       "    .dataframe tbody tr th:only-of-type {\n",
       "        vertical-align: middle;\n",
       "    }\n",
       "\n",
       "    .dataframe tbody tr th {\n",
       "        vertical-align: top;\n",
       "    }\n",
       "\n",
       "    .dataframe thead th {\n",
       "        text-align: right;\n",
       "    }\n",
       "</style>\n",
       "<table border=\"1\" class=\"dataframe\">\n",
       "  <thead>\n",
       "    <tr style=\"text-align: right;\">\n",
       "      <th></th>\n",
       "      <th>mean_fit_time</th>\n",
       "      <th>std_fit_time</th>\n",
       "      <th>mean_score_time</th>\n",
       "      <th>std_score_time</th>\n",
       "      <th>param_C</th>\n",
       "      <th>param_kernel</th>\n",
       "      <th>param_shrinking</th>\n",
       "      <th>params</th>\n",
       "      <th>split0_test_score</th>\n",
       "      <th>split1_test_score</th>\n",
       "      <th>split2_test_score</th>\n",
       "      <th>mean_test_score</th>\n",
       "      <th>std_test_score</th>\n",
       "      <th>rank_test_score</th>\n",
       "    </tr>\n",
       "  </thead>\n",
       "  <tbody>\n",
       "    <tr>\n",
       "      <td>0</td>\n",
       "      <td>0.284589</td>\n",
       "      <td>0.029813</td>\n",
       "      <td>0.023601</td>\n",
       "      <td>0.004770</td>\n",
       "      <td>0.001</td>\n",
       "      <td>rbf</td>\n",
       "      <td>True</td>\n",
       "      <td>{'C': 0.001, 'kernel': 'rbf', 'shrinking': True}</td>\n",
       "      <td>0.502994</td>\n",
       "      <td>0.501502</td>\n",
       "      <td>0.501502</td>\n",
       "      <td>0.501999</td>\n",
       "      <td>0.000704</td>\n",
       "      <td>41</td>\n",
       "    </tr>\n",
       "    <tr>\n",
       "      <td>1</td>\n",
       "      <td>0.284422</td>\n",
       "      <td>0.010559</td>\n",
       "      <td>0.036741</td>\n",
       "      <td>0.027643</td>\n",
       "      <td>0.001</td>\n",
       "      <td>rbf</td>\n",
       "      <td>False</td>\n",
       "      <td>{'C': 0.001, 'kernel': 'rbf', 'shrinking': False}</td>\n",
       "      <td>0.502994</td>\n",
       "      <td>0.501502</td>\n",
       "      <td>0.501502</td>\n",
       "      <td>0.501999</td>\n",
       "      <td>0.000704</td>\n",
       "      <td>41</td>\n",
       "    </tr>\n",
       "    <tr>\n",
       "      <td>2</td>\n",
       "      <td>0.211796</td>\n",
       "      <td>0.030141</td>\n",
       "      <td>0.014960</td>\n",
       "      <td>0.003550</td>\n",
       "      <td>0.001</td>\n",
       "      <td>poly</td>\n",
       "      <td>True</td>\n",
       "      <td>{'C': 0.001, 'kernel': 'poly', 'shrinking': True}</td>\n",
       "      <td>0.502994</td>\n",
       "      <td>0.501502</td>\n",
       "      <td>0.501502</td>\n",
       "      <td>0.501999</td>\n",
       "      <td>0.000704</td>\n",
       "      <td>41</td>\n",
       "    </tr>\n",
       "    <tr>\n",
       "      <td>3</td>\n",
       "      <td>0.237240</td>\n",
       "      <td>0.014863</td>\n",
       "      <td>0.011969</td>\n",
       "      <td>0.001410</td>\n",
       "      <td>0.001</td>\n",
       "      <td>poly</td>\n",
       "      <td>False</td>\n",
       "      <td>{'C': 0.001, 'kernel': 'poly', 'shrinking': Fa...</td>\n",
       "      <td>0.502994</td>\n",
       "      <td>0.501502</td>\n",
       "      <td>0.501502</td>\n",
       "      <td>0.501999</td>\n",
       "      <td>0.000704</td>\n",
       "      <td>41</td>\n",
       "    </tr>\n",
       "    <tr>\n",
       "      <td>4</td>\n",
       "      <td>0.327327</td>\n",
       "      <td>0.017364</td>\n",
       "      <td>0.025769</td>\n",
       "      <td>0.012821</td>\n",
       "      <td>0.001</td>\n",
       "      <td>sigmoid</td>\n",
       "      <td>True</td>\n",
       "      <td>{'C': 0.001, 'kernel': 'sigmoid', 'shrinking':...</td>\n",
       "      <td>0.502994</td>\n",
       "      <td>0.501502</td>\n",
       "      <td>0.501502</td>\n",
       "      <td>0.501999</td>\n",
       "      <td>0.000704</td>\n",
       "      <td>41</td>\n",
       "    </tr>\n",
       "    <tr>\n",
       "      <td>5</td>\n",
       "      <td>0.276465</td>\n",
       "      <td>0.016534</td>\n",
       "      <td>0.021942</td>\n",
       "      <td>0.004954</td>\n",
       "      <td>0.001</td>\n",
       "      <td>sigmoid</td>\n",
       "      <td>False</td>\n",
       "      <td>{'C': 0.001, 'kernel': 'sigmoid', 'shrinking':...</td>\n",
       "      <td>0.502994</td>\n",
       "      <td>0.501502</td>\n",
       "      <td>0.501502</td>\n",
       "      <td>0.501999</td>\n",
       "      <td>0.000704</td>\n",
       "      <td>41</td>\n",
       "    </tr>\n",
       "    <tr>\n",
       "      <td>6</td>\n",
       "      <td>0.279274</td>\n",
       "      <td>0.033183</td>\n",
       "      <td>0.021608</td>\n",
       "      <td>0.007389</td>\n",
       "      <td>0.01</td>\n",
       "      <td>rbf</td>\n",
       "      <td>True</td>\n",
       "      <td>{'C': 0.01, 'kernel': 'rbf', 'shrinking': True}</td>\n",
       "      <td>0.502994</td>\n",
       "      <td>0.501502</td>\n",
       "      <td>0.501502</td>\n",
       "      <td>0.501999</td>\n",
       "      <td>0.000704</td>\n",
       "      <td>41</td>\n",
       "    </tr>\n",
       "    <tr>\n",
       "      <td>7</td>\n",
       "      <td>0.383668</td>\n",
       "      <td>0.062790</td>\n",
       "      <td>0.044717</td>\n",
       "      <td>0.031779</td>\n",
       "      <td>0.01</td>\n",
       "      <td>rbf</td>\n",
       "      <td>False</td>\n",
       "      <td>{'C': 0.01, 'kernel': 'rbf', 'shrinking': False}</td>\n",
       "      <td>0.502994</td>\n",
       "      <td>0.501502</td>\n",
       "      <td>0.501502</td>\n",
       "      <td>0.501999</td>\n",
       "      <td>0.000704</td>\n",
       "      <td>41</td>\n",
       "    </tr>\n",
       "    <tr>\n",
       "      <td>8</td>\n",
       "      <td>0.301382</td>\n",
       "      <td>0.076791</td>\n",
       "      <td>0.025102</td>\n",
       "      <td>0.016315</td>\n",
       "      <td>0.01</td>\n",
       "      <td>poly</td>\n",
       "      <td>True</td>\n",
       "      <td>{'C': 0.01, 'kernel': 'poly', 'shrinking': True}</td>\n",
       "      <td>0.508982</td>\n",
       "      <td>0.510511</td>\n",
       "      <td>0.504505</td>\n",
       "      <td>0.507999</td>\n",
       "      <td>0.002549</td>\n",
       "      <td>39</td>\n",
       "    </tr>\n",
       "    <tr>\n",
       "      <td>9</td>\n",
       "      <td>0.208126</td>\n",
       "      <td>0.029369</td>\n",
       "      <td>0.013963</td>\n",
       "      <td>0.002936</td>\n",
       "      <td>0.01</td>\n",
       "      <td>poly</td>\n",
       "      <td>False</td>\n",
       "      <td>{'C': 0.01, 'kernel': 'poly', 'shrinking': False}</td>\n",
       "      <td>0.508982</td>\n",
       "      <td>0.510511</td>\n",
       "      <td>0.504505</td>\n",
       "      <td>0.507999</td>\n",
       "      <td>0.002549</td>\n",
       "      <td>39</td>\n",
       "    </tr>\n",
       "    <tr>\n",
       "      <td>10</td>\n",
       "      <td>0.310525</td>\n",
       "      <td>0.013262</td>\n",
       "      <td>0.047711</td>\n",
       "      <td>0.021179</td>\n",
       "      <td>0.01</td>\n",
       "      <td>sigmoid</td>\n",
       "      <td>True</td>\n",
       "      <td>{'C': 0.01, 'kernel': 'sigmoid', 'shrinking': ...</td>\n",
       "      <td>0.949102</td>\n",
       "      <td>0.924925</td>\n",
       "      <td>0.957958</td>\n",
       "      <td>0.943995</td>\n",
       "      <td>0.013961</td>\n",
       "      <td>23</td>\n",
       "    </tr>\n",
       "    <tr>\n",
       "      <td>11</td>\n",
       "      <td>0.442025</td>\n",
       "      <td>0.022695</td>\n",
       "      <td>0.034751</td>\n",
       "      <td>0.003901</td>\n",
       "      <td>0.01</td>\n",
       "      <td>sigmoid</td>\n",
       "      <td>False</td>\n",
       "      <td>{'C': 0.01, 'kernel': 'sigmoid', 'shrinking': ...</td>\n",
       "      <td>0.949102</td>\n",
       "      <td>0.924925</td>\n",
       "      <td>0.957958</td>\n",
       "      <td>0.943995</td>\n",
       "      <td>0.013961</td>\n",
       "      <td>23</td>\n",
       "    </tr>\n",
       "    <tr>\n",
       "      <td>12</td>\n",
       "      <td>0.322991</td>\n",
       "      <td>0.032226</td>\n",
       "      <td>0.021608</td>\n",
       "      <td>0.008357</td>\n",
       "      <td>0.1</td>\n",
       "      <td>rbf</td>\n",
       "      <td>True</td>\n",
       "      <td>{'C': 0.1, 'kernel': 'rbf', 'shrinking': True}</td>\n",
       "      <td>0.949102</td>\n",
       "      <td>0.933934</td>\n",
       "      <td>0.954955</td>\n",
       "      <td>0.945997</td>\n",
       "      <td>0.008858</td>\n",
       "      <td>11</td>\n",
       "    </tr>\n",
       "    <tr>\n",
       "      <td>13</td>\n",
       "      <td>0.241538</td>\n",
       "      <td>0.012437</td>\n",
       "      <td>0.014960</td>\n",
       "      <td>0.003550</td>\n",
       "      <td>0.1</td>\n",
       "      <td>rbf</td>\n",
       "      <td>False</td>\n",
       "      <td>{'C': 0.1, 'kernel': 'rbf', 'shrinking': False}</td>\n",
       "      <td>0.949102</td>\n",
       "      <td>0.933934</td>\n",
       "      <td>0.954955</td>\n",
       "      <td>0.945997</td>\n",
       "      <td>0.008858</td>\n",
       "      <td>11</td>\n",
       "    </tr>\n",
       "    <tr>\n",
       "      <td>14</td>\n",
       "      <td>0.191838</td>\n",
       "      <td>0.005561</td>\n",
       "      <td>0.019947</td>\n",
       "      <td>0.006464</td>\n",
       "      <td>0.1</td>\n",
       "      <td>poly</td>\n",
       "      <td>True</td>\n",
       "      <td>{'C': 0.1, 'kernel': 'poly', 'shrinking': True}</td>\n",
       "      <td>0.871257</td>\n",
       "      <td>0.849850</td>\n",
       "      <td>0.918919</td>\n",
       "      <td>0.880009</td>\n",
       "      <td>0.028868</td>\n",
       "      <td>37</td>\n",
       "    </tr>\n",
       "    <tr>\n",
       "      <td>15</td>\n",
       "      <td>0.218591</td>\n",
       "      <td>0.009714</td>\n",
       "      <td>0.011303</td>\n",
       "      <td>0.000941</td>\n",
       "      <td>0.1</td>\n",
       "      <td>poly</td>\n",
       "      <td>False</td>\n",
       "      <td>{'C': 0.1, 'kernel': 'poly', 'shrinking': False}</td>\n",
       "      <td>0.871257</td>\n",
       "      <td>0.849850</td>\n",
       "      <td>0.918919</td>\n",
       "      <td>0.880009</td>\n",
       "      <td>0.028868</td>\n",
       "      <td>37</td>\n",
       "    </tr>\n",
       "    <tr>\n",
       "      <td>16</td>\n",
       "      <td>0.150111</td>\n",
       "      <td>0.016284</td>\n",
       "      <td>0.014292</td>\n",
       "      <td>0.003671</td>\n",
       "      <td>0.1</td>\n",
       "      <td>sigmoid</td>\n",
       "      <td>True</td>\n",
       "      <td>{'C': 0.1, 'kernel': 'sigmoid', 'shrinking': T...</td>\n",
       "      <td>0.940120</td>\n",
       "      <td>0.930931</td>\n",
       "      <td>0.960961</td>\n",
       "      <td>0.944004</td>\n",
       "      <td>0.012564</td>\n",
       "      <td>15</td>\n",
       "    </tr>\n",
       "    <tr>\n",
       "      <td>17</td>\n",
       "      <td>0.149283</td>\n",
       "      <td>0.006529</td>\n",
       "      <td>0.011138</td>\n",
       "      <td>0.004232</td>\n",
       "      <td>0.1</td>\n",
       "      <td>sigmoid</td>\n",
       "      <td>False</td>\n",
       "      <td>{'C': 0.1, 'kernel': 'sigmoid', 'shrinking': F...</td>\n",
       "      <td>0.940120</td>\n",
       "      <td>0.930931</td>\n",
       "      <td>0.960961</td>\n",
       "      <td>0.944004</td>\n",
       "      <td>0.012564</td>\n",
       "      <td>15</td>\n",
       "    </tr>\n",
       "    <tr>\n",
       "      <td>18</td>\n",
       "      <td>0.158261</td>\n",
       "      <td>0.030988</td>\n",
       "      <td>0.013963</td>\n",
       "      <td>0.004535</td>\n",
       "      <td>0.5</td>\n",
       "      <td>rbf</td>\n",
       "      <td>True</td>\n",
       "      <td>{'C': 0.5, 'kernel': 'rbf', 'shrinking': True}</td>\n",
       "      <td>0.955090</td>\n",
       "      <td>0.927928</td>\n",
       "      <td>0.963964</td>\n",
       "      <td>0.948994</td>\n",
       "      <td>0.015330</td>\n",
       "      <td>5</td>\n",
       "    </tr>\n",
       "    <tr>\n",
       "      <td>19</td>\n",
       "      <td>0.157421</td>\n",
       "      <td>0.026007</td>\n",
       "      <td>0.008644</td>\n",
       "      <td>0.003761</td>\n",
       "      <td>0.5</td>\n",
       "      <td>rbf</td>\n",
       "      <td>False</td>\n",
       "      <td>{'C': 0.5, 'kernel': 'rbf', 'shrinking': False}</td>\n",
       "      <td>0.955090</td>\n",
       "      <td>0.927928</td>\n",
       "      <td>0.963964</td>\n",
       "      <td>0.948994</td>\n",
       "      <td>0.015330</td>\n",
       "      <td>5</td>\n",
       "    </tr>\n",
       "    <tr>\n",
       "      <td>20</td>\n",
       "      <td>0.130650</td>\n",
       "      <td>0.011546</td>\n",
       "      <td>0.012966</td>\n",
       "      <td>0.002820</td>\n",
       "      <td>0.5</td>\n",
       "      <td>poly</td>\n",
       "      <td>True</td>\n",
       "      <td>{'C': 0.5, 'kernel': 'poly', 'shrinking': True}</td>\n",
       "      <td>0.943114</td>\n",
       "      <td>0.930931</td>\n",
       "      <td>0.957958</td>\n",
       "      <td>0.944001</td>\n",
       "      <td>0.011052</td>\n",
       "      <td>17</td>\n",
       "    </tr>\n",
       "    <tr>\n",
       "      <td>21</td>\n",
       "      <td>0.170211</td>\n",
       "      <td>0.018105</td>\n",
       "      <td>0.030427</td>\n",
       "      <td>0.015690</td>\n",
       "      <td>0.5</td>\n",
       "      <td>poly</td>\n",
       "      <td>False</td>\n",
       "      <td>{'C': 0.5, 'kernel': 'poly', 'shrinking': False}</td>\n",
       "      <td>0.943114</td>\n",
       "      <td>0.930931</td>\n",
       "      <td>0.957958</td>\n",
       "      <td>0.944001</td>\n",
       "      <td>0.011052</td>\n",
       "      <td>17</td>\n",
       "    </tr>\n",
       "    <tr>\n",
       "      <td>22</td>\n",
       "      <td>0.111875</td>\n",
       "      <td>0.011493</td>\n",
       "      <td>0.006315</td>\n",
       "      <td>0.001880</td>\n",
       "      <td>0.5</td>\n",
       "      <td>sigmoid</td>\n",
       "      <td>True</td>\n",
       "      <td>{'C': 0.5, 'kernel': 'sigmoid', 'shrinking': T...</td>\n",
       "      <td>0.946108</td>\n",
       "      <td>0.930931</td>\n",
       "      <td>0.954955</td>\n",
       "      <td>0.943998</td>\n",
       "      <td>0.009921</td>\n",
       "      <td>19</td>\n",
       "    </tr>\n",
       "    <tr>\n",
       "      <td>23</td>\n",
       "      <td>0.101408</td>\n",
       "      <td>0.017523</td>\n",
       "      <td>0.017954</td>\n",
       "      <td>0.009601</td>\n",
       "      <td>0.5</td>\n",
       "      <td>sigmoid</td>\n",
       "      <td>False</td>\n",
       "      <td>{'C': 0.5, 'kernel': 'sigmoid', 'shrinking': F...</td>\n",
       "      <td>0.946108</td>\n",
       "      <td>0.930931</td>\n",
       "      <td>0.954955</td>\n",
       "      <td>0.943998</td>\n",
       "      <td>0.009921</td>\n",
       "      <td>19</td>\n",
       "    </tr>\n",
       "    <tr>\n",
       "      <td>24</td>\n",
       "      <td>0.153598</td>\n",
       "      <td>0.002663</td>\n",
       "      <td>0.009641</td>\n",
       "      <td>0.000939</td>\n",
       "      <td>1</td>\n",
       "      <td>rbf</td>\n",
       "      <td>True</td>\n",
       "      <td>{'C': 1.0, 'kernel': 'rbf', 'shrinking': True}</td>\n",
       "      <td>0.952096</td>\n",
       "      <td>0.939940</td>\n",
       "      <td>0.954955</td>\n",
       "      <td>0.948997</td>\n",
       "      <td>0.006510</td>\n",
       "      <td>1</td>\n",
       "    </tr>\n",
       "    <tr>\n",
       "      <td>25</td>\n",
       "      <td>0.166401</td>\n",
       "      <td>0.014346</td>\n",
       "      <td>0.006314</td>\n",
       "      <td>0.000943</td>\n",
       "      <td>1</td>\n",
       "      <td>rbf</td>\n",
       "      <td>False</td>\n",
       "      <td>{'C': 1.0, 'kernel': 'rbf', 'shrinking': False}</td>\n",
       "      <td>0.952096</td>\n",
       "      <td>0.939940</td>\n",
       "      <td>0.954955</td>\n",
       "      <td>0.948997</td>\n",
       "      <td>0.006510</td>\n",
       "      <td>1</td>\n",
       "    </tr>\n",
       "    <tr>\n",
       "      <td>26</td>\n",
       "      <td>0.147375</td>\n",
       "      <td>0.023094</td>\n",
       "      <td>0.008977</td>\n",
       "      <td>0.000814</td>\n",
       "      <td>1</td>\n",
       "      <td>poly</td>\n",
       "      <td>True</td>\n",
       "      <td>{'C': 1.0, 'kernel': 'poly', 'shrinking': True}</td>\n",
       "      <td>0.946108</td>\n",
       "      <td>0.927928</td>\n",
       "      <td>0.957958</td>\n",
       "      <td>0.943998</td>\n",
       "      <td>0.012350</td>\n",
       "      <td>21</td>\n",
       "    </tr>\n",
       "    <tr>\n",
       "      <td>27</td>\n",
       "      <td>0.192085</td>\n",
       "      <td>0.001515</td>\n",
       "      <td>0.008643</td>\n",
       "      <td>0.004485</td>\n",
       "      <td>1</td>\n",
       "      <td>poly</td>\n",
       "      <td>False</td>\n",
       "      <td>{'C': 1.0, 'kernel': 'poly', 'shrinking': False}</td>\n",
       "      <td>0.946108</td>\n",
       "      <td>0.927928</td>\n",
       "      <td>0.957958</td>\n",
       "      <td>0.943998</td>\n",
       "      <td>0.012350</td>\n",
       "      <td>21</td>\n",
       "    </tr>\n",
       "    <tr>\n",
       "      <td>28</td>\n",
       "      <td>0.081779</td>\n",
       "      <td>0.014267</td>\n",
       "      <td>0.010971</td>\n",
       "      <td>0.008501</td>\n",
       "      <td>1</td>\n",
       "      <td>sigmoid</td>\n",
       "      <td>True</td>\n",
       "      <td>{'C': 1.0, 'kernel': 'sigmoid', 'shrinking': T...</td>\n",
       "      <td>0.952096</td>\n",
       "      <td>0.924925</td>\n",
       "      <td>0.957958</td>\n",
       "      <td>0.944993</td>\n",
       "      <td>0.014391</td>\n",
       "      <td>13</td>\n",
       "    </tr>\n",
       "    <tr>\n",
       "      <td>29</td>\n",
       "      <td>0.103391</td>\n",
       "      <td>0.017547</td>\n",
       "      <td>0.004655</td>\n",
       "      <td>0.000471</td>\n",
       "      <td>1</td>\n",
       "      <td>sigmoid</td>\n",
       "      <td>False</td>\n",
       "      <td>{'C': 1.0, 'kernel': 'sigmoid', 'shrinking': F...</td>\n",
       "      <td>0.952096</td>\n",
       "      <td>0.924925</td>\n",
       "      <td>0.957958</td>\n",
       "      <td>0.944993</td>\n",
       "      <td>0.014391</td>\n",
       "      <td>13</td>\n",
       "    </tr>\n",
       "    <tr>\n",
       "      <td>30</td>\n",
       "      <td>0.150778</td>\n",
       "      <td>0.022742</td>\n",
       "      <td>0.008980</td>\n",
       "      <td>0.003261</td>\n",
       "      <td>2</td>\n",
       "      <td>rbf</td>\n",
       "      <td>True</td>\n",
       "      <td>{'C': 2.0, 'kernel': 'rbf', 'shrinking': True}</td>\n",
       "      <td>0.952096</td>\n",
       "      <td>0.939940</td>\n",
       "      <td>0.954955</td>\n",
       "      <td>0.948997</td>\n",
       "      <td>0.006510</td>\n",
       "      <td>1</td>\n",
       "    </tr>\n",
       "    <tr>\n",
       "      <td>31</td>\n",
       "      <td>0.155754</td>\n",
       "      <td>0.027321</td>\n",
       "      <td>0.024939</td>\n",
       "      <td>0.008130</td>\n",
       "      <td>2</td>\n",
       "      <td>rbf</td>\n",
       "      <td>False</td>\n",
       "      <td>{'C': 2.0, 'kernel': 'rbf', 'shrinking': False}</td>\n",
       "      <td>0.952096</td>\n",
       "      <td>0.939940</td>\n",
       "      <td>0.954955</td>\n",
       "      <td>0.948997</td>\n",
       "      <td>0.006510</td>\n",
       "      <td>1</td>\n",
       "    </tr>\n",
       "    <tr>\n",
       "      <td>32</td>\n",
       "      <td>0.134670</td>\n",
       "      <td>0.013860</td>\n",
       "      <td>0.007647</td>\n",
       "      <td>0.001243</td>\n",
       "      <td>2</td>\n",
       "      <td>poly</td>\n",
       "      <td>True</td>\n",
       "      <td>{'C': 2.0, 'kernel': 'poly', 'shrinking': True}</td>\n",
       "      <td>0.940120</td>\n",
       "      <td>0.930931</td>\n",
       "      <td>0.942943</td>\n",
       "      <td>0.937998</td>\n",
       "      <td>0.005128</td>\n",
       "      <td>27</td>\n",
       "    </tr>\n",
       "    <tr>\n",
       "      <td>33</td>\n",
       "      <td>0.170440</td>\n",
       "      <td>0.011409</td>\n",
       "      <td>0.009641</td>\n",
       "      <td>0.003389</td>\n",
       "      <td>2</td>\n",
       "      <td>poly</td>\n",
       "      <td>False</td>\n",
       "      <td>{'C': 2.0, 'kernel': 'poly', 'shrinking': False}</td>\n",
       "      <td>0.940120</td>\n",
       "      <td>0.930931</td>\n",
       "      <td>0.942943</td>\n",
       "      <td>0.937998</td>\n",
       "      <td>0.005128</td>\n",
       "      <td>27</td>\n",
       "    </tr>\n",
       "    <tr>\n",
       "      <td>34</td>\n",
       "      <td>0.089095</td>\n",
       "      <td>0.013658</td>\n",
       "      <td>0.007647</td>\n",
       "      <td>0.003291</td>\n",
       "      <td>2</td>\n",
       "      <td>sigmoid</td>\n",
       "      <td>True</td>\n",
       "      <td>{'C': 2.0, 'kernel': 'sigmoid', 'shrinking': T...</td>\n",
       "      <td>0.952096</td>\n",
       "      <td>0.918919</td>\n",
       "      <td>0.948949</td>\n",
       "      <td>0.939988</td>\n",
       "      <td>0.014953</td>\n",
       "      <td>25</td>\n",
       "    </tr>\n",
       "    <tr>\n",
       "      <td>35</td>\n",
       "      <td>0.087608</td>\n",
       "      <td>0.013073</td>\n",
       "      <td>0.005654</td>\n",
       "      <td>0.001694</td>\n",
       "      <td>2</td>\n",
       "      <td>sigmoid</td>\n",
       "      <td>False</td>\n",
       "      <td>{'C': 2.0, 'kernel': 'sigmoid', 'shrinking': F...</td>\n",
       "      <td>0.952096</td>\n",
       "      <td>0.918919</td>\n",
       "      <td>0.948949</td>\n",
       "      <td>0.939988</td>\n",
       "      <td>0.014953</td>\n",
       "      <td>25</td>\n",
       "    </tr>\n",
       "    <tr>\n",
       "      <td>36</td>\n",
       "      <td>0.165418</td>\n",
       "      <td>0.011865</td>\n",
       "      <td>0.005652</td>\n",
       "      <td>0.000469</td>\n",
       "      <td>5</td>\n",
       "      <td>rbf</td>\n",
       "      <td>True</td>\n",
       "      <td>{'C': 5.0, 'kernel': 'rbf', 'shrinking': True}</td>\n",
       "      <td>0.955090</td>\n",
       "      <td>0.936937</td>\n",
       "      <td>0.954955</td>\n",
       "      <td>0.948994</td>\n",
       "      <td>0.008526</td>\n",
       "      <td>5</td>\n",
       "    </tr>\n",
       "    <tr>\n",
       "      <td>37</td>\n",
       "      <td>0.184031</td>\n",
       "      <td>0.007098</td>\n",
       "      <td>0.032582</td>\n",
       "      <td>0.021257</td>\n",
       "      <td>5</td>\n",
       "      <td>rbf</td>\n",
       "      <td>False</td>\n",
       "      <td>{'C': 5.0, 'kernel': 'rbf', 'shrinking': False}</td>\n",
       "      <td>0.955090</td>\n",
       "      <td>0.936937</td>\n",
       "      <td>0.954955</td>\n",
       "      <td>0.948994</td>\n",
       "      <td>0.008526</td>\n",
       "      <td>5</td>\n",
       "    </tr>\n",
       "    <tr>\n",
       "      <td>38</td>\n",
       "      <td>0.151443</td>\n",
       "      <td>0.017202</td>\n",
       "      <td>0.008309</td>\n",
       "      <td>0.003388</td>\n",
       "      <td>5</td>\n",
       "      <td>poly</td>\n",
       "      <td>True</td>\n",
       "      <td>{'C': 5.0, 'kernel': 'poly', 'shrinking': True}</td>\n",
       "      <td>0.925150</td>\n",
       "      <td>0.921922</td>\n",
       "      <td>0.945946</td>\n",
       "      <td>0.931006</td>\n",
       "      <td>0.010646</td>\n",
       "      <td>29</td>\n",
       "    </tr>\n",
       "    <tr>\n",
       "      <td>39</td>\n",
       "      <td>0.154101</td>\n",
       "      <td>0.019254</td>\n",
       "      <td>0.010971</td>\n",
       "      <td>0.005701</td>\n",
       "      <td>5</td>\n",
       "      <td>poly</td>\n",
       "      <td>False</td>\n",
       "      <td>{'C': 5.0, 'kernel': 'poly', 'shrinking': False}</td>\n",
       "      <td>0.925150</td>\n",
       "      <td>0.921922</td>\n",
       "      <td>0.945946</td>\n",
       "      <td>0.931006</td>\n",
       "      <td>0.010646</td>\n",
       "      <td>29</td>\n",
       "    </tr>\n",
       "    <tr>\n",
       "      <td>40</td>\n",
       "      <td>0.083787</td>\n",
       "      <td>0.003875</td>\n",
       "      <td>0.012631</td>\n",
       "      <td>0.012937</td>\n",
       "      <td>5</td>\n",
       "      <td>sigmoid</td>\n",
       "      <td>True</td>\n",
       "      <td>{'C': 5.0, 'kernel': 'sigmoid', 'shrinking': T...</td>\n",
       "      <td>0.931138</td>\n",
       "      <td>0.909910</td>\n",
       "      <td>0.942943</td>\n",
       "      <td>0.927997</td>\n",
       "      <td>0.013667</td>\n",
       "      <td>33</td>\n",
       "    </tr>\n",
       "    <tr>\n",
       "      <td>41</td>\n",
       "      <td>0.069651</td>\n",
       "      <td>0.011321</td>\n",
       "      <td>0.004322</td>\n",
       "      <td>0.001243</td>\n",
       "      <td>5</td>\n",
       "      <td>sigmoid</td>\n",
       "      <td>False</td>\n",
       "      <td>{'C': 5.0, 'kernel': 'sigmoid', 'shrinking': F...</td>\n",
       "      <td>0.931138</td>\n",
       "      <td>0.909910</td>\n",
       "      <td>0.942943</td>\n",
       "      <td>0.927997</td>\n",
       "      <td>0.013667</td>\n",
       "      <td>33</td>\n",
       "    </tr>\n",
       "    <tr>\n",
       "      <td>42</td>\n",
       "      <td>0.185683</td>\n",
       "      <td>0.016313</td>\n",
       "      <td>0.015957</td>\n",
       "      <td>0.005340</td>\n",
       "      <td>10</td>\n",
       "      <td>rbf</td>\n",
       "      <td>True</td>\n",
       "      <td>{'C': 10.0, 'kernel': 'rbf', 'shrinking': True}</td>\n",
       "      <td>0.943114</td>\n",
       "      <td>0.945946</td>\n",
       "      <td>0.954955</td>\n",
       "      <td>0.948005</td>\n",
       "      <td>0.005049</td>\n",
       "      <td>9</td>\n",
       "    </tr>\n",
       "    <tr>\n",
       "      <td>43</td>\n",
       "      <td>0.169225</td>\n",
       "      <td>0.016506</td>\n",
       "      <td>0.008312</td>\n",
       "      <td>0.001245</td>\n",
       "      <td>10</td>\n",
       "      <td>rbf</td>\n",
       "      <td>False</td>\n",
       "      <td>{'C': 10.0, 'kernel': 'rbf', 'shrinking': False}</td>\n",
       "      <td>0.943114</td>\n",
       "      <td>0.945946</td>\n",
       "      <td>0.954955</td>\n",
       "      <td>0.948005</td>\n",
       "      <td>0.005049</td>\n",
       "      <td>9</td>\n",
       "    </tr>\n",
       "    <tr>\n",
       "      <td>44</td>\n",
       "      <td>0.143797</td>\n",
       "      <td>0.006167</td>\n",
       "      <td>0.005984</td>\n",
       "      <td>0.002156</td>\n",
       "      <td>10</td>\n",
       "      <td>poly</td>\n",
       "      <td>True</td>\n",
       "      <td>{'C': 10.0, 'kernel': 'poly', 'shrinking': True}</td>\n",
       "      <td>0.919162</td>\n",
       "      <td>0.915916</td>\n",
       "      <td>0.945946</td>\n",
       "      <td>0.927008</td>\n",
       "      <td>0.013457</td>\n",
       "      <td>35</td>\n",
       "    </tr>\n",
       "    <tr>\n",
       "      <td>45</td>\n",
       "      <td>0.128500</td>\n",
       "      <td>0.016719</td>\n",
       "      <td>0.007315</td>\n",
       "      <td>0.002489</td>\n",
       "      <td>10</td>\n",
       "      <td>poly</td>\n",
       "      <td>False</td>\n",
       "      <td>{'C': 10.0, 'kernel': 'poly', 'shrinking': False}</td>\n",
       "      <td>0.919162</td>\n",
       "      <td>0.915916</td>\n",
       "      <td>0.945946</td>\n",
       "      <td>0.927008</td>\n",
       "      <td>0.013457</td>\n",
       "      <td>35</td>\n",
       "    </tr>\n",
       "    <tr>\n",
       "      <td>46</td>\n",
       "      <td>0.077628</td>\n",
       "      <td>0.001928</td>\n",
       "      <td>0.003657</td>\n",
       "      <td>0.001695</td>\n",
       "      <td>10</td>\n",
       "      <td>sigmoid</td>\n",
       "      <td>True</td>\n",
       "      <td>{'C': 10.0, 'kernel': 'sigmoid', 'shrinking': ...</td>\n",
       "      <td>0.937126</td>\n",
       "      <td>0.918919</td>\n",
       "      <td>0.930931</td>\n",
       "      <td>0.928992</td>\n",
       "      <td>0.007558</td>\n",
       "      <td>31</td>\n",
       "    </tr>\n",
       "    <tr>\n",
       "      <td>47</td>\n",
       "      <td>0.087269</td>\n",
       "      <td>0.002667</td>\n",
       "      <td>0.003656</td>\n",
       "      <td>0.000940</td>\n",
       "      <td>10</td>\n",
       "      <td>sigmoid</td>\n",
       "      <td>False</td>\n",
       "      <td>{'C': 10.0, 'kernel': 'sigmoid', 'shrinking': ...</td>\n",
       "      <td>0.937126</td>\n",
       "      <td>0.918919</td>\n",
       "      <td>0.930931</td>\n",
       "      <td>0.928992</td>\n",
       "      <td>0.007558</td>\n",
       "      <td>31</td>\n",
       "    </tr>\n",
       "  </tbody>\n",
       "</table>\n",
       "</div>"
      ],
      "text/plain": [
       "    mean_fit_time  std_fit_time  mean_score_time  std_score_time param_C  \\\n",
       "0        0.284589      0.029813         0.023601        0.004770   0.001   \n",
       "1        0.284422      0.010559         0.036741        0.027643   0.001   \n",
       "2        0.211796      0.030141         0.014960        0.003550   0.001   \n",
       "3        0.237240      0.014863         0.011969        0.001410   0.001   \n",
       "4        0.327327      0.017364         0.025769        0.012821   0.001   \n",
       "5        0.276465      0.016534         0.021942        0.004954   0.001   \n",
       "6        0.279274      0.033183         0.021608        0.007389    0.01   \n",
       "7        0.383668      0.062790         0.044717        0.031779    0.01   \n",
       "8        0.301382      0.076791         0.025102        0.016315    0.01   \n",
       "9        0.208126      0.029369         0.013963        0.002936    0.01   \n",
       "10       0.310525      0.013262         0.047711        0.021179    0.01   \n",
       "11       0.442025      0.022695         0.034751        0.003901    0.01   \n",
       "12       0.322991      0.032226         0.021608        0.008357     0.1   \n",
       "13       0.241538      0.012437         0.014960        0.003550     0.1   \n",
       "14       0.191838      0.005561         0.019947        0.006464     0.1   \n",
       "15       0.218591      0.009714         0.011303        0.000941     0.1   \n",
       "16       0.150111      0.016284         0.014292        0.003671     0.1   \n",
       "17       0.149283      0.006529         0.011138        0.004232     0.1   \n",
       "18       0.158261      0.030988         0.013963        0.004535     0.5   \n",
       "19       0.157421      0.026007         0.008644        0.003761     0.5   \n",
       "20       0.130650      0.011546         0.012966        0.002820     0.5   \n",
       "21       0.170211      0.018105         0.030427        0.015690     0.5   \n",
       "22       0.111875      0.011493         0.006315        0.001880     0.5   \n",
       "23       0.101408      0.017523         0.017954        0.009601     0.5   \n",
       "24       0.153598      0.002663         0.009641        0.000939       1   \n",
       "25       0.166401      0.014346         0.006314        0.000943       1   \n",
       "26       0.147375      0.023094         0.008977        0.000814       1   \n",
       "27       0.192085      0.001515         0.008643        0.004485       1   \n",
       "28       0.081779      0.014267         0.010971        0.008501       1   \n",
       "29       0.103391      0.017547         0.004655        0.000471       1   \n",
       "30       0.150778      0.022742         0.008980        0.003261       2   \n",
       "31       0.155754      0.027321         0.024939        0.008130       2   \n",
       "32       0.134670      0.013860         0.007647        0.001243       2   \n",
       "33       0.170440      0.011409         0.009641        0.003389       2   \n",
       "34       0.089095      0.013658         0.007647        0.003291       2   \n",
       "35       0.087608      0.013073         0.005654        0.001694       2   \n",
       "36       0.165418      0.011865         0.005652        0.000469       5   \n",
       "37       0.184031      0.007098         0.032582        0.021257       5   \n",
       "38       0.151443      0.017202         0.008309        0.003388       5   \n",
       "39       0.154101      0.019254         0.010971        0.005701       5   \n",
       "40       0.083787      0.003875         0.012631        0.012937       5   \n",
       "41       0.069651      0.011321         0.004322        0.001243       5   \n",
       "42       0.185683      0.016313         0.015957        0.005340      10   \n",
       "43       0.169225      0.016506         0.008312        0.001245      10   \n",
       "44       0.143797      0.006167         0.005984        0.002156      10   \n",
       "45       0.128500      0.016719         0.007315        0.002489      10   \n",
       "46       0.077628      0.001928         0.003657        0.001695      10   \n",
       "47       0.087269      0.002667         0.003656        0.000940      10   \n",
       "\n",
       "   param_kernel param_shrinking  \\\n",
       "0           rbf            True   \n",
       "1           rbf           False   \n",
       "2          poly            True   \n",
       "3          poly           False   \n",
       "4       sigmoid            True   \n",
       "5       sigmoid           False   \n",
       "6           rbf            True   \n",
       "7           rbf           False   \n",
       "8          poly            True   \n",
       "9          poly           False   \n",
       "10      sigmoid            True   \n",
       "11      sigmoid           False   \n",
       "12          rbf            True   \n",
       "13          rbf           False   \n",
       "14         poly            True   \n",
       "15         poly           False   \n",
       "16      sigmoid            True   \n",
       "17      sigmoid           False   \n",
       "18          rbf            True   \n",
       "19          rbf           False   \n",
       "20         poly            True   \n",
       "21         poly           False   \n",
       "22      sigmoid            True   \n",
       "23      sigmoid           False   \n",
       "24          rbf            True   \n",
       "25          rbf           False   \n",
       "26         poly            True   \n",
       "27         poly           False   \n",
       "28      sigmoid            True   \n",
       "29      sigmoid           False   \n",
       "30          rbf            True   \n",
       "31          rbf           False   \n",
       "32         poly            True   \n",
       "33         poly           False   \n",
       "34      sigmoid            True   \n",
       "35      sigmoid           False   \n",
       "36          rbf            True   \n",
       "37          rbf           False   \n",
       "38         poly            True   \n",
       "39         poly           False   \n",
       "40      sigmoid            True   \n",
       "41      sigmoid           False   \n",
       "42          rbf            True   \n",
       "43          rbf           False   \n",
       "44         poly            True   \n",
       "45         poly           False   \n",
       "46      sigmoid            True   \n",
       "47      sigmoid           False   \n",
       "\n",
       "                                               params  split0_test_score  \\\n",
       "0    {'C': 0.001, 'kernel': 'rbf', 'shrinking': True}           0.502994   \n",
       "1   {'C': 0.001, 'kernel': 'rbf', 'shrinking': False}           0.502994   \n",
       "2   {'C': 0.001, 'kernel': 'poly', 'shrinking': True}           0.502994   \n",
       "3   {'C': 0.001, 'kernel': 'poly', 'shrinking': Fa...           0.502994   \n",
       "4   {'C': 0.001, 'kernel': 'sigmoid', 'shrinking':...           0.502994   \n",
       "5   {'C': 0.001, 'kernel': 'sigmoid', 'shrinking':...           0.502994   \n",
       "6     {'C': 0.01, 'kernel': 'rbf', 'shrinking': True}           0.502994   \n",
       "7    {'C': 0.01, 'kernel': 'rbf', 'shrinking': False}           0.502994   \n",
       "8    {'C': 0.01, 'kernel': 'poly', 'shrinking': True}           0.508982   \n",
       "9   {'C': 0.01, 'kernel': 'poly', 'shrinking': False}           0.508982   \n",
       "10  {'C': 0.01, 'kernel': 'sigmoid', 'shrinking': ...           0.949102   \n",
       "11  {'C': 0.01, 'kernel': 'sigmoid', 'shrinking': ...           0.949102   \n",
       "12     {'C': 0.1, 'kernel': 'rbf', 'shrinking': True}           0.949102   \n",
       "13    {'C': 0.1, 'kernel': 'rbf', 'shrinking': False}           0.949102   \n",
       "14    {'C': 0.1, 'kernel': 'poly', 'shrinking': True}           0.871257   \n",
       "15   {'C': 0.1, 'kernel': 'poly', 'shrinking': False}           0.871257   \n",
       "16  {'C': 0.1, 'kernel': 'sigmoid', 'shrinking': T...           0.940120   \n",
       "17  {'C': 0.1, 'kernel': 'sigmoid', 'shrinking': F...           0.940120   \n",
       "18     {'C': 0.5, 'kernel': 'rbf', 'shrinking': True}           0.955090   \n",
       "19    {'C': 0.5, 'kernel': 'rbf', 'shrinking': False}           0.955090   \n",
       "20    {'C': 0.5, 'kernel': 'poly', 'shrinking': True}           0.943114   \n",
       "21   {'C': 0.5, 'kernel': 'poly', 'shrinking': False}           0.943114   \n",
       "22  {'C': 0.5, 'kernel': 'sigmoid', 'shrinking': T...           0.946108   \n",
       "23  {'C': 0.5, 'kernel': 'sigmoid', 'shrinking': F...           0.946108   \n",
       "24     {'C': 1.0, 'kernel': 'rbf', 'shrinking': True}           0.952096   \n",
       "25    {'C': 1.0, 'kernel': 'rbf', 'shrinking': False}           0.952096   \n",
       "26    {'C': 1.0, 'kernel': 'poly', 'shrinking': True}           0.946108   \n",
       "27   {'C': 1.0, 'kernel': 'poly', 'shrinking': False}           0.946108   \n",
       "28  {'C': 1.0, 'kernel': 'sigmoid', 'shrinking': T...           0.952096   \n",
       "29  {'C': 1.0, 'kernel': 'sigmoid', 'shrinking': F...           0.952096   \n",
       "30     {'C': 2.0, 'kernel': 'rbf', 'shrinking': True}           0.952096   \n",
       "31    {'C': 2.0, 'kernel': 'rbf', 'shrinking': False}           0.952096   \n",
       "32    {'C': 2.0, 'kernel': 'poly', 'shrinking': True}           0.940120   \n",
       "33   {'C': 2.0, 'kernel': 'poly', 'shrinking': False}           0.940120   \n",
       "34  {'C': 2.0, 'kernel': 'sigmoid', 'shrinking': T...           0.952096   \n",
       "35  {'C': 2.0, 'kernel': 'sigmoid', 'shrinking': F...           0.952096   \n",
       "36     {'C': 5.0, 'kernel': 'rbf', 'shrinking': True}           0.955090   \n",
       "37    {'C': 5.0, 'kernel': 'rbf', 'shrinking': False}           0.955090   \n",
       "38    {'C': 5.0, 'kernel': 'poly', 'shrinking': True}           0.925150   \n",
       "39   {'C': 5.0, 'kernel': 'poly', 'shrinking': False}           0.925150   \n",
       "40  {'C': 5.0, 'kernel': 'sigmoid', 'shrinking': T...           0.931138   \n",
       "41  {'C': 5.0, 'kernel': 'sigmoid', 'shrinking': F...           0.931138   \n",
       "42    {'C': 10.0, 'kernel': 'rbf', 'shrinking': True}           0.943114   \n",
       "43   {'C': 10.0, 'kernel': 'rbf', 'shrinking': False}           0.943114   \n",
       "44   {'C': 10.0, 'kernel': 'poly', 'shrinking': True}           0.919162   \n",
       "45  {'C': 10.0, 'kernel': 'poly', 'shrinking': False}           0.919162   \n",
       "46  {'C': 10.0, 'kernel': 'sigmoid', 'shrinking': ...           0.937126   \n",
       "47  {'C': 10.0, 'kernel': 'sigmoid', 'shrinking': ...           0.937126   \n",
       "\n",
       "    split1_test_score  split2_test_score  mean_test_score  std_test_score  \\\n",
       "0            0.501502           0.501502         0.501999        0.000704   \n",
       "1            0.501502           0.501502         0.501999        0.000704   \n",
       "2            0.501502           0.501502         0.501999        0.000704   \n",
       "3            0.501502           0.501502         0.501999        0.000704   \n",
       "4            0.501502           0.501502         0.501999        0.000704   \n",
       "5            0.501502           0.501502         0.501999        0.000704   \n",
       "6            0.501502           0.501502         0.501999        0.000704   \n",
       "7            0.501502           0.501502         0.501999        0.000704   \n",
       "8            0.510511           0.504505         0.507999        0.002549   \n",
       "9            0.510511           0.504505         0.507999        0.002549   \n",
       "10           0.924925           0.957958         0.943995        0.013961   \n",
       "11           0.924925           0.957958         0.943995        0.013961   \n",
       "12           0.933934           0.954955         0.945997        0.008858   \n",
       "13           0.933934           0.954955         0.945997        0.008858   \n",
       "14           0.849850           0.918919         0.880009        0.028868   \n",
       "15           0.849850           0.918919         0.880009        0.028868   \n",
       "16           0.930931           0.960961         0.944004        0.012564   \n",
       "17           0.930931           0.960961         0.944004        0.012564   \n",
       "18           0.927928           0.963964         0.948994        0.015330   \n",
       "19           0.927928           0.963964         0.948994        0.015330   \n",
       "20           0.930931           0.957958         0.944001        0.011052   \n",
       "21           0.930931           0.957958         0.944001        0.011052   \n",
       "22           0.930931           0.954955         0.943998        0.009921   \n",
       "23           0.930931           0.954955         0.943998        0.009921   \n",
       "24           0.939940           0.954955         0.948997        0.006510   \n",
       "25           0.939940           0.954955         0.948997        0.006510   \n",
       "26           0.927928           0.957958         0.943998        0.012350   \n",
       "27           0.927928           0.957958         0.943998        0.012350   \n",
       "28           0.924925           0.957958         0.944993        0.014391   \n",
       "29           0.924925           0.957958         0.944993        0.014391   \n",
       "30           0.939940           0.954955         0.948997        0.006510   \n",
       "31           0.939940           0.954955         0.948997        0.006510   \n",
       "32           0.930931           0.942943         0.937998        0.005128   \n",
       "33           0.930931           0.942943         0.937998        0.005128   \n",
       "34           0.918919           0.948949         0.939988        0.014953   \n",
       "35           0.918919           0.948949         0.939988        0.014953   \n",
       "36           0.936937           0.954955         0.948994        0.008526   \n",
       "37           0.936937           0.954955         0.948994        0.008526   \n",
       "38           0.921922           0.945946         0.931006        0.010646   \n",
       "39           0.921922           0.945946         0.931006        0.010646   \n",
       "40           0.909910           0.942943         0.927997        0.013667   \n",
       "41           0.909910           0.942943         0.927997        0.013667   \n",
       "42           0.945946           0.954955         0.948005        0.005049   \n",
       "43           0.945946           0.954955         0.948005        0.005049   \n",
       "44           0.915916           0.945946         0.927008        0.013457   \n",
       "45           0.915916           0.945946         0.927008        0.013457   \n",
       "46           0.918919           0.930931         0.928992        0.007558   \n",
       "47           0.918919           0.930931         0.928992        0.007558   \n",
       "\n",
       "    rank_test_score  \n",
       "0                41  \n",
       "1                41  \n",
       "2                41  \n",
       "3                41  \n",
       "4                41  \n",
       "5                41  \n",
       "6                41  \n",
       "7                41  \n",
       "8                39  \n",
       "9                39  \n",
       "10               23  \n",
       "11               23  \n",
       "12               11  \n",
       "13               11  \n",
       "14               37  \n",
       "15               37  \n",
       "16               15  \n",
       "17               15  \n",
       "18                5  \n",
       "19                5  \n",
       "20               17  \n",
       "21               17  \n",
       "22               19  \n",
       "23               19  \n",
       "24                1  \n",
       "25                1  \n",
       "26               21  \n",
       "27               21  \n",
       "28               13  \n",
       "29               13  \n",
       "30                1  \n",
       "31                1  \n",
       "32               27  \n",
       "33               27  \n",
       "34               25  \n",
       "35               25  \n",
       "36                5  \n",
       "37                5  \n",
       "38               29  \n",
       "39               29  \n",
       "40               33  \n",
       "41               33  \n",
       "42                9  \n",
       "43                9  \n",
       "44               35  \n",
       "45               35  \n",
       "46               31  \n",
       "47               31  "
      ]
     },
     "execution_count": 38,
     "metadata": {},
     "output_type": "execute_result"
    }
   ],
   "source": [
    "#get results back\n",
    "pd.DataFrame(grid_search.cv_results_)"
   ]
  },
  {
   "cell_type": "markdown",
   "metadata": {
    "id": "YQgqFVB5TjyP"
   },
   "source": [
    "# Low Level Interfaces: Parallelizing Compute Graphs\n",
    "Building the Compute-Graph manually"
   ]
  },
  {
   "cell_type": "code",
   "execution_count": 43,
   "metadata": {
    "id": "-AyduDORTjyP"
   },
   "outputs": [
    {
     "name": "stderr",
     "output_type": "stream",
     "text": [
      "UsageError: Line magic function `%%time` not found.\n"
     ]
    }
   ],
   "source": [
    "# simple example\n",
    "%%time\n",
    "def inc(x):\n",
    "    return x + 1\n",
    "\n",
    "def double(x):\n",
    "    return x + 2\n",
    "\n",
    "def add(x, y):\n",
    "    return x + y\n",
    "\n",
    "data = [1, 2, 3, 4, 5]\n",
    "\n",
    "output = []\n",
    "for x in data:\n",
    "    a = inc(x)\n",
    "    b = double(x)\n",
    "    c = add(a, b)\n",
    "    output.append(c)\n",
    "\n",
    "total = sum(output)\n"
   ]
  },
  {
   "cell_type": "code",
   "execution_count": 40,
   "metadata": {
    "id": "qU2on74ETjyQ",
    "outputId": "f39f36cc-bf40-485d-a64e-32e777e0dcda"
   },
   "outputs": [
    {
     "data": {
      "text/plain": [
       "45"
      ]
     },
     "execution_count": 40,
     "metadata": {},
     "output_type": "execute_result"
    }
   ],
   "source": [
    "total"
   ]
  },
  {
   "cell_type": "markdown",
   "metadata": {
    "id": "FoiGWtlITjyQ"
   },
   "source": [
    "### **Now, build a graph:**\n",
    "```dask.delayed()``` add functions and arguments to graph:"
   ]
  },
  {
   "cell_type": "code",
   "execution_count": 41,
   "metadata": {
    "id": "j-KnOQppTjyQ"
   },
   "outputs": [],
   "source": [
    "import dask\n",
    "\n",
    "output = []\n",
    "for x in data:\n",
    "    a = dask.delayed(inc)(x)\n",
    "    b = dask.delayed(double)(x)\n",
    "    c = dask.delayed(add)(a, b)\n",
    "    output.append(c)\n",
    "\n",
    "total = dask.delayed(sum)(output)\n"
   ]
  },
  {
   "cell_type": "code",
   "execution_count": null,
   "metadata": {
    "id": "Pcv4Ao3WTjyR",
    "outputId": "ed6d337e-0492-420c-addf-23335ee95604"
   },
   "outputs": [
    {
     "data": {
      "image/svg+xml": [
       "<svg height=\"464pt\" viewBox=\"0.00 0.00 739.00 463.69\" width=\"739pt\" xmlns=\"http://www.w3.org/2000/svg\" xmlns:xlink=\"http://www.w3.org/1999/xlink\">\n",
       "<g class=\"graph\" id=\"graph0\" transform=\"scale(1 1) rotate(0) translate(4 459.6851)\">\n",
       "<title>%3</title>\n",
       "<polygon fill=\"#ffffff\" points=\"-4,4 -4,-459.6851 735,-459.6851 735,4 -4,4\" stroke=\"transparent\"/>\n",
       "<!-- &#45;4193332759711864001 -->\n",
       "<g class=\"node\" id=\"node1\">\n",
       "<title>-4193332759711864001</title>\n",
       "<polygon fill=\"none\" points=\"381,-455.6851 327,-455.6851 327,-419.6851 381,-419.6851 381,-455.6851\" stroke=\"#000000\"/>\n",
       "</g>\n",
       "<!-- 6343614786163906253 -->\n",
       "<g class=\"node\" id=\"node2\">\n",
       "<title>6343614786163906253</title>\n",
       "<ellipse cx=\"354\" cy=\"-357.6874\" fill=\"none\" rx=\"25.9954\" ry=\"25.9954\" stroke=\"#000000\"/>\n",
       "<text fill=\"#000000\" font-family=\"Times,serif\" font-size=\"14.00\" text-anchor=\"middle\" x=\"354\" y=\"-353.9874\">sum</text>\n",
       "</g>\n",
       "<!-- 6343614786163906253&#45;&gt;&#45;4193332759711864001 -->\n",
       "<g class=\"edge\" id=\"edge1\">\n",
       "<title>6343614786163906253-&gt;-4193332759711864001</title>\n",
       "<path d=\"M354,-383.8817C354,-392.0839 354,-401.1688 354,-409.502\" fill=\"none\" stroke=\"#000000\"/>\n",
       "<polygon fill=\"#000000\" points=\"350.5001,-409.5324 354,-419.5324 357.5001,-409.5324 350.5001,-409.5324\" stroke=\"#000000\"/>\n",
       "</g>\n",
       "<!-- &#45;5601979565544331740 -->\n",
       "<g class=\"node\" id=\"node3\">\n",
       "<title>-5601979565544331740</title>\n",
       "<polygon fill=\"none\" points=\"185,-295.6897 131,-295.6897 131,-259.6897 185,-259.6897 185,-295.6897\" stroke=\"#000000\"/>\n",
       "</g>\n",
       "<!-- &#45;5601979565544331740&#45;&gt;6343614786163906253 -->\n",
       "<g class=\"edge\" id=\"edge2\">\n",
       "<title>-5601979565544331740-&gt;6343614786163906253</title>\n",
       "<path d=\"M185.253,-288.8131C220.4966,-303.1978 281.8792,-328.2512 320.0962,-343.8496\" fill=\"none\" stroke=\"#000000\"/>\n",
       "<polygon fill=\"#000000\" points=\"319.1704,-347.2519 329.7515,-347.7904 321.8156,-340.771 319.1704,-347.2519\" stroke=\"#000000\"/>\n",
       "</g>\n",
       "<!-- 2225927842972734825 -->\n",
       "<g class=\"node\" id=\"node4\">\n",
       "<title>2225927842972734825</title>\n",
       "<polygon fill=\"none\" points=\"302,-295.6897 248,-295.6897 248,-259.6897 302,-259.6897 302,-295.6897\" stroke=\"#000000\"/>\n",
       "</g>\n",
       "<!-- 2225927842972734825&#45;&gt;6343614786163906253 -->\n",
       "<g class=\"edge\" id=\"edge3\">\n",
       "<title>2225927842972734825-&gt;6343614786163906253</title>\n",
       "<path d=\"M292.9263,-295.8424C303.3826,-306.4308 316.7484,-319.9654 328.3089,-331.6719\" fill=\"none\" stroke=\"#000000\"/>\n",
       "<polygon fill=\"#000000\" points=\"326.0794,-334.3954 335.5964,-339.0514 331.0602,-329.4768 326.0794,-334.3954\" stroke=\"#000000\"/>\n",
       "</g>\n",
       "<!-- 7716101102653085993 -->\n",
       "<g class=\"node\" id=\"node5\">\n",
       "<title>7716101102653085993</title>\n",
       "<polygon fill=\"none\" points=\"381,-295.6897 327,-295.6897 327,-259.6897 381,-259.6897 381,-295.6897\" stroke=\"#000000\"/>\n",
       "</g>\n",
       "<!-- 7716101102653085993&#45;&gt;6343614786163906253 -->\n",
       "<g class=\"edge\" id=\"edge4\">\n",
       "<title>7716101102653085993-&gt;6343614786163906253</title>\n",
       "<path d=\"M354,-295.8424C354,-303.3969 354,-312.4511 354,-321.2711\" fill=\"none\" stroke=\"#000000\"/>\n",
       "<polygon fill=\"#000000\" points=\"350.5001,-321.4135 354,-331.4136 357.5001,-321.4136 350.5001,-321.4135\" stroke=\"#000000\"/>\n",
       "</g>\n",
       "<!-- 3822890905068580728 -->\n",
       "<g class=\"node\" id=\"node6\">\n",
       "<title>3822890905068580728</title>\n",
       "<polygon fill=\"none\" points=\"472,-295.6897 418,-295.6897 418,-259.6897 472,-259.6897 472,-295.6897\" stroke=\"#000000\"/>\n",
       "</g>\n",
       "<!-- 3822890905068580728&#45;&gt;6343614786163906253 -->\n",
       "<g class=\"edge\" id=\"edge5\">\n",
       "<title>3822890905068580728-&gt;6343614786163906253</title>\n",
       "<path d=\"M424.3507,-295.8424C411.6383,-307.0178 395.1926,-321.4752 381.3988,-333.6013\" fill=\"none\" stroke=\"#000000\"/>\n",
       "<polygon fill=\"#000000\" points=\"378.8315,-331.198 373.6319,-340.4291 383.4533,-336.4553 378.8315,-331.198\" stroke=\"#000000\"/>\n",
       "</g>\n",
       "<!-- 123183926175771420 -->\n",
       "<g class=\"node\" id=\"node7\">\n",
       "<title>123183926175771420</title>\n",
       "<polygon fill=\"none\" points=\"601,-295.6897 547,-295.6897 547,-259.6897 601,-259.6897 601,-295.6897\" stroke=\"#000000\"/>\n",
       "</g>\n",
       "<!-- 123183926175771420&#45;&gt;6343614786163906253 -->\n",
       "<g class=\"edge\" id=\"edge6\">\n",
       "<title>123183926175771420-&gt;6343614786163906253</title>\n",
       "<path d=\"M546.5817,-287.6597C506.5087,-302.2313 431.9773,-329.3329 388.3181,-345.2085\" fill=\"none\" stroke=\"#000000\"/>\n",
       "<polygon fill=\"#000000\" points=\"386.9104,-341.9961 378.7085,-348.7028 389.3026,-348.5747 386.9104,-341.9961\" stroke=\"#000000\"/>\n",
       "</g>\n",
       "<!-- 7172916743678831527 -->\n",
       "<g class=\"node\" id=\"node8\">\n",
       "<title>7172916743678831527</title>\n",
       "<ellipse cx=\"248\" cy=\"-200.2918\" fill=\"none\" rx=\"23.2963\" ry=\"23.2963\" stroke=\"#000000\"/>\n",
       "<text fill=\"#000000\" font-family=\"Times,serif\" font-size=\"14.00\" text-anchor=\"middle\" x=\"248\" y=\"-196.5918\">add</text>\n",
       "</g>\n",
       "<!-- 7172916743678831527&#45;&gt;2225927842972734825 -->\n",
       "<g class=\"edge\" id=\"edge7\">\n",
       "<title>7172916743678831527-&gt;2225927842972734825</title>\n",
       "<path d=\"M255.8095,-222.6785C258.7743,-231.1772 262.1872,-240.9607 265.3052,-249.8987\" fill=\"none\" stroke=\"#000000\"/>\n",
       "<polygon fill=\"#000000\" points=\"262.0621,-251.2283 268.6606,-259.5174 268.6715,-248.9226 262.0621,-251.2283\" stroke=\"#000000\"/>\n",
       "</g>\n",
       "<!-- &#45;3354896027595185222 -->\n",
       "<g class=\"node\" id=\"node9\">\n",
       "<title>-3354896027595185222</title>\n",
       "<polygon fill=\"none\" points=\"202,-140.8939 148,-140.8939 148,-104.8939 202,-104.8939 202,-140.8939\" stroke=\"#000000\"/>\n",
       "</g>\n",
       "<!-- &#45;3354896027595185222&#45;&gt;7172916743678831527 -->\n",
       "<g class=\"edge\" id=\"edge8\">\n",
       "<title>-3354896027595185222-&gt;7172916743678831527</title>\n",
       "<path d=\"M192.3,-141.2361C202.0289,-151.5512 214.3021,-164.5637 224.8501,-175.7472\" fill=\"none\" stroke=\"#000000\"/>\n",
       "<polygon fill=\"#000000\" points=\"222.4169,-178.2684 231.8244,-183.1417 227.5092,-173.4655 222.4169,-178.2684\" stroke=\"#000000\"/>\n",
       "</g>\n",
       "<!-- 4708881262252500229 -->\n",
       "<g class=\"node\" id=\"node10\">\n",
       "<title>4708881262252500229</title>\n",
       "<polygon fill=\"none\" points=\"275,-140.8939 221,-140.8939 221,-104.8939 275,-104.8939 275,-140.8939\" stroke=\"#000000\"/>\n",
       "</g>\n",
       "<!-- 4708881262252500229&#45;&gt;7172916743678831527 -->\n",
       "<g class=\"edge\" id=\"edge9\">\n",
       "<title>4708881262252500229-&gt;7172916743678831527</title>\n",
       "<path d=\"M248,-141.2361C248,-148.883 248,-158.0124 248,-166.78\" fill=\"none\" stroke=\"#000000\"/>\n",
       "<polygon fill=\"#000000\" points=\"244.5001,-166.7957 248,-176.7958 251.5001,-166.7958 244.5001,-166.7957\" stroke=\"#000000\"/>\n",
       "</g>\n",
       "<!-- &#45;31886241827526880 -->\n",
       "<g class=\"node\" id=\"node11\">\n",
       "<title>-31886241827526880</title>\n",
       "<ellipse cx=\"174\" cy=\"-34.4469\" fill=\"none\" rx=\"21.3963\" ry=\"21.3963\" stroke=\"#000000\"/>\n",
       "<text fill=\"#000000\" font-family=\"Times,serif\" font-size=\"14.00\" text-anchor=\"middle\" x=\"174\" y=\"-30.7469\">inc</text>\n",
       "</g>\n",
       "<!-- &#45;31886241827526880&#45;&gt;&#45;3354896027595185222 -->\n",
       "<g class=\"edge\" id=\"edge10\">\n",
       "<title>-31886241827526880-&gt;-3354896027595185222</title>\n",
       "<path d=\"M174.2472,-56.3102C174.3778,-67.8634 174.5397,-82.1795 174.6798,-94.5732\" fill=\"none\" stroke=\"#000000\"/>\n",
       "<polygon fill=\"#000000\" points=\"171.1831,-94.8923 174.796,-104.852 178.1826,-94.8131 171.1831,-94.8923\" stroke=\"#000000\"/>\n",
       "</g>\n",
       "<!-- 1885105711440416243 -->\n",
       "<g class=\"node\" id=\"node12\">\n",
       "<title>1885105711440416243</title>\n",
       "<ellipse cx=\"248\" cy=\"-34.4469\" fill=\"none\" rx=\"34.394\" ry=\"34.394\" stroke=\"#000000\"/>\n",
       "<text fill=\"#000000\" font-family=\"Times,serif\" font-size=\"14.00\" text-anchor=\"middle\" x=\"248\" y=\"-30.7469\">double</text>\n",
       "</g>\n",
       "<!-- 1885105711440416243&#45;&gt;4708881262252500229 -->\n",
       "<g class=\"edge\" id=\"edge11\">\n",
       "<title>1885105711440416243-&gt;4708881262252500229</title>\n",
       "<path d=\"M248,-68.8961C248,-77.395 248,-86.401 248,-94.5715\" fill=\"none\" stroke=\"#000000\"/>\n",
       "<polygon fill=\"#000000\" points=\"244.5001,-94.7183 248,-104.7184 251.5001,-94.7184 244.5001,-94.7183\" stroke=\"#000000\"/>\n",
       "</g>\n",
       "<!-- 4274155834350930322 -->\n",
       "<g class=\"node\" id=\"node13\">\n",
       "<title>4274155834350930322</title>\n",
       "<ellipse cx=\"631\" cy=\"-200.2918\" fill=\"none\" rx=\"23.2963\" ry=\"23.2963\" stroke=\"#000000\"/>\n",
       "<text fill=\"#000000\" font-family=\"Times,serif\" font-size=\"14.00\" text-anchor=\"middle\" x=\"631\" y=\"-196.5918\">add</text>\n",
       "</g>\n",
       "<!-- 4274155834350930322&#45;&gt;123183926175771420 -->\n",
       "<g class=\"edge\" id=\"edge12\">\n",
       "<title>4274155834350930322-&gt;123183926175771420</title>\n",
       "<path d=\"M616.9101,-219.4239C609.7824,-229.1022 601.023,-240.9964 593.2807,-251.5092\" fill=\"none\" stroke=\"#000000\"/>\n",
       "<polygon fill=\"#000000\" points=\"590.4521,-249.4479 587.3403,-259.5754 596.0886,-253.5989 590.4521,-249.4479\" stroke=\"#000000\"/>\n",
       "</g>\n",
       "<!-- 2141625721504840260 -->\n",
       "<g class=\"node\" id=\"node14\">\n",
       "<title>2141625721504840260</title>\n",
       "<polygon fill=\"none\" points=\"658,-140.8939 604,-140.8939 604,-104.8939 658,-104.8939 658,-140.8939\" stroke=\"#000000\"/>\n",
       "</g>\n",
       "<!-- 2141625721504840260&#45;&gt;4274155834350930322 -->\n",
       "<g class=\"edge\" id=\"edge13\">\n",
       "<title>2141625721504840260-&gt;4274155834350930322</title>\n",
       "<path d=\"M631,-141.2361C631,-148.883 631,-158.0124 631,-166.78\" fill=\"none\" stroke=\"#000000\"/>\n",
       "<polygon fill=\"#000000\" points=\"627.5001,-166.7957 631,-176.7958 634.5001,-166.7958 627.5001,-166.7957\" stroke=\"#000000\"/>\n",
       "</g>\n",
       "<!-- &#45;590274212081968483 -->\n",
       "<g class=\"node\" id=\"node15\">\n",
       "<title>-590274212081968483</title>\n",
       "<polygon fill=\"none\" points=\"731,-140.8939 677,-140.8939 677,-104.8939 731,-104.8939 731,-140.8939\" stroke=\"#000000\"/>\n",
       "</g>\n",
       "<!-- &#45;590274212081968483&#45;&gt;4274155834350930322 -->\n",
       "<g class=\"edge\" id=\"edge14\">\n",
       "<title>-590274212081968483-&gt;4274155834350930322</title>\n",
       "<path d=\"M686.7,-141.2361C676.9711,-151.5512 664.6979,-164.5637 654.1499,-175.7472\" fill=\"none\" stroke=\"#000000\"/>\n",
       "<polygon fill=\"#000000\" points=\"651.4908,-173.4655 647.1756,-183.1417 656.5831,-178.2684 651.4908,-173.4655\" stroke=\"#000000\"/>\n",
       "</g>\n",
       "<!-- 7703483425262638587 -->\n",
       "<g class=\"node\" id=\"node16\">\n",
       "<title>7703483425262638587</title>\n",
       "<ellipse cx=\"705\" cy=\"-34.4469\" fill=\"none\" rx=\"21.3963\" ry=\"21.3963\" stroke=\"#000000\"/>\n",
       "<text fill=\"#000000\" font-family=\"Times,serif\" font-size=\"14.00\" text-anchor=\"middle\" x=\"705\" y=\"-30.7469\">inc</text>\n",
       "</g>\n",
       "<!-- 7703483425262638587&#45;&gt;&#45;590274212081968483 -->\n",
       "<g class=\"edge\" id=\"edge15\">\n",
       "<title>7703483425262638587-&gt;-590274212081968483</title>\n",
       "<path d=\"M704.7528,-56.3102C704.6222,-67.8634 704.4603,-82.1795 704.3202,-94.5732\" fill=\"none\" stroke=\"#000000\"/>\n",
       "<polygon fill=\"#000000\" points=\"700.8174,-94.8131 704.204,-104.852 707.8169,-94.8923 700.8174,-94.8131\" stroke=\"#000000\"/>\n",
       "</g>\n",
       "<!-- 74689237858505674 -->\n",
       "<g class=\"node\" id=\"node17\">\n",
       "<title>74689237858505674</title>\n",
       "<ellipse cx=\"631\" cy=\"-34.4469\" fill=\"none\" rx=\"34.394\" ry=\"34.394\" stroke=\"#000000\"/>\n",
       "<text fill=\"#000000\" font-family=\"Times,serif\" font-size=\"14.00\" text-anchor=\"middle\" x=\"631\" y=\"-30.7469\">double</text>\n",
       "</g>\n",
       "<!-- 74689237858505674&#45;&gt;2141625721504840260 -->\n",
       "<g class=\"edge\" id=\"edge16\">\n",
       "<title>74689237858505674-&gt;2141625721504840260</title>\n",
       "<path d=\"M631,-68.8961C631,-77.395 631,-86.401 631,-94.5715\" fill=\"none\" stroke=\"#000000\"/>\n",
       "<polygon fill=\"#000000\" points=\"627.5001,-94.7183 631,-104.7184 634.5001,-94.7184 627.5001,-94.7183\" stroke=\"#000000\"/>\n",
       "</g>\n",
       "<!-- &#45;4045005755219911026 -->\n",
       "<g class=\"node\" id=\"node18\">\n",
       "<title>-4045005755219911026</title>\n",
       "<ellipse cx=\"483\" cy=\"-200.2918\" fill=\"none\" rx=\"23.2963\" ry=\"23.2963\" stroke=\"#000000\"/>\n",
       "<text fill=\"#000000\" font-family=\"Times,serif\" font-size=\"14.00\" text-anchor=\"middle\" x=\"483\" y=\"-196.5918\">add</text>\n",
       "</g>\n",
       "<!-- &#45;4045005755219911026&#45;&gt;3822890905068580728 -->\n",
       "<g class=\"edge\" id=\"edge17\">\n",
       "<title>-4045005755219911026-&gt;3822890905068580728</title>\n",
       "<path d=\"M472.6163,-221.4411C468.2324,-230.3704 463.0719,-240.8811 458.4057,-250.3851\" fill=\"none\" stroke=\"#000000\"/>\n",
       "<polygon fill=\"#000000\" points=\"455.2168,-248.9388 453.9513,-259.4578 461.5003,-252.0238 455.2168,-248.9388\" stroke=\"#000000\"/>\n",
       "</g>\n",
       "<!-- &#45;7198671106421773516 -->\n",
       "<g class=\"node\" id=\"node19\">\n",
       "<title>-7198671106421773516</title>\n",
       "<polygon fill=\"none\" points=\"510,-140.8939 456,-140.8939 456,-104.8939 510,-104.8939 510,-140.8939\" stroke=\"#000000\"/>\n",
       "</g>\n",
       "<!-- &#45;7198671106421773516&#45;&gt;&#45;4045005755219911026 -->\n",
       "<g class=\"edge\" id=\"edge18\">\n",
       "<title>-7198671106421773516-&gt;-4045005755219911026</title>\n",
       "<path d=\"M483,-141.2361C483,-148.883 483,-158.0124 483,-166.78\" fill=\"none\" stroke=\"#000000\"/>\n",
       "<polygon fill=\"#000000\" points=\"479.5001,-166.7957 483,-176.7958 486.5001,-166.7958 479.5001,-166.7957\" stroke=\"#000000\"/>\n",
       "</g>\n",
       "<!-- &#45;1329334863325457451 -->\n",
       "<g class=\"node\" id=\"node20\">\n",
       "<title>-1329334863325457451</title>\n",
       "<polygon fill=\"none\" points=\"583,-140.8939 529,-140.8939 529,-104.8939 583,-104.8939 583,-140.8939\" stroke=\"#000000\"/>\n",
       "</g>\n",
       "<!-- &#45;1329334863325457451&#45;&gt;&#45;4045005755219911026 -->\n",
       "<g class=\"edge\" id=\"edge19\">\n",
       "<title>-1329334863325457451-&gt;-4045005755219911026</title>\n",
       "<path d=\"M538.7,-141.2361C528.9711,-151.5512 516.6979,-164.5637 506.1499,-175.7472\" fill=\"none\" stroke=\"#000000\"/>\n",
       "<polygon fill=\"#000000\" points=\"503.4908,-173.4655 499.1756,-183.1417 508.5831,-178.2684 503.4908,-173.4655\" stroke=\"#000000\"/>\n",
       "</g>\n",
       "<!-- 8250244861185396227 -->\n",
       "<g class=\"node\" id=\"node21\">\n",
       "<title>8250244861185396227</title>\n",
       "<ellipse cx=\"557\" cy=\"-34.4469\" fill=\"none\" rx=\"21.3963\" ry=\"21.3963\" stroke=\"#000000\"/>\n",
       "<text fill=\"#000000\" font-family=\"Times,serif\" font-size=\"14.00\" text-anchor=\"middle\" x=\"557\" y=\"-30.7469\">inc</text>\n",
       "</g>\n",
       "<!-- 8250244861185396227&#45;&gt;&#45;1329334863325457451 -->\n",
       "<g class=\"edge\" id=\"edge20\">\n",
       "<title>8250244861185396227-&gt;-1329334863325457451</title>\n",
       "<path d=\"M556.7528,-56.3102C556.6222,-67.8634 556.4603,-82.1795 556.3202,-94.5732\" fill=\"none\" stroke=\"#000000\"/>\n",
       "<polygon fill=\"#000000\" points=\"552.8174,-94.8131 556.204,-104.852 559.8169,-94.8923 552.8174,-94.8131\" stroke=\"#000000\"/>\n",
       "</g>\n",
       "<!-- &#45;4275662820399841862 -->\n",
       "<g class=\"node\" id=\"node22\">\n",
       "<title>-4275662820399841862</title>\n",
       "<ellipse cx=\"483\" cy=\"-34.4469\" fill=\"none\" rx=\"34.394\" ry=\"34.394\" stroke=\"#000000\"/>\n",
       "<text fill=\"#000000\" font-family=\"Times,serif\" font-size=\"14.00\" text-anchor=\"middle\" x=\"483\" y=\"-30.7469\">double</text>\n",
       "</g>\n",
       "<!-- &#45;4275662820399841862&#45;&gt;&#45;7198671106421773516 -->\n",
       "<g class=\"edge\" id=\"edge21\">\n",
       "<title>-4275662820399841862-&gt;-7198671106421773516</title>\n",
       "<path d=\"M483,-68.8961C483,-77.395 483,-86.401 483,-94.5715\" fill=\"none\" stroke=\"#000000\"/>\n",
       "<polygon fill=\"#000000\" points=\"479.5001,-94.7183 483,-104.7184 486.5001,-94.7184 479.5001,-94.7183\" stroke=\"#000000\"/>\n",
       "</g>\n",
       "<!-- &#45;5392886245903772697 -->\n",
       "<g class=\"node\" id=\"node23\">\n",
       "<title>-5392886245903772697</title>\n",
       "<ellipse cx=\"354\" cy=\"-200.2918\" fill=\"none\" rx=\"23.2963\" ry=\"23.2963\" stroke=\"#000000\"/>\n",
       "<text fill=\"#000000\" font-family=\"Times,serif\" font-size=\"14.00\" text-anchor=\"middle\" x=\"354\" y=\"-196.5918\">add</text>\n",
       "</g>\n",
       "<!-- &#45;5392886245903772697&#45;&gt;7716101102653085993 -->\n",
       "<g class=\"edge\" id=\"edge22\">\n",
       "<title>-5392886245903772697-&gt;7716101102653085993</title>\n",
       "<path d=\"M354,-223.9343C354,-231.9363 354,-240.9559 354,-249.2885\" fill=\"none\" stroke=\"#000000\"/>\n",
       "<polygon fill=\"#000000\" points=\"350.5001,-249.3475 354,-259.3475 357.5001,-249.3475 350.5001,-249.3475\" stroke=\"#000000\"/>\n",
       "</g>\n",
       "<!-- 611739531030867384 -->\n",
       "<g class=\"node\" id=\"node24\">\n",
       "<title>611739531030867384</title>\n",
       "<polygon fill=\"none\" points=\"362,-140.8939 308,-140.8939 308,-104.8939 362,-104.8939 362,-140.8939\" stroke=\"#000000\"/>\n",
       "</g>\n",
       "<!-- 611739531030867384&#45;&gt;&#45;5392886245903772697 -->\n",
       "<g class=\"edge\" id=\"edge23\">\n",
       "<title>611739531030867384-&gt;-5392886245903772697</title>\n",
       "<path d=\"M339.5027,-141.2361C341.4322,-149.096 343.7462,-158.5222 345.953,-167.5119\" fill=\"none\" stroke=\"#000000\"/>\n",
       "<polygon fill=\"#000000\" points=\"342.5897,-168.4921 348.3729,-177.3693 349.3878,-166.8232 342.5897,-168.4921\" stroke=\"#000000\"/>\n",
       "</g>\n",
       "<!-- &#45;7965372695328193838 -->\n",
       "<g class=\"node\" id=\"node25\">\n",
       "<title>-7965372695328193838</title>\n",
       "<polygon fill=\"none\" points=\"435,-140.8939 381,-140.8939 381,-104.8939 435,-104.8939 435,-140.8939\" stroke=\"#000000\"/>\n",
       "</g>\n",
       "<!-- &#45;7965372695328193838&#45;&gt;&#45;5392886245903772697 -->\n",
       "<g class=\"edge\" id=\"edge24\">\n",
       "<title>-7965372695328193838-&gt;-5392886245903772697</title>\n",
       "<path d=\"M395.2028,-141.2361C388.6727,-150.5957 380.5931,-162.1761 373.3233,-172.5958\" fill=\"none\" stroke=\"#000000\"/>\n",
       "<polygon fill=\"#000000\" points=\"370.3105,-170.7973 367.4589,-181.0012 376.0513,-174.8026 370.3105,-170.7973\" stroke=\"#000000\"/>\n",
       "</g>\n",
       "<!-- 303497977687142888 -->\n",
       "<g class=\"node\" id=\"node26\">\n",
       "<title>303497977687142888</title>\n",
       "<ellipse cx=\"409\" cy=\"-34.4469\" fill=\"none\" rx=\"21.3963\" ry=\"21.3963\" stroke=\"#000000\"/>\n",
       "<text fill=\"#000000\" font-family=\"Times,serif\" font-size=\"14.00\" text-anchor=\"middle\" x=\"409\" y=\"-30.7469\">inc</text>\n",
       "</g>\n",
       "<!-- 303497977687142888&#45;&gt;&#45;7965372695328193838 -->\n",
       "<g class=\"edge\" id=\"edge25\">\n",
       "<title>303497977687142888-&gt;-7965372695328193838</title>\n",
       "<path d=\"M408.7528,-56.3102C408.6222,-67.8634 408.4603,-82.1795 408.3202,-94.5732\" fill=\"none\" stroke=\"#000000\"/>\n",
       "<polygon fill=\"#000000\" points=\"404.8174,-94.8131 408.204,-104.852 411.8169,-94.8923 404.8174,-94.8131\" stroke=\"#000000\"/>\n",
       "</g>\n",
       "<!-- &#45;3935487232658763954 -->\n",
       "<g class=\"node\" id=\"node27\">\n",
       "<title>-3935487232658763954</title>\n",
       "<ellipse cx=\"335\" cy=\"-34.4469\" fill=\"none\" rx=\"34.394\" ry=\"34.394\" stroke=\"#000000\"/>\n",
       "<text fill=\"#000000\" font-family=\"Times,serif\" font-size=\"14.00\" text-anchor=\"middle\" x=\"335\" y=\"-30.7469\">double</text>\n",
       "</g>\n",
       "<!-- &#45;3935487232658763954&#45;&gt;611739531030867384 -->\n",
       "<g class=\"edge\" id=\"edge26\">\n",
       "<title>-3935487232658763954-&gt;611739531030867384</title>\n",
       "<path d=\"M335,-68.8961C335,-77.395 335,-86.401 335,-94.5715\" fill=\"none\" stroke=\"#000000\"/>\n",
       "<polygon fill=\"#000000\" points=\"331.5001,-94.7183 335,-104.7184 338.5001,-94.7184 331.5001,-94.7183\" stroke=\"#000000\"/>\n",
       "</g>\n",
       "<!-- &#45;5670022270201407766 -->\n",
       "<g class=\"node\" id=\"node28\">\n",
       "<title>-5670022270201407766</title>\n",
       "<ellipse cx=\"100\" cy=\"-200.2918\" fill=\"none\" rx=\"23.2963\" ry=\"23.2963\" stroke=\"#000000\"/>\n",
       "<text fill=\"#000000\" font-family=\"Times,serif\" font-size=\"14.00\" text-anchor=\"middle\" x=\"100\" y=\"-196.5918\">add</text>\n",
       "</g>\n",
       "<!-- &#45;5670022270201407766&#45;&gt;&#45;5601979565544331740 -->\n",
       "<g class=\"edge\" id=\"edge27\">\n",
       "<title>-5670022270201407766-&gt;-5601979565544331740</title>\n",
       "<path d=\"M114.0402,-219.0277C121.3415,-228.7709 130.385,-240.839 138.3676,-251.4913\" fill=\"none\" stroke=\"#000000\"/>\n",
       "<polygon fill=\"#000000\" points=\"135.6908,-253.7558 144.4885,-259.6593 141.2925,-249.558 135.6908,-253.7558\" stroke=\"#000000\"/>\n",
       "</g>\n",
       "<!-- 2471835606298327949 -->\n",
       "<g class=\"node\" id=\"node29\">\n",
       "<title>2471835606298327949</title>\n",
       "<polygon fill=\"none\" points=\"54,-140.8939 0,-140.8939 0,-104.8939 54,-104.8939 54,-140.8939\" stroke=\"#000000\"/>\n",
       "</g>\n",
       "<!-- 2471835606298327949&#45;&gt;&#45;5670022270201407766 -->\n",
       "<g class=\"edge\" id=\"edge28\">\n",
       "<title>2471835606298327949-&gt;-5670022270201407766</title>\n",
       "<path d=\"M44.3,-141.2361C54.0289,-151.5512 66.3021,-164.5637 76.8501,-175.7472\" fill=\"none\" stroke=\"#000000\"/>\n",
       "<polygon fill=\"#000000\" points=\"74.4169,-178.2684 83.8244,-183.1417 79.5092,-173.4655 74.4169,-178.2684\" stroke=\"#000000\"/>\n",
       "</g>\n",
       "<!-- 5093373341307499135 -->\n",
       "<g class=\"node\" id=\"node30\">\n",
       "<title>5093373341307499135</title>\n",
       "<polygon fill=\"none\" points=\"127,-140.8939 73,-140.8939 73,-104.8939 127,-104.8939 127,-140.8939\" stroke=\"#000000\"/>\n",
       "</g>\n",
       "<!-- 5093373341307499135&#45;&gt;&#45;5670022270201407766 -->\n",
       "<g class=\"edge\" id=\"edge29\">\n",
       "<title>5093373341307499135-&gt;-5670022270201407766</title>\n",
       "<path d=\"M100,-141.2361C100,-148.883 100,-158.0124 100,-166.78\" fill=\"none\" stroke=\"#000000\"/>\n",
       "<polygon fill=\"#000000\" points=\"96.5001,-166.7957 100,-176.7958 103.5001,-166.7958 96.5001,-166.7957\" stroke=\"#000000\"/>\n",
       "</g>\n",
       "<!-- 8722455391334830379 -->\n",
       "<g class=\"node\" id=\"node31\">\n",
       "<title>8722455391334830379</title>\n",
       "<ellipse cx=\"26\" cy=\"-34.4469\" fill=\"none\" rx=\"21.3963\" ry=\"21.3963\" stroke=\"#000000\"/>\n",
       "<text fill=\"#000000\" font-family=\"Times,serif\" font-size=\"14.00\" text-anchor=\"middle\" x=\"26\" y=\"-30.7469\">inc</text>\n",
       "</g>\n",
       "<!-- 8722455391334830379&#45;&gt;2471835606298327949 -->\n",
       "<g class=\"edge\" id=\"edge30\">\n",
       "<title>8722455391334830379-&gt;2471835606298327949</title>\n",
       "<path d=\"M26.2472,-56.3102C26.3778,-67.8634 26.5397,-82.1795 26.6798,-94.5732\" fill=\"none\" stroke=\"#000000\"/>\n",
       "<polygon fill=\"#000000\" points=\"23.1831,-94.8923 26.796,-104.852 30.1826,-94.8131 23.1831,-94.8923\" stroke=\"#000000\"/>\n",
       "</g>\n",
       "<!-- 5282032990715702157 -->\n",
       "<g class=\"node\" id=\"node32\">\n",
       "<title>5282032990715702157</title>\n",
       "<ellipse cx=\"100\" cy=\"-34.4469\" fill=\"none\" rx=\"34.394\" ry=\"34.394\" stroke=\"#000000\"/>\n",
       "<text fill=\"#000000\" font-family=\"Times,serif\" font-size=\"14.00\" text-anchor=\"middle\" x=\"100\" y=\"-30.7469\">double</text>\n",
       "</g>\n",
       "<!-- 5282032990715702157&#45;&gt;5093373341307499135 -->\n",
       "<g class=\"edge\" id=\"edge31\">\n",
       "<title>5282032990715702157-&gt;5093373341307499135</title>\n",
       "<path d=\"M100,-68.8961C100,-77.395 100,-86.401 100,-94.5715\" fill=\"none\" stroke=\"#000000\"/>\n",
       "<polygon fill=\"#000000\" points=\"96.5001,-94.7183 100,-104.7184 103.5001,-94.7184 96.5001,-94.7183\" stroke=\"#000000\"/>\n",
       "</g>\n",
       "</g>\n",
       "</svg>"
      ],
      "text/plain": [
       "<IPython.core.display.SVG object>"
      ]
     },
     "execution_count": 34,
     "metadata": {
      "tags": []
     },
     "output_type": "execute_result"
    }
   ],
   "source": [
    "total.visualize(filename=\"graph2.svg\")"
   ]
  },
  {
   "cell_type": "code",
   "execution_count": null,
   "metadata": {
    "id": "Asdgq5cYTjyR",
    "outputId": "408c5821-fafb-4c45-8a99-434fd7600658"
   },
   "outputs": [
    {
     "data": {
      "text/plain": [
       "45"
      ]
     },
     "execution_count": 35,
     "metadata": {
      "tags": []
     },
     "output_type": "execute_result"
    }
   ],
   "source": [
    "#call copute to execute\n",
    "%%time total.compute()"
   ]
  },
  {
   "cell_type": "code",
   "execution_count": null,
   "metadata": {
    "id": "8kw3RZxjTjyT"
   },
   "outputs": [],
   "source": []
  }
 ],
 "metadata": {
  "colab": {
   "name": "Lab_4_DASK_Intro.ipynb",
   "provenance": []
  },
  "kernelspec": {
   "display_name": "Python 3",
   "language": "python",
   "name": "python3"
  },
  "language_info": {
   "codemirror_mode": {
    "name": "ipython",
    "version": 3
   },
   "file_extension": ".py",
   "mimetype": "text/x-python",
   "name": "python",
   "nbconvert_exporter": "python",
   "pygments_lexer": "ipython3",
   "version": "3.7.4"
  }
 },
 "nbformat": 4,
 "nbformat_minor": 4
}
