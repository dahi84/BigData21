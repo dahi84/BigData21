{
  "nbformat": 4,
  "nbformat_minor": 0,
  "metadata": {
    "kernelspec": {
      "display_name": "Python 3",
      "language": "python",
      "name": "python3"
    },
    "language_info": {
      "codemirror_mode": {
        "name": "ipython",
        "version": 3
      },
      "file_extension": ".py",
      "mimetype": "text/x-python",
      "name": "python",
      "nbconvert_exporter": "python",
      "pygments_lexer": "ipython3",
      "version": "3.7.6"
    },
    "colab": {
      "name": "Lab_4_DASK_Intro.ipynb",
      "provenance": []
    }
  },
  "cells": [
    {
      "cell_type": "markdown",
      "metadata": {
        "id": "8WbhIZm5Tjx4"
      },
      "source": [
        "<img src=\"https://github.com/dahi84/BigData21/blob/branch_4/Lab_4/IMG/dask_horizontal.svg?raw=1\"  width=\"30%\">\n",
        "\n"
      ]
    },
    {
      "cell_type": "markdown",
      "metadata": {
        "id": "CDYKpi5ZTjx5"
      },
      "source": [
        "# Introduction to DASK\n",
        "Dask is a parallel computing library that scales the existing Python ecosystem. This tutorial will introduce Dask and parallel data analysis more generally.\n",
        "\n",
        "Dask can scale down to your laptop laptop and up to a cluster.\n",
        "\n",
        "\n",
        "*  **High level Interface:**  Dask provides high-level Array, Bag, and DataFrame\n",
        "   collections that mimic NumPy, lists, and Pandas but can operate in parallel on\n",
        "   datasets that don't fit into memory.  Dask's high-level collections are\n",
        "   alternatives to NumPy and Pandas for large datasets.\n",
        "\n",
        "*  **Low Level Interface:** Dask provides dynamic task schedulers that\n",
        "   execute task graphs in parallel.  These execution engines power the\n",
        "   high-level collections mentioned above but can also power custom,\n",
        "   user-defined workloads.  These schedulers are low-latency (around 1ms) and\n",
        "   work hard to run computations in a small memory footprint.  Dask's\n",
        "   schedulers are an alternative to direct use of `threading` or\n",
        "   `multiprocessing` libraries in complex cases or other task scheduling\n",
        "   systems like `Luigi` or `IPython parallel`.\n",
        "   \n",
        "## DASK Ressources \n",
        "*  [DASK Website](http://dask.org)\n",
        "*  [Documentation](https://dask.pydata.org/en/latest/)\n"
      ]
    },
    {
      "cell_type": "markdown",
      "metadata": {
        "id": "IcBHnPxGTjx6"
      },
      "source": [
        "# High Level Interfaces: Parallelizing NumPy and Pandas"
      ]
    },
    {
      "cell_type": "markdown",
      "metadata": {
        "id": "HHjRjXkWTjx6"
      },
      "source": [
        "## Pandas\n",
        "Pandas Dataframes are a very popular tool that provide full speadsheet and in-memory database functionality for the ***Python*** ecco system. It has become one of tstandard tools in Data Science and is also widely used for pre-processing / data wrangling tasks in machine learning\n",
        "\n",
        "* the ***DASK*** API for ***Pandas*** is analog to the one for ***NumPy*** and will not be discussed here, see https://docs.dask.org/en/latest/dataframe.html for details.\n",
        "\n",
        "## NumPy\n",
        "As seen before, NumPy arrays are the dominat array and matrix data structure in the ***Python*** data science and machine learning ecco system.\n",
        "* refresh your NumPy skills with this extra [tutorial](Extra_Material/Numpy.ipynb)\n",
        "\n",
        "### Functionality of Dask arrays\n",
        "\n",
        "* Arithmetic and scalar mathematics: +, *, exp, log, ...\n",
        "* Reductions along axes: sum(), mean(), std(), sum(axis=0), ...\n",
        "* Tensor contractions / dot products / matrix multiply: tensordot\n",
        "* Axis reordering / transpose: transpose\n",
        "* Slicing: x[:100, 500:100:-2]\n",
        "* Fancy indexing along single axes with lists or NumPy arrays: x[:, [10, 1, 5]]\n",
        "* Array protocols like __array__ and __array_ufunc__\n",
        "* Some linear algebra: svd, qr, solve, solve_triangular, lstsq\n",
        "\n",
        "**Full Array API: https://docs.dask.org/en/latest/array-api.html**\n",
        "\n",
        "### Limitations\n",
        "However, Dask Array does not implement the entire NumPy interface. Users expecting this will be disappointed. Notably, Dask Array lacks the following features:\n",
        "\n",
        "* Much of np.linalg has not been implemented. This has been done by a number of excellent BLAS/LAPACK implementations, and is the focus of numerous ongoing academic research projects\n",
        "* Arrays with unknown shapes do not support all operations\n",
        "* Operations like sort which are notoriously difficult to do in parallel, and are of somewhat diminished value on very large data (you rarely actually need a full sort). Often we include parallel-friendly alternatives like topk\n",
        "* Dask Array doesn’t implement operations like tolist that would be very inefficient for larger datasets. Likewise, it is very inefficient to iterate over a Dask array with for loops\n",
        "  \n",
        "**DASK is still evolving ...**\n"
      ]
    },
    {
      "cell_type": "markdown",
      "metadata": {
        "id": "IPKnvLYATjx7"
      },
      "source": [
        "## Just get started!"
      ]
    },
    {
      "cell_type": "code",
      "metadata": {
        "id": "eG1B7kMnTjx8",
        "outputId": "d403113f-577d-4e48-904b-8441eeaed1cf",
        "colab": {
          "base_uri": "https://localhost:8080/"
        }
      },
      "source": [
        "#let's parallelize a simple array opperations\n",
        "import numpy as np\n",
        "np_A = np.random.rand(10000,10000) #create random NumPy array\n",
        "%time np_A.sum()"
      ],
      "execution_count": 1,
      "outputs": [
        {
          "output_type": "stream",
          "text": [
            "CPU times: user 68.2 ms, sys: 0 ns, total: 68.2 ms\n",
            "Wall time: 68.1 ms\n"
          ],
          "name": "stdout"
        },
        {
          "output_type": "execute_result",
          "data": {
            "text/plain": [
              "49998711.64055242"
            ]
          },
          "metadata": {
            "tags": []
          },
          "execution_count": 1
        }
      ]
    },
    {
      "cell_type": "code",
      "metadata": {
        "id": "Z9GB85YRTjx9"
      },
      "source": [
        "#now in parallel \n",
        "import dask.array as da\n",
        "da_A = da.from_array(np_A, chunks=(5000)) #create DASk array from existing NumPy array\n",
        "res = da_A.sum() #tell dask to compute the sum of A"
      ],
      "execution_count": 2,
      "outputs": []
    },
    {
      "cell_type": "code",
      "metadata": {
        "id": "BoruYRTOTjx-",
        "outputId": "d4151696-738f-4748-b95b-17c5ca804a83",
        "colab": {
          "base_uri": "https://localhost:8080/",
          "height": 121
        }
      },
      "source": [
        "res"
      ],
      "execution_count": 3,
      "outputs": [
        {
          "output_type": "execute_result",
          "data": {
            "text/html": [
              "<table>\n",
              "<tr>\n",
              "<td>\n",
              "<table>\n",
              "  <thead>\n",
              "    <tr><td> </td><th> Array </th><th> Chunk </th></tr>\n",
              "  </thead>\n",
              "  <tbody>\n",
              "    <tr><th> Bytes </th><td> 8 B </td> <td> 8 B </td></tr>\n",
              "    <tr><th> Shape </th><td> () </td> <td> () </td></tr>\n",
              "    <tr><th> Count </th><td> 10 Tasks </td><td> 1 Chunks </td></tr>\n",
              "    <tr><th> Type </th><td> float64 </td><td> numpy.ndarray </td></tr>\n",
              "  </tbody>\n",
              "</table>\n",
              "</td>\n",
              "<td>\n",
              "\n",
              "</td>\n",
              "</tr>\n",
              "</table>"
            ],
            "text/plain": [
              "dask.array<sum-aggregate, shape=(), dtype=float64, chunksize=(), chunktype=numpy.ndarray>"
            ]
          },
          "metadata": {
            "tags": []
          },
          "execution_count": 3
        }
      ]
    },
    {
      "cell_type": "markdown",
      "metadata": {
        "id": "sTkmsOCGTjx_"
      },
      "source": [
        "### Where is my result?\n",
        "In a nutshell: ***DASK*** basically works like ***TensorFlow***:\n",
        "* First, it builds an execution graph\n",
        "* Then, we need to execute it by calling ``compute()``"
      ]
    },
    {
      "cell_type": "code",
      "metadata": {
        "id": "yYssNJ2HTjx_",
        "outputId": "690f9683-507c-49c8-bb6c-3bd47f6938f9",
        "colab": {
          "base_uri": "https://localhost:8080/"
        }
      },
      "source": [
        "#call compute\n",
        "%time res.compute()"
      ],
      "execution_count": 4,
      "outputs": [
        {
          "output_type": "stream",
          "text": [
            "CPU times: user 259 ms, sys: 458 µs, total: 260 ms\n",
            "Wall time: 156 ms\n"
          ],
          "name": "stdout"
        },
        {
          "output_type": "execute_result",
          "data": {
            "text/plain": [
              "49998711.640552334"
            ]
          },
          "metadata": {
            "tags": []
          },
          "execution_count": 4
        }
      ]
    },
    {
      "cell_type": "markdown",
      "metadata": {
        "id": "-a-ho5GZTjyA"
      },
      "source": [
        "### Why is this not faster?\n",
        "Well, building the graph, parallelizing it and scheduling it's execution causes some overhead...\n",
        "* probably, our problem was to small :-)\n"
      ]
    },
    {
      "cell_type": "markdown",
      "metadata": {
        "id": "lh6PvDt_TjyA"
      },
      "source": [
        "### What is happening at ``compute()`` ?\n"
      ]
    },
    {
      "cell_type": "code",
      "metadata": {
        "id": "PMYR1fd9TjyB",
        "outputId": "22102d98-ac8e-46b0-dc98-fa3889ca0837",
        "colab": {
          "base_uri": "https://localhost:8080/",
          "height": 834
        }
      },
      "source": [
        "#have look at the actual compute graph build by DASK\n",
        "res.visualize(filename='graph.svg')"
      ],
      "execution_count": 5,
      "outputs": [
        {
          "output_type": "execute_result",
          "data": {
            "text/plain": [
              "<IPython.core.display.SVG object>"
            ],
            "image/svg+xml": "<svg height=\"610pt\" viewBox=\"0.00 0.00 294.49 609.78\" width=\"294pt\" xmlns=\"http://www.w3.org/2000/svg\" xmlns:xlink=\"http://www.w3.org/1999/xlink\">\n<g class=\"graph\" id=\"graph0\" transform=\"scale(1 1) rotate(0) translate(4 605.7785)\">\n<title>%3</title>\n<polygon fill=\"#ffffff\" points=\"-4,4 -4,-605.7785 290.4948,-605.7785 290.4948,4 -4,4\" stroke=\"transparent\"/>\n<!-- 7171811412382740745 -->\n<g class=\"node\" id=\"node1\">\n<title>7171811412382740745</title>\n<polygon fill=\"none\" points=\"170.2474,-601.7785 116.2474,-601.7785 116.2474,-565.7785 170.2474,-565.7785 170.2474,-601.7785\" stroke=\"#000000\"/>\n<text fill=\"#000000\" font-family=\"Times,serif\" font-size=\"14.00\" text-anchor=\"middle\" x=\"143.2474\" y=\"-580.0785\">()</text>\n</g>\n<!-- &#45;7574448950353969700 -->\n<g class=\"node\" id=\"node2\">\n<title>-7574448950353969700</title>\n<ellipse cx=\"143.2474\" cy=\"-464.7843\" fill=\"none\" rx=\"64.9885\" ry=\"64.9885\" stroke=\"#000000\"/>\n<text fill=\"#000000\" font-family=\"Times,serif\" font-size=\"14.00\" text-anchor=\"middle\" x=\"143.2474\" y=\"-461.0843\">sum-aggregate</text>\n</g>\n<!-- &#45;7574448950353969700&#45;&gt;7171811412382740745 -->\n<g class=\"edge\" id=\"edge1\">\n<title>-7574448950353969700-&gt;7171811412382740745</title>\n<path d=\"M143.2474,-529.852C143.2474,-538.7029 143.2474,-547.388 143.2474,-555.1144\" fill=\"none\" stroke=\"#000000\"/>\n<polygon fill=\"#000000\" points=\"139.7475,-555.3162 143.2474,-565.3163 146.7475,-555.3163 139.7475,-555.3162\" stroke=\"#000000\"/>\n</g>\n<!-- &#45;7916194406770723920 -->\n<g class=\"node\" id=\"node3\">\n<title>-7916194406770723920</title>\n<polygon fill=\"none\" points=\"206.2474,-363.7901 152.2474,-363.7901 152.2474,-327.7901 206.2474,-327.7901 206.2474,-363.7901\" stroke=\"#000000\"/>\n<text fill=\"#000000\" font-family=\"Times,serif\" font-size=\"14.00\" text-anchor=\"middle\" x=\"179.2474\" y=\"-342.0901\">(1, 0)</text>\n</g>\n<!-- &#45;7916194406770723920&#45;&gt;&#45;7574448950353969700 -->\n<g class=\"edge\" id=\"edge2\">\n<title>-7916194406770723920-&gt;-7574448950353969700</title>\n<path d=\"M173.7798,-363.8627C171.3401,-371.9268 168.2907,-382.0063 165.0701,-392.6516\" fill=\"none\" stroke=\"#000000\"/>\n<polygon fill=\"#000000\" points=\"161.6226,-391.9603 162.0769,-402.5454 168.3227,-393.9874 161.6226,-391.9603\" stroke=\"#000000\"/>\n</g>\n<!-- &#45;7916195667967722743 -->\n<g class=\"node\" id=\"node4\">\n<title>-7916195667967722743</title>\n<polygon fill=\"none\" points=\"61.2474,-363.7901 7.2474,-363.7901 7.2474,-327.7901 61.2474,-327.7901 61.2474,-363.7901\" stroke=\"#000000\"/>\n<text fill=\"#000000\" font-family=\"Times,serif\" font-size=\"14.00\" text-anchor=\"middle\" x=\"34.2474\" y=\"-342.0901\">(0, 0)</text>\n</g>\n<!-- &#45;7916195667967722743&#45;&gt;&#45;7574448950353969700 -->\n<g class=\"edge\" id=\"edge3\">\n<title>-7916195667967722743-&gt;-7574448950353969700</title>\n<path d=\"M50.8022,-363.8627C61.9576,-376.0411 77.3239,-392.8162 92.3268,-409.1948\" fill=\"none\" stroke=\"#000000\"/>\n<polygon fill=\"#000000\" points=\"89.8425,-411.6644 99.178,-416.6742 95.0043,-406.9361 89.8425,-411.6644\" stroke=\"#000000\"/>\n</g>\n<!-- &#45;7916195667966557694 -->\n<g class=\"node\" id=\"node5\">\n<title>-7916195667966557694</title>\n<polygon fill=\"none\" points=\"134.2474,-363.7901 80.2474,-363.7901 80.2474,-327.7901 134.2474,-327.7901 134.2474,-363.7901\" stroke=\"#000000\"/>\n<text fill=\"#000000\" font-family=\"Times,serif\" font-size=\"14.00\" text-anchor=\"middle\" x=\"107.2474\" y=\"-342.0901\">(0, 1)</text>\n</g>\n<!-- &#45;7916195667966557694&#45;&gt;&#45;7574448950353969700 -->\n<g class=\"edge\" id=\"edge4\">\n<title>-7916195667966557694-&gt;-7574448950353969700</title>\n<path d=\"M112.715,-363.8627C115.1547,-371.9268 118.2041,-382.0063 121.4247,-392.6516\" fill=\"none\" stroke=\"#000000\"/>\n<polygon fill=\"#000000\" points=\"118.1721,-393.9874 124.4179,-402.5454 124.8722,-391.9603 118.1721,-393.9874\" stroke=\"#000000\"/>\n</g>\n<!-- &#45;7916194406771888969 -->\n<g class=\"node\" id=\"node6\">\n<title>-7916194406771888969</title>\n<polygon fill=\"none\" points=\"278.2474,-363.7901 224.2474,-363.7901 224.2474,-327.7901 278.2474,-327.7901 278.2474,-363.7901\" stroke=\"#000000\"/>\n<text fill=\"#000000\" font-family=\"Times,serif\" font-size=\"14.00\" text-anchor=\"middle\" x=\"251.2474\" y=\"-342.0901\">(1, 1)</text>\n</g>\n<!-- &#45;7916194406771888969&#45;&gt;&#45;7574448950353969700 -->\n<g class=\"edge\" id=\"edge5\">\n<title>-7916194406771888969-&gt;-7574448950353969700</title>\n<path d=\"M234.8445,-363.8627C223.8426,-375.9847 208.707,-392.661 193.9073,-408.9673\" fill=\"none\" stroke=\"#000000\"/>\n<polygon fill=\"#000000\" points=\"191.2762,-406.6585 187.1472,-416.4156 196.4596,-411.363 191.2762,-406.6585\" stroke=\"#000000\"/>\n</g>\n<!-- &#45;8126090087751735332 -->\n<g class=\"node\" id=\"node7\">\n<title>-8126090087751735332</title>\n<ellipse cx=\"32.2474\" cy=\"-265.1424\" fill=\"none\" rx=\"26.7961\" ry=\"26.7961\" stroke=\"#000000\"/>\n<text fill=\"#000000\" font-family=\"Times,serif\" font-size=\"14.00\" text-anchor=\"middle\" x=\"32.2474\" y=\"-261.4424\">sum</text>\n</g>\n<!-- &#45;8126090087751735332&#45;&gt;&#45;7916195667967722743 -->\n<g class=\"edge\" id=\"edge6\">\n<title>-8126090087751735332-&gt;-7916195667967722743</title>\n<path d=\"M32.9134,-291.9969C33.1179,-300.2448 33.3435,-309.3419 33.5501,-317.6719\" fill=\"none\" stroke=\"#000000\"/>\n<polygon fill=\"#000000\" points=\"30.0516,-317.7811 33.7986,-327.6912 37.0495,-317.6074 30.0516,-317.7811\" stroke=\"#000000\"/>\n</g>\n<!-- &#45;5367739921932355926 -->\n<g class=\"node\" id=\"node8\">\n<title>-5367739921932355926</title>\n<polygon fill=\"none\" points=\"57.2474,-202.4948 3.2474,-202.4948 3.2474,-166.4948 57.2474,-166.4948 57.2474,-202.4948\" stroke=\"#000000\"/>\n<text fill=\"#000000\" font-family=\"Times,serif\" font-size=\"14.00\" text-anchor=\"middle\" x=\"30.2474\" y=\"-180.7948\">(0, 0)</text>\n</g>\n<!-- &#45;5367739921932355926&#45;&gt;&#45;8126090087751735332 -->\n<g class=\"edge\" id=\"edge7\">\n<title>-5367739921932355926-&gt;-8126090087751735332</title>\n<path d=\"M30.7012,-202.795C30.8884,-210.344 31.1125,-219.3786 31.3312,-228.1962\" fill=\"none\" stroke=\"#000000\"/>\n<polygon fill=\"#000000\" points=\"27.8359,-228.4356 31.5829,-238.3457 34.8338,-228.262 27.8359,-228.4356\" stroke=\"#000000\"/>\n</g>\n<!-- &#45;6751852121584669757 -->\n<g class=\"node\" id=\"node9\">\n<title>-6751852121584669757</title>\n<ellipse cx=\"106.2474\" cy=\"-265.1424\" fill=\"none\" rx=\"26.7961\" ry=\"26.7961\" stroke=\"#000000\"/>\n<text fill=\"#000000\" font-family=\"Times,serif\" font-size=\"14.00\" text-anchor=\"middle\" x=\"106.2474\" y=\"-261.4424\">sum</text>\n</g>\n<!-- &#45;6751852121584669757&#45;&gt;&#45;7916195667966557694 -->\n<g class=\"edge\" id=\"edge8\">\n<title>-6751852121584669757-&gt;-7916195667966557694</title>\n<path d=\"M106.5804,-291.9969C106.6827,-300.2448 106.7955,-309.3419 106.8988,-317.6719\" fill=\"none\" stroke=\"#000000\"/>\n<polygon fill=\"#000000\" points=\"103.3992,-317.7354 107.023,-327.6912 110.3986,-317.6485 103.3992,-317.7354\" stroke=\"#000000\"/>\n</g>\n<!-- &#45;5367739921933520975 -->\n<g class=\"node\" id=\"node10\">\n<title>-5367739921933520975</title>\n<polygon fill=\"none\" points=\"133.2474,-202.4948 79.2474,-202.4948 79.2474,-166.4948 133.2474,-166.4948 133.2474,-202.4948\" stroke=\"#000000\"/>\n<text fill=\"#000000\" font-family=\"Times,serif\" font-size=\"14.00\" text-anchor=\"middle\" x=\"106.2474\" y=\"-180.7948\">(0, 1)</text>\n</g>\n<!-- &#45;5367739921933520975&#45;&gt;&#45;6751852121584669757 -->\n<g class=\"edge\" id=\"edge9\">\n<title>-5367739921933520975-&gt;-6751852121584669757</title>\n<path d=\"M106.2474,-202.795C106.2474,-210.344 106.2474,-219.3786 106.2474,-228.1962\" fill=\"none\" stroke=\"#000000\"/>\n<polygon fill=\"#000000\" points=\"102.7475,-228.3457 106.2474,-238.3457 109.7475,-228.3458 102.7475,-228.3457\" stroke=\"#000000\"/>\n</g>\n<!-- &#45;7808590493338539999 -->\n<g class=\"node\" id=\"node11\">\n<title>-7808590493338539999</title>\n<ellipse cx=\"180.2474\" cy=\"-265.1424\" fill=\"none\" rx=\"26.7961\" ry=\"26.7961\" stroke=\"#000000\"/>\n<text fill=\"#000000\" font-family=\"Times,serif\" font-size=\"14.00\" text-anchor=\"middle\" x=\"180.2474\" y=\"-261.4424\">sum</text>\n</g>\n<!-- &#45;7808590493338539999&#45;&gt;&#45;7916194406770723920 -->\n<g class=\"edge\" id=\"edge10\">\n<title>-7808590493338539999-&gt;-7916194406770723920</title>\n<path d=\"M179.9144,-291.9969C179.8121,-300.2448 179.6993,-309.3419 179.5961,-317.6719\" fill=\"none\" stroke=\"#000000\"/>\n<polygon fill=\"#000000\" points=\"176.0962,-317.6485 179.4718,-327.6912 183.0956,-317.7354 176.0962,-317.6485\" stroke=\"#000000\"/>\n</g>\n<!-- &#45;5367741183129354749 -->\n<g class=\"node\" id=\"node12\">\n<title>-5367741183129354749</title>\n<polygon fill=\"none\" points=\"207.2474,-202.4948 153.2474,-202.4948 153.2474,-166.4948 207.2474,-166.4948 207.2474,-202.4948\" stroke=\"#000000\"/>\n<text fill=\"#000000\" font-family=\"Times,serif\" font-size=\"14.00\" text-anchor=\"middle\" x=\"180.2474\" y=\"-180.7948\">(1, 0)</text>\n</g>\n<!-- &#45;5367741183129354749&#45;&gt;&#45;7808590493338539999 -->\n<g class=\"edge\" id=\"edge11\">\n<title>-5367741183129354749-&gt;-7808590493338539999</title>\n<path d=\"M180.2474,-202.795C180.2474,-210.344 180.2474,-219.3786 180.2474,-228.1962\" fill=\"none\" stroke=\"#000000\"/>\n<polygon fill=\"#000000\" points=\"176.7475,-228.3457 180.2474,-238.3457 183.7475,-228.3458 176.7475,-228.3457\" stroke=\"#000000\"/>\n</g>\n<!-- &#45;255120686399467558 -->\n<g class=\"node\" id=\"node13\">\n<title>-255120686399467558</title>\n<ellipse cx=\"251.2474\" cy=\"-265.1424\" fill=\"none\" rx=\"26.7961\" ry=\"26.7961\" stroke=\"#000000\"/>\n<text fill=\"#000000\" font-family=\"Times,serif\" font-size=\"14.00\" text-anchor=\"middle\" x=\"251.2474\" y=\"-261.4424\">sum</text>\n</g>\n<!-- &#45;255120686399467558&#45;&gt;&#45;7916194406771888969 -->\n<g class=\"edge\" id=\"edge12\">\n<title>-255120686399467558-&gt;-7916194406771888969</title>\n<path d=\"M251.2474,-291.9969C251.2474,-300.2448 251.2474,-309.3419 251.2474,-317.6719\" fill=\"none\" stroke=\"#000000\"/>\n<polygon fill=\"#000000\" points=\"247.7475,-317.6911 251.2474,-327.6912 254.7475,-317.6912 247.7475,-317.6911\" stroke=\"#000000\"/>\n</g>\n<!-- &#45;5367741183128189700 -->\n<g class=\"node\" id=\"node14\">\n<title>-5367741183128189700</title>\n<polygon fill=\"none\" points=\"281.2474,-202.4948 227.2474,-202.4948 227.2474,-166.4948 281.2474,-166.4948 281.2474,-202.4948\" stroke=\"#000000\"/>\n<text fill=\"#000000\" font-family=\"Times,serif\" font-size=\"14.00\" text-anchor=\"middle\" x=\"254.2474\" y=\"-180.7948\">(1, 1)</text>\n</g>\n<!-- &#45;5367741183128189700&#45;&gt;&#45;255120686399467558 -->\n<g class=\"edge\" id=\"edge13\">\n<title>-5367741183128189700-&gt;-255120686399467558</title>\n<path d=\"M253.5667,-202.795C253.2858,-210.344 252.9498,-219.3786 252.6218,-228.1962\" fill=\"none\" stroke=\"#000000\"/>\n<polygon fill=\"#000000\" points=\"249.1185,-228.2225 252.2442,-238.3457 256.1136,-228.4828 249.1185,-228.2225\" stroke=\"#000000\"/>\n</g>\n<!-- &#45;4333936661124892757 -->\n<g class=\"node\" id=\"node15\">\n<title>-4333936661124892757</title>\n<ellipse cx=\"29.2474\" cy=\"-101.2474\" fill=\"none\" rx=\"29.4969\" ry=\"29.4969\" stroke=\"#000000\"/>\n<text fill=\"#000000\" font-family=\"Times,serif\" font-size=\"14.00\" text-anchor=\"middle\" x=\"29.2474\" y=\"-97.5474\">array</text>\n</g>\n<!-- &#45;4333936661124892757&#45;&gt;&#45;5367739921932355926 -->\n<g class=\"edge\" id=\"edge14\">\n<title>-4333936661124892757-&gt;-5367739921932355926</title>\n<path d=\"M29.6028,-130.8317C29.7011,-139.0204 29.8077,-147.8892 29.9053,-156.0136\" fill=\"none\" stroke=\"#000000\"/>\n<polygon fill=\"#000000\" points=\"26.407,-156.1881 30.027,-166.1453 33.4065,-156.104 26.407,-156.1881\" stroke=\"#000000\"/>\n</g>\n<!-- &#45;8853543542990349840 -->\n<g class=\"node\" id=\"node16\">\n<title>-8853543542990349840</title>\n<polygon fill=\"none\" points=\"170.2474,-36 116.2474,-36 116.2474,0 170.2474,0 170.2474,-36\" stroke=\"#000000\"/>\n</g>\n<!-- &#45;8853543542990349840&#45;&gt;&#45;4333936661124892757 -->\n<g class=\"edge\" id=\"edge15\">\n<title>-8853543542990349840-&gt;-4333936661124892757</title>\n<path d=\"M117.3913,-36.0044C102.6072,-46.3904 83.7738,-59.7758 67.2474,-72 65.1391,-73.5595 62.9743,-75.178 60.7988,-76.8174\" fill=\"none\" stroke=\"#000000\"/>\n<polygon fill=\"#000000\" points=\"58.2942,-74.3249 52.4521,-83.1635 62.5309,-79.8972 58.2942,-74.3249\" stroke=\"#000000\"/>\n</g>\n<!-- 4273004342274864068 -->\n<g class=\"node\" id=\"node17\">\n<title>4273004342274864068</title>\n<ellipse cx=\"105.2474\" cy=\"-101.2474\" fill=\"none\" rx=\"29.4969\" ry=\"29.4969\" stroke=\"#000000\"/>\n<text fill=\"#000000\" font-family=\"Times,serif\" font-size=\"14.00\" text-anchor=\"middle\" x=\"105.2474\" y=\"-97.5474\">array</text>\n</g>\n<!-- &#45;8853543542990349840&#45;&gt;4273004342274864068 -->\n<g class=\"edge\" id=\"edge17\">\n<title>-8853543542990349840-&gt;4273004342274864068</title>\n<path d=\"M135.002,-36.0634C131.1312,-44.5432 126.3725,-54.9683 121.8052,-64.9739\" fill=\"none\" stroke=\"#000000\"/>\n<polygon fill=\"#000000\" points=\"118.4888,-63.8108 117.5201,-74.3613 124.8567,-66.7176 118.4888,-63.8108\" stroke=\"#000000\"/>\n</g>\n<!-- &#45;3680118101102232778 -->\n<g class=\"node\" id=\"node18\">\n<title>-3680118101102232778</title>\n<ellipse cx=\"181.2474\" cy=\"-101.2474\" fill=\"none\" rx=\"29.4969\" ry=\"29.4969\" stroke=\"#000000\"/>\n<text fill=\"#000000\" font-family=\"Times,serif\" font-size=\"14.00\" text-anchor=\"middle\" x=\"181.2474\" y=\"-97.5474\">array</text>\n</g>\n<!-- &#45;8853543542990349840&#45;&gt;&#45;3680118101102232778 -->\n<g class=\"edge\" id=\"edge19\">\n<title>-8853543542990349840-&gt;-3680118101102232778</title>\n<path d=\"M151.4928,-36.0634C155.3636,-44.5432 160.1223,-54.9683 164.6896,-64.9739\" fill=\"none\" stroke=\"#000000\"/>\n<polygon fill=\"#000000\" points=\"161.6381,-66.7176 168.9747,-74.3613 168.006,-63.8108 161.6381,-66.7176\" stroke=\"#000000\"/>\n</g>\n<!-- &#45;2967846561541861603 -->\n<g class=\"node\" id=\"node19\">\n<title>-2967846561541861603</title>\n<ellipse cx=\"257.2474\" cy=\"-101.2474\" fill=\"none\" rx=\"29.4969\" ry=\"29.4969\" stroke=\"#000000\"/>\n<text fill=\"#000000\" font-family=\"Times,serif\" font-size=\"14.00\" text-anchor=\"middle\" x=\"257.2474\" y=\"-97.5474\">array</text>\n</g>\n<!-- &#45;8853543542990349840&#45;&gt;&#45;2967846561541861603 -->\n<g class=\"edge\" id=\"edge21\">\n<title>-8853543542990349840-&gt;-2967846561541861603</title>\n<path d=\"M169.1035,-36.0044C183.8876,-46.3904 202.721,-59.7758 219.2474,-72 221.3557,-73.5595 223.5205,-75.178 225.696,-76.8174\" fill=\"none\" stroke=\"#000000\"/>\n<polygon fill=\"#000000\" points=\"223.9639,-79.8972 234.0427,-83.1635 228.2006,-74.3249 223.9639,-79.8972\" stroke=\"#000000\"/>\n</g>\n<!-- 4273004342274864068&#45;&gt;&#45;5367739921933520975 -->\n<g class=\"edge\" id=\"edge16\">\n<title>4273004342274864068-&gt;-5367739921933520975</title>\n<path d=\"M105.6028,-130.8317C105.7011,-139.0204 105.8077,-147.8892 105.9053,-156.0136\" fill=\"none\" stroke=\"#000000\"/>\n<polygon fill=\"#000000\" points=\"102.407,-156.1881 106.027,-166.1453 109.4065,-156.104 102.407,-156.1881\" stroke=\"#000000\"/>\n</g>\n<!-- &#45;3680118101102232778&#45;&gt;&#45;5367741183129354749 -->\n<g class=\"edge\" id=\"edge18\">\n<title>-3680118101102232778-&gt;-5367741183129354749</title>\n<path d=\"M180.892,-130.8317C180.7937,-139.0204 180.6871,-147.8892 180.5895,-156.0136\" fill=\"none\" stroke=\"#000000\"/>\n<polygon fill=\"#000000\" points=\"177.0883,-156.104 180.4678,-166.1453 184.0878,-156.1881 177.0883,-156.104\" stroke=\"#000000\"/>\n</g>\n<!-- &#45;2967846561541861603&#45;&gt;&#45;5367741183128189700 -->\n<g class=\"edge\" id=\"edge20\">\n<title>-2967846561541861603-&gt;-5367741183128189700</title>\n<path d=\"M256.1813,-130.8317C255.8862,-139.0204 255.5666,-147.8892 255.2738,-156.0136\" fill=\"none\" stroke=\"#000000\"/>\n<polygon fill=\"#000000\" points=\"251.7712,-156.0257 254.9087,-166.1453 258.7666,-156.2779 251.7712,-156.0257\" stroke=\"#000000\"/>\n</g>\n</g>\n</svg>"
          },
          "metadata": {
            "tags": []
          },
          "execution_count": 5
        }
      ]
    },
    {
      "cell_type": "markdown",
      "metadata": {
        "id": "wKY1rCDNTjyC"
      },
      "source": [
        "### Ahh - MapReduce!\n",
        "* looks like ***DASK*** automatically implemented MapReduce\n",
        "* but, why did it use 4 parallel paths?"
      ]
    },
    {
      "cell_type": "markdown",
      "metadata": {
        "id": "sIitRH3eTjyC"
      },
      "source": [
        "### Block concept of DASK arrays\n",
        "* ***DASK*** splitts arrays into blocks \n",
        "* parallelization (here MapReduce) runs over Blocks\n",
        "* Blocks sizes are definde by the ``chunks`` \n",
        "\n",
        "```\n",
        "#recall array creation\n",
        "da_A = da.from_array(np_A, chunks=(5000))\n",
        "```\n",
        "\n",
        "<img SRC=\"IMG/array.png\">"
      ]
    },
    {
      "cell_type": "code",
      "metadata": {
        "id": "d1Jz15JNTjyC",
        "outputId": "d064eddd-38ed-49d7-bc9d-cfbca39c4970",
        "colab": {
          "base_uri": "https://localhost:8080/"
        }
      },
      "source": [
        "#get size of chucks\n",
        "da_A.chunks"
      ],
      "execution_count": 6,
      "outputs": [
        {
          "output_type": "execute_result",
          "data": {
            "text/plain": [
              "((5000, 5000), (5000, 5000))"
            ]
          },
          "metadata": {
            "tags": []
          },
          "execution_count": 6
        }
      ]
    },
    {
      "cell_type": "code",
      "metadata": {
        "id": "_NBzXlbiTjyD",
        "outputId": "46b74c18-4a7f-413c-974f-003ea4cfa32d",
        "colab": {
          "base_uri": "https://localhost:8080/"
        }
      },
      "source": [
        "da_A.chunksize"
      ],
      "execution_count": 7,
      "outputs": [
        {
          "output_type": "execute_result",
          "data": {
            "text/plain": [
              "(5000, 5000)"
            ]
          },
          "metadata": {
            "tags": []
          },
          "execution_count": 7
        }
      ]
    },
    {
      "cell_type": "code",
      "metadata": {
        "id": "_xVKU8XaTjyE"
      },
      "source": [
        "#change chunk size\n",
        "#WARNING: can be very expensive - better think about the chunk size before ...\n",
        "B=da_A.rechunk(1000)"
      ],
      "execution_count": 8,
      "outputs": []
    },
    {
      "cell_type": "code",
      "metadata": {
        "id": "8QA2IOGeTjyE",
        "outputId": "4207a2bf-146f-4d89-eb66-4febc10c2157",
        "colab": {
          "base_uri": "https://localhost:8080/"
        }
      },
      "source": [
        "B.chunks"
      ],
      "execution_count": 9,
      "outputs": [
        {
          "output_type": "execute_result",
          "data": {
            "text/plain": [
              "((1000, 1000, 1000, 1000, 1000, 1000, 1000, 1000, 1000, 1000),\n",
              " (1000, 1000, 1000, 1000, 1000, 1000, 1000, 1000, 1000, 1000))"
            ]
          },
          "metadata": {
            "tags": []
          },
          "execution_count": 9
        }
      ]
    },
    {
      "cell_type": "code",
      "metadata": {
        "id": "MRWRCz8HTjyF"
      },
      "source": [
        "res=B.sum()\n",
        "graph=res.visualize(filename='graph.svg')#saving graph to file"
      ],
      "execution_count": 10,
      "outputs": []
    },
    {
      "cell_type": "markdown",
      "metadata": {
        "id": "qxzu1Ed9TjyF"
      },
      "source": [
        "### Is this running in Parallel ?\n",
        "* open ternminal\n",
        "* start ``top``\n",
        "* execute ``compute()``"
      ]
    },
    {
      "cell_type": "code",
      "metadata": {
        "id": "1px10XyWTjyF",
        "outputId": "9f1a95bb-51ca-4918-bb8e-1dbb2e571173",
        "colab": {
          "base_uri": "https://localhost:8080/"
        }
      },
      "source": [
        "%%timeit #measure mean of 10 runs\n",
        "res.compute()"
      ],
      "execution_count": 11,
      "outputs": [
        {
          "output_type": "stream",
          "text": [
            "10 loops, best of 5: 159 ms per loop\n"
          ],
          "name": "stdout"
        }
      ]
    },
    {
      "cell_type": "markdown",
      "metadata": {
        "id": "EHsxqEqKTjyF"
      },
      "source": [
        "### Memory Usage\n",
        "By processing each block at a time, ***DASK*** is not only able tu run in parallel, but also needs only tthe memory for the bock size...\n",
        "* allows easy processing of **larger than memory** data sets"
      ]
    },
    {
      "cell_type": "code",
      "metadata": {
        "id": "EF9FxFhnTjyG",
        "outputId": "93c47e33-2c01-464e-bc02-544d101ff881",
        "colab": {
          "base_uri": "https://localhost:8080/"
        }
      },
      "source": [
        "#a larger example in NumPy\n",
        "%time x = np.random.normal(10, 0.1, size=(20000, 20000)) \n",
        "%time y = x.mean(axis=0) #compute mean along first axis\n"
      ],
      "execution_count": 12,
      "outputs": [
        {
          "output_type": "stream",
          "text": [
            "CPU times: user 17.7 s, sys: 1.31 s, total: 19 s\n",
            "Wall time: 19 s\n",
            "CPU times: user 326 ms, sys: 392 µs, total: 326 ms\n",
            "Wall time: 322 ms\n"
          ],
          "name": "stdout"
        }
      ]
    },
    {
      "cell_type": "code",
      "metadata": {
        "id": "IMQU0qvMTjyG",
        "outputId": "3384dfe1-51a2-4f69-f510-992a3fe9ccc7",
        "colab": {
          "base_uri": "https://localhost:8080/"
        }
      },
      "source": [
        "#same in DASK\n",
        "x = da.random.normal(10, 0.1, size=(20000, 20000), chunks=(1000, 1000))\n",
        "y = x.mean(axis=0) \n",
        "%time res=y.compute() "
      ],
      "execution_count": 13,
      "outputs": [
        {
          "output_type": "stream",
          "text": [
            "CPU times: user 26 s, sys: 170 ms, total: 26.2 s\n",
            "Wall time: 13.4 s\n"
          ],
          "name": "stdout"
        }
      ]
    },
    {
      "cell_type": "markdown",
      "metadata": {
        "id": "7EPhzLc3TjyH"
      },
      "source": [
        "# Distributed Execution"
      ]
    },
    {
      "cell_type": "code",
      "metadata": {
        "id": "anXuZ7T0TjyH"
      },
      "source": [
        "from dask.distributed import Client #import distributed client"
      ],
      "execution_count": 14,
      "outputs": []
    },
    {
      "cell_type": "markdown",
      "metadata": {
        "id": "oqzAqWBxTjyH"
      },
      "source": [
        "In our cluster enviroment, the ***DASK*** Cluster is automatically started for multi node jobs. See DASK documentation on how to setup a ***DASK*** cluster: http://distributed.dask.org/en/latest/setup.html"
      ]
    },
    {
      "cell_type": "code",
      "metadata": {
        "id": "N_c-PrUETjyI",
        "outputId": "3c56da3e-43d4-4dce-a3c9-dc55f8893873",
        "colab": {
          "base_uri": "https://localhost:8080/",
          "height": 1000
        }
      },
      "source": [
        "client = Client() # on a cluster, give MASTER IP -> client = Client(MASTER_IP)"
      ],
      "execution_count": 15,
      "outputs": [
        {
          "output_type": "stream",
          "text": [
            "/usr/local/lib/python3.7/dist-packages/distributed/deploy/local.py:197: UserWarning: \n",
            "Could not launch service 'bokeh' on port 8787. Got the following message:\n",
            "\n",
            "failed to validate _ServerOpts(...).prefix: expected a value of type str, got None of type NoneType\n",
            "  self.scheduler.start(scheduler_address)\n",
            "distributed.nanny - ERROR - Failed while trying to start worker process: failed to validate _ServerOpts(...).prefix: expected a value of type str, got None of type NoneType\n",
            "distributed.nanny - WARNING - Restarting worker\n",
            "distributed.nanny - WARNING - Restarting worker\n",
            "distributed.nanny - WARNING - Restarting worker\n",
            "distributed.nanny - WARNING - Restarting worker\n",
            "distributed.nanny - WARNING - Restarting worker\n",
            "distributed.nanny - WARNING - Restarting worker\n",
            "distributed.nanny - WARNING - Restarting worker\n",
            "distributed.nanny - WARNING - Restarting worker\n",
            "distributed.nanny - WARNING - Restarting worker\n",
            "distributed.nanny - WARNING - Restarting worker\n",
            "distributed.nanny - WARNING - Restarting worker\n",
            "distributed.nanny - WARNING - Restarting worker\n",
            "distributed.nanny - ERROR - Failed while trying to start worker process: failed to validate _ServerOpts(...).prefix: expected a value of type str, got None of type NoneType\n",
            "distributed.nanny - ERROR - Failed to restart worker after its process exited\n",
            "Traceback (most recent call last):\n",
            "  File \"/usr/local/lib/python3.7/dist-packages/distributed/nanny.py\", line 293, in _on_exit\n",
            "    yield self.instantiate()\n",
            "  File \"/usr/local/lib/python3.7/dist-packages/tornado/gen.py\", line 1133, in run\n",
            "    value = future.result()\n",
            "  File \"/usr/local/lib/python3.7/dist-packages/tornado/gen.py\", line 1141, in run\n",
            "    yielded = self.gen.throw(*exc_info)\n",
            "  File \"/usr/local/lib/python3.7/dist-packages/distributed/nanny.py\", line 228, in instantiate\n",
            "    self.process.start()\n",
            "  File \"/usr/local/lib/python3.7/dist-packages/tornado/gen.py\", line 1133, in run\n",
            "    value = future.result()\n",
            "  File \"/usr/local/lib/python3.7/dist-packages/tornado/gen.py\", line 1141, in run\n",
            "    yielded = self.gen.throw(*exc_info)\n",
            "  File \"/usr/local/lib/python3.7/dist-packages/distributed/nanny.py\", line 376, in start\n",
            "    msg = yield self._wait_until_connected(uid)\n",
            "  File \"/usr/local/lib/python3.7/dist-packages/tornado/gen.py\", line 1133, in run\n",
            "    value = future.result()\n",
            "  File \"/usr/local/lib/python3.7/dist-packages/tornado/gen.py\", line 1147, in run\n",
            "    yielded = self.gen.send(value)\n",
            "  File \"/usr/local/lib/python3.7/dist-packages/distributed/nanny.py\", line 490, in _wait_until_connected\n",
            "    raise msg\n",
            "TypeError: exceptions must derive from BaseException\n",
            "distributed.nanny - WARNING - Restarting worker\n",
            "distributed.nanny - WARNING - Restarting worker\n",
            "distributed.nanny - WARNING - Restarting worker\n",
            "distributed.nanny - WARNING - Restarting worker\n",
            "distributed.nanny - WARNING - Restarting worker\n",
            "distributed.nanny - WARNING - Restarting worker\n",
            "distributed.nanny - WARNING - Restarting worker\n",
            "distributed.nanny - WARNING - Restarting worker\n",
            "distributed.nanny - WARNING - Restarting worker\n",
            "distributed.nanny - WARNING - Restarting worker\n",
            "distributed.nanny - WARNING - Restarting worker\n",
            "distributed.nanny - WARNING - Restarting worker\n",
            "distributed.nanny - WARNING - Restarting worker\n",
            "distributed.nanny - WARNING - Restarting worker\n",
            "distributed.nanny - WARNING - Restarting worker\n",
            "distributed.nanny - WARNING - Restarting worker\n",
            "distributed.nanny - WARNING - Restarting worker\n",
            "distributed.nanny - WARNING - Restarting worker\n",
            "distributed.nanny - WARNING - Restarting worker\n",
            "distributed.nanny - WARNING - Restarting worker\n",
            "distributed.nanny - WARNING - Restarting worker\n",
            "distributed.nanny - WARNING - Restarting worker\n",
            "distributed.nanny - ERROR - Failed while trying to start worker process: failed to validate _ServerOpts(...).prefix: expected a value of type str, got None of type NoneType\n",
            "distributed.nanny - ERROR - Failed to restart worker after its process exited\n",
            "Traceback (most recent call last):\n",
            "  File \"/usr/local/lib/python3.7/dist-packages/distributed/nanny.py\", line 293, in _on_exit\n",
            "    yield self.instantiate()\n",
            "  File \"/usr/local/lib/python3.7/dist-packages/tornado/gen.py\", line 1133, in run\n",
            "    value = future.result()\n",
            "  File \"/usr/local/lib/python3.7/dist-packages/tornado/gen.py\", line 1141, in run\n",
            "    yielded = self.gen.throw(*exc_info)\n",
            "  File \"/usr/local/lib/python3.7/dist-packages/distributed/nanny.py\", line 228, in instantiate\n",
            "    self.process.start()\n",
            "  File \"/usr/local/lib/python3.7/dist-packages/tornado/gen.py\", line 1133, in run\n",
            "    value = future.result()\n",
            "  File \"/usr/local/lib/python3.7/dist-packages/tornado/gen.py\", line 1141, in run\n",
            "    yielded = self.gen.throw(*exc_info)\n",
            "  File \"/usr/local/lib/python3.7/dist-packages/distributed/nanny.py\", line 376, in start\n",
            "    msg = yield self._wait_until_connected(uid)\n",
            "  File \"/usr/local/lib/python3.7/dist-packages/tornado/gen.py\", line 1133, in run\n",
            "    value = future.result()\n",
            "  File \"/usr/local/lib/python3.7/dist-packages/tornado/gen.py\", line 1147, in run\n",
            "    yielded = self.gen.send(value)\n",
            "  File \"/usr/local/lib/python3.7/dist-packages/distributed/nanny.py\", line 490, in _wait_until_connected\n",
            "    raise msg\n",
            "TypeError: exceptions must derive from BaseException\n",
            "distributed.nanny - WARNING - Restarting worker\n",
            "distributed.nanny - ERROR - Failed while trying to start worker process: failed to validate _ServerOpts(...).prefix: expected a value of type str, got None of type NoneType\n",
            "distributed.nanny - ERROR - Failed to restart worker after its process exited\n",
            "Traceback (most recent call last):\n",
            "  File \"/usr/local/lib/python3.7/dist-packages/distributed/nanny.py\", line 293, in _on_exit\n",
            "    yield self.instantiate()\n",
            "  File \"/usr/local/lib/python3.7/dist-packages/tornado/gen.py\", line 1133, in run\n",
            "    value = future.result()\n",
            "  File \"/usr/local/lib/python3.7/dist-packages/tornado/gen.py\", line 1141, in run\n",
            "    yielded = self.gen.throw(*exc_info)\n",
            "  File \"/usr/local/lib/python3.7/dist-packages/distributed/nanny.py\", line 228, in instantiate\n",
            "    self.process.start()\n",
            "  File \"/usr/local/lib/python3.7/dist-packages/tornado/gen.py\", line 1133, in run\n",
            "    value = future.result()\n",
            "  File \"/usr/local/lib/python3.7/dist-packages/tornado/gen.py\", line 1141, in run\n",
            "    yielded = self.gen.throw(*exc_info)\n",
            "  File \"/usr/local/lib/python3.7/dist-packages/distributed/nanny.py\", line 376, in start\n",
            "    msg = yield self._wait_until_connected(uid)\n",
            "  File \"/usr/local/lib/python3.7/dist-packages/tornado/gen.py\", line 1133, in run\n",
            "    value = future.result()\n",
            "  File \"/usr/local/lib/python3.7/dist-packages/tornado/gen.py\", line 1147, in run\n",
            "    yielded = self.gen.send(value)\n",
            "  File \"/usr/local/lib/python3.7/dist-packages/distributed/nanny.py\", line 490, in _wait_until_connected\n",
            "    raise msg\n",
            "TypeError: exceptions must derive from BaseException\n",
            "tornado.application - ERROR - Multiple exceptions in yield list\n",
            "Traceback (most recent call last):\n",
            "  File \"/usr/local/lib/python3.7/dist-packages/tornado/gen.py\", line 883, in callback\n",
            "    result_list.append(f.result())\n",
            "  File \"/usr/local/lib/python3.7/dist-packages/tornado/gen.py\", line 1141, in run\n",
            "    yielded = self.gen.throw(*exc_info)\n",
            "  File \"/usr/local/lib/python3.7/dist-packages/distributed/deploy/local.py\", line 220, in _start_worker\n",
            "    yield w._start()\n",
            "  File \"/usr/local/lib/python3.7/dist-packages/tornado/gen.py\", line 1133, in run\n",
            "    value = future.result()\n",
            "  File \"/usr/local/lib/python3.7/dist-packages/tornado/gen.py\", line 1141, in run\n",
            "    yielded = self.gen.throw(*exc_info)\n",
            "  File \"/usr/local/lib/python3.7/dist-packages/distributed/nanny.py\", line 158, in _start\n",
            "    response = yield self.instantiate()\n",
            "  File \"/usr/local/lib/python3.7/dist-packages/tornado/gen.py\", line 1133, in run\n",
            "    value = future.result()\n",
            "  File \"/usr/local/lib/python3.7/dist-packages/tornado/gen.py\", line 1141, in run\n",
            "    yielded = self.gen.throw(*exc_info)\n",
            "  File \"/usr/local/lib/python3.7/dist-packages/distributed/nanny.py\", line 228, in instantiate\n",
            "    self.process.start()\n",
            "  File \"/usr/local/lib/python3.7/dist-packages/tornado/gen.py\", line 1133, in run\n",
            "    value = future.result()\n",
            "  File \"/usr/local/lib/python3.7/dist-packages/tornado/gen.py\", line 1141, in run\n",
            "    yielded = self.gen.throw(*exc_info)\n",
            "  File \"/usr/local/lib/python3.7/dist-packages/distributed/nanny.py\", line 376, in start\n",
            "    msg = yield self._wait_until_connected(uid)\n",
            "  File \"/usr/local/lib/python3.7/dist-packages/tornado/gen.py\", line 1133, in run\n",
            "    value = future.result()\n",
            "  File \"/usr/local/lib/python3.7/dist-packages/tornado/gen.py\", line 1147, in run\n",
            "    yielded = self.gen.send(value)\n",
            "  File \"/usr/local/lib/python3.7/dist-packages/distributed/nanny.py\", line 490, in _wait_until_connected\n",
            "    raise msg\n",
            "TypeError: exceptions must derive from BaseException\n"
          ],
          "name": "stderr"
        },
        {
          "output_type": "error",
          "ename": "TimeoutError",
          "evalue": "ignored",
          "traceback": [
            "\u001b[0;31m---------------------------------------------------------------------------\u001b[0m",
            "\u001b[0;31mTimeoutError\u001b[0m                              Traceback (most recent call last)",
            "\u001b[0;32m<ipython-input-15-554fb5a8aef2>\u001b[0m in \u001b[0;36m<module>\u001b[0;34m()\u001b[0m\n\u001b[0;32m----> 1\u001b[0;31m \u001b[0mclient\u001b[0m \u001b[0;34m=\u001b[0m \u001b[0mClient\u001b[0m\u001b[0;34m(\u001b[0m\u001b[0;34m)\u001b[0m \u001b[0;31m# on a cluster, give MASTER IP -> client = Client(MASTER_IP)\u001b[0m\u001b[0;34m\u001b[0m\u001b[0;34m\u001b[0m\u001b[0m\n\u001b[0m",
            "\u001b[0;32m/usr/local/lib/python3.7/dist-packages/distributed/client.py\u001b[0m in \u001b[0;36m__init__\u001b[0;34m(self, address, loop, timeout, set_as_default, scheduler_file, security, asynchronous, name, heartbeat_interval, serializers, deserializers, extensions, direct_to_workers, **kwargs)\u001b[0m\n\u001b[1;32m    636\u001b[0m             \u001b[0mext\u001b[0m\u001b[0;34m(\u001b[0m\u001b[0mself\u001b[0m\u001b[0;34m)\u001b[0m\u001b[0;34m\u001b[0m\u001b[0;34m\u001b[0m\u001b[0m\n\u001b[1;32m    637\u001b[0m \u001b[0;34m\u001b[0m\u001b[0m\n\u001b[0;32m--> 638\u001b[0;31m         \u001b[0mself\u001b[0m\u001b[0;34m.\u001b[0m\u001b[0mstart\u001b[0m\u001b[0;34m(\u001b[0m\u001b[0mtimeout\u001b[0m\u001b[0;34m=\u001b[0m\u001b[0mtimeout\u001b[0m\u001b[0;34m)\u001b[0m\u001b[0;34m\u001b[0m\u001b[0;34m\u001b[0m\u001b[0m\n\u001b[0m\u001b[1;32m    639\u001b[0m \u001b[0;34m\u001b[0m\u001b[0m\n\u001b[1;32m    640\u001b[0m         \u001b[0;32mfrom\u001b[0m \u001b[0mdistributed\u001b[0m\u001b[0;34m.\u001b[0m\u001b[0mrecreate_exceptions\u001b[0m \u001b[0;32mimport\u001b[0m \u001b[0mReplayExceptionClient\u001b[0m\u001b[0;34m\u001b[0m\u001b[0;34m\u001b[0m\u001b[0m\n",
            "\u001b[0;32m/usr/local/lib/python3.7/dist-packages/distributed/client.py\u001b[0m in \u001b[0;36mstart\u001b[0;34m(self, **kwargs)\u001b[0m\n\u001b[1;32m    759\u001b[0m             \u001b[0mself\u001b[0m\u001b[0;34m.\u001b[0m\u001b[0m_started\u001b[0m \u001b[0;34m=\u001b[0m \u001b[0mself\u001b[0m\u001b[0;34m.\u001b[0m\u001b[0m_start\u001b[0m\u001b[0;34m(\u001b[0m\u001b[0;34m**\u001b[0m\u001b[0mkwargs\u001b[0m\u001b[0;34m)\u001b[0m\u001b[0;34m\u001b[0m\u001b[0;34m\u001b[0m\u001b[0m\n\u001b[1;32m    760\u001b[0m         \u001b[0;32melse\u001b[0m\u001b[0;34m:\u001b[0m\u001b[0;34m\u001b[0m\u001b[0;34m\u001b[0m\u001b[0m\n\u001b[0;32m--> 761\u001b[0;31m             \u001b[0msync\u001b[0m\u001b[0;34m(\u001b[0m\u001b[0mself\u001b[0m\u001b[0;34m.\u001b[0m\u001b[0mloop\u001b[0m\u001b[0;34m,\u001b[0m \u001b[0mself\u001b[0m\u001b[0;34m.\u001b[0m\u001b[0m_start\u001b[0m\u001b[0;34m,\u001b[0m \u001b[0;34m**\u001b[0m\u001b[0mkwargs\u001b[0m\u001b[0;34m)\u001b[0m\u001b[0;34m\u001b[0m\u001b[0;34m\u001b[0m\u001b[0m\n\u001b[0m\u001b[1;32m    762\u001b[0m \u001b[0;34m\u001b[0m\u001b[0m\n\u001b[1;32m    763\u001b[0m     \u001b[0;32mdef\u001b[0m \u001b[0m__await__\u001b[0m\u001b[0;34m(\u001b[0m\u001b[0mself\u001b[0m\u001b[0;34m)\u001b[0m\u001b[0;34m:\u001b[0m\u001b[0;34m\u001b[0m\u001b[0;34m\u001b[0m\u001b[0m\n",
            "\u001b[0;32m/usr/local/lib/python3.7/dist-packages/distributed/utils.py\u001b[0m in \u001b[0;36msync\u001b[0;34m(loop, func, *args, **kwargs)\u001b[0m\n\u001b[1;32m    275\u001b[0m             \u001b[0me\u001b[0m\u001b[0;34m.\u001b[0m\u001b[0mwait\u001b[0m\u001b[0;34m(\u001b[0m\u001b[0;36m10\u001b[0m\u001b[0;34m)\u001b[0m\u001b[0;34m\u001b[0m\u001b[0;34m\u001b[0m\u001b[0m\n\u001b[1;32m    276\u001b[0m     \u001b[0;32mif\u001b[0m \u001b[0merror\u001b[0m\u001b[0;34m[\u001b[0m\u001b[0;36m0\u001b[0m\u001b[0;34m]\u001b[0m\u001b[0;34m:\u001b[0m\u001b[0;34m\u001b[0m\u001b[0;34m\u001b[0m\u001b[0m\n\u001b[0;32m--> 277\u001b[0;31m         \u001b[0msix\u001b[0m\u001b[0;34m.\u001b[0m\u001b[0mreraise\u001b[0m\u001b[0;34m(\u001b[0m\u001b[0;34m*\u001b[0m\u001b[0merror\u001b[0m\u001b[0;34m[\u001b[0m\u001b[0;36m0\u001b[0m\u001b[0;34m]\u001b[0m\u001b[0;34m)\u001b[0m\u001b[0;34m\u001b[0m\u001b[0;34m\u001b[0m\u001b[0m\n\u001b[0m\u001b[1;32m    278\u001b[0m     \u001b[0;32melse\u001b[0m\u001b[0;34m:\u001b[0m\u001b[0;34m\u001b[0m\u001b[0;34m\u001b[0m\u001b[0m\n\u001b[1;32m    279\u001b[0m         \u001b[0;32mreturn\u001b[0m \u001b[0mresult\u001b[0m\u001b[0;34m[\u001b[0m\u001b[0;36m0\u001b[0m\u001b[0;34m]\u001b[0m\u001b[0;34m\u001b[0m\u001b[0;34m\u001b[0m\u001b[0m\n",
            "\u001b[0;32m/usr/local/lib/python3.7/dist-packages/six.py\u001b[0m in \u001b[0;36mreraise\u001b[0;34m(tp, value, tb)\u001b[0m\n\u001b[1;32m    701\u001b[0m             \u001b[0;32mif\u001b[0m \u001b[0mvalue\u001b[0m\u001b[0;34m.\u001b[0m\u001b[0m__traceback__\u001b[0m \u001b[0;32mis\u001b[0m \u001b[0;32mnot\u001b[0m \u001b[0mtb\u001b[0m\u001b[0;34m:\u001b[0m\u001b[0;34m\u001b[0m\u001b[0;34m\u001b[0m\u001b[0m\n\u001b[1;32m    702\u001b[0m                 \u001b[0;32mraise\u001b[0m \u001b[0mvalue\u001b[0m\u001b[0;34m.\u001b[0m\u001b[0mwith_traceback\u001b[0m\u001b[0;34m(\u001b[0m\u001b[0mtb\u001b[0m\u001b[0;34m)\u001b[0m\u001b[0;34m\u001b[0m\u001b[0;34m\u001b[0m\u001b[0m\n\u001b[0;32m--> 703\u001b[0;31m             \u001b[0;32mraise\u001b[0m \u001b[0mvalue\u001b[0m\u001b[0;34m\u001b[0m\u001b[0;34m\u001b[0m\u001b[0m\n\u001b[0m\u001b[1;32m    704\u001b[0m         \u001b[0;32mfinally\u001b[0m\u001b[0;34m:\u001b[0m\u001b[0;34m\u001b[0m\u001b[0;34m\u001b[0m\u001b[0m\n\u001b[1;32m    705\u001b[0m             \u001b[0mvalue\u001b[0m \u001b[0;34m=\u001b[0m \u001b[0;32mNone\u001b[0m\u001b[0;34m\u001b[0m\u001b[0;34m\u001b[0m\u001b[0m\n",
            "\u001b[0;32m/usr/local/lib/python3.7/dist-packages/distributed/utils.py\u001b[0m in \u001b[0;36mf\u001b[0;34m()\u001b[0m\n\u001b[1;32m    260\u001b[0m             \u001b[0;32mif\u001b[0m \u001b[0mtimeout\u001b[0m \u001b[0;32mis\u001b[0m \u001b[0;32mnot\u001b[0m \u001b[0;32mNone\u001b[0m\u001b[0;34m:\u001b[0m\u001b[0;34m\u001b[0m\u001b[0;34m\u001b[0m\u001b[0m\n\u001b[1;32m    261\u001b[0m                 \u001b[0mfuture\u001b[0m \u001b[0;34m=\u001b[0m \u001b[0mgen\u001b[0m\u001b[0;34m.\u001b[0m\u001b[0mwith_timeout\u001b[0m\u001b[0;34m(\u001b[0m\u001b[0mtimedelta\u001b[0m\u001b[0;34m(\u001b[0m\u001b[0mseconds\u001b[0m\u001b[0;34m=\u001b[0m\u001b[0mtimeout\u001b[0m\u001b[0;34m)\u001b[0m\u001b[0;34m,\u001b[0m \u001b[0mfuture\u001b[0m\u001b[0;34m)\u001b[0m\u001b[0;34m\u001b[0m\u001b[0;34m\u001b[0m\u001b[0m\n\u001b[0;32m--> 262\u001b[0;31m             \u001b[0mresult\u001b[0m\u001b[0;34m[\u001b[0m\u001b[0;36m0\u001b[0m\u001b[0;34m]\u001b[0m \u001b[0;34m=\u001b[0m \u001b[0;32myield\u001b[0m \u001b[0mfuture\u001b[0m\u001b[0;34m\u001b[0m\u001b[0;34m\u001b[0m\u001b[0m\n\u001b[0m\u001b[1;32m    263\u001b[0m         \u001b[0;32mexcept\u001b[0m \u001b[0mException\u001b[0m \u001b[0;32mas\u001b[0m \u001b[0mexc\u001b[0m\u001b[0;34m:\u001b[0m\u001b[0;34m\u001b[0m\u001b[0;34m\u001b[0m\u001b[0m\n\u001b[1;32m    264\u001b[0m             \u001b[0merror\u001b[0m\u001b[0;34m[\u001b[0m\u001b[0;36m0\u001b[0m\u001b[0;34m]\u001b[0m \u001b[0;34m=\u001b[0m \u001b[0msys\u001b[0m\u001b[0;34m.\u001b[0m\u001b[0mexc_info\u001b[0m\u001b[0;34m(\u001b[0m\u001b[0;34m)\u001b[0m\u001b[0;34m\u001b[0m\u001b[0;34m\u001b[0m\u001b[0m\n",
            "\u001b[0;32m/usr/local/lib/python3.7/dist-packages/tornado/gen.py\u001b[0m in \u001b[0;36mrun\u001b[0;34m(self)\u001b[0m\n\u001b[1;32m   1131\u001b[0m \u001b[0;34m\u001b[0m\u001b[0m\n\u001b[1;32m   1132\u001b[0m                     \u001b[0;32mtry\u001b[0m\u001b[0;34m:\u001b[0m\u001b[0;34m\u001b[0m\u001b[0;34m\u001b[0m\u001b[0m\n\u001b[0;32m-> 1133\u001b[0;31m                         \u001b[0mvalue\u001b[0m \u001b[0;34m=\u001b[0m \u001b[0mfuture\u001b[0m\u001b[0;34m.\u001b[0m\u001b[0mresult\u001b[0m\u001b[0;34m(\u001b[0m\u001b[0;34m)\u001b[0m\u001b[0;34m\u001b[0m\u001b[0;34m\u001b[0m\u001b[0m\n\u001b[0m\u001b[1;32m   1134\u001b[0m                     \u001b[0;32mexcept\u001b[0m \u001b[0mException\u001b[0m\u001b[0;34m:\u001b[0m\u001b[0;34m\u001b[0m\u001b[0;34m\u001b[0m\u001b[0m\n\u001b[1;32m   1135\u001b[0m                         \u001b[0mself\u001b[0m\u001b[0;34m.\u001b[0m\u001b[0mhad_exception\u001b[0m \u001b[0;34m=\u001b[0m \u001b[0;32mTrue\u001b[0m\u001b[0;34m\u001b[0m\u001b[0;34m\u001b[0m\u001b[0m\n",
            "\u001b[0;32m/usr/local/lib/python3.7/dist-packages/tornado/gen.py\u001b[0m in \u001b[0;36mrun\u001b[0;34m(self)\u001b[0m\n\u001b[1;32m   1139\u001b[0m                     \u001b[0;32mif\u001b[0m \u001b[0mexc_info\u001b[0m \u001b[0;32mis\u001b[0m \u001b[0;32mnot\u001b[0m \u001b[0;32mNone\u001b[0m\u001b[0;34m:\u001b[0m\u001b[0;34m\u001b[0m\u001b[0;34m\u001b[0m\u001b[0m\n\u001b[1;32m   1140\u001b[0m                         \u001b[0;32mtry\u001b[0m\u001b[0;34m:\u001b[0m\u001b[0;34m\u001b[0m\u001b[0;34m\u001b[0m\u001b[0m\n\u001b[0;32m-> 1141\u001b[0;31m                             \u001b[0myielded\u001b[0m \u001b[0;34m=\u001b[0m \u001b[0mself\u001b[0m\u001b[0;34m.\u001b[0m\u001b[0mgen\u001b[0m\u001b[0;34m.\u001b[0m\u001b[0mthrow\u001b[0m\u001b[0;34m(\u001b[0m\u001b[0;34m*\u001b[0m\u001b[0mexc_info\u001b[0m\u001b[0;34m)\u001b[0m\u001b[0;34m\u001b[0m\u001b[0;34m\u001b[0m\u001b[0m\n\u001b[0m\u001b[1;32m   1142\u001b[0m                         \u001b[0;32mfinally\u001b[0m\u001b[0;34m:\u001b[0m\u001b[0;34m\u001b[0m\u001b[0;34m\u001b[0m\u001b[0m\n\u001b[1;32m   1143\u001b[0m                             \u001b[0;31m# Break up a reference to itself\u001b[0m\u001b[0;34m\u001b[0m\u001b[0;34m\u001b[0m\u001b[0;34m\u001b[0m\u001b[0m\n",
            "\u001b[0;32m/usr/local/lib/python3.7/dist-packages/distributed/client.py\u001b[0m in \u001b[0;36m_start\u001b[0;34m(self, timeout, **kwargs)\u001b[0m\n\u001b[1;32m    822\u001b[0m                 self.cluster = LocalCluster(loop=self.loop, asynchronous=True,\n\u001b[1;32m    823\u001b[0m                                             **self._startup_kwargs)\n\u001b[0;32m--> 824\u001b[0;31m                 \u001b[0;32myield\u001b[0m \u001b[0mself\u001b[0m\u001b[0;34m.\u001b[0m\u001b[0mcluster\u001b[0m\u001b[0;34m\u001b[0m\u001b[0;34m\u001b[0m\u001b[0m\n\u001b[0m\u001b[1;32m    825\u001b[0m             \u001b[0;32mexcept\u001b[0m \u001b[0;34m(\u001b[0m\u001b[0mOSError\u001b[0m\u001b[0;34m,\u001b[0m \u001b[0msocket\u001b[0m\u001b[0;34m.\u001b[0m\u001b[0merror\u001b[0m\u001b[0;34m)\u001b[0m \u001b[0;32mas\u001b[0m \u001b[0me\u001b[0m\u001b[0;34m:\u001b[0m\u001b[0;34m\u001b[0m\u001b[0;34m\u001b[0m\u001b[0m\n\u001b[1;32m    826\u001b[0m                 \u001b[0;32mif\u001b[0m \u001b[0me\u001b[0m\u001b[0;34m.\u001b[0m\u001b[0merrno\u001b[0m \u001b[0;34m!=\u001b[0m \u001b[0merrno\u001b[0m\u001b[0;34m.\u001b[0m\u001b[0mEADDRINUSE\u001b[0m\u001b[0;34m:\u001b[0m\u001b[0;34m\u001b[0m\u001b[0;34m\u001b[0m\u001b[0m\n",
            "\u001b[0;32m/usr/local/lib/python3.7/dist-packages/tornado/gen.py\u001b[0m in \u001b[0;36mrun\u001b[0;34m(self)\u001b[0m\n\u001b[1;32m   1131\u001b[0m \u001b[0;34m\u001b[0m\u001b[0m\n\u001b[1;32m   1132\u001b[0m                     \u001b[0;32mtry\u001b[0m\u001b[0;34m:\u001b[0m\u001b[0;34m\u001b[0m\u001b[0;34m\u001b[0m\u001b[0m\n\u001b[0;32m-> 1133\u001b[0;31m                         \u001b[0mvalue\u001b[0m \u001b[0;34m=\u001b[0m \u001b[0mfuture\u001b[0m\u001b[0;34m.\u001b[0m\u001b[0mresult\u001b[0m\u001b[0;34m(\u001b[0m\u001b[0;34m)\u001b[0m\u001b[0;34m\u001b[0m\u001b[0;34m\u001b[0m\u001b[0m\n\u001b[0m\u001b[1;32m   1134\u001b[0m                     \u001b[0;32mexcept\u001b[0m \u001b[0mException\u001b[0m\u001b[0;34m:\u001b[0m\u001b[0;34m\u001b[0m\u001b[0;34m\u001b[0m\u001b[0m\n\u001b[1;32m   1135\u001b[0m                         \u001b[0mself\u001b[0m\u001b[0;34m.\u001b[0m\u001b[0mhad_exception\u001b[0m \u001b[0;34m=\u001b[0m \u001b[0;32mTrue\u001b[0m\u001b[0;34m\u001b[0m\u001b[0;34m\u001b[0m\u001b[0m\n",
            "\u001b[0;32m/usr/lib/python3.7/asyncio/tasks.py\u001b[0m in \u001b[0;36m_wrap_awaitable\u001b[0;34m(awaitable)\u001b[0m\n\u001b[1;32m    628\u001b[0m     \u001b[0mthat\u001b[0m \u001b[0mwill\u001b[0m \u001b[0mlater\u001b[0m \u001b[0mbe\u001b[0m \u001b[0mwrapped\u001b[0m \u001b[0;32min\u001b[0m \u001b[0ma\u001b[0m \u001b[0mTask\u001b[0m \u001b[0mby\u001b[0m \u001b[0mensure_future\u001b[0m\u001b[0;34m(\u001b[0m\u001b[0;34m)\u001b[0m\u001b[0;34m.\u001b[0m\u001b[0;34m\u001b[0m\u001b[0;34m\u001b[0m\u001b[0m\n\u001b[1;32m    629\u001b[0m     \"\"\"\n\u001b[0;32m--> 630\u001b[0;31m     \u001b[0;32mreturn\u001b[0m \u001b[0;34m(\u001b[0m\u001b[0;32myield\u001b[0m \u001b[0;32mfrom\u001b[0m \u001b[0mawaitable\u001b[0m\u001b[0;34m.\u001b[0m\u001b[0m__await__\u001b[0m\u001b[0;34m(\u001b[0m\u001b[0;34m)\u001b[0m\u001b[0;34m)\u001b[0m\u001b[0;34m\u001b[0m\u001b[0;34m\u001b[0m\u001b[0m\n\u001b[0m\u001b[1;32m    631\u001b[0m \u001b[0;34m\u001b[0m\u001b[0m\n\u001b[1;32m    632\u001b[0m \u001b[0;34m\u001b[0m\u001b[0m\n",
            "\u001b[0;32m/usr/local/lib/python3.7/dist-packages/tornado/gen.py\u001b[0m in \u001b[0;36mrun\u001b[0;34m(self)\u001b[0m\n\u001b[1;32m   1139\u001b[0m                     \u001b[0;32mif\u001b[0m \u001b[0mexc_info\u001b[0m \u001b[0;32mis\u001b[0m \u001b[0;32mnot\u001b[0m \u001b[0;32mNone\u001b[0m\u001b[0;34m:\u001b[0m\u001b[0;34m\u001b[0m\u001b[0;34m\u001b[0m\u001b[0m\n\u001b[1;32m   1140\u001b[0m                         \u001b[0;32mtry\u001b[0m\u001b[0;34m:\u001b[0m\u001b[0;34m\u001b[0m\u001b[0;34m\u001b[0m\u001b[0m\n\u001b[0;32m-> 1141\u001b[0;31m                             \u001b[0myielded\u001b[0m \u001b[0;34m=\u001b[0m \u001b[0mself\u001b[0m\u001b[0;34m.\u001b[0m\u001b[0mgen\u001b[0m\u001b[0;34m.\u001b[0m\u001b[0mthrow\u001b[0m\u001b[0;34m(\u001b[0m\u001b[0;34m*\u001b[0m\u001b[0mexc_info\u001b[0m\u001b[0;34m)\u001b[0m\u001b[0;34m\u001b[0m\u001b[0;34m\u001b[0m\u001b[0m\n\u001b[0m\u001b[1;32m   1142\u001b[0m                         \u001b[0;32mfinally\u001b[0m\u001b[0;34m:\u001b[0m\u001b[0;34m\u001b[0m\u001b[0;34m\u001b[0m\u001b[0m\n\u001b[1;32m   1143\u001b[0m                             \u001b[0;31m# Break up a reference to itself\u001b[0m\u001b[0;34m\u001b[0m\u001b[0;34m\u001b[0m\u001b[0;34m\u001b[0m\u001b[0m\n",
            "\u001b[0;32m/usr/local/lib/python3.7/dist-packages/distributed/deploy/local.py\u001b[0m in \u001b[0;36m_start\u001b[0;34m(self, ip, n_workers)\u001b[0m\n\u001b[1;32m    197\u001b[0m         \u001b[0mself\u001b[0m\u001b[0;34m.\u001b[0m\u001b[0mscheduler\u001b[0m\u001b[0;34m.\u001b[0m\u001b[0mstart\u001b[0m\u001b[0;34m(\u001b[0m\u001b[0mscheduler_address\u001b[0m\u001b[0;34m)\u001b[0m\u001b[0;34m\u001b[0m\u001b[0;34m\u001b[0m\u001b[0m\n\u001b[1;32m    198\u001b[0m \u001b[0;34m\u001b[0m\u001b[0m\n\u001b[0;32m--> 199\u001b[0;31m         \u001b[0;32myield\u001b[0m \u001b[0;34m[\u001b[0m\u001b[0mself\u001b[0m\u001b[0;34m.\u001b[0m\u001b[0m_start_worker\u001b[0m\u001b[0;34m(\u001b[0m\u001b[0;34m**\u001b[0m\u001b[0mself\u001b[0m\u001b[0;34m.\u001b[0m\u001b[0mworker_kwargs\u001b[0m\u001b[0;34m)\u001b[0m \u001b[0;32mfor\u001b[0m \u001b[0mi\u001b[0m \u001b[0;32min\u001b[0m \u001b[0mrange\u001b[0m\u001b[0;34m(\u001b[0m\u001b[0mn_workers\u001b[0m\u001b[0;34m)\u001b[0m\u001b[0;34m]\u001b[0m\u001b[0;34m\u001b[0m\u001b[0;34m\u001b[0m\u001b[0m\n\u001b[0m\u001b[1;32m    200\u001b[0m \u001b[0;34m\u001b[0m\u001b[0m\n\u001b[1;32m    201\u001b[0m         \u001b[0mself\u001b[0m\u001b[0;34m.\u001b[0m\u001b[0mstatus\u001b[0m \u001b[0;34m=\u001b[0m \u001b[0;34m'running'\u001b[0m\u001b[0;34m\u001b[0m\u001b[0;34m\u001b[0m\u001b[0m\n",
            "\u001b[0;32m/usr/local/lib/python3.7/dist-packages/tornado/gen.py\u001b[0m in \u001b[0;36mrun\u001b[0;34m(self)\u001b[0m\n\u001b[1;32m   1131\u001b[0m \u001b[0;34m\u001b[0m\u001b[0m\n\u001b[1;32m   1132\u001b[0m                     \u001b[0;32mtry\u001b[0m\u001b[0;34m:\u001b[0m\u001b[0;34m\u001b[0m\u001b[0;34m\u001b[0m\u001b[0m\n\u001b[0;32m-> 1133\u001b[0;31m                         \u001b[0mvalue\u001b[0m \u001b[0;34m=\u001b[0m \u001b[0mfuture\u001b[0m\u001b[0;34m.\u001b[0m\u001b[0mresult\u001b[0m\u001b[0;34m(\u001b[0m\u001b[0;34m)\u001b[0m\u001b[0;34m\u001b[0m\u001b[0;34m\u001b[0m\u001b[0m\n\u001b[0m\u001b[1;32m   1134\u001b[0m                     \u001b[0;32mexcept\u001b[0m \u001b[0mException\u001b[0m\u001b[0;34m:\u001b[0m\u001b[0;34m\u001b[0m\u001b[0;34m\u001b[0m\u001b[0m\n\u001b[1;32m   1135\u001b[0m                         \u001b[0mself\u001b[0m\u001b[0;34m.\u001b[0m\u001b[0mhad_exception\u001b[0m \u001b[0;34m=\u001b[0m \u001b[0;32mTrue\u001b[0m\u001b[0;34m\u001b[0m\u001b[0;34m\u001b[0m\u001b[0m\n",
            "\u001b[0;32m/usr/local/lib/python3.7/dist-packages/tornado/gen.py\u001b[0m in \u001b[0;36mcallback\u001b[0;34m(f)\u001b[0m\n\u001b[1;32m    881\u001b[0m             \u001b[0;32mfor\u001b[0m \u001b[0mf\u001b[0m \u001b[0;32min\u001b[0m \u001b[0mchildren\u001b[0m\u001b[0;34m:\u001b[0m\u001b[0;34m\u001b[0m\u001b[0;34m\u001b[0m\u001b[0m\n\u001b[1;32m    882\u001b[0m                 \u001b[0;32mtry\u001b[0m\u001b[0;34m:\u001b[0m\u001b[0;34m\u001b[0m\u001b[0;34m\u001b[0m\u001b[0m\n\u001b[0;32m--> 883\u001b[0;31m                     \u001b[0mresult_list\u001b[0m\u001b[0;34m.\u001b[0m\u001b[0mappend\u001b[0m\u001b[0;34m(\u001b[0m\u001b[0mf\u001b[0m\u001b[0;34m.\u001b[0m\u001b[0mresult\u001b[0m\u001b[0;34m(\u001b[0m\u001b[0;34m)\u001b[0m\u001b[0;34m)\u001b[0m\u001b[0;34m\u001b[0m\u001b[0;34m\u001b[0m\u001b[0m\n\u001b[0m\u001b[1;32m    884\u001b[0m                 \u001b[0;32mexcept\u001b[0m \u001b[0mException\u001b[0m \u001b[0;32mas\u001b[0m \u001b[0me\u001b[0m\u001b[0;34m:\u001b[0m\u001b[0;34m\u001b[0m\u001b[0;34m\u001b[0m\u001b[0m\n\u001b[1;32m    885\u001b[0m                     \u001b[0;32mif\u001b[0m \u001b[0mfuture\u001b[0m\u001b[0;34m.\u001b[0m\u001b[0mdone\u001b[0m\u001b[0;34m(\u001b[0m\u001b[0;34m)\u001b[0m\u001b[0;34m:\u001b[0m\u001b[0;34m\u001b[0m\u001b[0;34m\u001b[0m\u001b[0m\n",
            "\u001b[0;32m/usr/local/lib/python3.7/dist-packages/tornado/gen.py\u001b[0m in \u001b[0;36mrun\u001b[0;34m(self)\u001b[0m\n\u001b[1;32m   1145\u001b[0m                             \u001b[0mexc_info\u001b[0m \u001b[0;34m=\u001b[0m \u001b[0;32mNone\u001b[0m\u001b[0;34m\u001b[0m\u001b[0;34m\u001b[0m\u001b[0m\n\u001b[1;32m   1146\u001b[0m                     \u001b[0;32melse\u001b[0m\u001b[0;34m:\u001b[0m\u001b[0;34m\u001b[0m\u001b[0;34m\u001b[0m\u001b[0m\n\u001b[0;32m-> 1147\u001b[0;31m                         \u001b[0myielded\u001b[0m \u001b[0;34m=\u001b[0m \u001b[0mself\u001b[0m\u001b[0;34m.\u001b[0m\u001b[0mgen\u001b[0m\u001b[0;34m.\u001b[0m\u001b[0msend\u001b[0m\u001b[0;34m(\u001b[0m\u001b[0mvalue\u001b[0m\u001b[0;34m)\u001b[0m\u001b[0;34m\u001b[0m\u001b[0;34m\u001b[0m\u001b[0m\n\u001b[0m\u001b[1;32m   1148\u001b[0m \u001b[0;34m\u001b[0m\u001b[0m\n\u001b[1;32m   1149\u001b[0m                     \u001b[0;32mif\u001b[0m \u001b[0mstack_context\u001b[0m\u001b[0;34m.\u001b[0m\u001b[0m_state\u001b[0m\u001b[0;34m.\u001b[0m\u001b[0mcontexts\u001b[0m \u001b[0;32mis\u001b[0m \u001b[0;32mnot\u001b[0m \u001b[0morig_stack_contexts\u001b[0m\u001b[0;34m:\u001b[0m\u001b[0;34m\u001b[0m\u001b[0;34m\u001b[0m\u001b[0m\n",
            "\u001b[0;32m/usr/local/lib/python3.7/dist-packages/distributed/deploy/local.py\u001b[0m in \u001b[0;36m_start_worker\u001b[0;34m(self, death_timeout, **kwargs)\u001b[0m\n\u001b[1;32m    227\u001b[0m         \u001b[0;32mif\u001b[0m \u001b[0mw\u001b[0m\u001b[0;34m.\u001b[0m\u001b[0mstatus\u001b[0m \u001b[0;34m==\u001b[0m \u001b[0;34m'closed'\u001b[0m \u001b[0;32mand\u001b[0m \u001b[0mself\u001b[0m\u001b[0;34m.\u001b[0m\u001b[0mscheduler\u001b[0m\u001b[0;34m.\u001b[0m\u001b[0mstatus\u001b[0m \u001b[0;34m==\u001b[0m \u001b[0;34m'running'\u001b[0m\u001b[0;34m:\u001b[0m\u001b[0;34m\u001b[0m\u001b[0;34m\u001b[0m\u001b[0m\n\u001b[1;32m    228\u001b[0m             \u001b[0mself\u001b[0m\u001b[0;34m.\u001b[0m\u001b[0mworkers\u001b[0m\u001b[0;34m.\u001b[0m\u001b[0mremove\u001b[0m\u001b[0;34m(\u001b[0m\u001b[0mw\u001b[0m\u001b[0;34m)\u001b[0m\u001b[0;34m\u001b[0m\u001b[0;34m\u001b[0m\u001b[0m\n\u001b[0;32m--> 229\u001b[0;31m             \u001b[0;32mraise\u001b[0m \u001b[0mgen\u001b[0m\u001b[0;34m.\u001b[0m\u001b[0mTimeoutError\u001b[0m\u001b[0;34m(\u001b[0m\u001b[0;34m\"Worker failed to start\"\u001b[0m\u001b[0;34m)\u001b[0m\u001b[0;34m\u001b[0m\u001b[0;34m\u001b[0m\u001b[0m\n\u001b[0m\u001b[1;32m    230\u001b[0m \u001b[0;34m\u001b[0m\u001b[0m\n\u001b[1;32m    231\u001b[0m         \u001b[0;32mraise\u001b[0m \u001b[0mgen\u001b[0m\u001b[0;34m.\u001b[0m\u001b[0mReturn\u001b[0m\u001b[0;34m(\u001b[0m\u001b[0mw\u001b[0m\u001b[0;34m)\u001b[0m\u001b[0;34m\u001b[0m\u001b[0;34m\u001b[0m\u001b[0m\n",
            "\u001b[0;31mTimeoutError\u001b[0m: Worker failed to start"
          ]
        }
      ]
    },
    {
      "cell_type": "code",
      "metadata": {
        "id": "hRV6mhqsTjyI",
        "outputId": "b819c5fa-c56f-4de2-b175-15e87a3e83ce"
      },
      "source": [
        "#see how many workers we have\n",
        "workers=client.scheduler_info()['workers']\n",
        "for w in workers:\n",
        "    print(w)"
      ],
      "execution_count": null,
      "outputs": [
        {
          "output_type": "stream",
          "text": [
            "tcp://127.0.0.1:38049\n",
            "tcp://127.0.0.1:40295\n",
            "tcp://127.0.0.1:41065\n",
            "tcp://127.0.0.1:43209\n"
          ],
          "name": "stdout"
        }
      ]
    },
    {
      "cell_type": "markdown",
      "metadata": {
        "id": "PfjdDPDTTjyJ"
      },
      "source": [
        "## Submit work to the Cluster"
      ]
    },
    {
      "cell_type": "code",
      "metadata": {
        "id": "HAzAwOT8TjyJ"
      },
      "source": [
        "#simple remote functions\n",
        "def square(x):\n",
        "    return x ** 2\n",
        "\n",
        "def neg(x):\n",
        "    return -x\n",
        "\n",
        "#using the map future, functions will be scheduled for execution - NO graph building and compute()\n",
        "A = client.map(square, range(1000))\n",
        "B = client.map(neg, A)"
      ],
      "execution_count": null,
      "outputs": []
    },
    {
      "cell_type": "code",
      "metadata": {
        "id": "bwgr0DA_TjyJ"
      },
      "source": [
        "total = client.submit(sum, B)"
      ],
      "execution_count": null,
      "outputs": []
    },
    {
      "cell_type": "code",
      "metadata": {
        "id": "GktJy3aoTjyK",
        "outputId": "7b6d7c5f-28e8-4b92-e0ea-2e451b3f369e"
      },
      "source": [
        "res = total.result()\n",
        "print (\"done: \",res)"
      ],
      "execution_count": null,
      "outputs": [
        {
          "output_type": "stream",
          "text": [
            "done:  -332833500\n"
          ],
          "name": "stdout"
        }
      ]
    },
    {
      "cell_type": "markdown",
      "metadata": {
        "id": "cYucVsolTjyK"
      },
      "source": [
        "### Arrays on the Cluster\n",
        "Starting a cluster client automatically cause the high level interfaces to use the cluster"
      ]
    },
    {
      "cell_type": "code",
      "metadata": {
        "id": "zkgjgpR9TjyK"
      },
      "source": [
        "import numpy as np\n",
        "np_A = np.random.rand(10000,10000) #create random NumPy array\n",
        "import dask.array as da\n",
        "cluster_A = da.from_array(np_A, chunks=(5000)) #create DASk array from existing NumPy array\n",
        "res = cluster_A.sum() #tell dask to compute the sum of A"
      ],
      "execution_count": null,
      "outputs": []
    },
    {
      "cell_type": "code",
      "metadata": {
        "id": "EaWICUwOTjyL",
        "outputId": "5489eb52-e15b-4e2d-83ff-6ab330307766"
      },
      "source": [
        "%time res.compute()"
      ],
      "execution_count": null,
      "outputs": [
        {
          "output_type": "stream",
          "text": [
            "CPU times: user 207 ms, sys: 618 ms, total: 825 ms\n",
            "Wall time: 2.47 s\n"
          ],
          "name": "stdout"
        },
        {
          "output_type": "execute_result",
          "data": {
            "text/plain": [
              "50002230.29963486"
            ]
          },
          "metadata": {
            "tags": []
          },
          "execution_count": 22
        }
      ]
    },
    {
      "cell_type": "markdown",
      "metadata": {
        "id": "EcI0fjAeTjyM"
      },
      "source": [
        "# Using ***Scikit-Learn*** with ***Dask***\n",
        "Note: This is quit new and under heavy development"
      ]
    },
    {
      "cell_type": "code",
      "metadata": {
        "id": "vl2czdUPTjyN"
      },
      "source": [
        "from sklearn.datasets import make_classification\n",
        "from sklearn.svm import SVC\n",
        "from sklearn.model_selection import GridSearchCV\n",
        "import pandas as pd"
      ],
      "execution_count": null,
      "outputs": []
    },
    {
      "cell_type": "code",
      "metadata": {
        "id": "T5VngrW4TjyN",
        "outputId": "a2a90eea-d1d0-4f1c-ebc2-34724d6c475c"
      },
      "source": [
        "#generate some random classification data\n",
        "X, y = make_classification(n_samples=1000, random_state=0)\n",
        "X[:5]"
      ],
      "execution_count": null,
      "outputs": [
        {
          "output_type": "execute_result",
          "data": {
            "text/plain": [
              "array([[-1.06377997,  0.67640868,  1.06935647, -0.21758002,  0.46021477,\n",
              "        -0.39916689, -0.07918751,  1.20938491, -0.78531472, -0.17218611,\n",
              "        -1.08535744, -0.99311895,  0.30693511,  0.06405769, -1.0542328 ,\n",
              "        -0.52749607, -0.0741832 , -0.35562842,  1.05721416, -0.90259159],\n",
              "       [ 0.0708476 , -1.69528125,  2.44944917, -0.5304942 , -0.93296221,\n",
              "         2.86520354,  2.43572851, -1.61850016,  1.30071691,  0.34840246,\n",
              "         0.54493439,  0.22532411,  0.60556322, -0.19210097, -0.06802699,\n",
              "         0.9716812 , -1.79204799,  0.01708348, -0.37566904, -0.62323644],\n",
              "       [ 0.94028404, -0.49214582,  0.67795602, -0.22775445,  1.40175261,\n",
              "         1.23165333, -0.77746425,  0.01561602,  1.33171299,  1.08477266,\n",
              "        -0.97805157, -0.05012039,  0.94838552, -0.17342825, -0.47767184,\n",
              "         0.76089649,  1.00115812, -0.06946407,  1.35904607, -1.18958963],\n",
              "       [-0.29951677,  0.75988955,  0.18280267, -1.55023271,  0.33821802,\n",
              "         0.36324148, -2.10052547, -0.4380675 , -0.16639343, -0.34083531,\n",
              "         0.42435643,  1.17872434,  2.8314804 ,  0.14241375, -0.20281911,\n",
              "         2.40571546,  0.31330473,  0.40435568, -0.28754632, -2.8478034 ],\n",
              "       [-2.63062675,  0.23103376,  0.04246253,  0.47885055,  1.54674163,\n",
              "         1.6379556 , -1.53207229, -0.73444479,  0.46585484,  0.4738362 ,\n",
              "         0.98981401, -1.06119392, -0.88887952,  1.23840892, -0.57282854,\n",
              "        -1.27533949,  1.0030065 , -0.47712843,  0.09853558,  0.52780407]])"
            ]
          },
          "metadata": {
            "tags": []
          },
          "execution_count": 24
        }
      ]
    },
    {
      "cell_type": "code",
      "metadata": {
        "id": "ttJ1CvJtTjyN"
      },
      "source": [
        "# SKlearn Hyper-Parameter Search\n",
        "param_grid = {\"C\": [0.001, 0.01, 0.1, 0.5, 1.0, 2.0, 5.0, 10.0],\n",
        "              \"kernel\": ['rbf', 'poly', 'sigmoid'],\n",
        "              \"shrinking\": [True, False]}\n",
        "\n",
        "grid_search = GridSearchCV(SVC(gamma='auto', random_state=0, probability=True),\n",
        "                           param_grid=param_grid,\n",
        "                           return_train_score=False,\n",
        "                           cv=3,\n",
        "                           n_jobs=-1)"
      ],
      "execution_count": null,
      "outputs": []
    },
    {
      "cell_type": "code",
      "metadata": {
        "id": "LON3MQx6TjyO",
        "outputId": "02b7c22c-1d9b-41c2-9b53-ca091594c347"
      },
      "source": [
        "%time grid_search.fit(X, y)\n"
      ],
      "execution_count": null,
      "outputs": [
        {
          "output_type": "stream",
          "text": [
            "CPU times: user 402 ms, sys: 122 ms, total: 524 ms\n",
            "Wall time: 4.65 s\n"
          ],
          "name": "stdout"
        },
        {
          "output_type": "execute_result",
          "data": {
            "text/plain": [
              "GridSearchCV(cv=3,\n",
              "             estimator=SVC(gamma='auto', probability=True, random_state=0),\n",
              "             n_jobs=-1,\n",
              "             param_grid={'C': [0.001, 0.01, 0.1, 0.5, 1.0, 2.0, 5.0, 10.0],\n",
              "                         'kernel': ['rbf', 'poly', 'sigmoid'],\n",
              "                         'shrinking': [True, False]})"
            ]
          },
          "metadata": {
            "tags": []
          },
          "execution_count": 27
        }
      ]
    },
    {
      "cell_type": "code",
      "metadata": {
        "id": "-aL_j8OJTjyO",
        "outputId": "8c202811-2dd4-417a-8efc-f41fa1c6b040"
      },
      "source": [
        "#noe map this to the cluster\n",
        "import joblib\n",
        "from dask.distributed import Client, LocalCluster\n",
        "cluster = LocalCluster()\n",
        "client = Client(cluster)\n",
        "\n",
        "%time\n",
        "with joblib.parallel_backend('dask'):\n",
        "    grid_search.fit(X, y)"
      ],
      "execution_count": null,
      "outputs": [
        {
          "output_type": "stream",
          "text": [
            "/home/keuper/anaconda3/lib/python3.7/site-packages/distributed/dashboard/core.py:79: UserWarning: \n",
            "Port 8787 is already in use. \n",
            "Perhaps you already have a cluster running?\n",
            "Hosting the diagnostics dashboard on a random port instead.\n",
            "  warnings.warn(\"\\n\" + msg)\n"
          ],
          "name": "stderr"
        },
        {
          "output_type": "stream",
          "text": [
            "CPU times: user 2 µs, sys: 2 µs, total: 4 µs\n",
            "Wall time: 9.3 µs\n"
          ],
          "name": "stdout"
        }
      ]
    },
    {
      "cell_type": "code",
      "metadata": {
        "id": "LTFniWryTjyP",
        "outputId": "efbfb534-8105-4779-9ba1-688d621553f0"
      },
      "source": [
        "#get results back\n",
        "pd.DataFrame(grid_search.cv_results_)"
      ],
      "execution_count": null,
      "outputs": [
        {
          "output_type": "execute_result",
          "data": {
            "text/html": [
              "<div>\n",
              "<style scoped>\n",
              "    .dataframe tbody tr th:only-of-type {\n",
              "        vertical-align: middle;\n",
              "    }\n",
              "\n",
              "    .dataframe tbody tr th {\n",
              "        vertical-align: top;\n",
              "    }\n",
              "\n",
              "    .dataframe thead th {\n",
              "        text-align: right;\n",
              "    }\n",
              "</style>\n",
              "<table border=\"1\" class=\"dataframe\">\n",
              "  <thead>\n",
              "    <tr style=\"text-align: right;\">\n",
              "      <th></th>\n",
              "      <th>mean_fit_time</th>\n",
              "      <th>std_fit_time</th>\n",
              "      <th>mean_score_time</th>\n",
              "      <th>std_score_time</th>\n",
              "      <th>param_C</th>\n",
              "      <th>param_kernel</th>\n",
              "      <th>param_shrinking</th>\n",
              "      <th>params</th>\n",
              "      <th>split0_test_score</th>\n",
              "      <th>split1_test_score</th>\n",
              "      <th>split2_test_score</th>\n",
              "      <th>mean_test_score</th>\n",
              "      <th>std_test_score</th>\n",
              "      <th>rank_test_score</th>\n",
              "    </tr>\n",
              "  </thead>\n",
              "  <tbody>\n",
              "    <tr>\n",
              "      <th>0</th>\n",
              "      <td>0.189072</td>\n",
              "      <td>0.016391</td>\n",
              "      <td>0.020080</td>\n",
              "      <td>0.001717</td>\n",
              "      <td>0.001</td>\n",
              "      <td>rbf</td>\n",
              "      <td>True</td>\n",
              "      <td>{'C': 0.001, 'kernel': 'rbf', 'shrinking': True}</td>\n",
              "      <td>0.502994</td>\n",
              "      <td>0.501502</td>\n",
              "      <td>0.501502</td>\n",
              "      <td>0.501999</td>\n",
              "      <td>0.000704</td>\n",
              "      <td>41</td>\n",
              "    </tr>\n",
              "    <tr>\n",
              "      <th>1</th>\n",
              "      <td>0.182253</td>\n",
              "      <td>0.010153</td>\n",
              "      <td>0.019945</td>\n",
              "      <td>0.001473</td>\n",
              "      <td>0.001</td>\n",
              "      <td>rbf</td>\n",
              "      <td>False</td>\n",
              "      <td>{'C': 0.001, 'kernel': 'rbf', 'shrinking': False}</td>\n",
              "      <td>0.502994</td>\n",
              "      <td>0.501502</td>\n",
              "      <td>0.501502</td>\n",
              "      <td>0.501999</td>\n",
              "      <td>0.000704</td>\n",
              "      <td>41</td>\n",
              "    </tr>\n",
              "    <tr>\n",
              "      <th>2</th>\n",
              "      <td>0.095614</td>\n",
              "      <td>0.009367</td>\n",
              "      <td>0.009203</td>\n",
              "      <td>0.000900</td>\n",
              "      <td>0.001</td>\n",
              "      <td>poly</td>\n",
              "      <td>True</td>\n",
              "      <td>{'C': 0.001, 'kernel': 'poly', 'shrinking': True}</td>\n",
              "      <td>0.502994</td>\n",
              "      <td>0.501502</td>\n",
              "      <td>0.501502</td>\n",
              "      <td>0.501999</td>\n",
              "      <td>0.000704</td>\n",
              "      <td>41</td>\n",
              "    </tr>\n",
              "    <tr>\n",
              "      <th>3</th>\n",
              "      <td>0.108137</td>\n",
              "      <td>0.013767</td>\n",
              "      <td>0.008918</td>\n",
              "      <td>0.000387</td>\n",
              "      <td>0.001</td>\n",
              "      <td>poly</td>\n",
              "      <td>False</td>\n",
              "      <td>{'C': 0.001, 'kernel': 'poly', 'shrinking': Fa...</td>\n",
              "      <td>0.502994</td>\n",
              "      <td>0.501502</td>\n",
              "      <td>0.501502</td>\n",
              "      <td>0.501999</td>\n",
              "      <td>0.000704</td>\n",
              "      <td>41</td>\n",
              "    </tr>\n",
              "    <tr>\n",
              "      <th>4</th>\n",
              "      <td>0.238322</td>\n",
              "      <td>0.049452</td>\n",
              "      <td>0.024096</td>\n",
              "      <td>0.009187</td>\n",
              "      <td>0.001</td>\n",
              "      <td>sigmoid</td>\n",
              "      <td>True</td>\n",
              "      <td>{'C': 0.001, 'kernel': 'sigmoid', 'shrinking':...</td>\n",
              "      <td>0.502994</td>\n",
              "      <td>0.501502</td>\n",
              "      <td>0.501502</td>\n",
              "      <td>0.501999</td>\n",
              "      <td>0.000704</td>\n",
              "      <td>41</td>\n",
              "    </tr>\n",
              "    <tr>\n",
              "      <th>5</th>\n",
              "      <td>0.249909</td>\n",
              "      <td>0.016923</td>\n",
              "      <td>0.019103</td>\n",
              "      <td>0.002692</td>\n",
              "      <td>0.001</td>\n",
              "      <td>sigmoid</td>\n",
              "      <td>False</td>\n",
              "      <td>{'C': 0.001, 'kernel': 'sigmoid', 'shrinking':...</td>\n",
              "      <td>0.502994</td>\n",
              "      <td>0.501502</td>\n",
              "      <td>0.501502</td>\n",
              "      <td>0.501999</td>\n",
              "      <td>0.000704</td>\n",
              "      <td>41</td>\n",
              "    </tr>\n",
              "    <tr>\n",
              "      <th>6</th>\n",
              "      <td>0.232567</td>\n",
              "      <td>0.037566</td>\n",
              "      <td>0.019101</td>\n",
              "      <td>0.000537</td>\n",
              "      <td>0.01</td>\n",
              "      <td>rbf</td>\n",
              "      <td>True</td>\n",
              "      <td>{'C': 0.01, 'kernel': 'rbf', 'shrinking': True}</td>\n",
              "      <td>0.502994</td>\n",
              "      <td>0.501502</td>\n",
              "      <td>0.501502</td>\n",
              "      <td>0.501999</td>\n",
              "      <td>0.000704</td>\n",
              "      <td>41</td>\n",
              "    </tr>\n",
              "    <tr>\n",
              "      <th>7</th>\n",
              "      <td>0.182574</td>\n",
              "      <td>0.000836</td>\n",
              "      <td>0.022652</td>\n",
              "      <td>0.005202</td>\n",
              "      <td>0.01</td>\n",
              "      <td>rbf</td>\n",
              "      <td>False</td>\n",
              "      <td>{'C': 0.01, 'kernel': 'rbf', 'shrinking': False}</td>\n",
              "      <td>0.502994</td>\n",
              "      <td>0.501502</td>\n",
              "      <td>0.501502</td>\n",
              "      <td>0.501999</td>\n",
              "      <td>0.000704</td>\n",
              "      <td>41</td>\n",
              "    </tr>\n",
              "    <tr>\n",
              "      <th>8</th>\n",
              "      <td>0.123284</td>\n",
              "      <td>0.025078</td>\n",
              "      <td>0.010550</td>\n",
              "      <td>0.001778</td>\n",
              "      <td>0.01</td>\n",
              "      <td>poly</td>\n",
              "      <td>True</td>\n",
              "      <td>{'C': 0.01, 'kernel': 'poly', 'shrinking': True}</td>\n",
              "      <td>0.508982</td>\n",
              "      <td>0.510511</td>\n",
              "      <td>0.504505</td>\n",
              "      <td>0.507999</td>\n",
              "      <td>0.002549</td>\n",
              "      <td>39</td>\n",
              "    </tr>\n",
              "    <tr>\n",
              "      <th>9</th>\n",
              "      <td>0.131317</td>\n",
              "      <td>0.024382</td>\n",
              "      <td>0.009091</td>\n",
              "      <td>0.000231</td>\n",
              "      <td>0.01</td>\n",
              "      <td>poly</td>\n",
              "      <td>False</td>\n",
              "      <td>{'C': 0.01, 'kernel': 'poly', 'shrinking': False}</td>\n",
              "      <td>0.508982</td>\n",
              "      <td>0.510511</td>\n",
              "      <td>0.504505</td>\n",
              "      <td>0.507999</td>\n",
              "      <td>0.002549</td>\n",
              "      <td>39</td>\n",
              "    </tr>\n",
              "    <tr>\n",
              "      <th>10</th>\n",
              "      <td>0.202922</td>\n",
              "      <td>0.009883</td>\n",
              "      <td>0.017108</td>\n",
              "      <td>0.000402</td>\n",
              "      <td>0.01</td>\n",
              "      <td>sigmoid</td>\n",
              "      <td>True</td>\n",
              "      <td>{'C': 0.01, 'kernel': 'sigmoid', 'shrinking': ...</td>\n",
              "      <td>0.949102</td>\n",
              "      <td>0.924925</td>\n",
              "      <td>0.957958</td>\n",
              "      <td>0.943995</td>\n",
              "      <td>0.013961</td>\n",
              "      <td>23</td>\n",
              "    </tr>\n",
              "    <tr>\n",
              "      <th>11</th>\n",
              "      <td>0.192121</td>\n",
              "      <td>0.008650</td>\n",
              "      <td>0.017776</td>\n",
              "      <td>0.000887</td>\n",
              "      <td>0.01</td>\n",
              "      <td>sigmoid</td>\n",
              "      <td>False</td>\n",
              "      <td>{'C': 0.01, 'kernel': 'sigmoid', 'shrinking': ...</td>\n",
              "      <td>0.949102</td>\n",
              "      <td>0.924925</td>\n",
              "      <td>0.957958</td>\n",
              "      <td>0.943995</td>\n",
              "      <td>0.013961</td>\n",
              "      <td>23</td>\n",
              "    </tr>\n",
              "    <tr>\n",
              "      <th>12</th>\n",
              "      <td>0.148660</td>\n",
              "      <td>0.012716</td>\n",
              "      <td>0.015448</td>\n",
              "      <td>0.001912</td>\n",
              "      <td>0.1</td>\n",
              "      <td>rbf</td>\n",
              "      <td>True</td>\n",
              "      <td>{'C': 0.1, 'kernel': 'rbf', 'shrinking': True}</td>\n",
              "      <td>0.949102</td>\n",
              "      <td>0.933934</td>\n",
              "      <td>0.954955</td>\n",
              "      <td>0.945997</td>\n",
              "      <td>0.008858</td>\n",
              "      <td>11</td>\n",
              "    </tr>\n",
              "    <tr>\n",
              "      <th>13</th>\n",
              "      <td>0.150929</td>\n",
              "      <td>0.021797</td>\n",
              "      <td>0.020947</td>\n",
              "      <td>0.006228</td>\n",
              "      <td>0.1</td>\n",
              "      <td>rbf</td>\n",
              "      <td>False</td>\n",
              "      <td>{'C': 0.1, 'kernel': 'rbf', 'shrinking': False}</td>\n",
              "      <td>0.949102</td>\n",
              "      <td>0.933934</td>\n",
              "      <td>0.954955</td>\n",
              "      <td>0.945997</td>\n",
              "      <td>0.008858</td>\n",
              "      <td>11</td>\n",
              "    </tr>\n",
              "    <tr>\n",
              "      <th>14</th>\n",
              "      <td>0.095255</td>\n",
              "      <td>0.010922</td>\n",
              "      <td>0.008199</td>\n",
              "      <td>0.000363</td>\n",
              "      <td>0.1</td>\n",
              "      <td>poly</td>\n",
              "      <td>True</td>\n",
              "      <td>{'C': 0.1, 'kernel': 'poly', 'shrinking': True}</td>\n",
              "      <td>0.871257</td>\n",
              "      <td>0.849850</td>\n",
              "      <td>0.918919</td>\n",
              "      <td>0.880009</td>\n",
              "      <td>0.028868</td>\n",
              "      <td>37</td>\n",
              "    </tr>\n",
              "    <tr>\n",
              "      <th>15</th>\n",
              "      <td>0.094272</td>\n",
              "      <td>0.007672</td>\n",
              "      <td>0.007527</td>\n",
              "      <td>0.000104</td>\n",
              "      <td>0.1</td>\n",
              "      <td>poly</td>\n",
              "      <td>False</td>\n",
              "      <td>{'C': 0.1, 'kernel': 'poly', 'shrinking': False}</td>\n",
              "      <td>0.871257</td>\n",
              "      <td>0.849850</td>\n",
              "      <td>0.918919</td>\n",
              "      <td>0.880009</td>\n",
              "      <td>0.028868</td>\n",
              "      <td>37</td>\n",
              "    </tr>\n",
              "    <tr>\n",
              "      <th>16</th>\n",
              "      <td>0.101359</td>\n",
              "      <td>0.009170</td>\n",
              "      <td>0.008330</td>\n",
              "      <td>0.000744</td>\n",
              "      <td>0.1</td>\n",
              "      <td>sigmoid</td>\n",
              "      <td>True</td>\n",
              "      <td>{'C': 0.1, 'kernel': 'sigmoid', 'shrinking': T...</td>\n",
              "      <td>0.940120</td>\n",
              "      <td>0.930931</td>\n",
              "      <td>0.960961</td>\n",
              "      <td>0.944004</td>\n",
              "      <td>0.012564</td>\n",
              "      <td>15</td>\n",
              "    </tr>\n",
              "    <tr>\n",
              "      <th>17</th>\n",
              "      <td>0.112193</td>\n",
              "      <td>0.023920</td>\n",
              "      <td>0.008730</td>\n",
              "      <td>0.001115</td>\n",
              "      <td>0.1</td>\n",
              "      <td>sigmoid</td>\n",
              "      <td>False</td>\n",
              "      <td>{'C': 0.1, 'kernel': 'sigmoid', 'shrinking': F...</td>\n",
              "      <td>0.940120</td>\n",
              "      <td>0.930931</td>\n",
              "      <td>0.960961</td>\n",
              "      <td>0.944004</td>\n",
              "      <td>0.012564</td>\n",
              "      <td>15</td>\n",
              "    </tr>\n",
              "    <tr>\n",
              "      <th>18</th>\n",
              "      <td>0.108611</td>\n",
              "      <td>0.023252</td>\n",
              "      <td>0.011233</td>\n",
              "      <td>0.003457</td>\n",
              "      <td>0.5</td>\n",
              "      <td>rbf</td>\n",
              "      <td>True</td>\n",
              "      <td>{'C': 0.5, 'kernel': 'rbf', 'shrinking': True}</td>\n",
              "      <td>0.955090</td>\n",
              "      <td>0.927928</td>\n",
              "      <td>0.963964</td>\n",
              "      <td>0.948994</td>\n",
              "      <td>0.015330</td>\n",
              "      <td>5</td>\n",
              "    </tr>\n",
              "    <tr>\n",
              "      <th>19</th>\n",
              "      <td>0.116117</td>\n",
              "      <td>0.015779</td>\n",
              "      <td>0.009337</td>\n",
              "      <td>0.000595</td>\n",
              "      <td>0.5</td>\n",
              "      <td>rbf</td>\n",
              "      <td>False</td>\n",
              "      <td>{'C': 0.5, 'kernel': 'rbf', 'shrinking': False}</td>\n",
              "      <td>0.955090</td>\n",
              "      <td>0.927928</td>\n",
              "      <td>0.963964</td>\n",
              "      <td>0.948994</td>\n",
              "      <td>0.015330</td>\n",
              "      <td>5</td>\n",
              "    </tr>\n",
              "    <tr>\n",
              "      <th>20</th>\n",
              "      <td>0.070806</td>\n",
              "      <td>0.003586</td>\n",
              "      <td>0.005081</td>\n",
              "      <td>0.000076</td>\n",
              "      <td>0.5</td>\n",
              "      <td>poly</td>\n",
              "      <td>True</td>\n",
              "      <td>{'C': 0.5, 'kernel': 'poly', 'shrinking': True}</td>\n",
              "      <td>0.943114</td>\n",
              "      <td>0.930931</td>\n",
              "      <td>0.957958</td>\n",
              "      <td>0.944001</td>\n",
              "      <td>0.011052</td>\n",
              "      <td>17</td>\n",
              "    </tr>\n",
              "    <tr>\n",
              "      <th>21</th>\n",
              "      <td>0.079523</td>\n",
              "      <td>0.010071</td>\n",
              "      <td>0.005424</td>\n",
              "      <td>0.000470</td>\n",
              "      <td>0.5</td>\n",
              "      <td>poly</td>\n",
              "      <td>False</td>\n",
              "      <td>{'C': 0.5, 'kernel': 'poly', 'shrinking': False}</td>\n",
              "      <td>0.943114</td>\n",
              "      <td>0.930931</td>\n",
              "      <td>0.957958</td>\n",
              "      <td>0.944001</td>\n",
              "      <td>0.011052</td>\n",
              "      <td>17</td>\n",
              "    </tr>\n",
              "    <tr>\n",
              "      <th>22</th>\n",
              "      <td>0.064222</td>\n",
              "      <td>0.003455</td>\n",
              "      <td>0.005066</td>\n",
              "      <td>0.000699</td>\n",
              "      <td>0.5</td>\n",
              "      <td>sigmoid</td>\n",
              "      <td>True</td>\n",
              "      <td>{'C': 0.5, 'kernel': 'sigmoid', 'shrinking': T...</td>\n",
              "      <td>0.946108</td>\n",
              "      <td>0.930931</td>\n",
              "      <td>0.954955</td>\n",
              "      <td>0.943998</td>\n",
              "      <td>0.009921</td>\n",
              "      <td>19</td>\n",
              "    </tr>\n",
              "    <tr>\n",
              "      <th>23</th>\n",
              "      <td>0.065209</td>\n",
              "      <td>0.006486</td>\n",
              "      <td>0.005681</td>\n",
              "      <td>0.001017</td>\n",
              "      <td>0.5</td>\n",
              "      <td>sigmoid</td>\n",
              "      <td>False</td>\n",
              "      <td>{'C': 0.5, 'kernel': 'sigmoid', 'shrinking': F...</td>\n",
              "      <td>0.946108</td>\n",
              "      <td>0.930931</td>\n",
              "      <td>0.954955</td>\n",
              "      <td>0.943998</td>\n",
              "      <td>0.009921</td>\n",
              "      <td>19</td>\n",
              "    </tr>\n",
              "    <tr>\n",
              "      <th>24</th>\n",
              "      <td>0.099410</td>\n",
              "      <td>0.004215</td>\n",
              "      <td>0.009566</td>\n",
              "      <td>0.000699</td>\n",
              "      <td>1</td>\n",
              "      <td>rbf</td>\n",
              "      <td>True</td>\n",
              "      <td>{'C': 1.0, 'kernel': 'rbf', 'shrinking': True}</td>\n",
              "      <td>0.952096</td>\n",
              "      <td>0.939940</td>\n",
              "      <td>0.954955</td>\n",
              "      <td>0.948997</td>\n",
              "      <td>0.006510</td>\n",
              "      <td>1</td>\n",
              "    </tr>\n",
              "    <tr>\n",
              "      <th>25</th>\n",
              "      <td>0.088243</td>\n",
              "      <td>0.006071</td>\n",
              "      <td>0.007963</td>\n",
              "      <td>0.000221</td>\n",
              "      <td>1</td>\n",
              "      <td>rbf</td>\n",
              "      <td>False</td>\n",
              "      <td>{'C': 1.0, 'kernel': 'rbf', 'shrinking': False}</td>\n",
              "      <td>0.952096</td>\n",
              "      <td>0.939940</td>\n",
              "      <td>0.954955</td>\n",
              "      <td>0.948997</td>\n",
              "      <td>0.006510</td>\n",
              "      <td>1</td>\n",
              "    </tr>\n",
              "    <tr>\n",
              "      <th>26</th>\n",
              "      <td>0.086691</td>\n",
              "      <td>0.012937</td>\n",
              "      <td>0.005503</td>\n",
              "      <td>0.001041</td>\n",
              "      <td>1</td>\n",
              "      <td>poly</td>\n",
              "      <td>True</td>\n",
              "      <td>{'C': 1.0, 'kernel': 'poly', 'shrinking': True}</td>\n",
              "      <td>0.946108</td>\n",
              "      <td>0.927928</td>\n",
              "      <td>0.957958</td>\n",
              "      <td>0.943998</td>\n",
              "      <td>0.012350</td>\n",
              "      <td>21</td>\n",
              "    </tr>\n",
              "    <tr>\n",
              "      <th>27</th>\n",
              "      <td>0.077269</td>\n",
              "      <td>0.003780</td>\n",
              "      <td>0.005013</td>\n",
              "      <td>0.000519</td>\n",
              "      <td>1</td>\n",
              "      <td>poly</td>\n",
              "      <td>False</td>\n",
              "      <td>{'C': 1.0, 'kernel': 'poly', 'shrinking': False}</td>\n",
              "      <td>0.946108</td>\n",
              "      <td>0.927928</td>\n",
              "      <td>0.957958</td>\n",
              "      <td>0.943998</td>\n",
              "      <td>0.012350</td>\n",
              "      <td>21</td>\n",
              "    </tr>\n",
              "    <tr>\n",
              "      <th>28</th>\n",
              "      <td>0.067076</td>\n",
              "      <td>0.004869</td>\n",
              "      <td>0.004613</td>\n",
              "      <td>0.000902</td>\n",
              "      <td>1</td>\n",
              "      <td>sigmoid</td>\n",
              "      <td>True</td>\n",
              "      <td>{'C': 1.0, 'kernel': 'sigmoid', 'shrinking': T...</td>\n",
              "      <td>0.952096</td>\n",
              "      <td>0.924925</td>\n",
              "      <td>0.957958</td>\n",
              "      <td>0.944993</td>\n",
              "      <td>0.014391</td>\n",
              "      <td>13</td>\n",
              "    </tr>\n",
              "    <tr>\n",
              "      <th>29</th>\n",
              "      <td>0.070550</td>\n",
              "      <td>0.022030</td>\n",
              "      <td>0.006700</td>\n",
              "      <td>0.002375</td>\n",
              "      <td>1</td>\n",
              "      <td>sigmoid</td>\n",
              "      <td>False</td>\n",
              "      <td>{'C': 1.0, 'kernel': 'sigmoid', 'shrinking': F...</td>\n",
              "      <td>0.952096</td>\n",
              "      <td>0.924925</td>\n",
              "      <td>0.957958</td>\n",
              "      <td>0.944993</td>\n",
              "      <td>0.014391</td>\n",
              "      <td>13</td>\n",
              "    </tr>\n",
              "    <tr>\n",
              "      <th>30</th>\n",
              "      <td>0.088115</td>\n",
              "      <td>0.003547</td>\n",
              "      <td>0.007352</td>\n",
              "      <td>0.000216</td>\n",
              "      <td>2</td>\n",
              "      <td>rbf</td>\n",
              "      <td>True</td>\n",
              "      <td>{'C': 2.0, 'kernel': 'rbf', 'shrinking': True}</td>\n",
              "      <td>0.952096</td>\n",
              "      <td>0.939940</td>\n",
              "      <td>0.954955</td>\n",
              "      <td>0.948997</td>\n",
              "      <td>0.006510</td>\n",
              "      <td>1</td>\n",
              "    </tr>\n",
              "    <tr>\n",
              "      <th>31</th>\n",
              "      <td>0.109795</td>\n",
              "      <td>0.017278</td>\n",
              "      <td>0.008306</td>\n",
              "      <td>0.000108</td>\n",
              "      <td>2</td>\n",
              "      <td>rbf</td>\n",
              "      <td>False</td>\n",
              "      <td>{'C': 2.0, 'kernel': 'rbf', 'shrinking': False}</td>\n",
              "      <td>0.952096</td>\n",
              "      <td>0.939940</td>\n",
              "      <td>0.954955</td>\n",
              "      <td>0.948997</td>\n",
              "      <td>0.006510</td>\n",
              "      <td>1</td>\n",
              "    </tr>\n",
              "    <tr>\n",
              "      <th>32</th>\n",
              "      <td>0.063099</td>\n",
              "      <td>0.003106</td>\n",
              "      <td>0.004300</td>\n",
              "      <td>0.000390</td>\n",
              "      <td>2</td>\n",
              "      <td>poly</td>\n",
              "      <td>True</td>\n",
              "      <td>{'C': 2.0, 'kernel': 'poly', 'shrinking': True}</td>\n",
              "      <td>0.940120</td>\n",
              "      <td>0.930931</td>\n",
              "      <td>0.942943</td>\n",
              "      <td>0.937998</td>\n",
              "      <td>0.005128</td>\n",
              "      <td>27</td>\n",
              "    </tr>\n",
              "    <tr>\n",
              "      <th>33</th>\n",
              "      <td>0.082812</td>\n",
              "      <td>0.023113</td>\n",
              "      <td>0.004157</td>\n",
              "      <td>0.000189</td>\n",
              "      <td>2</td>\n",
              "      <td>poly</td>\n",
              "      <td>False</td>\n",
              "      <td>{'C': 2.0, 'kernel': 'poly', 'shrinking': False}</td>\n",
              "      <td>0.940120</td>\n",
              "      <td>0.930931</td>\n",
              "      <td>0.942943</td>\n",
              "      <td>0.937998</td>\n",
              "      <td>0.005128</td>\n",
              "      <td>27</td>\n",
              "    </tr>\n",
              "    <tr>\n",
              "      <th>34</th>\n",
              "      <td>0.050010</td>\n",
              "      <td>0.003531</td>\n",
              "      <td>0.003865</td>\n",
              "      <td>0.000256</td>\n",
              "      <td>2</td>\n",
              "      <td>sigmoid</td>\n",
              "      <td>True</td>\n",
              "      <td>{'C': 2.0, 'kernel': 'sigmoid', 'shrinking': T...</td>\n",
              "      <td>0.952096</td>\n",
              "      <td>0.918919</td>\n",
              "      <td>0.948949</td>\n",
              "      <td>0.939988</td>\n",
              "      <td>0.014953</td>\n",
              "      <td>25</td>\n",
              "    </tr>\n",
              "    <tr>\n",
              "      <th>35</th>\n",
              "      <td>0.055542</td>\n",
              "      <td>0.013170</td>\n",
              "      <td>0.005033</td>\n",
              "      <td>0.002181</td>\n",
              "      <td>2</td>\n",
              "      <td>sigmoid</td>\n",
              "      <td>False</td>\n",
              "      <td>{'C': 2.0, 'kernel': 'sigmoid', 'shrinking': F...</td>\n",
              "      <td>0.952096</td>\n",
              "      <td>0.918919</td>\n",
              "      <td>0.948949</td>\n",
              "      <td>0.939988</td>\n",
              "      <td>0.014953</td>\n",
              "      <td>25</td>\n",
              "    </tr>\n",
              "    <tr>\n",
              "      <th>36</th>\n",
              "      <td>0.088067</td>\n",
              "      <td>0.008708</td>\n",
              "      <td>0.007521</td>\n",
              "      <td>0.000469</td>\n",
              "      <td>5</td>\n",
              "      <td>rbf</td>\n",
              "      <td>True</td>\n",
              "      <td>{'C': 5.0, 'kernel': 'rbf', 'shrinking': True}</td>\n",
              "      <td>0.955090</td>\n",
              "      <td>0.936937</td>\n",
              "      <td>0.954955</td>\n",
              "      <td>0.948994</td>\n",
              "      <td>0.008526</td>\n",
              "      <td>5</td>\n",
              "    </tr>\n",
              "    <tr>\n",
              "      <th>37</th>\n",
              "      <td>0.088961</td>\n",
              "      <td>0.005323</td>\n",
              "      <td>0.007461</td>\n",
              "      <td>0.000415</td>\n",
              "      <td>5</td>\n",
              "      <td>rbf</td>\n",
              "      <td>False</td>\n",
              "      <td>{'C': 5.0, 'kernel': 'rbf', 'shrinking': False}</td>\n",
              "      <td>0.955090</td>\n",
              "      <td>0.936937</td>\n",
              "      <td>0.954955</td>\n",
              "      <td>0.948994</td>\n",
              "      <td>0.008526</td>\n",
              "      <td>5</td>\n",
              "    </tr>\n",
              "    <tr>\n",
              "      <th>38</th>\n",
              "      <td>0.077890</td>\n",
              "      <td>0.017684</td>\n",
              "      <td>0.003786</td>\n",
              "      <td>0.000052</td>\n",
              "      <td>5</td>\n",
              "      <td>poly</td>\n",
              "      <td>True</td>\n",
              "      <td>{'C': 5.0, 'kernel': 'poly', 'shrinking': True}</td>\n",
              "      <td>0.925150</td>\n",
              "      <td>0.921922</td>\n",
              "      <td>0.945946</td>\n",
              "      <td>0.931006</td>\n",
              "      <td>0.010646</td>\n",
              "      <td>29</td>\n",
              "    </tr>\n",
              "    <tr>\n",
              "      <th>39</th>\n",
              "      <td>0.085600</td>\n",
              "      <td>0.030855</td>\n",
              "      <td>0.004979</td>\n",
              "      <td>0.001859</td>\n",
              "      <td>5</td>\n",
              "      <td>poly</td>\n",
              "      <td>False</td>\n",
              "      <td>{'C': 5.0, 'kernel': 'poly', 'shrinking': False}</td>\n",
              "      <td>0.925150</td>\n",
              "      <td>0.921922</td>\n",
              "      <td>0.945946</td>\n",
              "      <td>0.931006</td>\n",
              "      <td>0.010646</td>\n",
              "      <td>29</td>\n",
              "    </tr>\n",
              "    <tr>\n",
              "      <th>40</th>\n",
              "      <td>0.056386</td>\n",
              "      <td>0.014760</td>\n",
              "      <td>0.003340</td>\n",
              "      <td>0.000074</td>\n",
              "      <td>5</td>\n",
              "      <td>sigmoid</td>\n",
              "      <td>True</td>\n",
              "      <td>{'C': 5.0, 'kernel': 'sigmoid', 'shrinking': T...</td>\n",
              "      <td>0.931138</td>\n",
              "      <td>0.909910</td>\n",
              "      <td>0.942943</td>\n",
              "      <td>0.927997</td>\n",
              "      <td>0.013667</td>\n",
              "      <td>33</td>\n",
              "    </tr>\n",
              "    <tr>\n",
              "      <th>41</th>\n",
              "      <td>0.052213</td>\n",
              "      <td>0.005264</td>\n",
              "      <td>0.004783</td>\n",
              "      <td>0.002021</td>\n",
              "      <td>5</td>\n",
              "      <td>sigmoid</td>\n",
              "      <td>False</td>\n",
              "      <td>{'C': 5.0, 'kernel': 'sigmoid', 'shrinking': F...</td>\n",
              "      <td>0.931138</td>\n",
              "      <td>0.909910</td>\n",
              "      <td>0.942943</td>\n",
              "      <td>0.927997</td>\n",
              "      <td>0.013667</td>\n",
              "      <td>33</td>\n",
              "    </tr>\n",
              "    <tr>\n",
              "      <th>42</th>\n",
              "      <td>0.100932</td>\n",
              "      <td>0.006184</td>\n",
              "      <td>0.008826</td>\n",
              "      <td>0.001100</td>\n",
              "      <td>10</td>\n",
              "      <td>rbf</td>\n",
              "      <td>True</td>\n",
              "      <td>{'C': 10.0, 'kernel': 'rbf', 'shrinking': True}</td>\n",
              "      <td>0.943114</td>\n",
              "      <td>0.945946</td>\n",
              "      <td>0.954955</td>\n",
              "      <td>0.948005</td>\n",
              "      <td>0.005049</td>\n",
              "      <td>9</td>\n",
              "    </tr>\n",
              "    <tr>\n",
              "      <th>43</th>\n",
              "      <td>0.112744</td>\n",
              "      <td>0.020676</td>\n",
              "      <td>0.008945</td>\n",
              "      <td>0.001319</td>\n",
              "      <td>10</td>\n",
              "      <td>rbf</td>\n",
              "      <td>False</td>\n",
              "      <td>{'C': 10.0, 'kernel': 'rbf', 'shrinking': False}</td>\n",
              "      <td>0.943114</td>\n",
              "      <td>0.945946</td>\n",
              "      <td>0.954955</td>\n",
              "      <td>0.948005</td>\n",
              "      <td>0.005049</td>\n",
              "      <td>9</td>\n",
              "    </tr>\n",
              "    <tr>\n",
              "      <th>44</th>\n",
              "      <td>0.067792</td>\n",
              "      <td>0.004498</td>\n",
              "      <td>0.003816</td>\n",
              "      <td>0.000268</td>\n",
              "      <td>10</td>\n",
              "      <td>poly</td>\n",
              "      <td>True</td>\n",
              "      <td>{'C': 10.0, 'kernel': 'poly', 'shrinking': True}</td>\n",
              "      <td>0.919162</td>\n",
              "      <td>0.915916</td>\n",
              "      <td>0.945946</td>\n",
              "      <td>0.927008</td>\n",
              "      <td>0.013457</td>\n",
              "      <td>35</td>\n",
              "    </tr>\n",
              "    <tr>\n",
              "      <th>45</th>\n",
              "      <td>0.081989</td>\n",
              "      <td>0.010997</td>\n",
              "      <td>0.004117</td>\n",
              "      <td>0.000273</td>\n",
              "      <td>10</td>\n",
              "      <td>poly</td>\n",
              "      <td>False</td>\n",
              "      <td>{'C': 10.0, 'kernel': 'poly', 'shrinking': False}</td>\n",
              "      <td>0.919162</td>\n",
              "      <td>0.915916</td>\n",
              "      <td>0.945946</td>\n",
              "      <td>0.927008</td>\n",
              "      <td>0.013457</td>\n",
              "      <td>35</td>\n",
              "    </tr>\n",
              "    <tr>\n",
              "      <th>46</th>\n",
              "      <td>0.048181</td>\n",
              "      <td>0.002131</td>\n",
              "      <td>0.002802</td>\n",
              "      <td>0.000515</td>\n",
              "      <td>10</td>\n",
              "      <td>sigmoid</td>\n",
              "      <td>True</td>\n",
              "      <td>{'C': 10.0, 'kernel': 'sigmoid', 'shrinking': ...</td>\n",
              "      <td>0.937126</td>\n",
              "      <td>0.918919</td>\n",
              "      <td>0.930931</td>\n",
              "      <td>0.928992</td>\n",
              "      <td>0.007558</td>\n",
              "      <td>31</td>\n",
              "    </tr>\n",
              "    <tr>\n",
              "      <th>47</th>\n",
              "      <td>0.047384</td>\n",
              "      <td>0.003320</td>\n",
              "      <td>0.002808</td>\n",
              "      <td>0.000525</td>\n",
              "      <td>10</td>\n",
              "      <td>sigmoid</td>\n",
              "      <td>False</td>\n",
              "      <td>{'C': 10.0, 'kernel': 'sigmoid', 'shrinking': ...</td>\n",
              "      <td>0.937126</td>\n",
              "      <td>0.918919</td>\n",
              "      <td>0.930931</td>\n",
              "      <td>0.928992</td>\n",
              "      <td>0.007558</td>\n",
              "      <td>31</td>\n",
              "    </tr>\n",
              "  </tbody>\n",
              "</table>\n",
              "</div>"
            ],
            "text/plain": [
              "    mean_fit_time  std_fit_time  mean_score_time  std_score_time param_C  \\\n",
              "0        0.189072      0.016391         0.020080        0.001717   0.001   \n",
              "1        0.182253      0.010153         0.019945        0.001473   0.001   \n",
              "2        0.095614      0.009367         0.009203        0.000900   0.001   \n",
              "3        0.108137      0.013767         0.008918        0.000387   0.001   \n",
              "4        0.238322      0.049452         0.024096        0.009187   0.001   \n",
              "5        0.249909      0.016923         0.019103        0.002692   0.001   \n",
              "6        0.232567      0.037566         0.019101        0.000537    0.01   \n",
              "7        0.182574      0.000836         0.022652        0.005202    0.01   \n",
              "8        0.123284      0.025078         0.010550        0.001778    0.01   \n",
              "9        0.131317      0.024382         0.009091        0.000231    0.01   \n",
              "10       0.202922      0.009883         0.017108        0.000402    0.01   \n",
              "11       0.192121      0.008650         0.017776        0.000887    0.01   \n",
              "12       0.148660      0.012716         0.015448        0.001912     0.1   \n",
              "13       0.150929      0.021797         0.020947        0.006228     0.1   \n",
              "14       0.095255      0.010922         0.008199        0.000363     0.1   \n",
              "15       0.094272      0.007672         0.007527        0.000104     0.1   \n",
              "16       0.101359      0.009170         0.008330        0.000744     0.1   \n",
              "17       0.112193      0.023920         0.008730        0.001115     0.1   \n",
              "18       0.108611      0.023252         0.011233        0.003457     0.5   \n",
              "19       0.116117      0.015779         0.009337        0.000595     0.5   \n",
              "20       0.070806      0.003586         0.005081        0.000076     0.5   \n",
              "21       0.079523      0.010071         0.005424        0.000470     0.5   \n",
              "22       0.064222      0.003455         0.005066        0.000699     0.5   \n",
              "23       0.065209      0.006486         0.005681        0.001017     0.5   \n",
              "24       0.099410      0.004215         0.009566        0.000699       1   \n",
              "25       0.088243      0.006071         0.007963        0.000221       1   \n",
              "26       0.086691      0.012937         0.005503        0.001041       1   \n",
              "27       0.077269      0.003780         0.005013        0.000519       1   \n",
              "28       0.067076      0.004869         0.004613        0.000902       1   \n",
              "29       0.070550      0.022030         0.006700        0.002375       1   \n",
              "30       0.088115      0.003547         0.007352        0.000216       2   \n",
              "31       0.109795      0.017278         0.008306        0.000108       2   \n",
              "32       0.063099      0.003106         0.004300        0.000390       2   \n",
              "33       0.082812      0.023113         0.004157        0.000189       2   \n",
              "34       0.050010      0.003531         0.003865        0.000256       2   \n",
              "35       0.055542      0.013170         0.005033        0.002181       2   \n",
              "36       0.088067      0.008708         0.007521        0.000469       5   \n",
              "37       0.088961      0.005323         0.007461        0.000415       5   \n",
              "38       0.077890      0.017684         0.003786        0.000052       5   \n",
              "39       0.085600      0.030855         0.004979        0.001859       5   \n",
              "40       0.056386      0.014760         0.003340        0.000074       5   \n",
              "41       0.052213      0.005264         0.004783        0.002021       5   \n",
              "42       0.100932      0.006184         0.008826        0.001100      10   \n",
              "43       0.112744      0.020676         0.008945        0.001319      10   \n",
              "44       0.067792      0.004498         0.003816        0.000268      10   \n",
              "45       0.081989      0.010997         0.004117        0.000273      10   \n",
              "46       0.048181      0.002131         0.002802        0.000515      10   \n",
              "47       0.047384      0.003320         0.002808        0.000525      10   \n",
              "\n",
              "   param_kernel param_shrinking  \\\n",
              "0           rbf            True   \n",
              "1           rbf           False   \n",
              "2          poly            True   \n",
              "3          poly           False   \n",
              "4       sigmoid            True   \n",
              "5       sigmoid           False   \n",
              "6           rbf            True   \n",
              "7           rbf           False   \n",
              "8          poly            True   \n",
              "9          poly           False   \n",
              "10      sigmoid            True   \n",
              "11      sigmoid           False   \n",
              "12          rbf            True   \n",
              "13          rbf           False   \n",
              "14         poly            True   \n",
              "15         poly           False   \n",
              "16      sigmoid            True   \n",
              "17      sigmoid           False   \n",
              "18          rbf            True   \n",
              "19          rbf           False   \n",
              "20         poly            True   \n",
              "21         poly           False   \n",
              "22      sigmoid            True   \n",
              "23      sigmoid           False   \n",
              "24          rbf            True   \n",
              "25          rbf           False   \n",
              "26         poly            True   \n",
              "27         poly           False   \n",
              "28      sigmoid            True   \n",
              "29      sigmoid           False   \n",
              "30          rbf            True   \n",
              "31          rbf           False   \n",
              "32         poly            True   \n",
              "33         poly           False   \n",
              "34      sigmoid            True   \n",
              "35      sigmoid           False   \n",
              "36          rbf            True   \n",
              "37          rbf           False   \n",
              "38         poly            True   \n",
              "39         poly           False   \n",
              "40      sigmoid            True   \n",
              "41      sigmoid           False   \n",
              "42          rbf            True   \n",
              "43          rbf           False   \n",
              "44         poly            True   \n",
              "45         poly           False   \n",
              "46      sigmoid            True   \n",
              "47      sigmoid           False   \n",
              "\n",
              "                                               params  split0_test_score  \\\n",
              "0    {'C': 0.001, 'kernel': 'rbf', 'shrinking': True}           0.502994   \n",
              "1   {'C': 0.001, 'kernel': 'rbf', 'shrinking': False}           0.502994   \n",
              "2   {'C': 0.001, 'kernel': 'poly', 'shrinking': True}           0.502994   \n",
              "3   {'C': 0.001, 'kernel': 'poly', 'shrinking': Fa...           0.502994   \n",
              "4   {'C': 0.001, 'kernel': 'sigmoid', 'shrinking':...           0.502994   \n",
              "5   {'C': 0.001, 'kernel': 'sigmoid', 'shrinking':...           0.502994   \n",
              "6     {'C': 0.01, 'kernel': 'rbf', 'shrinking': True}           0.502994   \n",
              "7    {'C': 0.01, 'kernel': 'rbf', 'shrinking': False}           0.502994   \n",
              "8    {'C': 0.01, 'kernel': 'poly', 'shrinking': True}           0.508982   \n",
              "9   {'C': 0.01, 'kernel': 'poly', 'shrinking': False}           0.508982   \n",
              "10  {'C': 0.01, 'kernel': 'sigmoid', 'shrinking': ...           0.949102   \n",
              "11  {'C': 0.01, 'kernel': 'sigmoid', 'shrinking': ...           0.949102   \n",
              "12     {'C': 0.1, 'kernel': 'rbf', 'shrinking': True}           0.949102   \n",
              "13    {'C': 0.1, 'kernel': 'rbf', 'shrinking': False}           0.949102   \n",
              "14    {'C': 0.1, 'kernel': 'poly', 'shrinking': True}           0.871257   \n",
              "15   {'C': 0.1, 'kernel': 'poly', 'shrinking': False}           0.871257   \n",
              "16  {'C': 0.1, 'kernel': 'sigmoid', 'shrinking': T...           0.940120   \n",
              "17  {'C': 0.1, 'kernel': 'sigmoid', 'shrinking': F...           0.940120   \n",
              "18     {'C': 0.5, 'kernel': 'rbf', 'shrinking': True}           0.955090   \n",
              "19    {'C': 0.5, 'kernel': 'rbf', 'shrinking': False}           0.955090   \n",
              "20    {'C': 0.5, 'kernel': 'poly', 'shrinking': True}           0.943114   \n",
              "21   {'C': 0.5, 'kernel': 'poly', 'shrinking': False}           0.943114   \n",
              "22  {'C': 0.5, 'kernel': 'sigmoid', 'shrinking': T...           0.946108   \n",
              "23  {'C': 0.5, 'kernel': 'sigmoid', 'shrinking': F...           0.946108   \n",
              "24     {'C': 1.0, 'kernel': 'rbf', 'shrinking': True}           0.952096   \n",
              "25    {'C': 1.0, 'kernel': 'rbf', 'shrinking': False}           0.952096   \n",
              "26    {'C': 1.0, 'kernel': 'poly', 'shrinking': True}           0.946108   \n",
              "27   {'C': 1.0, 'kernel': 'poly', 'shrinking': False}           0.946108   \n",
              "28  {'C': 1.0, 'kernel': 'sigmoid', 'shrinking': T...           0.952096   \n",
              "29  {'C': 1.0, 'kernel': 'sigmoid', 'shrinking': F...           0.952096   \n",
              "30     {'C': 2.0, 'kernel': 'rbf', 'shrinking': True}           0.952096   \n",
              "31    {'C': 2.0, 'kernel': 'rbf', 'shrinking': False}           0.952096   \n",
              "32    {'C': 2.0, 'kernel': 'poly', 'shrinking': True}           0.940120   \n",
              "33   {'C': 2.0, 'kernel': 'poly', 'shrinking': False}           0.940120   \n",
              "34  {'C': 2.0, 'kernel': 'sigmoid', 'shrinking': T...           0.952096   \n",
              "35  {'C': 2.0, 'kernel': 'sigmoid', 'shrinking': F...           0.952096   \n",
              "36     {'C': 5.0, 'kernel': 'rbf', 'shrinking': True}           0.955090   \n",
              "37    {'C': 5.0, 'kernel': 'rbf', 'shrinking': False}           0.955090   \n",
              "38    {'C': 5.0, 'kernel': 'poly', 'shrinking': True}           0.925150   \n",
              "39   {'C': 5.0, 'kernel': 'poly', 'shrinking': False}           0.925150   \n",
              "40  {'C': 5.0, 'kernel': 'sigmoid', 'shrinking': T...           0.931138   \n",
              "41  {'C': 5.0, 'kernel': 'sigmoid', 'shrinking': F...           0.931138   \n",
              "42    {'C': 10.0, 'kernel': 'rbf', 'shrinking': True}           0.943114   \n",
              "43   {'C': 10.0, 'kernel': 'rbf', 'shrinking': False}           0.943114   \n",
              "44   {'C': 10.0, 'kernel': 'poly', 'shrinking': True}           0.919162   \n",
              "45  {'C': 10.0, 'kernel': 'poly', 'shrinking': False}           0.919162   \n",
              "46  {'C': 10.0, 'kernel': 'sigmoid', 'shrinking': ...           0.937126   \n",
              "47  {'C': 10.0, 'kernel': 'sigmoid', 'shrinking': ...           0.937126   \n",
              "\n",
              "    split1_test_score  split2_test_score  mean_test_score  std_test_score  \\\n",
              "0            0.501502           0.501502         0.501999        0.000704   \n",
              "1            0.501502           0.501502         0.501999        0.000704   \n",
              "2            0.501502           0.501502         0.501999        0.000704   \n",
              "3            0.501502           0.501502         0.501999        0.000704   \n",
              "4            0.501502           0.501502         0.501999        0.000704   \n",
              "5            0.501502           0.501502         0.501999        0.000704   \n",
              "6            0.501502           0.501502         0.501999        0.000704   \n",
              "7            0.501502           0.501502         0.501999        0.000704   \n",
              "8            0.510511           0.504505         0.507999        0.002549   \n",
              "9            0.510511           0.504505         0.507999        0.002549   \n",
              "10           0.924925           0.957958         0.943995        0.013961   \n",
              "11           0.924925           0.957958         0.943995        0.013961   \n",
              "12           0.933934           0.954955         0.945997        0.008858   \n",
              "13           0.933934           0.954955         0.945997        0.008858   \n",
              "14           0.849850           0.918919         0.880009        0.028868   \n",
              "15           0.849850           0.918919         0.880009        0.028868   \n",
              "16           0.930931           0.960961         0.944004        0.012564   \n",
              "17           0.930931           0.960961         0.944004        0.012564   \n",
              "18           0.927928           0.963964         0.948994        0.015330   \n",
              "19           0.927928           0.963964         0.948994        0.015330   \n",
              "20           0.930931           0.957958         0.944001        0.011052   \n",
              "21           0.930931           0.957958         0.944001        0.011052   \n",
              "22           0.930931           0.954955         0.943998        0.009921   \n",
              "23           0.930931           0.954955         0.943998        0.009921   \n",
              "24           0.939940           0.954955         0.948997        0.006510   \n",
              "25           0.939940           0.954955         0.948997        0.006510   \n",
              "26           0.927928           0.957958         0.943998        0.012350   \n",
              "27           0.927928           0.957958         0.943998        0.012350   \n",
              "28           0.924925           0.957958         0.944993        0.014391   \n",
              "29           0.924925           0.957958         0.944993        0.014391   \n",
              "30           0.939940           0.954955         0.948997        0.006510   \n",
              "31           0.939940           0.954955         0.948997        0.006510   \n",
              "32           0.930931           0.942943         0.937998        0.005128   \n",
              "33           0.930931           0.942943         0.937998        0.005128   \n",
              "34           0.918919           0.948949         0.939988        0.014953   \n",
              "35           0.918919           0.948949         0.939988        0.014953   \n",
              "36           0.936937           0.954955         0.948994        0.008526   \n",
              "37           0.936937           0.954955         0.948994        0.008526   \n",
              "38           0.921922           0.945946         0.931006        0.010646   \n",
              "39           0.921922           0.945946         0.931006        0.010646   \n",
              "40           0.909910           0.942943         0.927997        0.013667   \n",
              "41           0.909910           0.942943         0.927997        0.013667   \n",
              "42           0.945946           0.954955         0.948005        0.005049   \n",
              "43           0.945946           0.954955         0.948005        0.005049   \n",
              "44           0.915916           0.945946         0.927008        0.013457   \n",
              "45           0.915916           0.945946         0.927008        0.013457   \n",
              "46           0.918919           0.930931         0.928992        0.007558   \n",
              "47           0.918919           0.930931         0.928992        0.007558   \n",
              "\n",
              "    rank_test_score  \n",
              "0                41  \n",
              "1                41  \n",
              "2                41  \n",
              "3                41  \n",
              "4                41  \n",
              "5                41  \n",
              "6                41  \n",
              "7                41  \n",
              "8                39  \n",
              "9                39  \n",
              "10               23  \n",
              "11               23  \n",
              "12               11  \n",
              "13               11  \n",
              "14               37  \n",
              "15               37  \n",
              "16               15  \n",
              "17               15  \n",
              "18                5  \n",
              "19                5  \n",
              "20               17  \n",
              "21               17  \n",
              "22               19  \n",
              "23               19  \n",
              "24                1  \n",
              "25                1  \n",
              "26               21  \n",
              "27               21  \n",
              "28               13  \n",
              "29               13  \n",
              "30                1  \n",
              "31                1  \n",
              "32               27  \n",
              "33               27  \n",
              "34               25  \n",
              "35               25  \n",
              "36                5  \n",
              "37                5  \n",
              "38               29  \n",
              "39               29  \n",
              "40               33  \n",
              "41               33  \n",
              "42                9  \n",
              "43                9  \n",
              "44               35  \n",
              "45               35  \n",
              "46               31  \n",
              "47               31  "
            ]
          },
          "metadata": {
            "tags": []
          },
          "execution_count": 30
        }
      ]
    },
    {
      "cell_type": "markdown",
      "metadata": {
        "id": "YQgqFVB5TjyP"
      },
      "source": [
        "# Low Level Interfaces: Parallelizing Compute Graphs\n",
        "Building the Compute-Graph manually"
      ]
    },
    {
      "cell_type": "code",
      "metadata": {
        "id": "-AyduDORTjyP"
      },
      "source": [
        "# simple example\n",
        "def inc(x):\n",
        "    return x + 1\n",
        "\n",
        "def double(x):\n",
        "    return x + 2\n",
        "\n",
        "def add(x, y):\n",
        "    return x + y\n",
        "\n",
        "data = [1, 2, 3, 4, 5]\n",
        "\n",
        "output = []\n",
        "for x in data:\n",
        "    a = inc(x)\n",
        "    b = double(x)\n",
        "    c = add(a, b)\n",
        "    output.append(c)\n",
        "\n",
        "total = sum(output)\n"
      ],
      "execution_count": null,
      "outputs": []
    },
    {
      "cell_type": "code",
      "metadata": {
        "id": "qU2on74ETjyQ",
        "outputId": "f39f36cc-bf40-485d-a64e-32e777e0dcda"
      },
      "source": [
        "total"
      ],
      "execution_count": null,
      "outputs": [
        {
          "output_type": "execute_result",
          "data": {
            "text/plain": [
              "45"
            ]
          },
          "metadata": {
            "tags": []
          },
          "execution_count": 32
        }
      ]
    },
    {
      "cell_type": "markdown",
      "metadata": {
        "id": "FoiGWtlITjyQ"
      },
      "source": [
        "### **Now, build a graph:**\n",
        "```dask.delayed()``` add functions and arguments to graph:"
      ]
    },
    {
      "cell_type": "code",
      "metadata": {
        "id": "j-KnOQppTjyQ"
      },
      "source": [
        "import dask\n",
        "\n",
        "output = []\n",
        "for x in data:\n",
        "    a = dask.delayed(inc)(x)\n",
        "    b = dask.delayed(double)(x)\n",
        "    c = dask.delayed(add)(a, b)\n",
        "    output.append(c)\n",
        "\n",
        "total = dask.delayed(sum)(output)\n"
      ],
      "execution_count": null,
      "outputs": []
    },
    {
      "cell_type": "code",
      "metadata": {
        "id": "Pcv4Ao3WTjyR",
        "outputId": "ed6d337e-0492-420c-addf-23335ee95604"
      },
      "source": [
        "total.visualize(filename=\"graph2.svg\")"
      ],
      "execution_count": null,
      "outputs": [
        {
          "output_type": "execute_result",
          "data": {
            "image/svg+xml": "<svg height=\"464pt\" viewBox=\"0.00 0.00 739.00 463.69\" width=\"739pt\" xmlns=\"http://www.w3.org/2000/svg\" xmlns:xlink=\"http://www.w3.org/1999/xlink\">\n<g class=\"graph\" id=\"graph0\" transform=\"scale(1 1) rotate(0) translate(4 459.6851)\">\n<title>%3</title>\n<polygon fill=\"#ffffff\" points=\"-4,4 -4,-459.6851 735,-459.6851 735,4 -4,4\" stroke=\"transparent\"/>\n<!-- &#45;4193332759711864001 -->\n<g class=\"node\" id=\"node1\">\n<title>-4193332759711864001</title>\n<polygon fill=\"none\" points=\"381,-455.6851 327,-455.6851 327,-419.6851 381,-419.6851 381,-455.6851\" stroke=\"#000000\"/>\n</g>\n<!-- 6343614786163906253 -->\n<g class=\"node\" id=\"node2\">\n<title>6343614786163906253</title>\n<ellipse cx=\"354\" cy=\"-357.6874\" fill=\"none\" rx=\"25.9954\" ry=\"25.9954\" stroke=\"#000000\"/>\n<text fill=\"#000000\" font-family=\"Times,serif\" font-size=\"14.00\" text-anchor=\"middle\" x=\"354\" y=\"-353.9874\">sum</text>\n</g>\n<!-- 6343614786163906253&#45;&gt;&#45;4193332759711864001 -->\n<g class=\"edge\" id=\"edge1\">\n<title>6343614786163906253-&gt;-4193332759711864001</title>\n<path d=\"M354,-383.8817C354,-392.0839 354,-401.1688 354,-409.502\" fill=\"none\" stroke=\"#000000\"/>\n<polygon fill=\"#000000\" points=\"350.5001,-409.5324 354,-419.5324 357.5001,-409.5324 350.5001,-409.5324\" stroke=\"#000000\"/>\n</g>\n<!-- &#45;5601979565544331740 -->\n<g class=\"node\" id=\"node3\">\n<title>-5601979565544331740</title>\n<polygon fill=\"none\" points=\"185,-295.6897 131,-295.6897 131,-259.6897 185,-259.6897 185,-295.6897\" stroke=\"#000000\"/>\n</g>\n<!-- &#45;5601979565544331740&#45;&gt;6343614786163906253 -->\n<g class=\"edge\" id=\"edge2\">\n<title>-5601979565544331740-&gt;6343614786163906253</title>\n<path d=\"M185.253,-288.8131C220.4966,-303.1978 281.8792,-328.2512 320.0962,-343.8496\" fill=\"none\" stroke=\"#000000\"/>\n<polygon fill=\"#000000\" points=\"319.1704,-347.2519 329.7515,-347.7904 321.8156,-340.771 319.1704,-347.2519\" stroke=\"#000000\"/>\n</g>\n<!-- 2225927842972734825 -->\n<g class=\"node\" id=\"node4\">\n<title>2225927842972734825</title>\n<polygon fill=\"none\" points=\"302,-295.6897 248,-295.6897 248,-259.6897 302,-259.6897 302,-295.6897\" stroke=\"#000000\"/>\n</g>\n<!-- 2225927842972734825&#45;&gt;6343614786163906253 -->\n<g class=\"edge\" id=\"edge3\">\n<title>2225927842972734825-&gt;6343614786163906253</title>\n<path d=\"M292.9263,-295.8424C303.3826,-306.4308 316.7484,-319.9654 328.3089,-331.6719\" fill=\"none\" stroke=\"#000000\"/>\n<polygon fill=\"#000000\" points=\"326.0794,-334.3954 335.5964,-339.0514 331.0602,-329.4768 326.0794,-334.3954\" stroke=\"#000000\"/>\n</g>\n<!-- 7716101102653085993 -->\n<g class=\"node\" id=\"node5\">\n<title>7716101102653085993</title>\n<polygon fill=\"none\" points=\"381,-295.6897 327,-295.6897 327,-259.6897 381,-259.6897 381,-295.6897\" stroke=\"#000000\"/>\n</g>\n<!-- 7716101102653085993&#45;&gt;6343614786163906253 -->\n<g class=\"edge\" id=\"edge4\">\n<title>7716101102653085993-&gt;6343614786163906253</title>\n<path d=\"M354,-295.8424C354,-303.3969 354,-312.4511 354,-321.2711\" fill=\"none\" stroke=\"#000000\"/>\n<polygon fill=\"#000000\" points=\"350.5001,-321.4135 354,-331.4136 357.5001,-321.4136 350.5001,-321.4135\" stroke=\"#000000\"/>\n</g>\n<!-- 3822890905068580728 -->\n<g class=\"node\" id=\"node6\">\n<title>3822890905068580728</title>\n<polygon fill=\"none\" points=\"472,-295.6897 418,-295.6897 418,-259.6897 472,-259.6897 472,-295.6897\" stroke=\"#000000\"/>\n</g>\n<!-- 3822890905068580728&#45;&gt;6343614786163906253 -->\n<g class=\"edge\" id=\"edge5\">\n<title>3822890905068580728-&gt;6343614786163906253</title>\n<path d=\"M424.3507,-295.8424C411.6383,-307.0178 395.1926,-321.4752 381.3988,-333.6013\" fill=\"none\" stroke=\"#000000\"/>\n<polygon fill=\"#000000\" points=\"378.8315,-331.198 373.6319,-340.4291 383.4533,-336.4553 378.8315,-331.198\" stroke=\"#000000\"/>\n</g>\n<!-- 123183926175771420 -->\n<g class=\"node\" id=\"node7\">\n<title>123183926175771420</title>\n<polygon fill=\"none\" points=\"601,-295.6897 547,-295.6897 547,-259.6897 601,-259.6897 601,-295.6897\" stroke=\"#000000\"/>\n</g>\n<!-- 123183926175771420&#45;&gt;6343614786163906253 -->\n<g class=\"edge\" id=\"edge6\">\n<title>123183926175771420-&gt;6343614786163906253</title>\n<path d=\"M546.5817,-287.6597C506.5087,-302.2313 431.9773,-329.3329 388.3181,-345.2085\" fill=\"none\" stroke=\"#000000\"/>\n<polygon fill=\"#000000\" points=\"386.9104,-341.9961 378.7085,-348.7028 389.3026,-348.5747 386.9104,-341.9961\" stroke=\"#000000\"/>\n</g>\n<!-- 7172916743678831527 -->\n<g class=\"node\" id=\"node8\">\n<title>7172916743678831527</title>\n<ellipse cx=\"248\" cy=\"-200.2918\" fill=\"none\" rx=\"23.2963\" ry=\"23.2963\" stroke=\"#000000\"/>\n<text fill=\"#000000\" font-family=\"Times,serif\" font-size=\"14.00\" text-anchor=\"middle\" x=\"248\" y=\"-196.5918\">add</text>\n</g>\n<!-- 7172916743678831527&#45;&gt;2225927842972734825 -->\n<g class=\"edge\" id=\"edge7\">\n<title>7172916743678831527-&gt;2225927842972734825</title>\n<path d=\"M255.8095,-222.6785C258.7743,-231.1772 262.1872,-240.9607 265.3052,-249.8987\" fill=\"none\" stroke=\"#000000\"/>\n<polygon fill=\"#000000\" points=\"262.0621,-251.2283 268.6606,-259.5174 268.6715,-248.9226 262.0621,-251.2283\" stroke=\"#000000\"/>\n</g>\n<!-- &#45;3354896027595185222 -->\n<g class=\"node\" id=\"node9\">\n<title>-3354896027595185222</title>\n<polygon fill=\"none\" points=\"202,-140.8939 148,-140.8939 148,-104.8939 202,-104.8939 202,-140.8939\" stroke=\"#000000\"/>\n</g>\n<!-- &#45;3354896027595185222&#45;&gt;7172916743678831527 -->\n<g class=\"edge\" id=\"edge8\">\n<title>-3354896027595185222-&gt;7172916743678831527</title>\n<path d=\"M192.3,-141.2361C202.0289,-151.5512 214.3021,-164.5637 224.8501,-175.7472\" fill=\"none\" stroke=\"#000000\"/>\n<polygon fill=\"#000000\" points=\"222.4169,-178.2684 231.8244,-183.1417 227.5092,-173.4655 222.4169,-178.2684\" stroke=\"#000000\"/>\n</g>\n<!-- 4708881262252500229 -->\n<g class=\"node\" id=\"node10\">\n<title>4708881262252500229</title>\n<polygon fill=\"none\" points=\"275,-140.8939 221,-140.8939 221,-104.8939 275,-104.8939 275,-140.8939\" stroke=\"#000000\"/>\n</g>\n<!-- 4708881262252500229&#45;&gt;7172916743678831527 -->\n<g class=\"edge\" id=\"edge9\">\n<title>4708881262252500229-&gt;7172916743678831527</title>\n<path d=\"M248,-141.2361C248,-148.883 248,-158.0124 248,-166.78\" fill=\"none\" stroke=\"#000000\"/>\n<polygon fill=\"#000000\" points=\"244.5001,-166.7957 248,-176.7958 251.5001,-166.7958 244.5001,-166.7957\" stroke=\"#000000\"/>\n</g>\n<!-- &#45;31886241827526880 -->\n<g class=\"node\" id=\"node11\">\n<title>-31886241827526880</title>\n<ellipse cx=\"174\" cy=\"-34.4469\" fill=\"none\" rx=\"21.3963\" ry=\"21.3963\" stroke=\"#000000\"/>\n<text fill=\"#000000\" font-family=\"Times,serif\" font-size=\"14.00\" text-anchor=\"middle\" x=\"174\" y=\"-30.7469\">inc</text>\n</g>\n<!-- &#45;31886241827526880&#45;&gt;&#45;3354896027595185222 -->\n<g class=\"edge\" id=\"edge10\">\n<title>-31886241827526880-&gt;-3354896027595185222</title>\n<path d=\"M174.2472,-56.3102C174.3778,-67.8634 174.5397,-82.1795 174.6798,-94.5732\" fill=\"none\" stroke=\"#000000\"/>\n<polygon fill=\"#000000\" points=\"171.1831,-94.8923 174.796,-104.852 178.1826,-94.8131 171.1831,-94.8923\" stroke=\"#000000\"/>\n</g>\n<!-- 1885105711440416243 -->\n<g class=\"node\" id=\"node12\">\n<title>1885105711440416243</title>\n<ellipse cx=\"248\" cy=\"-34.4469\" fill=\"none\" rx=\"34.394\" ry=\"34.394\" stroke=\"#000000\"/>\n<text fill=\"#000000\" font-family=\"Times,serif\" font-size=\"14.00\" text-anchor=\"middle\" x=\"248\" y=\"-30.7469\">double</text>\n</g>\n<!-- 1885105711440416243&#45;&gt;4708881262252500229 -->\n<g class=\"edge\" id=\"edge11\">\n<title>1885105711440416243-&gt;4708881262252500229</title>\n<path d=\"M248,-68.8961C248,-77.395 248,-86.401 248,-94.5715\" fill=\"none\" stroke=\"#000000\"/>\n<polygon fill=\"#000000\" points=\"244.5001,-94.7183 248,-104.7184 251.5001,-94.7184 244.5001,-94.7183\" stroke=\"#000000\"/>\n</g>\n<!-- 4274155834350930322 -->\n<g class=\"node\" id=\"node13\">\n<title>4274155834350930322</title>\n<ellipse cx=\"631\" cy=\"-200.2918\" fill=\"none\" rx=\"23.2963\" ry=\"23.2963\" stroke=\"#000000\"/>\n<text fill=\"#000000\" font-family=\"Times,serif\" font-size=\"14.00\" text-anchor=\"middle\" x=\"631\" y=\"-196.5918\">add</text>\n</g>\n<!-- 4274155834350930322&#45;&gt;123183926175771420 -->\n<g class=\"edge\" id=\"edge12\">\n<title>4274155834350930322-&gt;123183926175771420</title>\n<path d=\"M616.9101,-219.4239C609.7824,-229.1022 601.023,-240.9964 593.2807,-251.5092\" fill=\"none\" stroke=\"#000000\"/>\n<polygon fill=\"#000000\" points=\"590.4521,-249.4479 587.3403,-259.5754 596.0886,-253.5989 590.4521,-249.4479\" stroke=\"#000000\"/>\n</g>\n<!-- 2141625721504840260 -->\n<g class=\"node\" id=\"node14\">\n<title>2141625721504840260</title>\n<polygon fill=\"none\" points=\"658,-140.8939 604,-140.8939 604,-104.8939 658,-104.8939 658,-140.8939\" stroke=\"#000000\"/>\n</g>\n<!-- 2141625721504840260&#45;&gt;4274155834350930322 -->\n<g class=\"edge\" id=\"edge13\">\n<title>2141625721504840260-&gt;4274155834350930322</title>\n<path d=\"M631,-141.2361C631,-148.883 631,-158.0124 631,-166.78\" fill=\"none\" stroke=\"#000000\"/>\n<polygon fill=\"#000000\" points=\"627.5001,-166.7957 631,-176.7958 634.5001,-166.7958 627.5001,-166.7957\" stroke=\"#000000\"/>\n</g>\n<!-- &#45;590274212081968483 -->\n<g class=\"node\" id=\"node15\">\n<title>-590274212081968483</title>\n<polygon fill=\"none\" points=\"731,-140.8939 677,-140.8939 677,-104.8939 731,-104.8939 731,-140.8939\" stroke=\"#000000\"/>\n</g>\n<!-- &#45;590274212081968483&#45;&gt;4274155834350930322 -->\n<g class=\"edge\" id=\"edge14\">\n<title>-590274212081968483-&gt;4274155834350930322</title>\n<path d=\"M686.7,-141.2361C676.9711,-151.5512 664.6979,-164.5637 654.1499,-175.7472\" fill=\"none\" stroke=\"#000000\"/>\n<polygon fill=\"#000000\" points=\"651.4908,-173.4655 647.1756,-183.1417 656.5831,-178.2684 651.4908,-173.4655\" stroke=\"#000000\"/>\n</g>\n<!-- 7703483425262638587 -->\n<g class=\"node\" id=\"node16\">\n<title>7703483425262638587</title>\n<ellipse cx=\"705\" cy=\"-34.4469\" fill=\"none\" rx=\"21.3963\" ry=\"21.3963\" stroke=\"#000000\"/>\n<text fill=\"#000000\" font-family=\"Times,serif\" font-size=\"14.00\" text-anchor=\"middle\" x=\"705\" y=\"-30.7469\">inc</text>\n</g>\n<!-- 7703483425262638587&#45;&gt;&#45;590274212081968483 -->\n<g class=\"edge\" id=\"edge15\">\n<title>7703483425262638587-&gt;-590274212081968483</title>\n<path d=\"M704.7528,-56.3102C704.6222,-67.8634 704.4603,-82.1795 704.3202,-94.5732\" fill=\"none\" stroke=\"#000000\"/>\n<polygon fill=\"#000000\" points=\"700.8174,-94.8131 704.204,-104.852 707.8169,-94.8923 700.8174,-94.8131\" stroke=\"#000000\"/>\n</g>\n<!-- 74689237858505674 -->\n<g class=\"node\" id=\"node17\">\n<title>74689237858505674</title>\n<ellipse cx=\"631\" cy=\"-34.4469\" fill=\"none\" rx=\"34.394\" ry=\"34.394\" stroke=\"#000000\"/>\n<text fill=\"#000000\" font-family=\"Times,serif\" font-size=\"14.00\" text-anchor=\"middle\" x=\"631\" y=\"-30.7469\">double</text>\n</g>\n<!-- 74689237858505674&#45;&gt;2141625721504840260 -->\n<g class=\"edge\" id=\"edge16\">\n<title>74689237858505674-&gt;2141625721504840260</title>\n<path d=\"M631,-68.8961C631,-77.395 631,-86.401 631,-94.5715\" fill=\"none\" stroke=\"#000000\"/>\n<polygon fill=\"#000000\" points=\"627.5001,-94.7183 631,-104.7184 634.5001,-94.7184 627.5001,-94.7183\" stroke=\"#000000\"/>\n</g>\n<!-- &#45;4045005755219911026 -->\n<g class=\"node\" id=\"node18\">\n<title>-4045005755219911026</title>\n<ellipse cx=\"483\" cy=\"-200.2918\" fill=\"none\" rx=\"23.2963\" ry=\"23.2963\" stroke=\"#000000\"/>\n<text fill=\"#000000\" font-family=\"Times,serif\" font-size=\"14.00\" text-anchor=\"middle\" x=\"483\" y=\"-196.5918\">add</text>\n</g>\n<!-- &#45;4045005755219911026&#45;&gt;3822890905068580728 -->\n<g class=\"edge\" id=\"edge17\">\n<title>-4045005755219911026-&gt;3822890905068580728</title>\n<path d=\"M472.6163,-221.4411C468.2324,-230.3704 463.0719,-240.8811 458.4057,-250.3851\" fill=\"none\" stroke=\"#000000\"/>\n<polygon fill=\"#000000\" points=\"455.2168,-248.9388 453.9513,-259.4578 461.5003,-252.0238 455.2168,-248.9388\" stroke=\"#000000\"/>\n</g>\n<!-- &#45;7198671106421773516 -->\n<g class=\"node\" id=\"node19\">\n<title>-7198671106421773516</title>\n<polygon fill=\"none\" points=\"510,-140.8939 456,-140.8939 456,-104.8939 510,-104.8939 510,-140.8939\" stroke=\"#000000\"/>\n</g>\n<!-- &#45;7198671106421773516&#45;&gt;&#45;4045005755219911026 -->\n<g class=\"edge\" id=\"edge18\">\n<title>-7198671106421773516-&gt;-4045005755219911026</title>\n<path d=\"M483,-141.2361C483,-148.883 483,-158.0124 483,-166.78\" fill=\"none\" stroke=\"#000000\"/>\n<polygon fill=\"#000000\" points=\"479.5001,-166.7957 483,-176.7958 486.5001,-166.7958 479.5001,-166.7957\" stroke=\"#000000\"/>\n</g>\n<!-- &#45;1329334863325457451 -->\n<g class=\"node\" id=\"node20\">\n<title>-1329334863325457451</title>\n<polygon fill=\"none\" points=\"583,-140.8939 529,-140.8939 529,-104.8939 583,-104.8939 583,-140.8939\" stroke=\"#000000\"/>\n</g>\n<!-- &#45;1329334863325457451&#45;&gt;&#45;4045005755219911026 -->\n<g class=\"edge\" id=\"edge19\">\n<title>-1329334863325457451-&gt;-4045005755219911026</title>\n<path d=\"M538.7,-141.2361C528.9711,-151.5512 516.6979,-164.5637 506.1499,-175.7472\" fill=\"none\" stroke=\"#000000\"/>\n<polygon fill=\"#000000\" points=\"503.4908,-173.4655 499.1756,-183.1417 508.5831,-178.2684 503.4908,-173.4655\" stroke=\"#000000\"/>\n</g>\n<!-- 8250244861185396227 -->\n<g class=\"node\" id=\"node21\">\n<title>8250244861185396227</title>\n<ellipse cx=\"557\" cy=\"-34.4469\" fill=\"none\" rx=\"21.3963\" ry=\"21.3963\" stroke=\"#000000\"/>\n<text fill=\"#000000\" font-family=\"Times,serif\" font-size=\"14.00\" text-anchor=\"middle\" x=\"557\" y=\"-30.7469\">inc</text>\n</g>\n<!-- 8250244861185396227&#45;&gt;&#45;1329334863325457451 -->\n<g class=\"edge\" id=\"edge20\">\n<title>8250244861185396227-&gt;-1329334863325457451</title>\n<path d=\"M556.7528,-56.3102C556.6222,-67.8634 556.4603,-82.1795 556.3202,-94.5732\" fill=\"none\" stroke=\"#000000\"/>\n<polygon fill=\"#000000\" points=\"552.8174,-94.8131 556.204,-104.852 559.8169,-94.8923 552.8174,-94.8131\" stroke=\"#000000\"/>\n</g>\n<!-- &#45;4275662820399841862 -->\n<g class=\"node\" id=\"node22\">\n<title>-4275662820399841862</title>\n<ellipse cx=\"483\" cy=\"-34.4469\" fill=\"none\" rx=\"34.394\" ry=\"34.394\" stroke=\"#000000\"/>\n<text fill=\"#000000\" font-family=\"Times,serif\" font-size=\"14.00\" text-anchor=\"middle\" x=\"483\" y=\"-30.7469\">double</text>\n</g>\n<!-- &#45;4275662820399841862&#45;&gt;&#45;7198671106421773516 -->\n<g class=\"edge\" id=\"edge21\">\n<title>-4275662820399841862-&gt;-7198671106421773516</title>\n<path d=\"M483,-68.8961C483,-77.395 483,-86.401 483,-94.5715\" fill=\"none\" stroke=\"#000000\"/>\n<polygon fill=\"#000000\" points=\"479.5001,-94.7183 483,-104.7184 486.5001,-94.7184 479.5001,-94.7183\" stroke=\"#000000\"/>\n</g>\n<!-- &#45;5392886245903772697 -->\n<g class=\"node\" id=\"node23\">\n<title>-5392886245903772697</title>\n<ellipse cx=\"354\" cy=\"-200.2918\" fill=\"none\" rx=\"23.2963\" ry=\"23.2963\" stroke=\"#000000\"/>\n<text fill=\"#000000\" font-family=\"Times,serif\" font-size=\"14.00\" text-anchor=\"middle\" x=\"354\" y=\"-196.5918\">add</text>\n</g>\n<!-- &#45;5392886245903772697&#45;&gt;7716101102653085993 -->\n<g class=\"edge\" id=\"edge22\">\n<title>-5392886245903772697-&gt;7716101102653085993</title>\n<path d=\"M354,-223.9343C354,-231.9363 354,-240.9559 354,-249.2885\" fill=\"none\" stroke=\"#000000\"/>\n<polygon fill=\"#000000\" points=\"350.5001,-249.3475 354,-259.3475 357.5001,-249.3475 350.5001,-249.3475\" stroke=\"#000000\"/>\n</g>\n<!-- 611739531030867384 -->\n<g class=\"node\" id=\"node24\">\n<title>611739531030867384</title>\n<polygon fill=\"none\" points=\"362,-140.8939 308,-140.8939 308,-104.8939 362,-104.8939 362,-140.8939\" stroke=\"#000000\"/>\n</g>\n<!-- 611739531030867384&#45;&gt;&#45;5392886245903772697 -->\n<g class=\"edge\" id=\"edge23\">\n<title>611739531030867384-&gt;-5392886245903772697</title>\n<path d=\"M339.5027,-141.2361C341.4322,-149.096 343.7462,-158.5222 345.953,-167.5119\" fill=\"none\" stroke=\"#000000\"/>\n<polygon fill=\"#000000\" points=\"342.5897,-168.4921 348.3729,-177.3693 349.3878,-166.8232 342.5897,-168.4921\" stroke=\"#000000\"/>\n</g>\n<!-- &#45;7965372695328193838 -->\n<g class=\"node\" id=\"node25\">\n<title>-7965372695328193838</title>\n<polygon fill=\"none\" points=\"435,-140.8939 381,-140.8939 381,-104.8939 435,-104.8939 435,-140.8939\" stroke=\"#000000\"/>\n</g>\n<!-- &#45;7965372695328193838&#45;&gt;&#45;5392886245903772697 -->\n<g class=\"edge\" id=\"edge24\">\n<title>-7965372695328193838-&gt;-5392886245903772697</title>\n<path d=\"M395.2028,-141.2361C388.6727,-150.5957 380.5931,-162.1761 373.3233,-172.5958\" fill=\"none\" stroke=\"#000000\"/>\n<polygon fill=\"#000000\" points=\"370.3105,-170.7973 367.4589,-181.0012 376.0513,-174.8026 370.3105,-170.7973\" stroke=\"#000000\"/>\n</g>\n<!-- 303497977687142888 -->\n<g class=\"node\" id=\"node26\">\n<title>303497977687142888</title>\n<ellipse cx=\"409\" cy=\"-34.4469\" fill=\"none\" rx=\"21.3963\" ry=\"21.3963\" stroke=\"#000000\"/>\n<text fill=\"#000000\" font-family=\"Times,serif\" font-size=\"14.00\" text-anchor=\"middle\" x=\"409\" y=\"-30.7469\">inc</text>\n</g>\n<!-- 303497977687142888&#45;&gt;&#45;7965372695328193838 -->\n<g class=\"edge\" id=\"edge25\">\n<title>303497977687142888-&gt;-7965372695328193838</title>\n<path d=\"M408.7528,-56.3102C408.6222,-67.8634 408.4603,-82.1795 408.3202,-94.5732\" fill=\"none\" stroke=\"#000000\"/>\n<polygon fill=\"#000000\" points=\"404.8174,-94.8131 408.204,-104.852 411.8169,-94.8923 404.8174,-94.8131\" stroke=\"#000000\"/>\n</g>\n<!-- &#45;3935487232658763954 -->\n<g class=\"node\" id=\"node27\">\n<title>-3935487232658763954</title>\n<ellipse cx=\"335\" cy=\"-34.4469\" fill=\"none\" rx=\"34.394\" ry=\"34.394\" stroke=\"#000000\"/>\n<text fill=\"#000000\" font-family=\"Times,serif\" font-size=\"14.00\" text-anchor=\"middle\" x=\"335\" y=\"-30.7469\">double</text>\n</g>\n<!-- &#45;3935487232658763954&#45;&gt;611739531030867384 -->\n<g class=\"edge\" id=\"edge26\">\n<title>-3935487232658763954-&gt;611739531030867384</title>\n<path d=\"M335,-68.8961C335,-77.395 335,-86.401 335,-94.5715\" fill=\"none\" stroke=\"#000000\"/>\n<polygon fill=\"#000000\" points=\"331.5001,-94.7183 335,-104.7184 338.5001,-94.7184 331.5001,-94.7183\" stroke=\"#000000\"/>\n</g>\n<!-- &#45;5670022270201407766 -->\n<g class=\"node\" id=\"node28\">\n<title>-5670022270201407766</title>\n<ellipse cx=\"100\" cy=\"-200.2918\" fill=\"none\" rx=\"23.2963\" ry=\"23.2963\" stroke=\"#000000\"/>\n<text fill=\"#000000\" font-family=\"Times,serif\" font-size=\"14.00\" text-anchor=\"middle\" x=\"100\" y=\"-196.5918\">add</text>\n</g>\n<!-- &#45;5670022270201407766&#45;&gt;&#45;5601979565544331740 -->\n<g class=\"edge\" id=\"edge27\">\n<title>-5670022270201407766-&gt;-5601979565544331740</title>\n<path d=\"M114.0402,-219.0277C121.3415,-228.7709 130.385,-240.839 138.3676,-251.4913\" fill=\"none\" stroke=\"#000000\"/>\n<polygon fill=\"#000000\" points=\"135.6908,-253.7558 144.4885,-259.6593 141.2925,-249.558 135.6908,-253.7558\" stroke=\"#000000\"/>\n</g>\n<!-- 2471835606298327949 -->\n<g class=\"node\" id=\"node29\">\n<title>2471835606298327949</title>\n<polygon fill=\"none\" points=\"54,-140.8939 0,-140.8939 0,-104.8939 54,-104.8939 54,-140.8939\" stroke=\"#000000\"/>\n</g>\n<!-- 2471835606298327949&#45;&gt;&#45;5670022270201407766 -->\n<g class=\"edge\" id=\"edge28\">\n<title>2471835606298327949-&gt;-5670022270201407766</title>\n<path d=\"M44.3,-141.2361C54.0289,-151.5512 66.3021,-164.5637 76.8501,-175.7472\" fill=\"none\" stroke=\"#000000\"/>\n<polygon fill=\"#000000\" points=\"74.4169,-178.2684 83.8244,-183.1417 79.5092,-173.4655 74.4169,-178.2684\" stroke=\"#000000\"/>\n</g>\n<!-- 5093373341307499135 -->\n<g class=\"node\" id=\"node30\">\n<title>5093373341307499135</title>\n<polygon fill=\"none\" points=\"127,-140.8939 73,-140.8939 73,-104.8939 127,-104.8939 127,-140.8939\" stroke=\"#000000\"/>\n</g>\n<!-- 5093373341307499135&#45;&gt;&#45;5670022270201407766 -->\n<g class=\"edge\" id=\"edge29\">\n<title>5093373341307499135-&gt;-5670022270201407766</title>\n<path d=\"M100,-141.2361C100,-148.883 100,-158.0124 100,-166.78\" fill=\"none\" stroke=\"#000000\"/>\n<polygon fill=\"#000000\" points=\"96.5001,-166.7957 100,-176.7958 103.5001,-166.7958 96.5001,-166.7957\" stroke=\"#000000\"/>\n</g>\n<!-- 8722455391334830379 -->\n<g class=\"node\" id=\"node31\">\n<title>8722455391334830379</title>\n<ellipse cx=\"26\" cy=\"-34.4469\" fill=\"none\" rx=\"21.3963\" ry=\"21.3963\" stroke=\"#000000\"/>\n<text fill=\"#000000\" font-family=\"Times,serif\" font-size=\"14.00\" text-anchor=\"middle\" x=\"26\" y=\"-30.7469\">inc</text>\n</g>\n<!-- 8722455391334830379&#45;&gt;2471835606298327949 -->\n<g class=\"edge\" id=\"edge30\">\n<title>8722455391334830379-&gt;2471835606298327949</title>\n<path d=\"M26.2472,-56.3102C26.3778,-67.8634 26.5397,-82.1795 26.6798,-94.5732\" fill=\"none\" stroke=\"#000000\"/>\n<polygon fill=\"#000000\" points=\"23.1831,-94.8923 26.796,-104.852 30.1826,-94.8131 23.1831,-94.8923\" stroke=\"#000000\"/>\n</g>\n<!-- 5282032990715702157 -->\n<g class=\"node\" id=\"node32\">\n<title>5282032990715702157</title>\n<ellipse cx=\"100\" cy=\"-34.4469\" fill=\"none\" rx=\"34.394\" ry=\"34.394\" stroke=\"#000000\"/>\n<text fill=\"#000000\" font-family=\"Times,serif\" font-size=\"14.00\" text-anchor=\"middle\" x=\"100\" y=\"-30.7469\">double</text>\n</g>\n<!-- 5282032990715702157&#45;&gt;5093373341307499135 -->\n<g class=\"edge\" id=\"edge31\">\n<title>5282032990715702157-&gt;5093373341307499135</title>\n<path d=\"M100,-68.8961C100,-77.395 100,-86.401 100,-94.5715\" fill=\"none\" stroke=\"#000000\"/>\n<polygon fill=\"#000000\" points=\"96.5001,-94.7183 100,-104.7184 103.5001,-94.7184 96.5001,-94.7183\" stroke=\"#000000\"/>\n</g>\n</g>\n</svg>",
            "text/plain": [
              "<IPython.core.display.SVG object>"
            ]
          },
          "metadata": {
            "tags": []
          },
          "execution_count": 34
        }
      ]
    },
    {
      "cell_type": "code",
      "metadata": {
        "id": "Asdgq5cYTjyR",
        "outputId": "408c5821-fafb-4c45-8a99-434fd7600658"
      },
      "source": [
        "#call copute to execute\n",
        "total.compute()"
      ],
      "execution_count": null,
      "outputs": [
        {
          "output_type": "execute_result",
          "data": {
            "text/plain": [
              "45"
            ]
          },
          "metadata": {
            "tags": []
          },
          "execution_count": 35
        }
      ]
    },
    {
      "cell_type": "code",
      "metadata": {
        "id": "8kw3RZxjTjyT"
      },
      "source": [
        ""
      ],
      "execution_count": null,
      "outputs": []
    }
  ]
}