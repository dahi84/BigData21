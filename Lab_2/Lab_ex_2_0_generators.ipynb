{
  "nbformat": 4,
  "nbformat_minor": 0,
  "metadata": {
    "kernelspec": {
      "display_name": "Python 3",
      "language": "python",
      "name": "python3"
    },
    "language_info": {
      "codemirror_mode": {
        "name": "ipython",
        "version": 3
      },
      "file_extension": ".py",
      "mimetype": "text/x-python",
      "name": "python",
      "nbconvert_exporter": "python",
      "pygments_lexer": "ipython3",
      "version": "3.7.6"
    },
    "colab": {
      "name": "Lab_ex_2_0_generators.ipynb",
      "provenance": []
    }
  },
  "cells": [
    {
      "cell_type": "markdown",
      "metadata": {
        "id": "q6H3gPeY9O98"
      },
      "source": [
        "# Excursion: *Python* Generators"
      ]
    },
    {
      "cell_type": "markdown",
      "metadata": {
        "id": "SYdwIwqs9O99"
      },
      "source": [
        "### Recall *Iterables*"
      ]
    },
    {
      "cell_type": "code",
      "metadata": {
        "id": "bgAp98Aa9O9-",
        "outputId": "655bf3fb-1f2d-4cb2-839c-68b294590c2e",
        "colab": {
          "base_uri": "https://localhost:8080/"
        }
      },
      "source": [
        "a = [1,2,3,4,5]\n",
        "\n",
        "for i in a:\n",
        "    print(i)"
      ],
      "execution_count": 1,
      "outputs": [
        {
          "output_type": "stream",
          "text": [
            "1\n",
            "2\n",
            "3\n",
            "4\n",
            "5\n"
          ],
          "name": "stdout"
        }
      ]
    },
    {
      "cell_type": "markdown",
      "metadata": {
        "id": "EmVIJ7v79O9_"
      },
      "source": [
        "### Generators are *iterable* objects that compute the next output"
      ]
    },
    {
      "cell_type": "code",
      "metadata": {
        "id": "xX3ZAA-89O-A",
        "outputId": "72419c07-4ac8-463b-f60b-95f4c1c37ff5",
        "colab": {
          "base_uri": "https://localhost:8080/"
        }
      },
      "source": [
        "myGen = (x*x for x in range(5))\n",
        "\n",
        "for i in myGen:\n",
        "    print(i)"
      ],
      "execution_count": 2,
      "outputs": [
        {
          "output_type": "stream",
          "text": [
            "0\n",
            "1\n",
            "4\n",
            "9\n",
            "16\n"
          ],
          "name": "stdout"
        }
      ]
    },
    {
      "cell_type": "markdown",
      "metadata": {
        "id": "7uh6RFb-9O-B"
      },
      "source": [
        "### The ``yield`` keyword \n",
        "is basically just like `return``, but it returns the **next** value of a *generator*"
      ]
    },
    {
      "cell_type": "code",
      "metadata": {
        "id": "KQkT7swh9O-B"
      },
      "source": [
        "def abc_generator():\n",
        "    yield(\"a\")\n",
        "    yield(\"b\")\n",
        "    yield(\"c\")\n",
        "    \n",
        "gen = abc_generator()\n"
      ],
      "execution_count": 3,
      "outputs": []
    },
    {
      "cell_type": "code",
      "metadata": {
        "id": "w7FxE_Og9O-C",
        "outputId": "573fd19e-55f7-4d53-ccfd-c2547a2184a7",
        "colab": {
          "base_uri": "https://localhost:8080/"
        }
      },
      "source": [
        "for i in gen:\n",
        "    print(i)"
      ],
      "execution_count": 4,
      "outputs": [
        {
          "output_type": "stream",
          "text": [
            "a\n",
            "b\n",
            "c\n"
          ],
          "name": "stdout"
        }
      ]
    },
    {
      "cell_type": "markdown",
      "metadata": {
        "id": "YSCIgoBL9O-C"
      },
      "source": [
        "#### a more complex example\n"
      ]
    },
    {
      "cell_type": "code",
      "metadata": {
        "id": "E9E9EPrA9O-D",
        "outputId": "004f6ece-6382-4853-abad-ac3e226cb50f",
        "colab": {
          "base_uri": "https://localhost:8080/"
        }
      },
      "source": [
        "def fibonacci(n):\n",
        "    a, b, counter = 0, 1, 0\n",
        "    while True:\n",
        "        if (counter > n): return\n",
        "        yield a\n",
        "        a, b = b, a + b\n",
        "        counter += 1\n",
        "        \n",
        "f = fibonacci(20)\n",
        "for i in f:\n",
        "    print(i),\n",
        "print\n"
      ],
      "execution_count": 6,
      "outputs": [
        {
          "output_type": "stream",
          "text": [
            "0\n",
            "1\n",
            "1\n",
            "2\n",
            "3\n",
            "5\n",
            "8\n",
            "13\n",
            "21\n",
            "34\n",
            "55\n",
            "89\n",
            "144\n",
            "233\n",
            "377\n",
            "610\n",
            "987\n",
            "1597\n",
            "2584\n",
            "4181\n",
            "6765\n"
          ],
          "name": "stdout"
        },
        {
          "output_type": "execute_result",
          "data": {
            "text/plain": [
              "<function print>"
            ]
          },
          "metadata": {
            "tags": []
          },
          "execution_count": 6
        }
      ]
    },
    {
      "cell_type": "code",
      "metadata": {
        "id": "LyS778Xo9O-E"
      },
      "source": [
        ""
      ],
      "execution_count": null,
      "outputs": []
    }
  ]
}