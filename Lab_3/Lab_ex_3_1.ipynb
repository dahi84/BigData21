{
  "nbformat": 4,
  "nbformat_minor": 0,
  "metadata": {
    "kernelspec": {
      "display_name": "Python 3",
      "language": "python",
      "name": "python3"
    },
    "language_info": {
      "codemirror_mode": {
        "name": "ipython",
        "version": 3
      },
      "file_extension": ".py",
      "mimetype": "text/x-python",
      "name": "python",
      "nbconvert_exporter": "python",
      "pygments_lexer": "ipython3",
      "version": "3.7.6"
    },
    "colab": {
      "name": "Lab_ex_3_1.ipynb",
      "provenance": []
    }
  },
  "cells": [
    {
      "cell_type": "markdown",
      "metadata": {
        "id": "9fKH493SGFQ7"
      },
      "source": [
        "# Ex. 3.1 Hive\n",
        "We use the *pyHive* lib: https://github.com/dropbox/PyHive \n",
        "\n",
        "## Resources\n",
        "* [HQL cheat sheet](http://hortonworks.com/wp-content/uploads/2016/05/Hortonworks.CheatSheet.SQLtoHive.pdf)\n",
        "* [Hive reference](https://cwiki.apache.org/confluence/display/Hive/LanguageManual)\n",
        "\n",
        "## Install\n",
        "Install *pyHive* via *anaconda*"
      ]
    },
    {
      "cell_type": "code",
      "metadata": {
        "id": "jGpq8oQ4GFQ9",
        "outputId": "92d1221e-4d65-433b-a52a-385e2528f37f",
        "colab": {
          "base_uri": "https://localhost:8080/"
        }
      },
      "source": [
        "from platform import python_version\n",
        "\n",
        "print(python_version())"
      ],
      "execution_count": 1,
      "outputs": [
        {
          "output_type": "stream",
          "text": [
            "3.7.10\n"
          ],
          "name": "stdout"
        }
      ]
    },
    {
      "cell_type": "code",
      "metadata": {
        "id": "2WVikJVdGH_B",
        "outputId": "0d819bdd-8250-4122-d9b9-4a8771d2eec8",
        "colab": {
          "base_uri": "https://localhost:8080/"
        }
      },
      "source": [
        "! sudo apt-get update && apt-get install -y libsasl2-modules libsasl2-dev"
      ],
      "execution_count": 2,
      "outputs": [
        {
          "output_type": "stream",
          "text": [
            "\r0% [Working]\r            \rGet:1 http://security.ubuntu.com/ubuntu bionic-security InRelease [88.7 kB]\n",
            "\r0% [Connecting to archive.ubuntu.com] [1 InRelease 14.2 kB/88.7 kB 16%] [Connec\r                                                                               \rGet:2 https://cloud.r-project.org/bin/linux/ubuntu bionic-cran40/ InRelease [3,626 B]\n",
            "Ign:3 https://developer.download.nvidia.com/compute/cuda/repos/ubuntu1804/x86_64  InRelease\n",
            "Get:4 http://ppa.launchpad.net/c2d4u.team/c2d4u4.0+/ubuntu bionic InRelease [15.9 kB]\n",
            "Ign:5 https://developer.download.nvidia.com/compute/machine-learning/repos/ubuntu1804/x86_64  InRelease\n",
            "Get:6 https://developer.download.nvidia.com/compute/cuda/repos/ubuntu1804/x86_64  Release [697 B]\n",
            "Hit:7 https://developer.download.nvidia.com/compute/machine-learning/repos/ubuntu1804/x86_64  Release\n",
            "Get:8 https://developer.download.nvidia.com/compute/cuda/repos/ubuntu1804/x86_64  Release.gpg [836 B]\n",
            "Hit:9 http://archive.ubuntu.com/ubuntu bionic InRelease\n",
            "Get:10 https://cloud.r-project.org/bin/linux/ubuntu bionic-cran40/ Packages [61.8 kB]\n",
            "Get:11 http://archive.ubuntu.com/ubuntu bionic-updates InRelease [88.7 kB]\n",
            "Hit:12 http://ppa.launchpad.net/cran/libgit2/ubuntu bionic InRelease\n",
            "Get:13 http://security.ubuntu.com/ubuntu bionic-security/universe amd64 Packages [1,415 kB]\n",
            "Get:15 http://security.ubuntu.com/ubuntu bionic-security/main amd64 Packages [2,185 kB]\n",
            "Get:16 http://ppa.launchpad.net/deadsnakes/ppa/ubuntu bionic InRelease [15.9 kB]\n",
            "Get:17 http://security.ubuntu.com/ubuntu bionic-security/restricted amd64 Packages [450 kB]\n",
            "Get:18 http://archive.ubuntu.com/ubuntu bionic-backports InRelease [74.6 kB]\n",
            "Ign:19 https://developer.download.nvidia.com/compute/cuda/repos/ubuntu1804/x86_64  Packages\n",
            "Get:19 https://developer.download.nvidia.com/compute/cuda/repos/ubuntu1804/x86_64  Packages [800 kB]\n",
            "Get:20 http://ppa.launchpad.net/graphics-drivers/ppa/ubuntu bionic InRelease [21.3 kB]\n",
            "Get:21 http://ppa.launchpad.net/c2d4u.team/c2d4u4.0+/ubuntu bionic/main Sources [1,771 kB]\n",
            "Get:22 http://archive.ubuntu.com/ubuntu bionic-updates/restricted amd64 Packages [481 kB]\n",
            "Get:23 http://archive.ubuntu.com/ubuntu bionic-updates/universe amd64 Packages [2,184 kB]\n",
            "Get:24 http://archive.ubuntu.com/ubuntu bionic-updates/multiverse amd64 Packages [33.5 kB]\n",
            "Get:25 http://archive.ubuntu.com/ubuntu bionic-updates/main amd64 Packages [2,619 kB]\n",
            "Get:26 http://ppa.launchpad.net/c2d4u.team/c2d4u4.0+/ubuntu bionic/main amd64 Packages [906 kB]\n",
            "Get:27 http://ppa.launchpad.net/deadsnakes/ppa/ubuntu bionic/main amd64 Packages [40.9 kB]\n",
            "Get:28 http://ppa.launchpad.net/graphics-drivers/ppa/ubuntu bionic/main amd64 Packages [41.6 kB]\n",
            "Fetched 13.3 MB in 4s (3,765 kB/s)\n",
            "Reading package lists... Done\n",
            "Reading package lists... Done\n",
            "Building dependency tree       \n",
            "Reading state information... Done\n",
            "The following additional packages will be installed:\n",
            "  libsasl2-2 libsasl2-modules-db\n",
            "Suggested packages:\n",
            "  libsasl2-modules-gssapi-mit | libsasl2-modules-gssapi-heimdal\n",
            "  libsasl2-modules-ldap libsasl2-modules-otp libsasl2-modules-sql\n",
            "The following NEW packages will be installed:\n",
            "  libsasl2-dev libsasl2-modules\n",
            "The following packages will be upgraded:\n",
            "  libsasl2-2 libsasl2-modules-db\n",
            "2 upgraded, 2 newly installed, 0 to remove and 46 not upgraded.\n",
            "Need to get 369 kB of archives.\n",
            "After this operation, 1,079 kB of additional disk space will be used.\n",
            "Get:1 http://archive.ubuntu.com/ubuntu bionic-updates/main amd64 libsasl2-modules-db amd64 2.1.27~101-g0780600+dfsg-3ubuntu2.3 [15.0 kB]\n",
            "Get:2 http://archive.ubuntu.com/ubuntu bionic-updates/main amd64 libsasl2-2 amd64 2.1.27~101-g0780600+dfsg-3ubuntu2.3 [49.2 kB]\n",
            "Get:3 http://archive.ubuntu.com/ubuntu bionic-updates/main amd64 libsasl2-dev amd64 2.1.27~101-g0780600+dfsg-3ubuntu2.3 [256 kB]\n",
            "Get:4 http://archive.ubuntu.com/ubuntu bionic-updates/main amd64 libsasl2-modules amd64 2.1.27~101-g0780600+dfsg-3ubuntu2.3 [48.9 kB]\n",
            "Fetched 369 kB in 1s (424 kB/s)\n",
            "(Reading database ... 160772 files and directories currently installed.)\n",
            "Preparing to unpack .../libsasl2-modules-db_2.1.27~101-g0780600+dfsg-3ubuntu2.3_amd64.deb ...\n",
            "Unpacking libsasl2-modules-db:amd64 (2.1.27~101-g0780600+dfsg-3ubuntu2.3) over (2.1.27~101-g0780600+dfsg-3ubuntu2.1) ...\n",
            "Preparing to unpack .../libsasl2-2_2.1.27~101-g0780600+dfsg-3ubuntu2.3_amd64.deb ...\n",
            "Unpacking libsasl2-2:amd64 (2.1.27~101-g0780600+dfsg-3ubuntu2.3) over (2.1.27~101-g0780600+dfsg-3ubuntu2.1) ...\n",
            "Selecting previously unselected package libsasl2-dev.\n",
            "Preparing to unpack .../libsasl2-dev_2.1.27~101-g0780600+dfsg-3ubuntu2.3_amd64.deb ...\n",
            "Unpacking libsasl2-dev (2.1.27~101-g0780600+dfsg-3ubuntu2.3) ...\n",
            "Selecting previously unselected package libsasl2-modules:amd64.\n",
            "Preparing to unpack .../libsasl2-modules_2.1.27~101-g0780600+dfsg-3ubuntu2.3_amd64.deb ...\n",
            "Unpacking libsasl2-modules:amd64 (2.1.27~101-g0780600+dfsg-3ubuntu2.3) ...\n",
            "Setting up libsasl2-modules-db:amd64 (2.1.27~101-g0780600+dfsg-3ubuntu2.3) ...\n",
            "Setting up libsasl2-2:amd64 (2.1.27~101-g0780600+dfsg-3ubuntu2.3) ...\n",
            "Setting up libsasl2-dev (2.1.27~101-g0780600+dfsg-3ubuntu2.3) ...\n",
            "Setting up libsasl2-modules:amd64 (2.1.27~101-g0780600+dfsg-3ubuntu2.3) ...\n",
            "Processing triggers for man-db (2.8.3-2ubuntu0.1) ...\n",
            "Processing triggers for libc-bin (2.27-3ubuntu1.2) ...\n",
            "/sbin/ldconfig.real: /usr/local/lib/python3.7/dist-packages/ideep4py/lib/libmkldnn.so.0 is not a symbolic link\n",
            "\n"
          ],
          "name": "stdout"
        }
      ]
    },
    {
      "cell_type": "code",
      "metadata": {
        "id": "FjjLBJNhGFQ-",
        "outputId": "a79cf6e4-c9e1-4d03-d7cd-122f00a1fd90",
        "colab": {
          "base_uri": "https://localhost:8080/"
        }
      },
      "source": [
        "#! pip install -y pyhive\n",
        "! pip install pyhive[hive]\n"
      ],
      "execution_count": 6,
      "outputs": [
        {
          "output_type": "stream",
          "text": [
            "Requirement already satisfied: pyhive[hive] in /usr/local/lib/python3.7/dist-packages (0.6.4)\n",
            "Requirement already satisfied: python-dateutil in /usr/local/lib/python3.7/dist-packages (from pyhive[hive]) (2.8.1)\n",
            "Requirement already satisfied: future in /usr/local/lib/python3.7/dist-packages (from pyhive[hive]) (0.16.0)\n",
            "Collecting thrift>=0.10.0; extra == \"hive\"\n",
            "\u001b[?25l  Downloading https://files.pythonhosted.org/packages/97/1e/3284d19d7be99305eda145b8aa46b0c33244e4a496ec66440dac19f8274d/thrift-0.13.0.tar.gz (59kB)\n",
            "\u001b[K     |████████████████████████████████| 61kB 3.5MB/s \n",
            "\u001b[?25hCollecting thrift-sasl>=0.1.0; extra == \"hive\"\n",
            "  Downloading https://files.pythonhosted.org/packages/c3/9e/636c24ce1c0d46ce3020c5836c5a375d8e862fa81a240e0e352cc991dcf8/thrift_sasl-0.4.3-py2.py3-none-any.whl\n",
            "Collecting sasl>=0.2.1; extra == \"hive\"\n",
            "  Downloading https://files.pythonhosted.org/packages/8e/2c/45dae93d666aea8492678499e0999269b4e55f1829b1e4de5b8204706ad9/sasl-0.2.1.tar.gz\n",
            "Requirement already satisfied: six>=1.5 in /usr/local/lib/python3.7/dist-packages (from python-dateutil->pyhive[hive]) (1.15.0)\n",
            "Collecting pure-sasl>=0.6.2\n",
            "  Downloading https://files.pythonhosted.org/packages/83/b7/a0d688f86c869073cc28c0640899394a1cf68a6d87ee78a09565e9037da6/pure-sasl-0.6.2.tar.gz\n",
            "Building wheels for collected packages: thrift, sasl, pure-sasl\n",
            "  Building wheel for thrift (setup.py) ... \u001b[?25l\u001b[?25hdone\n",
            "  Created wheel for thrift: filename=thrift-0.13.0-cp37-cp37m-linux_x86_64.whl size=348153 sha256=0051b2c29f66082a92a55fa89268400e899e3fa012efa18740332b1dacac96a1\n",
            "  Stored in directory: /root/.cache/pip/wheels/02/a2/46/689ccfcf40155c23edc7cdbd9de488611c8fdf49ff34b1706e\n",
            "  Building wheel for sasl (setup.py) ... \u001b[?25l\u001b[?25hdone\n",
            "  Created wheel for sasl: filename=sasl-0.2.1-cp37-cp37m-linux_x86_64.whl size=182785 sha256=9101b459c9e1bd648d5cc08784f289642e0b91cedf9f9b5056b1a6b510771d8c\n",
            "  Stored in directory: /root/.cache/pip/wheels/56/20/21/ff481fd0f4ae09d5d94c76d089f550204580b1703e44f27dd5\n",
            "  Building wheel for pure-sasl (setup.py) ... \u001b[?25l\u001b[?25hdone\n",
            "  Created wheel for pure-sasl: filename=pure_sasl-0.6.2-cp37-none-any.whl size=11442 sha256=73dbcc80815afbc0eb962a280e5d555bcf03ae5a572e4810e55d1559cbcec176\n",
            "  Stored in directory: /root/.cache/pip/wheels/8d/34/73/6ed9e69a7ffd204e8d71bf422f9fa028f551d0dac431dc1082\n",
            "Successfully built thrift sasl pure-sasl\n",
            "Installing collected packages: thrift, pure-sasl, thrift-sasl, sasl\n",
            "Successfully installed pure-sasl-0.6.2 sasl-0.2.1 thrift-0.13.0 thrift-sasl-0.4.3\n"
          ],
          "name": "stdout"
        }
      ]
    },
    {
      "cell_type": "code",
      "metadata": {
        "id": "qgt47sn-GFRB"
      },
      "source": [
        "#import libs\n",
        "from pyhive import hive\n",
        "from TCLIService.ttypes import TOperationState"
      ],
      "execution_count": 7,
      "outputs": []
    },
    {
      "cell_type": "code",
      "metadata": {
        "id": "ZDrYVxx0GFRB"
      },
      "source": [
        "# try to connect\n",
        "server=\"ec2-34-254-248-152.eu-west-1.compute.amazonaws.com\"\n",
        "cursor = hive.connect(server).cursor()"
      ],
      "execution_count": 8,
      "outputs": []
    },
    {
      "cell_type": "code",
      "metadata": {
        "id": "Oex_uMNMGFRC"
      },
      "source": [
        "#show our databases\n",
        "cursor.execute('show databases')"
      ],
      "execution_count": 11,
      "outputs": []
    },
    {
      "cell_type": "code",
      "metadata": {
        "id": "7qDd7E1HGFRC",
        "outputId": "3dfbd249-58ec-48c2-eefe-9c04dd7bf977",
        "colab": {
          "base_uri": "https://localhost:8080/"
        }
      },
      "source": [
        "#get data from execution\n",
        "cursor.fetchall()"
      ],
      "execution_count": 10,
      "outputs": [
        {
          "output_type": "execute_result",
          "data": {
            "text/plain": [
              "[('default',)]"
            ]
          },
          "metadata": {
            "tags": []
          },
          "execution_count": 10
        }
      ]
    },
    {
      "cell_type": "code",
      "metadata": {
        "id": "Wap1Ee3ZGFRD"
      },
      "source": [
        "#use default db\n",
        "cursor.execute('use default')"
      ],
      "execution_count": 12,
      "outputs": []
    },
    {
      "cell_type": "code",
      "metadata": {
        "id": "MXJAkFQuGFRD"
      },
      "source": [
        "#show tables in db\n",
        "cursor.execute('show tables')"
      ],
      "execution_count": 13,
      "outputs": []
    },
    {
      "cell_type": "code",
      "metadata": {
        "id": "YylXx-fYGFRE",
        "outputId": "89b558f1-7604-4b44-dc2d-6b5286b26e1f",
        "colab": {
          "base_uri": "https://localhost:8080/"
        }
      },
      "source": [
        "cursor.fetchall()"
      ],
      "execution_count": 14,
      "outputs": [
        {
          "output_type": "execute_result",
          "data": {
            "text/plain": [
              "[('employee',), ('salary',)]"
            ]
          },
          "metadata": {
            "tags": []
          },
          "execution_count": 14
        }
      ]
    },
    {
      "cell_type": "code",
      "metadata": {
        "id": "1Fm4h6C7GFRF",
        "outputId": "a999f025-4138-43a3-e809-a335342215ca",
        "colab": {
          "base_uri": "https://localhost:8080/"
        }
      },
      "source": [
        "# get table layout\n",
        "cursor.execute('describe employee')\n",
        "cursor.fetchall()"
      ],
      "execution_count": 15,
      "outputs": [
        {
          "output_type": "execute_result",
          "data": {
            "text/plain": [
              "[('employee_id', 'int', ''),\n",
              " ('birthday', 'date', ''),\n",
              " ('first_name', 'string', ''),\n",
              " ('family_name', 'string', ''),\n",
              " ('gender', 'char(1)', ''),\n",
              " ('work_day', 'date', '')]"
            ]
          },
          "metadata": {
            "tags": []
          },
          "execution_count": 15
        }
      ]
    },
    {
      "cell_type": "code",
      "metadata": {
        "id": "jnhL_uE3GFRF"
      },
      "source": [
        "#select data\n",
        "cursor.execute('select * from employee limit 100')"
      ],
      "execution_count": 16,
      "outputs": []
    },
    {
      "cell_type": "code",
      "metadata": {
        "id": "U64QhkX5GFRG"
      },
      "source": [
        "#get daata from selction\n",
        "employee = cursor.fetchall()"
      ],
      "execution_count": 17,
      "outputs": []
    },
    {
      "cell_type": "code",
      "metadata": {
        "id": "rWzwamwRGFRG",
        "outputId": "6d4d6da8-3112-4905-b450-5c587dabf21e",
        "colab": {
          "base_uri": "https://localhost:8080/"
        }
      },
      "source": [
        "len(employee) #this is a list"
      ],
      "execution_count": 18,
      "outputs": [
        {
          "output_type": "execute_result",
          "data": {
            "text/plain": [
              "100"
            ]
          },
          "metadata": {
            "tags": []
          },
          "execution_count": 18
        }
      ]
    },
    {
      "cell_type": "code",
      "metadata": {
        "id": "HmVd933lGFRH",
        "outputId": "2f824327-579f-4e2d-b023-ef35b79e2e40",
        "colab": {
          "base_uri": "https://localhost:8080/"
        }
      },
      "source": [
        "#have a look\n",
        "employee[:10]"
      ],
      "execution_count": 19,
      "outputs": [
        {
          "output_type": "execute_result",
          "data": {
            "text/plain": [
              "[(10001, None, \"'Georgi'\", \"'Facello'\", \"'\", None),\n",
              " (10002, None, \"'Bezalel'\", \"'Simmel'\", \"'\", None),\n",
              " (10003, None, \"'Parto'\", \"'Bamford'\", \"'\", None),\n",
              " (10004, None, \"'Chirstian'\", \"'Koblick'\", \"'\", None),\n",
              " (10005, None, \"'Kyoichi'\", \"'Maliniak'\", \"'\", None),\n",
              " (10006, None, \"'Anneke'\", \"'Preusig'\", \"'\", None),\n",
              " (10007, None, \"'Tzvetan'\", \"'Zielinski'\", \"'\", None),\n",
              " (10008, None, \"'Saniya'\", \"'Kalloufi'\", \"'\", None),\n",
              " (10009, None, \"'Sumant'\", \"'Peac'\", \"'\", None),\n",
              " (10010, None, \"'Duangkaew'\", \"'Piveteau'\", \"'\", None)]"
            ]
          },
          "metadata": {
            "tags": []
          },
          "execution_count": 19
        }
      ]
    },
    {
      "cell_type": "code",
      "metadata": {
        "id": "iFKIhkhSGFRH",
        "outputId": "181d8f8a-3729-40bc-c16f-d770dba78741",
        "colab": {
          "base_uri": "https://localhost:8080/"
        }
      },
      "source": [
        "# get salary table layout\n",
        "cursor.execute('describe salary')\n",
        "cursor.fetchall()"
      ],
      "execution_count": 20,
      "outputs": [
        {
          "output_type": "execute_result",
          "data": {
            "text/plain": [
              "[('employee_id', 'int', ''),\n",
              " ('salary', 'int', ''),\n",
              " ('start_date', 'date', ''),\n",
              " ('end_date', 'date', '')]"
            ]
          },
          "metadata": {
            "tags": []
          },
          "execution_count": 20
        }
      ]
    },
    {
      "cell_type": "code",
      "metadata": {
        "id": "yBXfdNIrGFRH"
      },
      "source": [
        "#select data\n",
        "cursor.execute('select * from salary limit 100')"
      ],
      "execution_count": 21,
      "outputs": []
    },
    {
      "cell_type": "code",
      "metadata": {
        "id": "hJutkTWBGFRI"
      },
      "source": [
        "#get daata from selction\n",
        "salary = cursor.fetchall()"
      ],
      "execution_count": 22,
      "outputs": []
    },
    {
      "cell_type": "code",
      "metadata": {
        "id": "B4n0PsEpGFRI",
        "outputId": "8ce03035-c967-4a7a-d0c5-e89c2b299c56",
        "colab": {
          "base_uri": "https://localhost:8080/"
        }
      },
      "source": [
        "salary[:10]"
      ],
      "execution_count": 23,
      "outputs": [
        {
          "output_type": "execute_result",
          "data": {
            "text/plain": [
              "[(10001, 60117, None, None),\n",
              " (10001, 62102, None, None),\n",
              " (10001, 66074, None, None),\n",
              " (10001, 66596, None, None),\n",
              " (10001, 66961, None, None),\n",
              " (10001, 71046, None, None),\n",
              " (10001, 74333, None, None),\n",
              " (10001, 75286, None, None),\n",
              " (10001, 75994, None, None),\n",
              " (10001, 76884, None, None)]"
            ]
          },
          "metadata": {
            "tags": []
          },
          "execution_count": 23
        }
      ]
    },
    {
      "cell_type": "markdown",
      "metadata": {
        "id": "bKbPX8-YGFRI"
      },
      "source": [
        "## Ex 1\n",
        "Get employees sorted by ``family_name``. Return first 10 entries."
      ]
    },
    {
      "cell_type": "code",
      "metadata": {
        "id": "ULRvWZeUGFRI"
      },
      "source": [
        "cursor.execute(\"SELECT * from employee order by family_name limit 10\")"
      ],
      "execution_count": 28,
      "outputs": []
    },
    {
      "cell_type": "code",
      "metadata": {
        "id": "jNKAiFbMGFRJ",
        "outputId": "9b665ce8-40d3-453d-ec1c-19a567058d5e",
        "colab": {
          "base_uri": "https://localhost:8080/"
        }
      },
      "source": [
        "cursor.fetchall()"
      ],
      "execution_count": 26,
      "outputs": [
        {
          "output_type": "execute_result",
          "data": {
            "text/plain": [
              "[(10001, None, \"'Georgi'\", \"'Facello'\", \"'\", None),\n",
              " (10002, None, \"'Bezalel'\", \"'Simmel'\", \"'\", None),\n",
              " (10003, None, \"'Parto'\", \"'Bamford'\", \"'\", None),\n",
              " (10004, None, \"'Chirstian'\", \"'Koblick'\", \"'\", None),\n",
              " (10005, None, \"'Kyoichi'\", \"'Maliniak'\", \"'\", None),\n",
              " (10006, None, \"'Anneke'\", \"'Preusig'\", \"'\", None),\n",
              " (10007, None, \"'Tzvetan'\", \"'Zielinski'\", \"'\", None),\n",
              " (10008, None, \"'Saniya'\", \"'Kalloufi'\", \"'\", None),\n",
              " (10009, None, \"'Sumant'\", \"'Peac'\", \"'\", None),\n",
              " (10010, None, \"'Duangkaew'\", \"'Piveteau'\", \"'\", None)]"
            ]
          },
          "metadata": {
            "tags": []
          },
          "execution_count": 26
        }
      ]
    },
    {
      "cell_type": "markdown",
      "metadata": {
        "id": "aLKwqnK0GFRJ"
      },
      "source": [
        "## Ex 2\n",
        "Get ``family_name`` and ``salary`` of employees sorted by salary. Return first 100 entries. Hint: you need to join both tables..."
      ]
    },
    {
      "cell_type": "code",
      "metadata": {
        "id": "lTrdouNmGFRK",
        "outputId": "6e32228a-22cc-4eeb-f81d-f5e04b264e0c",
        "colab": {
          "base_uri": "https://localhost:8080/"
        }
      },
      "source": [
        "cursor.execute(\"select x.family_name, y.salary from employee as x inner join salary as y on x.employee_id=y.employee_id limit 100\")\n",
        "data=cursor.fetchall()\n",
        "data"
      ],
      "execution_count": 33,
      "outputs": [
        {
          "output_type": "execute_result",
          "data": {
            "text/plain": [
              "[(\"'Cannata'\", 79060),\n",
              " (\"'Cannata'\", 78631),\n",
              " (\"'Wuwongse'\", 59548),\n",
              " (\"'Wuwongse'\", 63203),\n",
              " (\"'Wuwongse'\", 65795),\n",
              " (\"'Wuwongse'\", 67364),\n",
              " (\"'Wuwongse'\", 67715),\n",
              " (\"'Wuwongse'\", 67658),\n",
              " (\"'Wuwongse'\", 71814),\n",
              " (\"'Wuwongse'\", 71410),\n",
              " (\"'Wuwongse'\", 73831),\n",
              " (\"'Wuwongse'\", 73942),\n",
              " (\"'Wuwongse'\", 75480),\n",
              " (\"'Wuwongse'\", 79163),\n",
              " (\"'Wuwongse'\", 82231),\n",
              " (\"'Wuwongse'\", 82544),\n",
              " (\"'Wuwongse'\", 85514),\n",
              " (\"'Foong'\", 42755),\n",
              " (\"'Foong'\", 44750),\n",
              " (\"'Foong'\", 44473),\n",
              " (\"'Foong'\", 44311),\n",
              " (\"'Foong'\", 44050),\n",
              " (\"'Lieberherr'\", 77052),\n",
              " (\"'Lieberherr'\", 77335),\n",
              " (\"'Lieberherr'\", 77159),\n",
              " (\"'Ghelli'\", 40000),\n",
              " (\"'Ghelli'\", 44002),\n",
              " (\"'Ghelli'\", 48265),\n",
              " (\"'Ghelli'\", 51623),\n",
              " (\"'Ghelli'\", 56038),\n",
              " (\"'Ghelli'\", 59595),\n",
              " (\"'Hmelo'\", 40000),\n",
              " (\"'Hmelo'\", 41994),\n",
              " (\"'Hmelo'\", 45714),\n",
              " (\"'Hmelo'\", 46492),\n",
              " (\"'Hmelo'\", 48031),\n",
              " (\"'Hmelo'\", 47978),\n",
              " (\"'Hmelo'\", 52293),\n",
              " (\"'Hmelo'\", 56469),\n",
              " (\"'Hmelo'\", 58370),\n",
              " (\"'Hmelo'\", 57878),\n",
              " (\"'Hmelo'\", 61913),\n",
              " (\"'Hmelo'\", 61849),\n",
              " (\"'Kawashima'\", 43401),\n",
              " (\"'Kawashima'\", 43711),\n",
              " (\"'Kawashima'\", 43696),\n",
              " (\"'Kawashima'\", 44972),\n",
              " (\"'Kawashima'\", 44688),\n",
              " (\"'Kawashima'\", 45903),\n",
              " (\"'Kawashima'\", 47846),\n",
              " (\"'Kawashima'\", 50723),\n",
              " (\"'Kawashima'\", 50478),\n",
              " (\"'Godskesen'\", 40000),\n",
              " (\"'Godskesen'\", 41670),\n",
              " (\"'Godskesen'\", 42664),\n",
              " (\"'Godskesen'\", 45411),\n",
              " (\"'Godskesen'\", 49742),\n",
              " (\"'Godskesen'\", 51160),\n",
              " (\"'Godskesen'\", 54329),\n",
              " (\"'Godskesen'\", 56109),\n",
              " (\"'Godskesen'\", 60542),\n",
              " (\"'Godskesen'\", 60965),\n",
              " (\"'Denny'\", 40000),\n",
              " (\"'Denny'\", 42363),\n",
              " (\"'Denny'\", 45385),\n",
              " (\"'Denny'\", 45260),\n",
              " (\"'Mattern'\", 60022),\n",
              " (\"'Mattern'\", 64409),\n",
              " (\"'Rullman'\", 40000),\n",
              " (\"'Rullman'\", 43661),\n",
              " (\"'Rullman'\", 47257),\n",
              " (\"'Rullman'\", 49933),\n",
              " (\"'Rullman'\", 50716),\n",
              " (\"'Rullman'\", 54220),\n",
              " (\"'Rullman'\", 56826),\n",
              " (\"'Rullman'\", 57412),\n",
              " (\"'Rullman'\", 59984),\n",
              " (\"'Rullman'\", 63791),\n",
              " (\"'Rullman'\", 65870),\n",
              " (\"'Rullman'\", 67874),\n",
              " (\"'Rullman'\", 72000),\n",
              " (\"'Ranze'\", 40000),\n",
              " (\"'Ranze'\", 42086),\n",
              " (\"'Ranze'\", 43117),\n",
              " (\"'Ranze'\", 45563),\n",
              " (\"'Ranze'\", 49346),\n",
              " (\"'Ranze'\", 52956),\n",
              " (\"'Ranze'\", 53863),\n",
              " (\"'Herber'\", 40000),\n",
              " (\"'Herber'\", 42883),\n",
              " (\"'Herber'\", 43016),\n",
              " (\"'Herber'\", 47401),\n",
              " (\"'Herber'\", 51364),\n",
              " (\"'Herber'\", 53345),\n",
              " (\"'Herber'\", 57731),\n",
              " (\"'Herber'\", 58245),\n",
              " (\"'Herber'\", 57902),\n",
              " (\"'Templeman'\", 40000),\n",
              " (\"'Templeman'\", 42255),\n",
              " (\"'Templeman'\", 46386)]"
            ]
          },
          "metadata": {
            "tags": []
          },
          "execution_count": 33
        }
      ]
    },
    {
      "cell_type": "markdown",
      "metadata": {
        "id": "6iIYSSY7GFRK"
      },
      "source": [
        "## Ex 3\n",
        "Get the average salary by gender. Hint: use Group by"
      ]
    },
    {
      "cell_type": "code",
      "metadata": {
        "id": "0iSWLy27GFRK",
        "outputId": "036c4c15-509a-4a5d-ac4d-13c84da10090",
        "colab": {
          "base_uri": "https://localhost:8080/"
        }
      },
      "source": [
        "cursor.execute(\"select x.gender, avg(y.salary) from employee as x inner join salary as y on x.employee_id=y.employee_id group by x.gender\")\n",
        "cursor.fetchall()"
      ],
      "execution_count": 34,
      "outputs": [
        {
          "output_type": "execute_result",
          "data": {
            "text/plain": [
              "[(\"'\", 63810.97721796859)]"
            ]
          },
          "metadata": {
            "tags": []
          },
          "execution_count": 34
        }
      ]
    },
    {
      "cell_type": "code",
      "metadata": {
        "id": "QMQnH46NGFRK"
      },
      "source": [
        ""
      ],
      "execution_count": null,
      "outputs": []
    }
  ]
}