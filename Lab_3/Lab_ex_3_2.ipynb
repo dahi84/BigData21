{
  "nbformat": 4,
  "nbformat_minor": 0,
  "metadata": {
    "kernelspec": {
      "display_name": "Python 3",
      "language": "python",
      "name": "python3"
    },
    "language_info": {
      "codemirror_mode": {
        "name": "ipython",
        "version": 3
      },
      "file_extension": ".py",
      "mimetype": "text/x-python",
      "name": "python",
      "nbconvert_exporter": "python",
      "pygments_lexer": "ipython3",
      "version": "3.7.6"
    },
    "colab": {
      "name": "Lab_ex_3_2.ipynb",
      "provenance": []
    },
    "accelerator": "GPU"
  },
  "cells": [
    {
      "cell_type": "markdown",
      "metadata": {
        "id": "LK555nbSLydY"
      },
      "source": [
        "# Ex. 3.2 HBASE\n",
        "We use the *HappyBase* lib: https://happybase.readthedocs.io/en/latest/installation.html"
      ]
    },
    {
      "cell_type": "code",
      "metadata": {
        "id": "CIZ4tKUELydZ",
        "colab": {
          "base_uri": "https://localhost:8080/"
        },
        "outputId": "7d6830ff-f716-4481-cb9c-bdc804077966"
      },
      "source": [
        "! conda install -c conda-forge -y happybase\n",
        "#! pip install -c conda-forge  happybase"
      ],
      "execution_count": null,
      "outputs": [
        {
          "output_type": "stream",
          "text": [
            "/bin/bash: conda: command not found\n"
          ],
          "name": "stdout"
        }
      ]
    },
    {
      "cell_type": "code",
      "metadata": {
        "id": "m4qQVZsYMKLy",
        "colab": {
          "base_uri": "https://localhost:8080/"
        },
        "outputId": "e10abc34-a471-4f54-bf0e-3e4de11be98e"
      },
      "source": [
        "!pip install happybase"
      ],
      "execution_count": 1,
      "outputs": [
        {
          "output_type": "stream",
          "text": [
            "Collecting happybase\n",
            "\u001b[?25l  Downloading https://files.pythonhosted.org/packages/d1/9c/f5f7bdb5439cda2b7da4e20ac24ec0e2455fd68aade8397f211d2994c39d/happybase-1.2.0.tar.gz (40kB)\n",
            "\u001b[K     |████████████████████████████████| 40kB 2.0MB/s \n",
            "\u001b[?25hRequirement already satisfied: six in /usr/local/lib/python3.7/dist-packages (from happybase) (1.15.0)\n",
            "Collecting thriftpy2>=0.4\n",
            "\u001b[?25l  Downloading https://files.pythonhosted.org/packages/1d/d1/6b041449bd04b953294f3a070fc96bd8ce23ff81e96cc4c2920f7d555fe0/thriftpy2-0.4.14.tar.gz (361kB)\n",
            "\u001b[K     |████████████████████████████████| 368kB 18.2MB/s \n",
            "\u001b[?25hCollecting ply<4.0,>=3.4\n",
            "\u001b[?25l  Downloading https://files.pythonhosted.org/packages/a3/58/35da89ee790598a0700ea49b2a66594140f44dec458c07e8e3d4979137fc/ply-3.11-py2.py3-none-any.whl (49kB)\n",
            "\u001b[K     |████████████████████████████████| 51kB 5.8MB/s \n",
            "\u001b[?25hBuilding wheels for collected packages: happybase, thriftpy2\n",
            "  Building wheel for happybase (setup.py) ... \u001b[?25l\u001b[?25hdone\n",
            "  Created wheel for happybase: filename=happybase-1.2.0-py2.py3-none-any.whl size=26622 sha256=9a3133a4dcb22d857d4c08afb31b9ddb217857e405dec048c4e90db6e5747990\n",
            "  Stored in directory: /root/.cache/pip/wheels/91/43/5c/8bf59c8c579f2b344f30fd013bdfd5b526adaf694c79a355ae\n",
            "  Building wheel for thriftpy2 (setup.py) ... \u001b[?25l\u001b[?25hdone\n",
            "  Created wheel for thriftpy2: filename=thriftpy2-0.4.14-cp37-cp37m-linux_x86_64.whl size=940295 sha256=86b2570213a16514ba9454a82c5150aa40fd2d3691c299b9742a4fad7e80d41e\n",
            "  Stored in directory: /root/.cache/pip/wheels/89/c6/6b/c94a9a90153934a39a26ed4d94254d0e347b706f989b526c8b\n",
            "Successfully built happybase thriftpy2\n",
            "Installing collected packages: ply, thriftpy2, happybase\n",
            "Successfully installed happybase-1.2.0 ply-3.11 thriftpy2-0.4.14\n"
          ],
          "name": "stdout"
        }
      ]
    },
    {
      "cell_type": "code",
      "metadata": {
        "id": "qjFYlfiGLydb"
      },
      "source": [
        "# imports\n",
        "import happybase"
      ],
      "execution_count": 2,
      "outputs": []
    },
    {
      "cell_type": "code",
      "metadata": {
        "id": "LB3Q77sQLydc"
      },
      "source": [
        "# try to connect\n",
        "server=\"ec2-34-254-248-152.eu-west-1.compute.amazonaws.com\" #need to change this for every lab-session\n",
        "connection = happybase.Connection(server)"
      ],
      "execution_count": 3,
      "outputs": []
    },
    {
      "cell_type": "code",
      "metadata": {
        "id": "03FVsIdkLydd"
      },
      "source": [
        "families = {\n",
        "    'cf1': dict(max_versions=10),\n",
        "    'cf2': dict(max_versions=1, block_cache_enabled=False),\n",
        "    'cf3': dict(),  # use defaults\n",
        "}"
      ],
      "execution_count": 4,
      "outputs": []
    },
    {
      "cell_type": "code",
      "metadata": {
        "id": "l_eulZSPLydd"
      },
      "source": [
        "#connection.create_table('lab3', families)  # table allredy exists"
      ],
      "execution_count": null,
      "outputs": []
    },
    {
      "cell_type": "code",
      "metadata": {
        "scrolled": true,
        "id": "a4twnBYcLyde",
        "colab": {
          "base_uri": "https://localhost:8080/"
        },
        "outputId": "43b70f4c-f1ef-401e-91fd-2e4757bcde46"
      },
      "source": [
        "print(connection.tables())"
      ],
      "execution_count": 5,
      "outputs": [
        {
          "output_type": "stream",
          "text": [
            "[b'49a5b1a_employees', b'dh_user_id_employees', b'employee_Group2', b'employee_Group_2', b'employee_group_five', b'employees_smunaret', b'group1_employee', b'group3_user_id_employees', b'lab3', b'mspitzna_employees', b'tm_user_id_employees', b'user_id_employees']\n"
          ],
          "name": "stdout"
        }
      ]
    },
    {
      "cell_type": "code",
      "metadata": {
        "id": "LDCa0f0_Lyde"
      },
      "source": [
        "#connect to a table\n",
        "table = connection.table('lab3')"
      ],
      "execution_count": 24,
      "outputs": []
    },
    {
      "cell_type": "code",
      "metadata": {
        "id": "TT2nfhX-Lydf",
        "colab": {
          "base_uri": "https://localhost:8080/"
        },
        "outputId": "ed80e0b7-e7e6-47a2-892e-2fe2a8819096"
      },
      "source": [
        "#see column families\n",
        "table.families()"
      ],
      "execution_count": 7,
      "outputs": [
        {
          "output_type": "execute_result",
          "data": {
            "text/plain": [
              "{b'cf1': {'block_cache_enabled': False,\n",
              "  'bloom_filter_nb_hashes': 0,\n",
              "  'bloom_filter_type': b'NONE',\n",
              "  'bloom_filter_vector_size': 0,\n",
              "  'compression': b'NONE',\n",
              "  'in_memory': False,\n",
              "  'max_versions': 10,\n",
              "  'name': b'cf1:',\n",
              "  'time_to_live': 2147483647},\n",
              " b'cf2': {'block_cache_enabled': False,\n",
              "  'bloom_filter_nb_hashes': 0,\n",
              "  'bloom_filter_type': b'NONE',\n",
              "  'bloom_filter_vector_size': 0,\n",
              "  'compression': b'NONE',\n",
              "  'in_memory': False,\n",
              "  'max_versions': 1,\n",
              "  'name': b'cf2:',\n",
              "  'time_to_live': 2147483647},\n",
              " b'cf3': {'block_cache_enabled': False,\n",
              "  'bloom_filter_nb_hashes': 0,\n",
              "  'bloom_filter_type': b'NONE',\n",
              "  'bloom_filter_vector_size': 0,\n",
              "  'compression': b'NONE',\n",
              "  'in_memory': False,\n",
              "  'max_versions': 3,\n",
              "  'name': b'cf3:',\n",
              "  'time_to_live': 2147483647}}"
            ]
          },
          "metadata": {
            "tags": []
          },
          "execution_count": 7
        }
      ]
    },
    {
      "cell_type": "code",
      "metadata": {
        "id": "tzF3HdlsLydg"
      },
      "source": [
        "#insert something\n",
        "table.put('row 6', {'cf1:col7': '17.33', 'cf1:col8': '344'})"
      ],
      "execution_count": 8,
      "outputs": []
    },
    {
      "cell_type": "code",
      "metadata": {
        "id": "T2fAeO35M49L",
        "colab": {
          "base_uri": "https://localhost:8080/"
        },
        "outputId": "fcc1ba1a-1620-4476-b39a-be81687d48fb"
      },
      "source": [
        "table.families()"
      ],
      "execution_count": 9,
      "outputs": [
        {
          "output_type": "execute_result",
          "data": {
            "text/plain": [
              "{b'cf1': {'block_cache_enabled': False,\n",
              "  'bloom_filter_nb_hashes': 0,\n",
              "  'bloom_filter_type': b'NONE',\n",
              "  'bloom_filter_vector_size': 0,\n",
              "  'compression': b'NONE',\n",
              "  'in_memory': False,\n",
              "  'max_versions': 10,\n",
              "  'name': b'cf1:',\n",
              "  'time_to_live': 2147483647},\n",
              " b'cf2': {'block_cache_enabled': False,\n",
              "  'bloom_filter_nb_hashes': 0,\n",
              "  'bloom_filter_type': b'NONE',\n",
              "  'bloom_filter_vector_size': 0,\n",
              "  'compression': b'NONE',\n",
              "  'in_memory': False,\n",
              "  'max_versions': 1,\n",
              "  'name': b'cf2:',\n",
              "  'time_to_live': 2147483647},\n",
              " b'cf3': {'block_cache_enabled': False,\n",
              "  'bloom_filter_nb_hashes': 0,\n",
              "  'bloom_filter_type': b'NONE',\n",
              "  'bloom_filter_vector_size': 0,\n",
              "  'compression': b'NONE',\n",
              "  'in_memory': False,\n",
              "  'max_versions': 3,\n",
              "  'name': b'cf3:',\n",
              "  'time_to_live': 2147483647}}"
            ]
          },
          "metadata": {
            "tags": []
          },
          "execution_count": 9
        }
      ]
    },
    {
      "cell_type": "code",
      "metadata": {
        "id": "FdMoxSs_Lydg",
        "colab": {
          "base_uri": "https://localhost:8080/",
          "height": 370
        },
        "outputId": "57dc6656-b645-403e-8db9-97087cc95e42"
      },
      "source": [
        "#read table\n",
        "res=table.scan()\n",
        "for key,row in res:\n",
        "    print(key,row)"
      ],
      "execution_count": 26,
      "outputs": [
        {
          "output_type": "error",
          "ename": "BrokenPipeError",
          "evalue": "ignored",
          "traceback": [
            "\u001b[0;31m---------------------------------------------------------------------------\u001b[0m",
            "\u001b[0;31mBrokenPipeError\u001b[0m                           Traceback (most recent call last)",
            "\u001b[0;32m<ipython-input-26-b66623fd5c18>\u001b[0m in \u001b[0;36m<module>\u001b[0;34m()\u001b[0m\n\u001b[1;32m      1\u001b[0m \u001b[0;31m#read table\u001b[0m\u001b[0;34m\u001b[0m\u001b[0;34m\u001b[0m\u001b[0;34m\u001b[0m\u001b[0m\n\u001b[1;32m      2\u001b[0m \u001b[0mres\u001b[0m\u001b[0;34m=\u001b[0m\u001b[0mtable\u001b[0m\u001b[0;34m.\u001b[0m\u001b[0mscan\u001b[0m\u001b[0;34m(\u001b[0m\u001b[0;34m)\u001b[0m\u001b[0;34m\u001b[0m\u001b[0;34m\u001b[0m\u001b[0m\n\u001b[0;32m----> 3\u001b[0;31m \u001b[0;32mfor\u001b[0m \u001b[0mkey\u001b[0m\u001b[0;34m,\u001b[0m\u001b[0mrow\u001b[0m \u001b[0;32min\u001b[0m \u001b[0mres\u001b[0m\u001b[0;34m:\u001b[0m\u001b[0;34m\u001b[0m\u001b[0;34m\u001b[0m\u001b[0m\n\u001b[0m\u001b[1;32m      4\u001b[0m     \u001b[0mprint\u001b[0m\u001b[0;34m(\u001b[0m\u001b[0mkey\u001b[0m\u001b[0;34m,\u001b[0m\u001b[0mrow\u001b[0m\u001b[0;34m)\u001b[0m\u001b[0;34m\u001b[0m\u001b[0;34m\u001b[0m\u001b[0m\n",
            "\u001b[0;32m/usr/local/lib/python3.7/dist-packages/happybase/table.py\u001b[0m in \u001b[0;36mscan\u001b[0;34m(self, row_start, row_stop, row_prefix, columns, filter, timestamp, include_timestamp, batch_size, scan_batching, limit, sorted_columns, reverse)\u001b[0m\n\u001b[1;32m    400\u001b[0m             )\n\u001b[1;32m    401\u001b[0m             scan_id = self.connection.client.scannerOpenWithScan(\n\u001b[0;32m--> 402\u001b[0;31m                 self.name, scan, {})\n\u001b[0m\u001b[1;32m    403\u001b[0m \u001b[0;34m\u001b[0m\u001b[0m\n\u001b[1;32m    404\u001b[0m         \u001b[0mlogger\u001b[0m\u001b[0;34m.\u001b[0m\u001b[0mdebug\u001b[0m\u001b[0;34m(\u001b[0m\u001b[0;34m\"Opened scanner (id=%d) on '%s'\"\u001b[0m\u001b[0;34m,\u001b[0m \u001b[0mscan_id\u001b[0m\u001b[0;34m,\u001b[0m \u001b[0mself\u001b[0m\u001b[0;34m.\u001b[0m\u001b[0mname\u001b[0m\u001b[0;34m)\u001b[0m\u001b[0;34m\u001b[0m\u001b[0;34m\u001b[0m\u001b[0m\n",
            "\u001b[0;32m/usr/local/lib/python3.7/dist-packages/thriftpy2/thrift.py\u001b[0m in \u001b[0;36m_req\u001b[0;34m(self, _api, *args, **kwargs)\u001b[0m\n\u001b[1;32m    214\u001b[0m         \u001b[0mresult_cls\u001b[0m \u001b[0;34m=\u001b[0m \u001b[0mgetattr\u001b[0m\u001b[0;34m(\u001b[0m\u001b[0mself\u001b[0m\u001b[0;34m.\u001b[0m\u001b[0m_service\u001b[0m\u001b[0;34m,\u001b[0m \u001b[0m_api\u001b[0m \u001b[0;34m+\u001b[0m \u001b[0;34m\"_result\"\u001b[0m\u001b[0;34m)\u001b[0m\u001b[0;34m\u001b[0m\u001b[0;34m\u001b[0m\u001b[0m\n\u001b[1;32m    215\u001b[0m \u001b[0;34m\u001b[0m\u001b[0m\n\u001b[0;32m--> 216\u001b[0;31m         \u001b[0mself\u001b[0m\u001b[0;34m.\u001b[0m\u001b[0m_send\u001b[0m\u001b[0;34m(\u001b[0m\u001b[0m_api\u001b[0m\u001b[0;34m,\u001b[0m \u001b[0;34m**\u001b[0m\u001b[0mkwargs\u001b[0m\u001b[0;34m)\u001b[0m\u001b[0;34m\u001b[0m\u001b[0;34m\u001b[0m\u001b[0m\n\u001b[0m\u001b[1;32m    217\u001b[0m         \u001b[0;31m# wait result only if non-oneway\u001b[0m\u001b[0;34m\u001b[0m\u001b[0;34m\u001b[0m\u001b[0;34m\u001b[0m\u001b[0m\n\u001b[1;32m    218\u001b[0m         \u001b[0;32mif\u001b[0m \u001b[0;32mnot\u001b[0m \u001b[0mgetattr\u001b[0m\u001b[0;34m(\u001b[0m\u001b[0mresult_cls\u001b[0m\u001b[0;34m,\u001b[0m \u001b[0;34m\"oneway\"\u001b[0m\u001b[0;34m)\u001b[0m\u001b[0;34m:\u001b[0m\u001b[0;34m\u001b[0m\u001b[0;34m\u001b[0m\u001b[0m\n",
            "\u001b[0;32m/usr/local/lib/python3.7/dist-packages/thriftpy2/thrift.py\u001b[0m in \u001b[0;36m_send\u001b[0;34m(self, _api, **kwargs)\u001b[0m\n\u001b[1;32m    226\u001b[0m         \u001b[0margs\u001b[0m\u001b[0;34m.\u001b[0m\u001b[0mwrite\u001b[0m\u001b[0;34m(\u001b[0m\u001b[0mself\u001b[0m\u001b[0;34m.\u001b[0m\u001b[0m_oprot\u001b[0m\u001b[0;34m)\u001b[0m\u001b[0;34m\u001b[0m\u001b[0;34m\u001b[0m\u001b[0m\n\u001b[1;32m    227\u001b[0m         \u001b[0mself\u001b[0m\u001b[0;34m.\u001b[0m\u001b[0m_oprot\u001b[0m\u001b[0;34m.\u001b[0m\u001b[0mwrite_message_end\u001b[0m\u001b[0;34m(\u001b[0m\u001b[0;34m)\u001b[0m\u001b[0;34m\u001b[0m\u001b[0;34m\u001b[0m\u001b[0m\n\u001b[0;32m--> 228\u001b[0;31m         \u001b[0mself\u001b[0m\u001b[0;34m.\u001b[0m\u001b[0m_oprot\u001b[0m\u001b[0;34m.\u001b[0m\u001b[0mtrans\u001b[0m\u001b[0;34m.\u001b[0m\u001b[0mflush\u001b[0m\u001b[0;34m(\u001b[0m\u001b[0;34m)\u001b[0m\u001b[0;34m\u001b[0m\u001b[0;34m\u001b[0m\u001b[0m\n\u001b[0m\u001b[1;32m    229\u001b[0m \u001b[0;34m\u001b[0m\u001b[0m\n\u001b[1;32m    230\u001b[0m     \u001b[0;32mdef\u001b[0m \u001b[0m_recv\u001b[0m\u001b[0;34m(\u001b[0m\u001b[0mself\u001b[0m\u001b[0;34m,\u001b[0m \u001b[0m_api\u001b[0m\u001b[0;34m)\u001b[0m\u001b[0;34m:\u001b[0m\u001b[0;34m\u001b[0m\u001b[0;34m\u001b[0m\u001b[0m\n",
            "\u001b[0;32m/usr/local/lib/python3.7/dist-packages/thriftpy2/transport/buffered/cybuffered.pyx\u001b[0m in \u001b[0;36mthriftpy2.transport.buffered.cybuffered.TCyBufferedTransport.flush\u001b[0;34m()\u001b[0m\n",
            "\u001b[0;32m/usr/local/lib/python3.7/dist-packages/thriftpy2/transport/buffered/cybuffered.pyx\u001b[0m in \u001b[0;36mthriftpy2.transport.buffered.cybuffered.TCyBufferedTransport.c_flush\u001b[0;34m()\u001b[0m\n",
            "\u001b[0;32m/usr/local/lib/python3.7/dist-packages/thriftpy2/transport/buffered/cybuffered.pyx\u001b[0m in \u001b[0;36mthriftpy2.transport.buffered.cybuffered.TCyBufferedTransport.c_dump_wbuf\u001b[0;34m()\u001b[0m\n",
            "\u001b[0;32m/usr/local/lib/python3.7/dist-packages/thriftpy2/transport/socket.py\u001b[0m in \u001b[0;36mwrite\u001b[0;34m(self, buff)\u001b[0m\n\u001b[1;32m    134\u001b[0m \u001b[0;34m\u001b[0m\u001b[0m\n\u001b[1;32m    135\u001b[0m     \u001b[0;32mdef\u001b[0m \u001b[0mwrite\u001b[0m\u001b[0;34m(\u001b[0m\u001b[0mself\u001b[0m\u001b[0;34m,\u001b[0m \u001b[0mbuff\u001b[0m\u001b[0;34m)\u001b[0m\u001b[0;34m:\u001b[0m\u001b[0;34m\u001b[0m\u001b[0;34m\u001b[0m\u001b[0m\n\u001b[0;32m--> 136\u001b[0;31m         \u001b[0mself\u001b[0m\u001b[0;34m.\u001b[0m\u001b[0msock\u001b[0m\u001b[0;34m.\u001b[0m\u001b[0msendall\u001b[0m\u001b[0;34m(\u001b[0m\u001b[0mbuff\u001b[0m\u001b[0;34m)\u001b[0m\u001b[0;34m\u001b[0m\u001b[0;34m\u001b[0m\u001b[0m\n\u001b[0m\u001b[1;32m    137\u001b[0m \u001b[0;34m\u001b[0m\u001b[0m\n\u001b[1;32m    138\u001b[0m     \u001b[0;32mdef\u001b[0m \u001b[0mflush\u001b[0m\u001b[0;34m(\u001b[0m\u001b[0mself\u001b[0m\u001b[0;34m)\u001b[0m\u001b[0;34m:\u001b[0m\u001b[0;34m\u001b[0m\u001b[0;34m\u001b[0m\u001b[0m\n",
            "\u001b[0;31mBrokenPipeError\u001b[0m: [Errno 32] Broken pipe"
          ]
        }
      ]
    },
    {
      "cell_type": "markdown",
      "metadata": {
        "id": "L--pHzseLydn"
      },
      "source": [
        "# Ex 1\n",
        "Employee data in HBASE.\n",
        "* create a new table to hold the employee data -> use a distinct name, like ``user_id_employees``\n",
        "* How would you create the column families?\n",
        "* read data from ``employees.csv`` and put it into the table ->  use  ``import csv`` to read the data -> [API docs](https://docs.python.org/3/library/csv.html)\n",
        "* use batch-processing to enter more than one entry per transaction\n",
        "* alter some entries of the table with ``timestamps``\n",
        "* perform some sample scans for the latest entries"
      ]
    },
    {
      "cell_type": "code",
      "metadata": {
        "id": "9nrrddZONfJ3",
        "colab": {
          "base_uri": "https://localhost:8080/"
        },
        "outputId": "10d81101-b84c-479e-8599-b2a1ab43c397"
      },
      "source": [
        "connection.create_table('1234_user_id_employees', families)\n",
        "print(connection.tables())\n",
        "table = connection.table('1234_user_id_employees')"
      ],
      "execution_count": 15,
      "outputs": [
        {
          "output_type": "stream",
          "text": [
            "[b'1234_user_id_employees', b'49a5b1a_employees', b'dh_user_id_employees', b'employee_Group2', b'employee_Group_2', b'employee_group_five', b'employees_smunaret', b'group1_employee', b'group3_user_id_employees', b'lab3', b'mspitzna_employees', b'tm_user_id_employees', b'user_id_employees']\n"
          ],
          "name": "stdout"
        }
      ]
    },
    {
      "cell_type": "code",
      "metadata": {
        "id": "cvUJbyofZyKo"
      },
      "source": [
        "table = connection.table('1234_user_id_employees')"
      ],
      "execution_count": 16,
      "outputs": []
    },
    {
      "cell_type": "code",
      "metadata": {
        "id": "cr6f91yxZQo9",
        "outputId": "9b8b2cea-d6e3-49cf-9a67-a8954645dc37",
        "colab": {
          "base_uri": "https://localhost:8080/"
        }
      },
      "source": [
        "table.families()"
      ],
      "execution_count": 17,
      "outputs": [
        {
          "output_type": "execute_result",
          "data": {
            "text/plain": [
              "{b'cf1': {'block_cache_enabled': False,\n",
              "  'bloom_filter_nb_hashes': 0,\n",
              "  'bloom_filter_type': b'NONE',\n",
              "  'bloom_filter_vector_size': 0,\n",
              "  'compression': b'NONE',\n",
              "  'in_memory': False,\n",
              "  'max_versions': 10,\n",
              "  'name': b'cf1:',\n",
              "  'time_to_live': 2147483647},\n",
              " b'cf2': {'block_cache_enabled': False,\n",
              "  'bloom_filter_nb_hashes': 0,\n",
              "  'bloom_filter_type': b'NONE',\n",
              "  'bloom_filter_vector_size': 0,\n",
              "  'compression': b'NONE',\n",
              "  'in_memory': False,\n",
              "  'max_versions': 1,\n",
              "  'name': b'cf2:',\n",
              "  'time_to_live': 2147483647},\n",
              " b'cf3': {'block_cache_enabled': False,\n",
              "  'bloom_filter_nb_hashes': 0,\n",
              "  'bloom_filter_type': b'NONE',\n",
              "  'bloom_filter_vector_size': 0,\n",
              "  'compression': b'NONE',\n",
              "  'in_memory': False,\n",
              "  'max_versions': 3,\n",
              "  'name': b'cf3:',\n",
              "  'time_to_live': 2147483647}}"
            ]
          },
          "metadata": {
            "tags": []
          },
          "execution_count": 17
        }
      ]
    },
    {
      "cell_type": "code",
      "metadata": {
        "id": "ntsxSRs-Lydo"
      },
      "source": [
        "import csv\n",
        "with open('employees.csv', newline='') as csvfile:\n",
        "    reader = csv.reader(csvfile, delimiter=',')\n",
        "    i = 0;\n",
        "    batch = table.batch(timestamp=None)\n",
        "    for row in reader:\n",
        "      batch.put(row[0], {'cf1:col1': row[1], 'cf1:col2': row[2], 'cf1:col3': row[3], 'cf1:col4': row[4], 'cf2:col5': row[5]})\n",
        "      i=i+1\n",
        "      if i>150:\n",
        "        break;\n",
        "batch.send()"
      ],
      "execution_count": 21,
      "outputs": []
    },
    {
      "cell_type": "code",
      "metadata": {
        "colab": {
          "base_uri": "https://localhost:8080/"
        },
        "id": "aA4Q-caCS5sh",
        "outputId": "87860da0-d0ac-45ac-dd2b-51de302a2b07"
      },
      "source": [
        "#read table\n",
        "#res=table.scan(include_timestamp=True, timestamp=1234567890)\n",
        "res=table.scan()\n",
        "for key,row in res:\n",
        "    print(key,row)"
      ],
      "execution_count": 22,
      "outputs": [
        {
          "output_type": "stream",
          "text": [
            "b'10001' {b'cf1:col1': b\"'1953-09-02'\", b'cf1:col2': b\"'Georgi'\", b'cf1:col3': b\"'Facello'\", b'cf1:col4': b\"'M'\", b'cf2:col5': b\"'1986-06-26'\"}\n",
            "b'10002' {b'cf1:col1': b\"'1964-06-02'\", b'cf1:col2': b\"'Bezalel'\", b'cf1:col3': b\"'Simmel'\", b'cf1:col4': b\"'F'\", b'cf2:col5': b\"'1985-11-21'\"}\n",
            "b'10003' {b'cf1:col1': b\"'1959-12-03'\", b'cf1:col2': b\"'Parto'\", b'cf1:col3': b\"'Bamford'\", b'cf1:col4': b\"'M'\", b'cf2:col5': b\"'1986-08-28'\"}\n",
            "b'10004' {b'cf1:col1': b\"'1954-05-01'\", b'cf1:col2': b\"'Chirstian'\", b'cf1:col3': b\"'Koblick'\", b'cf1:col4': b\"'M'\", b'cf2:col5': b\"'1986-12-01'\"}\n",
            "b'10005' {b'cf1:col1': b\"'1955-01-21'\", b'cf1:col2': b\"'Kyoichi'\", b'cf1:col3': b\"'Maliniak'\", b'cf1:col4': b\"'M'\", b'cf2:col5': b\"'1989-09-12'\"}\n",
            "b'10006' {b'cf1:col1': b\"'1953-04-20'\", b'cf1:col2': b\"'Anneke'\", b'cf1:col3': b\"'Preusig'\", b'cf1:col4': b\"'F'\", b'cf2:col5': b\"'1989-06-02'\"}\n",
            "b'10007' {b'cf1:col1': b\"'1957-05-23'\", b'cf1:col2': b\"'Tzvetan'\", b'cf1:col3': b\"'Zielinski'\", b'cf1:col4': b\"'F'\", b'cf2:col5': b\"'1989-02-10'\"}\n",
            "b'10008' {b'cf1:col1': b\"'1958-02-19'\", b'cf1:col2': b\"'Saniya'\", b'cf1:col3': b\"'Kalloufi'\", b'cf1:col4': b\"'M'\", b'cf2:col5': b\"'1994-09-15'\"}\n",
            "b'10009' {b'cf1:col1': b\"'1952-04-19'\", b'cf1:col2': b\"'Sumant'\", b'cf1:col3': b\"'Peac'\", b'cf1:col4': b\"'F'\", b'cf2:col5': b\"'1985-02-18'\"}\n",
            "b'10010' {b'cf1:col1': b\"'1963-06-01'\", b'cf1:col2': b\"'Duangkaew'\", b'cf1:col3': b\"'Piveteau'\", b'cf1:col4': b\"'F'\", b'cf2:col5': b\"'1989-08-24'\"}\n",
            "b'10011' {b'cf1:col1': b\"'1953-11-07'\", b'cf1:col2': b\"'Mary'\", b'cf1:col3': b\"'Sluis'\", b'cf1:col4': b\"'F'\", b'cf2:col5': b\"'1990-01-22'\"}\n",
            "b'10012' {b'cf1:col1': b\"'1960-10-04'\", b'cf1:col2': b\"'Patricio'\", b'cf1:col3': b\"'Bridgland'\", b'cf1:col4': b\"'M'\", b'cf2:col5': b\"'1992-12-18'\"}\n",
            "b'10013' {b'cf1:col1': b\"'1963-06-07'\", b'cf1:col2': b\"'Eberhardt'\", b'cf1:col3': b\"'Terkki'\", b'cf1:col4': b\"'M'\", b'cf2:col5': b\"'1985-10-20'\"}\n",
            "b'10014' {b'cf1:col1': b\"'1956-02-12'\", b'cf1:col2': b\"'Berni'\", b'cf1:col3': b\"'Genin'\", b'cf1:col4': b\"'M'\", b'cf2:col5': b\"'1987-03-11'\"}\n",
            "b'10015' {b'cf1:col1': b\"'1959-08-19'\", b'cf1:col2': b\"'Guoxiang'\", b'cf1:col3': b\"'Nooteboom'\", b'cf1:col4': b\"'M'\", b'cf2:col5': b\"'1987-07-02'\"}\n",
            "b'10016' {b'cf1:col1': b\"'1961-05-02'\", b'cf1:col2': b\"'Kazuhito'\", b'cf1:col3': b\"'Cappelletti'\", b'cf1:col4': b\"'M'\", b'cf2:col5': b\"'1995-01-27'\"}\n",
            "b'10017' {b'cf1:col1': b\"'1958-07-06'\", b'cf1:col2': b\"'Cristinel'\", b'cf1:col3': b\"'Bouloucos'\", b'cf1:col4': b\"'F'\", b'cf2:col5': b\"'1993-08-03'\"}\n",
            "b'10018' {b'cf1:col1': b\"'1954-06-19'\", b'cf1:col2': b\"'Kazuhide'\", b'cf1:col3': b\"'Peha'\", b'cf1:col4': b\"'F'\", b'cf2:col5': b\"'1987-04-03'\"}\n",
            "b'10019' {b'cf1:col1': b\"'1953-01-23'\", b'cf1:col2': b\"'Lillian'\", b'cf1:col3': b\"'Haddadi'\", b'cf1:col4': b\"'M'\", b'cf2:col5': b\"'1999-04-30'\"}\n",
            "b'10020' {b'cf1:col1': b\"'1952-12-24'\", b'cf1:col2': b\"'Mayuko'\", b'cf1:col3': b\"'Warwick'\", b'cf1:col4': b\"'M'\", b'cf2:col5': b\"'1991-01-26'\"}\n",
            "b'10021' {b'cf1:col1': b\"'1960-02-20'\", b'cf1:col2': b\"'Ramzi'\", b'cf1:col3': b\"'Erde'\", b'cf1:col4': b\"'M'\", b'cf2:col5': b\"'1988-02-10'\"}\n",
            "b'10022' {b'cf1:col1': b\"'1952-07-08'\", b'cf1:col2': b\"'Shahaf'\", b'cf1:col3': b\"'Famili'\", b'cf1:col4': b\"'M'\", b'cf2:col5': b\"'1995-08-22'\"}\n",
            "b'10023' {b'cf1:col1': b\"'1953-09-29'\", b'cf1:col2': b\"'Bojan'\", b'cf1:col3': b\"'Montemayor'\", b'cf1:col4': b\"'F'\", b'cf2:col5': b\"'1989-12-17'\"}\n",
            "b'10024' {b'cf1:col1': b\"'1958-09-05'\", b'cf1:col2': b\"'Suzette'\", b'cf1:col3': b\"'Pettey'\", b'cf1:col4': b\"'F'\", b'cf2:col5': b\"'1997-05-19'\"}\n",
            "b'10025' {b'cf1:col1': b\"'1958-10-31'\", b'cf1:col2': b\"'Prasadram'\", b'cf1:col3': b\"'Heyers'\", b'cf1:col4': b\"'M'\", b'cf2:col5': b\"'1987-08-17'\"}\n",
            "b'10026' {b'cf1:col1': b\"'1953-04-03'\", b'cf1:col2': b\"'Yongqiao'\", b'cf1:col3': b\"'Berztiss'\", b'cf1:col4': b\"'M'\", b'cf2:col5': b\"'1995-03-20'\"}\n",
            "b'10027' {b'cf1:col1': b\"'1962-07-10'\", b'cf1:col2': b\"'Divier'\", b'cf1:col3': b\"'Reistad'\", b'cf1:col4': b\"'F'\", b'cf2:col5': b\"'1989-07-07'\"}\n",
            "b'10028' {b'cf1:col1': b\"'1963-11-26'\", b'cf1:col2': b\"'Domenick'\", b'cf1:col3': b\"'Tempesti'\", b'cf1:col4': b\"'M'\", b'cf2:col5': b\"'1991-10-22'\"}\n",
            "b'10029' {b'cf1:col1': b\"'1956-12-13'\", b'cf1:col2': b\"'Otmar'\", b'cf1:col3': b\"'Herbst'\", b'cf1:col4': b\"'M'\", b'cf2:col5': b\"'1985-11-20'\"}\n",
            "b'10030' {b'cf1:col1': b\"'1958-07-14'\", b'cf1:col2': b\"'Elvis'\", b'cf1:col3': b\"'Demeyer'\", b'cf1:col4': b\"'M'\", b'cf2:col5': b\"'1994-02-17'\"}\n",
            "b'10031' {b'cf1:col1': b\"'1959-01-27'\", b'cf1:col2': b\"'Karsten'\", b'cf1:col3': b\"'Joslin'\", b'cf1:col4': b\"'M'\", b'cf2:col5': b\"'1991-09-01'\"}\n",
            "b'10032' {b'cf1:col1': b\"'1960-08-09'\", b'cf1:col2': b\"'Jeong'\", b'cf1:col3': b\"'Reistad'\", b'cf1:col4': b\"'F'\", b'cf2:col5': b\"'1990-06-20'\"}\n",
            "b'10033' {b'cf1:col1': b\"'1956-11-14'\", b'cf1:col2': b\"'Arif'\", b'cf1:col3': b\"'Merlo'\", b'cf1:col4': b\"'M'\", b'cf2:col5': b\"'1987-03-18'\"}\n",
            "b'10034' {b'cf1:col1': b\"'1962-12-29'\", b'cf1:col2': b\"'Bader'\", b'cf1:col3': b\"'Swan'\", b'cf1:col4': b\"'M'\", b'cf2:col5': b\"'1988-09-21'\"}\n",
            "b'10035' {b'cf1:col1': b\"'1953-02-08'\", b'cf1:col2': b\"'Alain'\", b'cf1:col3': b\"'Chappelet'\", b'cf1:col4': b\"'M'\", b'cf2:col5': b\"'1988-09-05'\"}\n",
            "b'10036' {b'cf1:col1': b\"'1959-08-10'\", b'cf1:col2': b\"'Adamantios'\", b'cf1:col3': b\"'Portugali'\", b'cf1:col4': b\"'M'\", b'cf2:col5': b\"'1992-01-03'\"}\n",
            "b'10037' {b'cf1:col1': b\"'1963-07-22'\", b'cf1:col2': b\"'Pradeep'\", b'cf1:col3': b\"'Makrucki'\", b'cf1:col4': b\"'M'\", b'cf2:col5': b\"'1990-12-05'\"}\n",
            "b'10038' {b'cf1:col1': b\"'1960-07-20'\", b'cf1:col2': b\"'Huan'\", b'cf1:col3': b\"'Lortz'\", b'cf1:col4': b\"'M'\", b'cf2:col5': b\"'1989-09-20'\"}\n",
            "b'10039' {b'cf1:col1': b\"'1959-10-01'\", b'cf1:col2': b\"'Alejandro'\", b'cf1:col3': b\"'Brender'\", b'cf1:col4': b\"'M'\", b'cf2:col5': b\"'1988-01-19'\"}\n",
            "b'10040' {b'cf1:col1': b\"'1959-09-13'\", b'cf1:col2': b\"'Weiyi'\", b'cf1:col3': b\"'Meriste'\", b'cf1:col4': b\"'F'\", b'cf2:col5': b\"'1993-02-14'\"}\n",
            "b'10041' {b'cf1:col1': b\"'1959-08-27'\", b'cf1:col2': b\"'Uri'\", b'cf1:col3': b\"'Lenart'\", b'cf1:col4': b\"'F'\", b'cf2:col5': b\"'1989-11-12'\"}\n",
            "b'10042' {b'cf1:col1': b\"'1956-02-26'\", b'cf1:col2': b\"'Magy'\", b'cf1:col3': b\"'Stamatiou'\", b'cf1:col4': b\"'F'\", b'cf2:col5': b\"'1993-03-21'\"}\n",
            "b'10043' {b'cf1:col1': b\"'1960-09-19'\", b'cf1:col2': b\"'Yishay'\", b'cf1:col3': b\"'Tzvieli'\", b'cf1:col4': b\"'M'\", b'cf2:col5': b\"'1990-10-20'\"}\n",
            "b'10044' {b'cf1:col1': b\"'1961-09-21'\", b'cf1:col2': b\"'Mingsen'\", b'cf1:col3': b\"'Casley'\", b'cf1:col4': b\"'F'\", b'cf2:col5': b\"'1994-05-21'\"}\n",
            "b'10045' {b'cf1:col1': b\"'1957-08-14'\", b'cf1:col2': b\"'Moss'\", b'cf1:col3': b\"'Shanbhogue'\", b'cf1:col4': b\"'M'\", b'cf2:col5': b\"'1989-09-02'\"}\n",
            "b'10046' {b'cf1:col1': b\"'1960-07-23'\", b'cf1:col2': b\"'Lucien'\", b'cf1:col3': b\"'Rosenbaum'\", b'cf1:col4': b\"'M'\", b'cf2:col5': b\"'1992-06-20'\"}\n",
            "b'10047' {b'cf1:col1': b\"'1952-06-29'\", b'cf1:col2': b\"'Zvonko'\", b'cf1:col3': b\"'Nyanchama'\", b'cf1:col4': b\"'M'\", b'cf2:col5': b\"'1989-03-31'\"}\n",
            "b'10048' {b'cf1:col1': b\"'1963-07-11'\", b'cf1:col2': b\"'Florian'\", b'cf1:col3': b\"'Syrotiuk'\", b'cf1:col4': b\"'M'\", b'cf2:col5': b\"'1985-02-24'\"}\n",
            "b'10049' {b'cf1:col1': b\"'1961-04-24'\", b'cf1:col2': b\"'Basil'\", b'cf1:col3': b\"'Tramer'\", b'cf1:col4': b\"'F'\", b'cf2:col5': b\"'1992-05-04'\"}\n",
            "b'10050' {b'cf1:col1': b\"'1958-05-21'\", b'cf1:col2': b\"'Yinghua'\", b'cf1:col3': b\"'Dredge'\", b'cf1:col4': b\"'M'\", b'cf2:col5': b\"'1990-12-25'\"}\n",
            "b'10051' {b'cf1:col1': b\"'1953-07-28'\", b'cf1:col2': b\"'Hidefumi'\", b'cf1:col3': b\"'Caine'\", b'cf1:col4': b\"'M'\", b'cf2:col5': b\"'1992-10-15'\"}\n",
            "b'10052' {b'cf1:col1': b\"'1961-02-26'\", b'cf1:col2': b\"'Heping'\", b'cf1:col3': b\"'Nitsch'\", b'cf1:col4': b\"'M'\", b'cf2:col5': b\"'1988-05-21'\"}\n",
            "b'10053' {b'cf1:col1': b\"'1954-09-13'\", b'cf1:col2': b\"'Sanjiv'\", b'cf1:col3': b\"'Zschoche'\", b'cf1:col4': b\"'F'\", b'cf2:col5': b\"'1986-02-04'\"}\n",
            "b'10054' {b'cf1:col1': b\"'1957-04-04'\", b'cf1:col2': b\"'Mayumi'\", b'cf1:col3': b\"'Schueller'\", b'cf1:col4': b\"'M'\", b'cf2:col5': b\"'1995-03-13'\"}\n",
            "b'10055' {b'cf1:col1': b\"'1956-06-06'\", b'cf1:col2': b\"'Georgy'\", b'cf1:col3': b\"'Dredge'\", b'cf1:col4': b\"'M'\", b'cf2:col5': b\"'1992-04-27'\"}\n",
            "b'10056' {b'cf1:col1': b\"'1961-09-01'\", b'cf1:col2': b\"'Brendon'\", b'cf1:col3': b\"'Bernini'\", b'cf1:col4': b\"'F'\", b'cf2:col5': b\"'1990-02-01'\"}\n",
            "b'10057' {b'cf1:col1': b\"'1954-05-30'\", b'cf1:col2': b\"'Ebbe'\", b'cf1:col3': b\"'Callaway'\", b'cf1:col4': b\"'F'\", b'cf2:col5': b\"'1992-01-15'\"}\n",
            "b'10058' {b'cf1:col1': b\"'1954-10-01'\", b'cf1:col2': b\"'Berhard'\", b'cf1:col3': b\"'McFarlin'\", b'cf1:col4': b\"'M'\", b'cf2:col5': b\"'1987-04-13'\"}\n",
            "b'10059' {b'cf1:col1': b\"'1953-09-19'\", b'cf1:col2': b\"'Alejandro'\", b'cf1:col3': b\"'McAlpine'\", b'cf1:col4': b\"'F'\", b'cf2:col5': b\"'1991-06-26'\"}\n",
            "b'10060' {b'cf1:col1': b\"'1961-10-15'\", b'cf1:col2': b\"'Breannda'\", b'cf1:col3': b\"'Billingsley'\", b'cf1:col4': b\"'M'\", b'cf2:col5': b\"'1987-11-02'\"}\n",
            "b'10061' {b'cf1:col1': b\"'1962-10-19'\", b'cf1:col2': b\"'Tse'\", b'cf1:col3': b\"'Herber'\", b'cf1:col4': b\"'M'\", b'cf2:col5': b\"'1985-09-17'\"}\n",
            "b'10062' {b'cf1:col1': b\"'1961-11-02'\", b'cf1:col2': b\"'Anoosh'\", b'cf1:col3': b\"'Peyn'\", b'cf1:col4': b\"'M'\", b'cf2:col5': b\"'1991-08-30'\"}\n",
            "b'10063' {b'cf1:col1': b\"'1952-08-06'\", b'cf1:col2': b\"'Gino'\", b'cf1:col3': b\"'Leonhardt'\", b'cf1:col4': b\"'F'\", b'cf2:col5': b\"'1989-04-08'\"}\n",
            "b'10064' {b'cf1:col1': b\"'1959-04-07'\", b'cf1:col2': b\"'Udi'\", b'cf1:col3': b\"'Jansch'\", b'cf1:col4': b\"'M'\", b'cf2:col5': b\"'1985-11-20'\"}\n",
            "b'10065' {b'cf1:col1': b\"'1963-04-14'\", b'cf1:col2': b\"'Satosi'\", b'cf1:col3': b\"'Awdeh'\", b'cf1:col4': b\"'M'\", b'cf2:col5': b\"'1988-05-18'\"}\n",
            "b'10066' {b'cf1:col1': b\"'1952-11-13'\", b'cf1:col2': b\"'Kwee'\", b'cf1:col3': b\"'Schusler'\", b'cf1:col4': b\"'M'\", b'cf2:col5': b\"'1986-02-26'\"}\n",
            "b'10067' {b'cf1:col1': b\"'1953-01-07'\", b'cf1:col2': b\"'Claudi'\", b'cf1:col3': b\"'Stavenow'\", b'cf1:col4': b\"'M'\", b'cf2:col5': b\"'1987-03-04'\"}\n",
            "b'10068' {b'cf1:col1': b\"'1962-11-26'\", b'cf1:col2': b\"'Charlene'\", b'cf1:col3': b\"'Brattka'\", b'cf1:col4': b\"'M'\", b'cf2:col5': b\"'1987-08-07'\"}\n",
            "b'10069' {b'cf1:col1': b\"'1960-09-06'\", b'cf1:col2': b\"'Margareta'\", b'cf1:col3': b\"'Bierman'\", b'cf1:col4': b\"'F'\", b'cf2:col5': b\"'1989-11-05'\"}\n",
            "b'10070' {b'cf1:col1': b\"'1955-08-20'\", b'cf1:col2': b\"'Reuven'\", b'cf1:col3': b\"'Garigliano'\", b'cf1:col4': b\"'M'\", b'cf2:col5': b\"'1985-10-14'\"}\n",
            "b'10071' {b'cf1:col1': b\"'1958-01-21'\", b'cf1:col2': b\"'Hisao'\", b'cf1:col3': b\"'Lipner'\", b'cf1:col4': b\"'M'\", b'cf2:col5': b\"'1987-10-01'\"}\n",
            "b'10072' {b'cf1:col1': b\"'1952-05-15'\", b'cf1:col2': b\"'Hironoby'\", b'cf1:col3': b\"'Sidou'\", b'cf1:col4': b\"'F'\", b'cf2:col5': b\"'1988-07-21'\"}\n",
            "b'10073' {b'cf1:col1': b\"'1954-02-23'\", b'cf1:col2': b\"'Shir'\", b'cf1:col3': b\"'McClurg'\", b'cf1:col4': b\"'M'\", b'cf2:col5': b\"'1991-12-01'\"}\n",
            "b'10074' {b'cf1:col1': b\"'1955-08-28'\", b'cf1:col2': b\"'Mokhtar'\", b'cf1:col3': b\"'Bernatsky'\", b'cf1:col4': b\"'F'\", b'cf2:col5': b\"'1990-08-13'\"}\n",
            "b'10075' {b'cf1:col1': b\"'1960-03-09'\", b'cf1:col2': b\"'Gao'\", b'cf1:col3': b\"'Dolinsky'\", b'cf1:col4': b\"'F'\", b'cf2:col5': b\"'1987-03-19'\"}\n",
            "b'10076' {b'cf1:col1': b\"'1952-06-13'\", b'cf1:col2': b\"'Erez'\", b'cf1:col3': b\"'Ritzmann'\", b'cf1:col4': b\"'F'\", b'cf2:col5': b\"'1985-07-09'\"}\n",
            "b'10077' {b'cf1:col1': b\"'1964-04-18'\", b'cf1:col2': b\"'Mona'\", b'cf1:col3': b\"'Azuma'\", b'cf1:col4': b\"'M'\", b'cf2:col5': b\"'1990-03-02'\"}\n",
            "b'10078' {b'cf1:col1': b\"'1959-12-25'\", b'cf1:col2': b\"'Danel'\", b'cf1:col3': b\"'Mondadori'\", b'cf1:col4': b\"'F'\", b'cf2:col5': b\"'1987-05-26'\"}\n",
            "b'10079' {b'cf1:col1': b\"'1961-10-05'\", b'cf1:col2': b\"'Kshitij'\", b'cf1:col3': b\"'Gils'\", b'cf1:col4': b\"'F'\", b'cf2:col5': b\"'1986-03-27'\"}\n",
            "b'10080' {b'cf1:col1': b\"'1957-12-03'\", b'cf1:col2': b\"'Premal'\", b'cf1:col3': b\"'Baek'\", b'cf1:col4': b\"'M'\", b'cf2:col5': b\"'1985-11-19'\"}\n",
            "b'10081' {b'cf1:col1': b\"'1960-12-17'\", b'cf1:col2': b\"'Zhongwei'\", b'cf1:col3': b\"'Rosen'\", b'cf1:col4': b\"'M'\", b'cf2:col5': b\"'1986-10-30'\"}\n",
            "b'10082' {b'cf1:col1': b\"'1963-09-09'\", b'cf1:col2': b\"'Parviz'\", b'cf1:col3': b\"'Lortz'\", b'cf1:col4': b\"'M'\", b'cf2:col5': b\"'1990-01-03'\"}\n",
            "b'10083' {b'cf1:col1': b\"'1959-07-23'\", b'cf1:col2': b\"'Vishv'\", b'cf1:col3': b\"'Zockler'\", b'cf1:col4': b\"'M'\", b'cf2:col5': b\"'1987-03-31'\"}\n",
            "b'10084' {b'cf1:col1': b\"'1960-05-25'\", b'cf1:col2': b\"'Tuval'\", b'cf1:col3': b\"'Kalloufi'\", b'cf1:col4': b\"'M'\", b'cf2:col5': b\"'1995-12-15'\"}\n",
            "b'10085' {b'cf1:col1': b\"'1962-11-07'\", b'cf1:col2': b\"'Kenroku'\", b'cf1:col3': b\"'Malabarba'\", b'cf1:col4': b\"'M'\", b'cf2:col5': b\"'1994-04-09'\"}\n",
            "b'10086' {b'cf1:col1': b\"'1962-11-19'\", b'cf1:col2': b\"'Somnath'\", b'cf1:col3': b\"'Foote'\", b'cf1:col4': b\"'M'\", b'cf2:col5': b\"'1990-02-16'\"}\n",
            "b'10087' {b'cf1:col1': b\"'1959-07-23'\", b'cf1:col2': b\"'Xinglin'\", b'cf1:col3': b\"'Eugenio'\", b'cf1:col4': b\"'F'\", b'cf2:col5': b\"'1986-09-08'\"}\n",
            "b'10088' {b'cf1:col1': b\"'1954-02-25'\", b'cf1:col2': b\"'Jungsoon'\", b'cf1:col3': b\"'Syrzycki'\", b'cf1:col4': b\"'F'\", b'cf2:col5': b\"'1988-09-02'\"}\n",
            "b'10089' {b'cf1:col1': b\"'1963-03-21'\", b'cf1:col2': b\"'Sudharsan'\", b'cf1:col3': b\"'Flasterstein'\", b'cf1:col4': b\"'F'\", b'cf2:col5': b\"'1986-08-12'\"}\n",
            "b'10090' {b'cf1:col1': b\"'1961-05-30'\", b'cf1:col2': b\"'Kendra'\", b'cf1:col3': b\"'Hofting'\", b'cf1:col4': b\"'M'\", b'cf2:col5': b\"'1986-03-14'\"}\n",
            "b'10091' {b'cf1:col1': b\"'1955-10-04'\", b'cf1:col2': b\"'Amabile'\", b'cf1:col3': b\"'Gomatam'\", b'cf1:col4': b\"'M'\", b'cf2:col5': b\"'1992-11-18'\"}\n",
            "b'10092' {b'cf1:col1': b\"'1964-10-18'\", b'cf1:col2': b\"'Valdiodio'\", b'cf1:col3': b\"'Niizuma'\", b'cf1:col4': b\"'F'\", b'cf2:col5': b\"'1989-09-22'\"}\n",
            "b'10093' {b'cf1:col1': b\"'1964-06-11'\", b'cf1:col2': b\"'Sailaja'\", b'cf1:col3': b\"'Desikan'\", b'cf1:col4': b\"'M'\", b'cf2:col5': b\"'1996-11-05'\"}\n",
            "b'10094' {b'cf1:col1': b\"'1957-05-25'\", b'cf1:col2': b\"'Arumugam'\", b'cf1:col3': b\"'Ossenbruggen'\", b'cf1:col4': b\"'F'\", b'cf2:col5': b\"'1987-04-18'\"}\n",
            "b'10095' {b'cf1:col1': b\"'1965-01-03'\", b'cf1:col2': b\"'Hilari'\", b'cf1:col3': b\"'Morton'\", b'cf1:col4': b\"'M'\", b'cf2:col5': b\"'1986-07-15'\"}\n",
            "b'10096' {b'cf1:col1': b\"'1954-09-16'\", b'cf1:col2': b\"'Jayson'\", b'cf1:col3': b\"'Mandell'\", b'cf1:col4': b\"'M'\", b'cf2:col5': b\"'1990-01-14'\"}\n",
            "b'10097' {b'cf1:col1': b\"'1952-02-27'\", b'cf1:col2': b\"'Remzi'\", b'cf1:col3': b\"'Waschkowski'\", b'cf1:col4': b\"'M'\", b'cf2:col5': b\"'1990-09-15'\"}\n",
            "b'10098' {b'cf1:col1': b\"'1961-09-23'\", b'cf1:col2': b\"'Sreekrishna'\", b'cf1:col3': b\"'Servieres'\", b'cf1:col4': b\"'F'\", b'cf2:col5': b\"'1985-05-13'\"}\n",
            "b'10099' {b'cf1:col1': b\"'1956-05-25'\", b'cf1:col2': b\"'Valter'\", b'cf1:col3': b\"'Sullins'\", b'cf1:col4': b\"'F'\", b'cf2:col5': b\"'1988-10-18'\"}\n",
            "b'10100' {b'cf1:col1': b\"'1953-04-21'\", b'cf1:col2': b\"'Hironobu'\", b'cf1:col3': b\"'Haraldson'\", b'cf1:col4': b\"'F'\", b'cf2:col5': b\"'1987-09-21'\"}\n",
            "b'10101' {b'cf1:col1': b\"'1952-04-15'\", b'cf1:col2': b\"'Perla'\", b'cf1:col3': b\"'Heyers'\", b'cf1:col4': b\"'F'\", b'cf2:col5': b\"'1992-12-28'\"}\n",
            "b'10102' {b'cf1:col1': b\"'1959-11-04'\", b'cf1:col2': b\"'Paraskevi'\", b'cf1:col3': b\"'Luby'\", b'cf1:col4': b\"'F'\", b'cf2:col5': b\"'1994-01-26'\"}\n",
            "b'10103' {b'cf1:col1': b\"'1953-11-26'\", b'cf1:col2': b\"'Akemi'\", b'cf1:col3': b\"'Birch'\", b'cf1:col4': b\"'M'\", b'cf2:col5': b\"'1986-12-02'\"}\n",
            "b'10104' {b'cf1:col1': b\"'1961-11-19'\", b'cf1:col2': b\"'Xinyu'\", b'cf1:col3': b\"'Warwick'\", b'cf1:col4': b\"'M'\", b'cf2:col5': b\"'1987-04-16'\"}\n",
            "b'10105' {b'cf1:col1': b\"'1962-02-05'\", b'cf1:col2': b\"'Hironoby'\", b'cf1:col3': b\"'Piveteau'\", b'cf1:col4': b\"'M'\", b'cf2:col5': b\"'1999-03-23'\"}\n",
            "b'10106' {b'cf1:col1': b\"'1952-08-29'\", b'cf1:col2': b\"'Eben'\", b'cf1:col3': b\"'Aingworth'\", b'cf1:col4': b\"'M'\", b'cf2:col5': b\"'1990-12-19'\"}\n",
            "b'10107' {b'cf1:col1': b\"'1956-06-13'\", b'cf1:col2': b\"'Dung'\", b'cf1:col3': b\"'Baca'\", b'cf1:col4': b\"'F'\", b'cf2:col5': b\"'1994-03-22'\"}\n",
            "b'10108' {b'cf1:col1': b\"'1952-04-07'\", b'cf1:col2': b\"'Lunjin'\", b'cf1:col3': b\"'Giveon'\", b'cf1:col4': b\"'M'\", b'cf2:col5': b\"'1986-10-02'\"}\n",
            "b'10109' {b'cf1:col1': b\"'1958-11-25'\", b'cf1:col2': b\"'Mariusz'\", b'cf1:col3': b\"'Prampolini'\", b'cf1:col4': b\"'F'\", b'cf2:col5': b\"'1993-06-16'\"}\n",
            "b'10110' {b'cf1:col1': b\"'1957-03-07'\", b'cf1:col2': b\"'Xuejia'\", b'cf1:col3': b\"'Ullian'\", b'cf1:col4': b\"'F'\", b'cf2:col5': b\"'1986-08-22'\"}\n",
            "b'10111' {b'cf1:col1': b\"'1963-08-29'\", b'cf1:col2': b\"'Hugo'\", b'cf1:col3': b\"'Rosis'\", b'cf1:col4': b\"'F'\", b'cf2:col5': b\"'1988-06-19'\"}\n",
            "b'10112' {b'cf1:col1': b\"'1963-08-13'\", b'cf1:col2': b\"'Yuichiro'\", b'cf1:col3': b\"'Swick'\", b'cf1:col4': b\"'F'\", b'cf2:col5': b\"'1985-10-08'\"}\n",
            "b'10113' {b'cf1:col1': b\"'1963-11-13'\", b'cf1:col2': b\"'Jaewon'\", b'cf1:col3': b\"'Syrzycki'\", b'cf1:col4': b\"'M'\", b'cf2:col5': b\"'1989-12-24'\"}\n",
            "b'10114' {b'cf1:col1': b\"'1957-02-16'\", b'cf1:col2': b\"'Munir'\", b'cf1:col3': b\"'Demeyer'\", b'cf1:col4': b\"'F'\", b'cf2:col5': b\"'1992-07-17'\"}\n",
            "b'10115' {b'cf1:col1': b\"'1964-12-25'\", b'cf1:col2': b\"'Chikara'\", b'cf1:col3': b\"'Rissland'\", b'cf1:col4': b\"'M'\", b'cf2:col5': b\"'1986-01-23'\"}\n",
            "b'10116' {b'cf1:col1': b\"'1955-08-26'\", b'cf1:col2': b\"'Dayanand'\", b'cf1:col3': b\"'Czap'\", b'cf1:col4': b\"'F'\", b'cf2:col5': b\"'1985-05-28'\"}\n",
            "b'10117' {b'cf1:col1': b\"'1961-10-24'\", b'cf1:col2': b\"'Kiyotoshi'\", b'cf1:col3': b\"'Blokdijk'\", b'cf1:col4': b\"'F'\", b'cf2:col5': b\"'1990-05-28'\"}\n",
            "b'10118' {b'cf1:col1': b\"'1957-03-29'\", b'cf1:col2': b\"'Zhonghui'\", b'cf1:col3': b\"'Zyda'\", b'cf1:col4': b\"'F'\", b'cf2:col5': b\"'1990-09-13'\"}\n",
            "b'10119' {b'cf1:col1': b\"'1960-12-01'\", b'cf1:col2': b\"'Domenick'\", b'cf1:col3': b\"'Peltason'\", b'cf1:col4': b\"'M'\", b'cf2:col5': b\"'1986-03-14'\"}\n",
            "b'10120' {b'cf1:col1': b\"'1960-03-26'\", b'cf1:col2': b\"'Armond'\", b'cf1:col3': b\"'Fairtlough'\", b'cf1:col4': b\"'F'\", b'cf2:col5': b\"'1996-07-06'\"}\n",
            "b'10121' {b'cf1:col1': b\"'1962-07-14'\", b'cf1:col2': b\"'Guoxiang'\", b'cf1:col3': b\"'Ramsay'\", b'cf1:col4': b\"'M'\", b'cf2:col5': b\"'1989-05-03'\"}\n",
            "b'10122' {b'cf1:col1': b\"'1965-01-19'\", b'cf1:col2': b\"'Ohad'\", b'cf1:col3': b\"'Esposito'\", b'cf1:col4': b\"'M'\", b'cf2:col5': b\"'1992-12-23'\"}\n",
            "b'10123' {b'cf1:col1': b\"'1962-05-12'\", b'cf1:col2': b\"'Hinrich'\", b'cf1:col3': b\"'Randi'\", b'cf1:col4': b\"'M'\", b'cf2:col5': b\"'1993-01-15'\"}\n",
            "b'10124' {b'cf1:col1': b\"'1962-05-23'\", b'cf1:col2': b\"'Geraldo'\", b'cf1:col3': b\"'Marwedel'\", b'cf1:col4': b\"'M'\", b'cf2:col5': b\"'1991-09-05'\"}\n",
            "b'10125' {b'cf1:col1': b\"'1957-09-13'\", b'cf1:col2': b\"'Syozo'\", b'cf1:col3': b\"'Hiltgen'\", b'cf1:col4': b\"'F'\", b'cf2:col5': b\"'1990-10-26'\"}\n",
            "b'10126' {b'cf1:col1': b\"'1954-08-07'\", b'cf1:col2': b\"'Kayoko'\", b'cf1:col3': b\"'Valtorta'\", b'cf1:col4': b\"'M'\", b'cf2:col5': b\"'1985-09-08'\"}\n",
            "b'10127' {b'cf1:col1': b\"'1952-02-24'\", b'cf1:col2': b\"'Subir'\", b'cf1:col3': b\"'Baja'\", b'cf1:col4': b\"'F'\", b'cf2:col5': b\"'1989-01-14'\"}\n",
            "b'10128' {b'cf1:col1': b\"'1958-02-15'\", b'cf1:col2': b\"'Babette'\", b'cf1:col3': b\"'Lamba'\", b'cf1:col4': b\"'F'\", b'cf2:col5': b\"'1988-06-06'\"}\n",
            "b'10129' {b'cf1:col1': b\"'1955-12-02'\", b'cf1:col2': b\"'Armond'\", b'cf1:col3': b\"'Peir'\", b'cf1:col4': b\"'M'\", b'cf2:col5': b\"'1985-12-10'\"}\n",
            "b'10130' {b'cf1:col1': b\"'1955-04-27'\", b'cf1:col2': b\"'Nishit'\", b'cf1:col3': b\"'Casperson'\", b'cf1:col4': b\"'M'\", b'cf2:col5': b\"'1988-06-21'\"}\n",
            "b'10131' {b'cf1:col1': b\"'1952-02-19'\", b'cf1:col2': b\"'Magdalena'\", b'cf1:col3': b\"'Eldridge'\", b'cf1:col4': b\"'M'\", b'cf2:col5': b\"'1994-11-17'\"}\n",
            "b'10132' {b'cf1:col1': b\"'1956-12-15'\", b'cf1:col2': b\"'Ayakannu'\", b'cf1:col3': b\"'Skrikant'\", b'cf1:col4': b\"'M'\", b'cf2:col5': b\"'1994-10-30'\"}\n",
            "b'10133' {b'cf1:col1': b\"'1963-12-12'\", b'cf1:col2': b\"'Giri'\", b'cf1:col3': b\"'Isaak'\", b'cf1:col4': b\"'M'\", b'cf2:col5': b\"'1985-12-15'\"}\n",
            "b'10134' {b'cf1:col1': b\"'1953-04-15'\", b'cf1:col2': b\"'Diederik'\", b'cf1:col3': b\"'Siprelle'\", b'cf1:col4': b\"'M'\", b'cf2:col5': b\"'1987-12-12'\"}\n",
            "b'10135' {b'cf1:col1': b\"'1956-12-23'\", b'cf1:col2': b\"'Nathan'\", b'cf1:col3': b\"'Monkewich'\", b'cf1:col4': b\"'M'\", b'cf2:col5': b\"'1988-02-19'\"}\n",
            "b'10136' {b'cf1:col1': b\"'1961-09-14'\", b'cf1:col2': b\"'Zissis'\", b'cf1:col3': b\"'Pintelas'\", b'cf1:col4': b\"'M'\", b'cf2:col5': b\"'1986-02-11'\"}\n",
            "b'10137' {b'cf1:col1': b\"'1959-07-30'\", b'cf1:col2': b\"'Maren'\", b'cf1:col3': b\"'Hutton'\", b'cf1:col4': b\"'M'\", b'cf2:col5': b\"'1985-02-18'\"}\n",
            "b'10138' {b'cf1:col1': b\"'1955-04-24'\", b'cf1:col2': b\"'Perry'\", b'cf1:col3': b\"'Shimshoni'\", b'cf1:col4': b\"'M'\", b'cf2:col5': b\"'1986-09-18'\"}\n",
            "b'10139' {b'cf1:col1': b\"'1963-03-03'\", b'cf1:col2': b\"'Ewing'\", b'cf1:col3': b\"'Foong'\", b'cf1:col4': b\"'F'\", b'cf2:col5': b\"'1998-03-15'\"}\n",
            "b'10140' {b'cf1:col1': b\"'1957-03-11'\", b'cf1:col2': b\"'Yucel'\", b'cf1:col3': b\"'Auria'\", b'cf1:col4': b\"'F'\", b'cf2:col5': b\"'1991-03-14'\"}\n",
            "b'10141' {b'cf1:col1': b\"'1960-01-17'\", b'cf1:col2': b\"'Shahaf'\", b'cf1:col3': b\"'Ishibashi'\", b'cf1:col4': b\"'F'\", b'cf2:col5': b\"'1993-05-06'\"}\n",
            "b'10142' {b'cf1:col1': b\"'1956-08-29'\", b'cf1:col2': b\"'Tzvetan'\", b'cf1:col3': b\"'Hettesheimer'\", b'cf1:col4': b\"'M'\", b'cf2:col5': b\"'1993-10-28'\"}\n",
            "b'10143' {b'cf1:col1': b\"'1961-07-16'\", b'cf1:col2': b\"'Sakthirel'\", b'cf1:col3': b\"'Bakhtari'\", b'cf1:col4': b\"'M'\", b'cf2:col5': b\"'1988-09-30'\"}\n",
            "b'10144' {b'cf1:col1': b\"'1959-06-17'\", b'cf1:col2': b\"'Marla'\", b'cf1:col3': b\"'Brendel'\", b'cf1:col4': b\"'M'\", b'cf2:col5': b\"'1985-10-14'\"}\n",
            "b'10145' {b'cf1:col1': b\"'1956-03-30'\", b'cf1:col2': b\"'Akemi'\", b'cf1:col3': b\"'Esposito'\", b'cf1:col4': b\"'F'\", b'cf2:col5': b\"'1987-08-01'\"}\n",
            "b'10146' {b'cf1:col1': b\"'1959-01-12'\", b'cf1:col2': b\"'Chenyi'\", b'cf1:col3': b\"'Syang'\", b'cf1:col4': b\"'M'\", b'cf2:col5': b\"'1988-06-28'\"}\n",
            "b'10147' {b'cf1:col1': b\"'1964-10-13'\", b'cf1:col2': b\"'Kazuhito'\", b'cf1:col3': b\"'Encarnacion'\", b'cf1:col4': b\"'M'\", b'cf2:col5': b\"'1986-08-21'\"}\n",
            "b'10148' {b'cf1:col1': b\"'1957-10-04'\", b'cf1:col2': b\"'Douadi'\", b'cf1:col3': b\"'Azumi'\", b'cf1:col4': b\"'M'\", b'cf2:col5': b\"'1995-10-10'\"}\n",
            "b'10149' {b'cf1:col1': b\"'1953-05-20'\", b'cf1:col2': b\"'Xiadong'\", b'cf1:col3': b\"'Perry'\", b'cf1:col4': b\"'F'\", b'cf2:col5': b\"'1986-11-05'\"}\n",
            "b'10150' {b'cf1:col1': b\"'1955-01-29'\", b'cf1:col2': b\"'Zhenbing'\", b'cf1:col3': b\"'Perng'\", b'cf1:col4': b\"'F'\", b'cf2:col5': b\"'1986-11-16'\"}\n",
            "b'10151' {b'cf1:col1': b\"'1959-03-06'\", b'cf1:col2': b\"'Itzchak'\", b'cf1:col3': b\"'Lichtner'\", b'cf1:col4': b\"'M'\", b'cf2:col5': b\"'1990-04-10'\"}\n"
          ],
          "name": "stdout"
        }
      ]
    }
  ]
}