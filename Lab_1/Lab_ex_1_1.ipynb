{
 "cells": [
  {
   "cell_type": "markdown",
   "metadata": {
    "id": "0zvYqp5R1bnU"
   },
   "source": [
    "# Ex 1.1: MapReduce with Python Functional Programming"
   ]
  },
  {
   "cell_type": "markdown",
   "metadata": {
    "id": "TfG8K5Xq1bnY"
   },
   "source": [
    "#### Python *map* function\n",
    "Python has e built in *map* function -> [see python docs](https://docs.python.org/3/library/functions.html#map)\n",
    "* ``map(function, iterable object)`` applies a function to every member of the object (=data structure)\n",
    "* iterable objects are e.g. lists, dicts, arrays, ... but also custom data structures (see [here](https://thispointer.com/python-how-to-make-a-class-iterable-create-iterator-class-for-it/))"
   ]
  },
  {
   "cell_type": "code",
   "execution_count": 1,
   "metadata": {
    "colab": {
     "base_uri": "https://localhost:8080/"
    },
    "id": "kJA8voSM1bnZ",
    "outputId": "850b7a76-8b4d-4b05-8ab0-722ee2481392"
   },
   "outputs": [
    {
     "name": "stdout",
     "output_type": "stream",
     "text": [
      "[1, 2, 3, 4]\n",
      "[2, 3, 4, 5]\n"
     ]
    }
   ],
   "source": [
    "#example\n",
    "def Plus1(a):\n",
    "    return a+1\n",
    "\n",
    "A = [1,2,3,4]\n",
    "print(A)\n",
    "B = list(map(Plus1,A)) #need to cast map output to list\n",
    "print(B)"
   ]
  },
  {
   "cell_type": "code",
   "execution_count": 2,
   "metadata": {
    "id": "6MxEAXqw1bnc",
    "outputId": "6535ad12-6c99-4560-d720-3766ed2a7336"
   },
   "outputs": [
    {
     "name": "stdout",
     "output_type": "stream",
     "text": [
      "[1, 2, 3, 4]\n",
      "[3, 4, 5, 6]\n",
      "[2, 3, 6, 7]\n"
     ]
    }
   ],
   "source": [
    "#example 2 - map with an function that takes arguments\n",
    "from functools import partial\n",
    "\n",
    "def PlusX(a,x):\n",
    "    return a+x\n",
    "\n",
    "\n",
    "A = [1,2,3,4]\n",
    "print(A)\n",
    "B = list(map(partial(PlusX,x=2),A)) #use partial to fix parameters \n",
    "print(B)\n",
    "\n",
    "C = [1,1,3,3]\n",
    "D = list(map(PlusX,A,C)) #or input multiple iterable objects\n",
    "print(D)"
   ]
  },
  {
   "cell_type": "code",
   "execution_count": 3,
   "metadata": {
    "colab": {
     "base_uri": "https://localhost:8080/"
    },
    "id": "dC_xXdWm1bnd",
    "outputId": "351974f7-e44b-4419-c5de-cdd985e1f80d"
   },
   "outputs": [
    {
     "name": "stdout",
     "output_type": "stream",
     "text": [
      "[2, 3, 4, 5]\n"
     ]
    }
   ],
   "source": [
    "#example 3 - map with lmbda functions\n",
    "A = [1,2,3,4]\n",
    "B = list(map(lambda x:x+1,A ))#implement function directly with lambda\n",
    "print(B)"
   ]
  },
  {
   "cell_type": "code",
   "execution_count": 4,
   "metadata": {
    "colab": {
     "base_uri": "https://localhost:8080/"
    },
    "id": "cZcxNAU21bne",
    "outputId": "3e677ef2-7efc-4b5b-903c-d760ec7e2e57"
   },
   "outputs": [
    {
     "data": {
      "text/plain": [
       "array([[ 1.94607535,  2.48640694, 12.97729449,  2.32634217,  4.85733921,\n",
       "        15.63173162, 13.99290847, 14.91944359,  5.15554259, 19.46195274],\n",
       "       [19.86508932,  8.26721955, 10.22917065,  8.19638386, 15.78950007,\n",
       "         9.08657954,  3.87610064, 18.54389855, 11.56026685, 12.11552779],\n",
       "       [11.7259864 ,  9.6031274 ,  1.85996791, 19.31979265, 13.36580292,\n",
       "        13.14783379, 11.8579792 ,  3.00740263, 11.39341414, 11.98345669],\n",
       "       [ 6.90280165, 14.65885038, 13.87094392, 12.14019497,  2.60254202,\n",
       "         8.33563958, 12.49427932,  0.87034112, 18.37498559, 19.47765079],\n",
       "       [14.3424748 ,  9.61913852, 17.61627836, 11.47170674, 18.87929183,\n",
       "        13.60848579,  0.45074537,  9.82853953,  8.82743042, 15.57324063],\n",
       "       [17.50970393, 14.88172495,  1.3140969 , 14.52567636, 17.65267419,\n",
       "         7.43681344,  9.82366032,  4.36338603, 18.56132177, 11.75916055],\n",
       "       [15.48263624,  6.8649372 , 18.66349384, 13.10331525,  8.28788083,\n",
       "         7.54710539, 17.43065163, 16.16639721, 16.53618471, 16.42852884],\n",
       "       [ 9.13943272,  3.98591133, 12.5577508 ,  7.8622586 ,  1.93424381,\n",
       "         6.75060277, 15.09970409, 18.49670302,  0.72901508, 18.43552277],\n",
       "       [ 4.39364643, 12.90719087, 11.13490619, 17.25996356,  1.14968151,\n",
       "        12.64820521, 11.12028534,  5.69270588, 12.58362414, 12.7127166 ],\n",
       "       [ 7.53973507,  6.10084065, 13.94059614,  7.28510986,  1.7845692 ,\n",
       "        17.52314259,  6.52957944,  2.57893146, 14.79543563,  7.44186885]])"
      ]
     },
     "execution_count": 4,
     "metadata": {},
     "output_type": "execute_result"
    }
   ],
   "source": [
    "#example 4 - Numpy has map \"build in\"\n",
    "import numpy as np\n",
    "A = np.random.rand(10,10)*20\n",
    "A"
   ]
  },
  {
   "cell_type": "code",
   "execution_count": 5,
   "metadata": {
    "id": "Gjg0CmCJ1bnf"
   },
   "outputs": [],
   "source": [
    "#apply function directly on each element of an array\n",
    "def isLarger10(x):\n",
    "    return x>10\n",
    "\n",
    "B = isLarger10(A)"
   ]
  },
  {
   "cell_type": "code",
   "execution_count": 6,
   "metadata": {
    "colab": {
     "base_uri": "https://localhost:8080/"
    },
    "id": "0tZbxeBr1bng",
    "outputId": "d2f82e70-f81b-4d2b-edf5-9102b4f5afac"
   },
   "outputs": [
    {
     "data": {
      "text/plain": [
       "array([[False, False,  True, False, False,  True,  True,  True, False,\n",
       "         True],\n",
       "       [ True, False,  True, False,  True, False, False,  True,  True,\n",
       "         True],\n",
       "       [ True, False, False,  True,  True,  True,  True, False,  True,\n",
       "         True],\n",
       "       [False,  True,  True,  True, False, False,  True, False,  True,\n",
       "         True],\n",
       "       [ True, False,  True,  True,  True,  True, False, False, False,\n",
       "         True],\n",
       "       [ True,  True, False,  True,  True, False, False, False,  True,\n",
       "         True],\n",
       "       [ True, False,  True,  True, False, False,  True,  True,  True,\n",
       "         True],\n",
       "       [False, False,  True, False, False, False,  True,  True, False,\n",
       "         True],\n",
       "       [False,  True,  True,  True, False,  True,  True, False,  True,\n",
       "         True],\n",
       "       [False, False,  True, False, False,  True, False, False,  True,\n",
       "        False]])"
      ]
     },
     "execution_count": 6,
     "metadata": {},
     "output_type": "execute_result"
    }
   ],
   "source": [
    "B"
   ]
  },
  {
   "cell_type": "markdown",
   "metadata": {
    "id": "BEnFhvCL1bni"
   },
   "source": [
    "#### *Reduce* in Python\n",
    "*functools* also provides a *reduce* function. Again, it will take a function and one ore more iterable objects as arguments. (see [API](https://docs.python.org/3/library/functools.html#functools.reduce))"
   ]
  },
  {
   "cell_type": "code",
   "execution_count": 7,
   "metadata": {
    "colab": {
     "base_uri": "https://localhost:8080/"
    },
    "id": "qtDohbc81bnj",
    "outputId": "893aa9fc-0a84-48e7-8301-68a741c044cd"
   },
   "outputs": [
    {
     "name": "stdout",
     "output_type": "stream",
     "text": [
      "The sum of the list elements is : 17\n",
      "The maximum element of the list is : 6\n"
     ]
    }
   ],
   "source": [
    "# importing functools for reduce() \n",
    "import functools \n",
    "  \n",
    "# initializing list \n",
    "lis = [ 1 , 3, 5, 6, 2, ] \n",
    "  \n",
    "def addIt(a,b):\n",
    "    return a+b\n",
    "\n",
    "# using reduce to compute sum of list \n",
    "print (\"The sum of the list elements is : \",end=\"\") \n",
    "print (functools.reduce(addIt,lis)) \n",
    "  \n",
    "# using reduce to compute maximum element from list \n",
    "print (\"The maximum element of the list is : \",end=\"\") \n",
    "print (functools.reduce(lambda a,b : a if a > b else b,lis)) "
   ]
  },
  {
   "cell_type": "markdown",
   "metadata": {
    "id": "40pmbaz91bnk"
   },
   "source": [
    "#### Splitting"
   ]
  },
  {
   "cell_type": "code",
   "execution_count": 8,
   "metadata": {
    "colab": {
     "base_uri": "https://localhost:8080/"
    },
    "id": "XBwmdqwz1bnk",
    "outputId": "54f84a23-ab3c-43da-ffc5-c7c8700e253d"
   },
   "outputs": [
    {
     "name": "stdout",
     "output_type": "stream",
     "text": [
      "[1, 2, 3]\n",
      "[4, 5, 6]\n",
      "[7, 8, 9]\n"
     ]
    }
   ],
   "source": [
    "import more_itertools as mit\n",
    "\n",
    "A=[1,2,3,4,5,6,7,8,9]\n",
    "B=list(mit.chunked(A, 3)) #split into lists of max size 3\n",
    "\n",
    "for i in B: #iterate over the spitts \n",
    "    print(i)"
   ]
  },
  {
   "cell_type": "code",
   "execution_count": 9,
   "metadata": {
    "colab": {
     "base_uri": "https://localhost:8080/"
    },
    "id": "uGlSISuu1bnl",
    "outputId": "a47b4e1c-5957-472b-964a-1bec3aaca142"
   },
   "outputs": [
    {
     "name": "stdout",
     "output_type": "stream",
     "text": [
      "['t', 'h', 'i', 's', ' ']\n",
      "['i', 's', ' ', 'a', ' ']\n",
      "['s', 'h', 'o', 'r', 't']\n",
      "[' ', 't', 'e', 'x', 't']\n",
      "[' ', 'i', 'n', ' ', 'f']\n",
      "['o', 'r', 'm', ' ', 'o']\n",
      "['f', ' ', 'a', ' ', 'p']\n",
      "['y', 't', 'h', 'o', 'n']\n",
      "[' ', 's', 't', 'r', 'i']\n",
      "['n', 'g']\n"
     ]
    }
   ],
   "source": [
    "A='this is a short text in form of a python string'\n",
    "B=list(mit.chunked(A, 5)) #split into lists of max size 5\n",
    "\n",
    "for i in B: #iterate over the spitts \n",
    "    print(i)"
   ]
  },
  {
   "cell_type": "markdown",
   "metadata": {
    "id": "iPuuhBoL1bnm"
   },
   "source": [
    "## Exercise: build a simple *Character Count* Algorithm based on the above *split, map* and *reduce* operators "
   ]
  },
  {
   "cell_type": "code",
   "execution_count": 10,
   "metadata": {
    "id": "SyYGzEFL1bnm"
   },
   "outputs": [],
   "source": [
    "#some text from NYTimes\n",
    "text = ' Byron Spencer, handing out water and burgers to protesters outside Los Angeles City Hall, said he was both “elated and defeated” by word of the new charges. He said he had seen countless surges of outrage over police brutality against black men, only to have it happen again. “I’m 55, I’m black and I’m male — I’ve seen the cycle,” he said. “It’s almost like PTSD constantly having this conversation with my son.” Cierra Sesay reacted to the charges at a demonstration in the shadow of the State Capitol in Denver. “It’s amazing, it’s another box we can check,” she said. “But it goes up so much higher. It’s about the system.” In San Francisco, Tevita Tomasi — who is of Polynesian descent and described himself as “dark and tall and big” — said he regularly faced racial profiling, evidence of the bigger forces that must be overcome. On Wednesday, he distributed bottled water at what he said was his first demonstration, but one that would not be his last. What would stop him from protesting?'"
   ]
  },
  {
   "cell_type": "code",
   "execution_count": 11,
   "metadata": {
    "colab": {
     "base_uri": "https://localhost:8080/"
    },
    "id": "PaxbyXj_8AYj",
    "outputId": "f9e99703-e6e2-4dc1-aada-7495dab91e60"
   },
   "outputs": [
    {
     "name": "stdout",
     "output_type": "stream",
     "text": [
      "[{' ': 1}, {'B': 1}, {'y': 1}, {'r': 1}, {'o': 1}, {'n': 1}, {' ': 1}, {'S': 1}, {'p': 1}, {'e': 1}, {'n': 1}, {'c': 1}, {'e': 1}, {'r': 1}, {',': 1}, {' ': 1}, {'h': 1}, {'a': 1}, {'n': 1}, {'d': 1}, {'i': 1}, {'n': 1}, {'g': 1}, {' ': 1}, {'o': 1}, {'u': 1}, {'t': 1}, {' ': 1}, {'w': 1}, {'a': 1}, {'t': 1}, {'e': 1}, {'r': 1}, {' ': 1}, {'a': 1}, {'n': 1}, {'d': 1}, {' ': 1}, {'b': 1}, {'u': 1}, {'r': 1}, {'g': 1}, {'e': 1}, {'r': 1}, {'s': 1}, {' ': 1}, {'t': 1}, {'o': 1}, {' ': 1}, {'p': 1}, {'r': 1}, {'o': 1}, {'t': 1}, {'e': 1}, {'s': 1}, {'t': 1}, {'e': 1}, {'r': 1}, {'s': 1}, {' ': 1}, {'o': 1}, {'u': 1}, {'t': 1}, {'s': 1}, {'i': 1}, {'d': 1}, {'e': 1}, {' ': 1}, {'L': 1}, {'o': 1}, {'s': 1}, {' ': 1}, {'A': 1}, {'n': 1}, {'g': 1}, {'e': 1}, {'l': 1}, {'e': 1}, {'s': 1}, {' ': 1}, {'C': 1}, {'i': 1}, {'t': 1}, {'y': 1}, {' ': 1}, {'H': 1}, {'a': 1}, {'l': 1}, {'l': 1}, {',': 1}, {' ': 1}, {'s': 1}, {'a': 1}, {'i': 1}, {'d': 1}, {' ': 1}, {'h': 1}, {'e': 1}, {' ': 1}, {'w': 1}, {'a': 1}, {'s': 1}, {' ': 1}, {'b': 1}, {'o': 1}, {'t': 1}, {'h': 1}, {' ': 1}, {'“': 1}, {'e': 1}, {'l': 1}, {'a': 1}, {'t': 1}, {'e': 1}, {'d': 1}, {' ': 1}, {'a': 1}, {'n': 1}, {'d': 1}, {' ': 1}, {'d': 1}, {'e': 1}, {'f': 1}, {'e': 1}, {'a': 1}, {'t': 1}, {'e': 1}, {'d': 1}, {'”': 1}, {' ': 1}, {'b': 1}, {'y': 1}, {' ': 1}, {'w': 1}, {'o': 1}, {'r': 1}, {'d': 1}, {' ': 1}, {'o': 1}, {'f': 1}, {' ': 1}, {'t': 1}, {'h': 1}, {'e': 1}, {' ': 1}, {'n': 1}, {'e': 1}, {'w': 1}, {' ': 1}, {'c': 1}, {'h': 1}, {'a': 1}, {'r': 1}, {'g': 1}, {'e': 1}, {'s': 1}, {'.': 1}, {' ': 1}, {'H': 1}, {'e': 1}, {' ': 1}, {'s': 1}, {'a': 1}, {'i': 1}, {'d': 1}, {' ': 1}, {'h': 1}, {'e': 1}, {' ': 1}, {'h': 1}, {'a': 1}, {'d': 1}, {' ': 1}, {'s': 1}, {'e': 1}, {'e': 1}, {'n': 1}, {' ': 1}, {'c': 1}, {'o': 1}, {'u': 1}, {'n': 1}, {'t': 1}, {'l': 1}, {'e': 1}, {'s': 1}, {'s': 1}, {' ': 1}, {'s': 1}, {'u': 1}, {'r': 1}, {'g': 1}, {'e': 1}, {'s': 1}, {' ': 1}, {'o': 1}, {'f': 1}, {' ': 1}, {'o': 1}, {'u': 1}, {'t': 1}, {'r': 1}, {'a': 1}, {'g': 1}, {'e': 1}, {' ': 1}, {'o': 1}, {'v': 1}, {'e': 1}, {'r': 1}, {' ': 1}, {'p': 1}, {'o': 1}, {'l': 1}, {'i': 1}, {'c': 1}, {'e': 1}, {' ': 1}, {'b': 1}, {'r': 1}, {'u': 1}, {'t': 1}, {'a': 1}, {'l': 1}, {'i': 1}, {'t': 1}, {'y': 1}, {' ': 1}, {'a': 1}, {'g': 1}, {'a': 1}, {'i': 1}, {'n': 1}, {'s': 1}, {'t': 1}, {' ': 1}, {'b': 1}, {'l': 1}, {'a': 1}, {'c': 1}, {'k': 1}, {' ': 1}, {'m': 1}, {'e': 1}, {'n': 1}, {',': 1}, {' ': 1}, {'o': 1}, {'n': 1}, {'l': 1}, {'y': 1}, {' ': 1}, {'t': 1}, {'o': 1}, {' ': 1}, {'h': 1}, {'a': 1}, {'v': 1}, {'e': 1}, {' ': 1}, {'i': 1}, {'t': 1}, {' ': 1}, {'h': 1}, {'a': 1}, {'p': 1}, {'p': 1}, {'e': 1}, {'n': 1}, {' ': 1}, {'a': 1}, {'g': 1}, {'a': 1}, {'i': 1}, {'n': 1}, {'.': 1}, {' ': 1}, {'“': 1}, {'I': 1}, {'’': 1}, {'m': 1}, {' ': 1}, {'5': 1}, {'5': 1}, {',': 1}, {' ': 1}, {'I': 1}, {'’': 1}, {'m': 1}, {' ': 1}, {'b': 1}, {'l': 1}, {'a': 1}, {'c': 1}, {'k': 1}, {' ': 1}, {'a': 1}, {'n': 1}, {'d': 1}, {' ': 1}, {'I': 1}, {'’': 1}, {'m': 1}, {' ': 1}, {'m': 1}, {'a': 1}, {'l': 1}, {'e': 1}, {' ': 1}, {'—': 1}, {' ': 1}, {'I': 1}, {'’': 1}, {'v': 1}, {'e': 1}, {' ': 1}, {'s': 1}, {'e': 1}, {'e': 1}, {'n': 1}, {' ': 1}, {'t': 1}, {'h': 1}, {'e': 1}, {' ': 1}, {'c': 1}, {'y': 1}, {'c': 1}, {'l': 1}, {'e': 1}, {',': 1}, {'”': 1}, {' ': 1}, {'h': 1}, {'e': 1}, {' ': 1}, {'s': 1}, {'a': 1}, {'i': 1}, {'d': 1}, {'.': 1}, {' ': 1}, {'“': 1}, {'I': 1}, {'t': 1}, {'’': 1}, {'s': 1}, {' ': 1}, {'a': 1}, {'l': 1}, {'m': 1}, {'o': 1}, {'s': 1}, {'t': 1}, {' ': 1}, {'l': 1}, {'i': 1}, {'k': 1}, {'e': 1}, {' ': 1}, {'P': 1}, {'T': 1}, {'S': 1}, {'D': 1}, {' ': 1}, {'c': 1}, {'o': 1}, {'n': 1}, {'s': 1}, {'t': 1}, {'a': 1}, {'n': 1}, {'t': 1}, {'l': 1}, {'y': 1}, {' ': 1}, {'h': 1}, {'a': 1}, {'v': 1}, {'i': 1}, {'n': 1}, {'g': 1}, {' ': 1}, {'t': 1}, {'h': 1}, {'i': 1}, {'s': 1}, {' ': 1}, {'c': 1}, {'o': 1}, {'n': 1}, {'v': 1}, {'e': 1}, {'r': 1}, {'s': 1}, {'a': 1}, {'t': 1}, {'i': 1}, {'o': 1}, {'n': 1}, {' ': 1}, {'w': 1}, {'i': 1}, {'t': 1}, {'h': 1}, {' ': 1}, {'m': 1}, {'y': 1}, {' ': 1}, {'s': 1}, {'o': 1}, {'n': 1}, {'.': 1}, {'”': 1}, {' ': 1}, {'C': 1}, {'i': 1}, {'e': 1}, {'r': 1}, {'r': 1}, {'a': 1}, {' ': 1}, {'S': 1}, {'e': 1}, {'s': 1}, {'a': 1}, {'y': 1}, {' ': 1}, {'r': 1}, {'e': 1}, {'a': 1}, {'c': 1}, {'t': 1}, {'e': 1}, {'d': 1}, {' ': 1}, {'t': 1}, {'o': 1}, {' ': 1}, {'t': 1}, {'h': 1}, {'e': 1}, {' ': 1}, {'c': 1}, {'h': 1}, {'a': 1}, {'r': 1}, {'g': 1}, {'e': 1}, {'s': 1}, {' ': 1}, {'a': 1}, {'t': 1}, {' ': 1}, {'a': 1}, {' ': 1}, {'d': 1}, {'e': 1}, {'m': 1}, {'o': 1}, {'n': 1}, {'s': 1}, {'t': 1}, {'r': 1}, {'a': 1}, {'t': 1}, {'i': 1}, {'o': 1}, {'n': 1}, {' ': 1}, {'i': 1}, {'n': 1}, {' ': 1}, {'t': 1}, {'h': 1}, {'e': 1}, {' ': 1}, {'s': 1}, {'h': 1}, {'a': 1}, {'d': 1}, {'o': 1}, {'w': 1}, {' ': 1}, {'o': 1}, {'f': 1}, {' ': 1}, {'t': 1}, {'h': 1}, {'e': 1}, {' ': 1}, {'S': 1}, {'t': 1}, {'a': 1}, {'t': 1}, {'e': 1}, {' ': 1}, {'C': 1}, {'a': 1}, {'p': 1}, {'i': 1}, {'t': 1}, {'o': 1}, {'l': 1}, {' ': 1}, {'i': 1}, {'n': 1}, {' ': 1}, {'D': 1}, {'e': 1}, {'n': 1}, {'v': 1}, {'e': 1}, {'r': 1}, {'.': 1}, {' ': 1}, {'“': 1}, {'I': 1}, {'t': 1}, {'’': 1}, {'s': 1}, {' ': 1}, {'a': 1}, {'m': 1}, {'a': 1}, {'z': 1}, {'i': 1}, {'n': 1}, {'g': 1}, {',': 1}, {' ': 1}, {'i': 1}, {'t': 1}, {'’': 1}, {'s': 1}, {' ': 1}, {'a': 1}, {'n': 1}, {'o': 1}, {'t': 1}, {'h': 1}, {'e': 1}, {'r': 1}, {' ': 1}, {'b': 1}, {'o': 1}, {'x': 1}, {' ': 1}, {'w': 1}, {'e': 1}, {' ': 1}, {'c': 1}, {'a': 1}, {'n': 1}, {' ': 1}, {'c': 1}, {'h': 1}, {'e': 1}, {'c': 1}, {'k': 1}, {',': 1}, {'”': 1}, {' ': 1}, {'s': 1}, {'h': 1}, {'e': 1}, {' ': 1}, {'s': 1}, {'a': 1}, {'i': 1}, {'d': 1}, {'.': 1}, {' ': 1}, {'“': 1}, {'B': 1}, {'u': 1}, {'t': 1}, {' ': 1}, {'i': 1}, {'t': 1}, {' ': 1}, {'g': 1}, {'o': 1}, {'e': 1}, {'s': 1}, {' ': 1}, {'u': 1}, {'p': 1}, {' ': 1}, {'s': 1}, {'o': 1}, {' ': 1}, {'m': 1}, {'u': 1}, {'c': 1}, {'h': 1}, {' ': 1}, {'h': 1}, {'i': 1}, {'g': 1}, {'h': 1}, {'e': 1}, {'r': 1}, {'.': 1}, {' ': 1}, {'I': 1}, {'t': 1}, {'’': 1}, {'s': 1}, {' ': 1}, {'a': 1}, {'b': 1}, {'o': 1}, {'u': 1}, {'t': 1}, {' ': 1}, {'t': 1}, {'h': 1}, {'e': 1}, {' ': 1}, {'s': 1}, {'y': 1}, {'s': 1}, {'t': 1}, {'e': 1}, {'m': 1}, {'.': 1}, {'”': 1}, {' ': 1}, {'I': 1}, {'n': 1}, {' ': 1}, {'S': 1}, {'a': 1}, {'n': 1}, {' ': 1}, {'F': 1}, {'r': 1}, {'a': 1}, {'n': 1}, {'c': 1}, {'i': 1}, {'s': 1}, {'c': 1}, {'o': 1}, {',': 1}, {' ': 1}, {'T': 1}, {'e': 1}, {'v': 1}, {'i': 1}, {'t': 1}, {'a': 1}, {' ': 1}, {'T': 1}, {'o': 1}, {'m': 1}, {'a': 1}, {'s': 1}, {'i': 1}, {' ': 1}, {'—': 1}, {' ': 1}, {'w': 1}, {'h': 1}, {'o': 1}, {' ': 1}, {'i': 1}, {'s': 1}, {' ': 1}, {'o': 1}, {'f': 1}, {' ': 1}, {'P': 1}, {'o': 1}, {'l': 1}, {'y': 1}, {'n': 1}, {'e': 1}, {'s': 1}, {'i': 1}, {'a': 1}, {'n': 1}, {' ': 1}, {'d': 1}, {'e': 1}, {'s': 1}, {'c': 1}, {'e': 1}, {'n': 1}, {'t': 1}, {' ': 1}, {'a': 1}, {'n': 1}, {'d': 1}, {' ': 1}, {'d': 1}, {'e': 1}, {'s': 1}, {'c': 1}, {'r': 1}, {'i': 1}, {'b': 1}, {'e': 1}, {'d': 1}, {' ': 1}, {'h': 1}, {'i': 1}, {'m': 1}, {'s': 1}, {'e': 1}, {'l': 1}, {'f': 1}, {' ': 1}, {'a': 1}, {'s': 1}, {' ': 1}, {'“': 1}, {'d': 1}, {'a': 1}, {'r': 1}, {'k': 1}, {' ': 1}, {'a': 1}, {'n': 1}, {'d': 1}, {' ': 1}, {'t': 1}, {'a': 1}, {'l': 1}, {'l': 1}, {' ': 1}, {'a': 1}, {'n': 1}, {'d': 1}, {' ': 1}, {'b': 1}, {'i': 1}, {'g': 1}, {'”': 1}, {' ': 1}, {'—': 1}, {' ': 1}, {'s': 1}, {'a': 1}, {'i': 1}, {'d': 1}, {' ': 1}, {'h': 1}, {'e': 1}, {' ': 1}, {'r': 1}, {'e': 1}, {'g': 1}, {'u': 1}, {'l': 1}, {'a': 1}, {'r': 1}, {'l': 1}, {'y': 1}, {' ': 1}, {'f': 1}, {'a': 1}, {'c': 1}, {'e': 1}, {'d': 1}, {' ': 1}, {'r': 1}, {'a': 1}, {'c': 1}, {'i': 1}, {'a': 1}, {'l': 1}, {' ': 1}, {'p': 1}, {'r': 1}, {'o': 1}, {'f': 1}, {'i': 1}, {'l': 1}, {'i': 1}, {'n': 1}, {'g': 1}, {',': 1}, {' ': 1}, {'e': 1}, {'v': 1}, {'i': 1}, {'d': 1}, {'e': 1}, {'n': 1}, {'c': 1}, {'e': 1}, {' ': 1}, {'o': 1}, {'f': 1}, {' ': 1}, {'t': 1}, {'h': 1}, {'e': 1}, {' ': 1}, {'b': 1}, {'i': 1}, {'g': 1}, {'g': 1}, {'e': 1}, {'r': 1}, {' ': 1}, {'f': 1}, {'o': 1}, {'r': 1}, {'c': 1}, {'e': 1}, {'s': 1}, {' ': 1}, {'t': 1}, {'h': 1}, {'a': 1}, {'t': 1}, {' ': 1}, {'m': 1}, {'u': 1}, {'s': 1}, {'t': 1}, {' ': 1}, {'b': 1}, {'e': 1}, {' ': 1}, {'o': 1}, {'v': 1}, {'e': 1}, {'r': 1}, {'c': 1}, {'o': 1}, {'m': 1}, {'e': 1}, {'.': 1}, {' ': 1}, {'O': 1}, {'n': 1}, {' ': 1}, {'W': 1}, {'e': 1}, {'d': 1}, {'n': 1}, {'e': 1}, {'s': 1}, {'d': 1}, {'a': 1}, {'y': 1}, {',': 1}, {' ': 1}, {'h': 1}, {'e': 1}, {' ': 1}, {'d': 1}, {'i': 1}, {'s': 1}, {'t': 1}, {'r': 1}, {'i': 1}, {'b': 1}, {'u': 1}, {'t': 1}, {'e': 1}, {'d': 1}, {' ': 1}, {'b': 1}, {'o': 1}, {'t': 1}, {'t': 1}, {'l': 1}, {'e': 1}, {'d': 1}, {' ': 1}, {'w': 1}, {'a': 1}, {'t': 1}, {'e': 1}, {'r': 1}, {' ': 1}, {'a': 1}, {'t': 1}, {' ': 1}, {'w': 1}, {'h': 1}, {'a': 1}, {'t': 1}, {' ': 1}, {'h': 1}, {'e': 1}, {' ': 1}, {'s': 1}, {'a': 1}, {'i': 1}, {'d': 1}, {' ': 1}, {'w': 1}, {'a': 1}, {'s': 1}, {' ': 1}, {'h': 1}, {'i': 1}, {'s': 1}, {' ': 1}, {'f': 1}, {'i': 1}, {'r': 1}, {'s': 1}, {'t': 1}, {' ': 1}, {'d': 1}, {'e': 1}, {'m': 1}, {'o': 1}, {'n': 1}, {'s': 1}, {'t': 1}, {'r': 1}, {'a': 1}, {'t': 1}, {'i': 1}, {'o': 1}, {'n': 1}, {',': 1}, {' ': 1}, {'b': 1}, {'u': 1}, {'t': 1}, {' ': 1}, {'o': 1}, {'n': 1}, {'e': 1}, {' ': 1}, {'t': 1}, {'h': 1}, {'a': 1}, {'t': 1}, {' ': 1}, {'w': 1}, {'o': 1}, {'u': 1}, {'l': 1}, {'d': 1}, {' ': 1}, {'n': 1}, {'o': 1}, {'t': 1}, {' ': 1}, {'b': 1}, {'e': 1}, {' ': 1}, {'h': 1}, {'i': 1}, {'s': 1}, {' ': 1}, {'l': 1}, {'a': 1}, {'s': 1}, {'t': 1}, {'.': 1}, {' ': 1}, {'W': 1}, {'h': 1}, {'a': 1}, {'t': 1}, {' ': 1}, {'w': 1}, {'o': 1}, {'u': 1}, {'l': 1}, {'d': 1}, {' ': 1}, {'s': 1}, {'t': 1}, {'o': 1}, {'p': 1}, {' ': 1}, {'h': 1}, {'i': 1}, {'m': 1}, {' ': 1}, {'f': 1}, {'r': 1}, {'o': 1}, {'m': 1}, {' ': 1}, {'p': 1}, {'r': 1}, {'o': 1}, {'t': 1}, {'e': 1}, {'s': 1}, {'t': 1}, {'i': 1}, {'n': 1}, {'g': 1}, {'?': 1}]\n"
     ]
    }
   ],
   "source": [
    "l = list(map(lambda char: dict([[char, 1]]), text))\n",
    "b = dict([[text, 1]])\n",
    "print(l)"
   ]
  },
  {
   "cell_type": "markdown",
   "metadata": {
    "id": "cNxSF9zA1bnn"
   },
   "source": [
    "* HINT: use list of *python* [dictionaries](https://docs.python.org/3/tutorial/datastructures.html#dictionaries) to store the character counts in the map\n",
    "* HINT 2: merge the dicts in reduce"
   ]
  },
  {
   "cell_type": "code",
   "execution_count": 13,
   "metadata": {
    "colab": {
     "base_uri": "https://localhost:8080/"
    },
    "id": "l1rjaJ-H1bnn",
    "outputId": "dca25291-29e8-4481-f8a3-9310808b692e"
   },
   "outputs": [
    {
     "name": "stdout",
     "output_type": "stream",
     "text": [
      "{' ': 176, 'B': 2, 'y': 13, 'r': 38, 'o': 52, 'n': 49, 'S': 5, 'p': 10, 'e': 89, 'c': 25, ',': 11, 'h': 39, 'a': 72, 'd': 36, 'i': 49, 'g': 19, 'u': 17, 't': 72, 'w': 13, 'b': 16, 's': 59, 'L': 1, 'A': 1, 'l': 28, 'C': 3, 'H': 2, '“': 6, 'f': 12, '”': 6, '.': 10, 'v': 9, 'k': 5, 'm': 18, 'I': 8, '’': 8, '5': 2, '—': 3, 'P': 2, 'T': 3, 'D': 2, 'z': 1, 'x': 1, 'F': 1, 'O': 1, 'W': 2, '?': 1}\n"
     ]
    }
   ],
   "source": [
    "def count(characters):\n",
    "    return functools.reduce(reducer, map(lambda char: dict([[char, 1]]), characters))\n",
    "    \n",
    "def reducer(i, j):\n",
    "    for key in j:\n",
    "       i[key] = i.get(key, 0) + j.get(key, 0)\n",
    "    return i\n",
    "\n",
    "print(count(text))"
   ]
  },
  {
   "cell_type": "code",
   "execution_count": null,
   "metadata": {},
   "outputs": [],
   "source": []
  }
 ],
 "metadata": {
  "accelerator": "GPU",
  "colab": {
   "name": "Lab_ex_1_1.ipynb",
   "provenance": []
  },
  "kernelspec": {
   "display_name": "Python 3",
   "language": "python",
   "name": "python3"
  },
  "language_info": {
   "codemirror_mode": {
    "name": "ipython",
    "version": 3
   },
   "file_extension": ".py",
   "mimetype": "text/x-python",
   "name": "python",
   "nbconvert_exporter": "python",
   "pygments_lexer": "ipython3",
   "version": "3.7.4"
  }
 },
 "nbformat": 4,
 "nbformat_minor": 4
}
