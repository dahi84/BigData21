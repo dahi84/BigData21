{
  "nbformat": 4,
  "nbformat_minor": 0,
  "metadata": {
    "kernelspec": {
      "display_name": "Python 3",
      "language": "python",
      "name": "python3"
    },
    "language_info": {
      "codemirror_mode": {
        "name": "ipython",
        "version": 3
      },
      "file_extension": ".py",
      "mimetype": "text/x-python",
      "name": "python",
      "nbconvert_exporter": "python",
      "pygments_lexer": "ipython3",
      "version": "3.7.6"
    },
    "colab": {
      "name": "Lab_ex_1_1.ipynb",
      "provenance": []
    },
    "accelerator": "GPU"
  },
  "cells": [
    {
      "cell_type": "markdown",
      "metadata": {
        "id": "0zvYqp5R1bnU"
      },
      "source": [
        "# Ex 1.1: MapReduce with Python Functional Programming"
      ]
    },
    {
      "cell_type": "markdown",
      "metadata": {
        "id": "TfG8K5Xq1bnY"
      },
      "source": [
        "#### Python *map* function\n",
        "Python has e built in *map* function -> [see python docs](https://docs.python.org/3/library/functions.html#map)\n",
        "* ``map(function, iterable object)`` applies a function to every member of the object (=data structure)\n",
        "* iterable objects are e.g. lists, dicts, arrays, ... but also custom data structures (see [here](https://thispointer.com/python-how-to-make-a-class-iterable-create-iterator-class-for-it/))"
      ]
    },
    {
      "cell_type": "code",
      "metadata": {
        "id": "kJA8voSM1bnZ",
        "outputId": "850b7a76-8b4d-4b05-8ab0-722ee2481392",
        "colab": {
          "base_uri": "https://localhost:8080/"
        }
      },
      "source": [
        "#example\n",
        "def Plus1(a):\n",
        "    return a+1\n",
        "\n",
        "A = [1,2,3,4]\n",
        "print(A)\n",
        "B = list(map(Plus1,A)) #need to cast map output to list\n",
        "print(B)"
      ],
      "execution_count": 1,
      "outputs": [
        {
          "output_type": "stream",
          "text": [
            "[1, 2, 3, 4]\n",
            "[2, 3, 4, 5]\n"
          ],
          "name": "stdout"
        }
      ]
    },
    {
      "cell_type": "code",
      "metadata": {
        "id": "6MxEAXqw1bnc",
        "outputId": "6535ad12-6c99-4560-d720-3766ed2a7336"
      },
      "source": [
        "#example 2 - map with an function that takes arguments\n",
        "from functools import partial\n",
        "\n",
        "def PlusX(a,x):\n",
        "    return a+x\n",
        "\n",
        "\n",
        "A = [1,2,3,4]\n",
        "print(A)\n",
        "B = list(map(partial(PlusX,x=2),A)) #use partial to fix parameters \n",
        "print(B)\n",
        "\n",
        "C = [1,1,3,3]\n",
        "D = list(map(PlusX,A,C)) #or input multiple iterable objects\n",
        "print(D)"
      ],
      "execution_count": null,
      "outputs": [
        {
          "output_type": "stream",
          "text": [
            "[1, 2, 3, 4]\n",
            "[3, 4, 5, 6]\n",
            "[2, 3, 6, 7]\n"
          ],
          "name": "stdout"
        }
      ]
    },
    {
      "cell_type": "code",
      "metadata": {
        "id": "dC_xXdWm1bnd",
        "outputId": "351974f7-e44b-4419-c5de-cdd985e1f80d",
        "colab": {
          "base_uri": "https://localhost:8080/"
        }
      },
      "source": [
        "#example 3 - map with lmbda functions\n",
        "A = [1,2,3,4]\n",
        "B = list(map(lambda x:x+1,A ))#implement function directly with lambda\n",
        "print(B)"
      ],
      "execution_count": 2,
      "outputs": [
        {
          "output_type": "stream",
          "text": [
            "[2, 3, 4, 5]\n"
          ],
          "name": "stdout"
        }
      ]
    },
    {
      "cell_type": "code",
      "metadata": {
        "id": "cZcxNAU21bne",
        "outputId": "3e677ef2-7efc-4b5b-903c-d760ec7e2e57",
        "colab": {
          "base_uri": "https://localhost:8080/"
        }
      },
      "source": [
        "#example 4 - Numpy has map \"build in\"\n",
        "import numpy as np\n",
        "A = np.random.rand(10,10)*20\n",
        "A"
      ],
      "execution_count": 3,
      "outputs": [
        {
          "output_type": "execute_result",
          "data": {
            "text/plain": [
              "array([[11.14889406, 13.02891628,  2.27317208,  3.90853688, 18.64139959,\n",
              "        16.65960037,  4.17509973, 19.6685688 ,  8.25972793, 12.14086972],\n",
              "       [ 1.29420625,  9.51184767,  8.27756936, 14.30642465, 16.3266857 ,\n",
              "         4.81636127,  5.82412504,  0.80064286,  0.0503663 ,  8.8295866 ],\n",
              "       [ 3.56358616, 16.89331231,  7.81194834, 13.81415152,  1.17478504,\n",
              "        13.48039092, 15.94011278,  2.47624034,  3.53036796,  0.64537894],\n",
              "       [11.49836493,  9.66343193, 12.33445033,  4.25268954, 12.95507669,\n",
              "        12.47869037,  1.51015172,  2.76023341,  2.48771516, 17.28138964],\n",
              "       [ 3.96745974, 12.59986157, 17.98254737, 10.21532287, 18.25351537,\n",
              "         5.39799549,  5.40681983,  6.54709931,  2.53028626,  3.11180971],\n",
              "       [19.87406767,  4.12692602,  2.6271624 , 11.50089399,  2.29740057,\n",
              "         4.36376916,  0.63680768,  4.7564072 ,  7.83404965,  8.62093841],\n",
              "       [10.15567794, 17.95231188,  0.41664862,  5.55469176, 18.49502472,\n",
              "         8.59404574, 11.28689613,  3.36117445, 17.71827534,  8.1542496 ],\n",
              "       [13.756707  , 19.94656069, 11.27366127, 18.55233352, 13.12890659,\n",
              "         8.52917348,  5.03257821, 11.9666917 , 19.37794351, 18.40363159],\n",
              "       [12.4987653 ,  4.30469829, 16.81135931, 18.37129934, 12.7750234 ,\n",
              "        11.98251572,  4.47333747, 14.90179573, 11.73907649, 14.59944753],\n",
              "       [ 9.09191077,  4.23737359, 19.27139043, 16.91653787, 14.24621652,\n",
              "         1.3127906 ,  9.31372287, 18.82494279,  9.18136403,  1.63724415]])"
            ]
          },
          "metadata": {
            "tags": []
          },
          "execution_count": 3
        }
      ]
    },
    {
      "cell_type": "code",
      "metadata": {
        "id": "Gjg0CmCJ1bnf"
      },
      "source": [
        "#apply function directly on each element of an array\n",
        "def isLarger10(x):\n",
        "    return x>10\n",
        "\n",
        "B = isLarger10(A)"
      ],
      "execution_count": 4,
      "outputs": []
    },
    {
      "cell_type": "code",
      "metadata": {
        "id": "0tZbxeBr1bng",
        "outputId": "d2f82e70-f81b-4d2b-edf5-9102b4f5afac",
        "colab": {
          "base_uri": "https://localhost:8080/"
        }
      },
      "source": [
        "B"
      ],
      "execution_count": 5,
      "outputs": [
        {
          "output_type": "execute_result",
          "data": {
            "text/plain": [
              "array([[ True,  True, False, False,  True,  True, False,  True, False,\n",
              "         True],\n",
              "       [False, False, False,  True,  True, False, False, False, False,\n",
              "        False],\n",
              "       [False,  True, False,  True, False,  True,  True, False, False,\n",
              "        False],\n",
              "       [ True, False,  True, False,  True,  True, False, False, False,\n",
              "         True],\n",
              "       [False,  True,  True,  True,  True, False, False, False, False,\n",
              "        False],\n",
              "       [ True, False, False,  True, False, False, False, False, False,\n",
              "        False],\n",
              "       [ True,  True, False, False,  True, False,  True, False,  True,\n",
              "        False],\n",
              "       [ True,  True,  True,  True,  True, False, False,  True,  True,\n",
              "         True],\n",
              "       [ True, False,  True,  True,  True,  True, False,  True,  True,\n",
              "         True],\n",
              "       [False, False,  True,  True,  True, False, False,  True, False,\n",
              "        False]])"
            ]
          },
          "metadata": {
            "tags": []
          },
          "execution_count": 5
        }
      ]
    },
    {
      "cell_type": "markdown",
      "metadata": {
        "id": "BEnFhvCL1bni"
      },
      "source": [
        "#### *Reduce* in Python\n",
        "*functools* also provides a *reduce* function. Again, it will take a function and one ore more iterable objects as arguments. (see [API](https://docs.python.org/3/library/functools.html#functools.reduce))"
      ]
    },
    {
      "cell_type": "code",
      "metadata": {
        "id": "qtDohbc81bnj",
        "outputId": "893aa9fc-0a84-48e7-8301-68a741c044cd",
        "colab": {
          "base_uri": "https://localhost:8080/"
        }
      },
      "source": [
        "# importing functools for reduce() \n",
        "import functools \n",
        "  \n",
        "# initializing list \n",
        "lis = [ 1 , 3, 5, 6, 2, ] \n",
        "  \n",
        "def addIt(a,b):\n",
        "    return a+b\n",
        "\n",
        "# using reduce to compute sum of list \n",
        "print (\"The sum of the list elements is : \",end=\"\") \n",
        "print (functools.reduce(addIt,lis)) \n",
        "  \n",
        "# using reduce to compute maximum element from list \n",
        "print (\"The maximum element of the list is : \",end=\"\") \n",
        "print (functools.reduce(lambda a,b : a if a > b else b,lis)) "
      ],
      "execution_count": 7,
      "outputs": [
        {
          "output_type": "stream",
          "text": [
            "The sum of the list elements is : 17\n",
            "The maximum element of the list is : 6\n"
          ],
          "name": "stdout"
        }
      ]
    },
    {
      "cell_type": "markdown",
      "metadata": {
        "id": "40pmbaz91bnk"
      },
      "source": [
        "#### Splitting"
      ]
    },
    {
      "cell_type": "code",
      "metadata": {
        "id": "XBwmdqwz1bnk",
        "outputId": "54f84a23-ab3c-43da-ffc5-c7c8700e253d",
        "colab": {
          "base_uri": "https://localhost:8080/"
        }
      },
      "source": [
        "import more_itertools as mit\n",
        "\n",
        "A=[1,2,3,4,5,6,7,8,9]\n",
        "B=list(mit.chunked(A, 3)) #split into lists of max size 3\n",
        "\n",
        "for i in B: #iterate over the spitts \n",
        "    print(i)"
      ],
      "execution_count": 8,
      "outputs": [
        {
          "output_type": "stream",
          "text": [
            "[1, 2, 3]\n",
            "[4, 5, 6]\n",
            "[7, 8, 9]\n"
          ],
          "name": "stdout"
        }
      ]
    },
    {
      "cell_type": "code",
      "metadata": {
        "id": "uGlSISuu1bnl",
        "outputId": "a47b4e1c-5957-472b-964a-1bec3aaca142",
        "colab": {
          "base_uri": "https://localhost:8080/"
        }
      },
      "source": [
        "A='this is a short text in form of a python string'\n",
        "B=list(mit.chunked(A, 5)) #split into lists of max size 5\n",
        "\n",
        "for i in B: #iterate over the spitts \n",
        "    print(i)"
      ],
      "execution_count": 9,
      "outputs": [
        {
          "output_type": "stream",
          "text": [
            "['t', 'h', 'i', 's', ' ']\n",
            "['i', 's', ' ', 'a', ' ']\n",
            "['s', 'h', 'o', 'r', 't']\n",
            "[' ', 't', 'e', 'x', 't']\n",
            "[' ', 'i', 'n', ' ', 'f']\n",
            "['o', 'r', 'm', ' ', 'o']\n",
            "['f', ' ', 'a', ' ', 'p']\n",
            "['y', 't', 'h', 'o', 'n']\n",
            "[' ', 's', 't', 'r', 'i']\n",
            "['n', 'g']\n"
          ],
          "name": "stdout"
        }
      ]
    },
    {
      "cell_type": "markdown",
      "metadata": {
        "id": "iPuuhBoL1bnm"
      },
      "source": [
        "## Exercise: build a simple *Character Count* Algorithm based on the above *split, map* and *reduce* operators "
      ]
    },
    {
      "cell_type": "code",
      "metadata": {
        "id": "SyYGzEFL1bnm"
      },
      "source": [
        "#some text from NYTimes\n",
        "text = ' Byron Spencer, handing out water and burgers to protesters outside Los Angeles City Hall, said he was both “elated and defeated” by word of the new charges. He said he had seen countless surges of outrage over police brutality against black men, only to have it happen again. “I’m 55, I’m black and I’m male — I’ve seen the cycle,” he said. “It’s almost like PTSD constantly having this conversation with my son.” Cierra Sesay reacted to the charges at a demonstration in the shadow of the State Capitol in Denver. “It’s amazing, it’s another box we can check,” she said. “But it goes up so much higher. It’s about the system.” In San Francisco, Tevita Tomasi — who is of Polynesian descent and described himself as “dark and tall and big” — said he regularly faced racial profiling, evidence of the bigger forces that must be overcome. On Wednesday, he distributed bottled water at what he said was his first demonstration, but one that would not be his last. What would stop him from protesting?'"
      ],
      "execution_count": 10,
      "outputs": []
    },
    {
      "cell_type": "code",
      "metadata": {
        "id": "PaxbyXj_8AYj",
        "outputId": "f9e99703-e6e2-4dc1-aada-7495dab91e60",
        "colab": {
          "base_uri": "https://localhost:8080/"
        }
      },
      "source": [
        "l = list(map(lambda char: dict([[char, 1]]), text))\n",
        "b = dict([[text, 1]])\n",
        "print(l)"
      ],
      "execution_count": 32,
      "outputs": [
        {
          "output_type": "stream",
          "text": [
            "[{' ': 1}, {'B': 1}, {'y': 1}, {'r': 1}, {'o': 1}, {'n': 1}, {' ': 1}, {'S': 1}, {'p': 1}, {'e': 1}, {'n': 1}, {'c': 1}, {'e': 1}, {'r': 1}, {',': 1}, {' ': 1}, {'h': 1}, {'a': 1}, {'n': 1}, {'d': 1}, {'i': 1}, {'n': 1}, {'g': 1}, {' ': 1}, {'o': 1}, {'u': 1}, {'t': 1}, {' ': 1}, {'w': 1}, {'a': 1}, {'t': 1}, {'e': 1}, {'r': 1}, {' ': 1}, {'a': 1}, {'n': 1}, {'d': 1}, {' ': 1}, {'b': 1}, {'u': 1}, {'r': 1}, {'g': 1}, {'e': 1}, {'r': 1}, {'s': 1}, {' ': 1}, {'t': 1}, {'o': 1}, {' ': 1}, {'p': 1}, {'r': 1}, {'o': 1}, {'t': 1}, {'e': 1}, {'s': 1}, {'t': 1}, {'e': 1}, {'r': 1}, {'s': 1}, {' ': 1}, {'o': 1}, {'u': 1}, {'t': 1}, {'s': 1}, {'i': 1}, {'d': 1}, {'e': 1}, {' ': 1}, {'L': 1}, {'o': 1}, {'s': 1}, {' ': 1}, {'A': 1}, {'n': 1}, {'g': 1}, {'e': 1}, {'l': 1}, {'e': 1}, {'s': 1}, {' ': 1}, {'C': 1}, {'i': 1}, {'t': 1}, {'y': 1}, {' ': 1}, {'H': 1}, {'a': 1}, {'l': 1}, {'l': 1}, {',': 1}, {' ': 1}, {'s': 1}, {'a': 1}, {'i': 1}, {'d': 1}, {' ': 1}, {'h': 1}, {'e': 1}, {' ': 1}, {'w': 1}, {'a': 1}, {'s': 1}, {' ': 1}, {'b': 1}, {'o': 1}, {'t': 1}, {'h': 1}, {' ': 1}, {'“': 1}, {'e': 1}, {'l': 1}, {'a': 1}, {'t': 1}, {'e': 1}, {'d': 1}, {' ': 1}, {'a': 1}, {'n': 1}, {'d': 1}, {' ': 1}, {'d': 1}, {'e': 1}, {'f': 1}, {'e': 1}, {'a': 1}, {'t': 1}, {'e': 1}, {'d': 1}, {'”': 1}, {' ': 1}, {'b': 1}, {'y': 1}, {' ': 1}, {'w': 1}, {'o': 1}, {'r': 1}, {'d': 1}, {' ': 1}, {'o': 1}, {'f': 1}, {' ': 1}, {'t': 1}, {'h': 1}, {'e': 1}, {' ': 1}, {'n': 1}, {'e': 1}, {'w': 1}, {' ': 1}, {'c': 1}, {'h': 1}, {'a': 1}, {'r': 1}, {'g': 1}, {'e': 1}, {'s': 1}, {'.': 1}, {' ': 1}, {'H': 1}, {'e': 1}, {' ': 1}, {'s': 1}, {'a': 1}, {'i': 1}, {'d': 1}, {' ': 1}, {'h': 1}, {'e': 1}, {' ': 1}, {'h': 1}, {'a': 1}, {'d': 1}, {' ': 1}, {'s': 1}, {'e': 1}, {'e': 1}, {'n': 1}, {' ': 1}, {'c': 1}, {'o': 1}, {'u': 1}, {'n': 1}, {'t': 1}, {'l': 1}, {'e': 1}, {'s': 1}, {'s': 1}, {' ': 1}, {'s': 1}, {'u': 1}, {'r': 1}, {'g': 1}, {'e': 1}, {'s': 1}, {' ': 1}, {'o': 1}, {'f': 1}, {' ': 1}, {'o': 1}, {'u': 1}, {'t': 1}, {'r': 1}, {'a': 1}, {'g': 1}, {'e': 1}, {' ': 1}, {'o': 1}, {'v': 1}, {'e': 1}, {'r': 1}, {' ': 1}, {'p': 1}, {'o': 1}, {'l': 1}, {'i': 1}, {'c': 1}, {'e': 1}, {' ': 1}, {'b': 1}, {'r': 1}, {'u': 1}, {'t': 1}, {'a': 1}, {'l': 1}, {'i': 1}, {'t': 1}, {'y': 1}, {' ': 1}, {'a': 1}, {'g': 1}, {'a': 1}, {'i': 1}, {'n': 1}, {'s': 1}, {'t': 1}, {' ': 1}, {'b': 1}, {'l': 1}, {'a': 1}, {'c': 1}, {'k': 1}, {' ': 1}, {'m': 1}, {'e': 1}, {'n': 1}, {',': 1}, {' ': 1}, {'o': 1}, {'n': 1}, {'l': 1}, {'y': 1}, {' ': 1}, {'t': 1}, {'o': 1}, {' ': 1}, {'h': 1}, {'a': 1}, {'v': 1}, {'e': 1}, {' ': 1}, {'i': 1}, {'t': 1}, {' ': 1}, {'h': 1}, {'a': 1}, {'p': 1}, {'p': 1}, {'e': 1}, {'n': 1}, {' ': 1}, {'a': 1}, {'g': 1}, {'a': 1}, {'i': 1}, {'n': 1}, {'.': 1}, {' ': 1}, {'“': 1}, {'I': 1}, {'’': 1}, {'m': 1}, {' ': 1}, {'5': 1}, {'5': 1}, {',': 1}, {' ': 1}, {'I': 1}, {'’': 1}, {'m': 1}, {' ': 1}, {'b': 1}, {'l': 1}, {'a': 1}, {'c': 1}, {'k': 1}, {' ': 1}, {'a': 1}, {'n': 1}, {'d': 1}, {' ': 1}, {'I': 1}, {'’': 1}, {'m': 1}, {' ': 1}, {'m': 1}, {'a': 1}, {'l': 1}, {'e': 1}, {' ': 1}, {'—': 1}, {' ': 1}, {'I': 1}, {'’': 1}, {'v': 1}, {'e': 1}, {' ': 1}, {'s': 1}, {'e': 1}, {'e': 1}, {'n': 1}, {' ': 1}, {'t': 1}, {'h': 1}, {'e': 1}, {' ': 1}, {'c': 1}, {'y': 1}, {'c': 1}, {'l': 1}, {'e': 1}, {',': 1}, {'”': 1}, {' ': 1}, {'h': 1}, {'e': 1}, {' ': 1}, {'s': 1}, {'a': 1}, {'i': 1}, {'d': 1}, {'.': 1}, {' ': 1}, {'“': 1}, {'I': 1}, {'t': 1}, {'’': 1}, {'s': 1}, {' ': 1}, {'a': 1}, {'l': 1}, {'m': 1}, {'o': 1}, {'s': 1}, {'t': 1}, {' ': 1}, {'l': 1}, {'i': 1}, {'k': 1}, {'e': 1}, {' ': 1}, {'P': 1}, {'T': 1}, {'S': 1}, {'D': 1}, {' ': 1}, {'c': 1}, {'o': 1}, {'n': 1}, {'s': 1}, {'t': 1}, {'a': 1}, {'n': 1}, {'t': 1}, {'l': 1}, {'y': 1}, {' ': 1}, {'h': 1}, {'a': 1}, {'v': 1}, {'i': 1}, {'n': 1}, {'g': 1}, {' ': 1}, {'t': 1}, {'h': 1}, {'i': 1}, {'s': 1}, {' ': 1}, {'c': 1}, {'o': 1}, {'n': 1}, {'v': 1}, {'e': 1}, {'r': 1}, {'s': 1}, {'a': 1}, {'t': 1}, {'i': 1}, {'o': 1}, {'n': 1}, {' ': 1}, {'w': 1}, {'i': 1}, {'t': 1}, {'h': 1}, {' ': 1}, {'m': 1}, {'y': 1}, {' ': 1}, {'s': 1}, {'o': 1}, {'n': 1}, {'.': 1}, {'”': 1}, {' ': 1}, {'C': 1}, {'i': 1}, {'e': 1}, {'r': 1}, {'r': 1}, {'a': 1}, {' ': 1}, {'S': 1}, {'e': 1}, {'s': 1}, {'a': 1}, {'y': 1}, {' ': 1}, {'r': 1}, {'e': 1}, {'a': 1}, {'c': 1}, {'t': 1}, {'e': 1}, {'d': 1}, {' ': 1}, {'t': 1}, {'o': 1}, {' ': 1}, {'t': 1}, {'h': 1}, {'e': 1}, {' ': 1}, {'c': 1}, {'h': 1}, {'a': 1}, {'r': 1}, {'g': 1}, {'e': 1}, {'s': 1}, {' ': 1}, {'a': 1}, {'t': 1}, {' ': 1}, {'a': 1}, {' ': 1}, {'d': 1}, {'e': 1}, {'m': 1}, {'o': 1}, {'n': 1}, {'s': 1}, {'t': 1}, {'r': 1}, {'a': 1}, {'t': 1}, {'i': 1}, {'o': 1}, {'n': 1}, {' ': 1}, {'i': 1}, {'n': 1}, {' ': 1}, {'t': 1}, {'h': 1}, {'e': 1}, {' ': 1}, {'s': 1}, {'h': 1}, {'a': 1}, {'d': 1}, {'o': 1}, {'w': 1}, {' ': 1}, {'o': 1}, {'f': 1}, {' ': 1}, {'t': 1}, {'h': 1}, {'e': 1}, {' ': 1}, {'S': 1}, {'t': 1}, {'a': 1}, {'t': 1}, {'e': 1}, {' ': 1}, {'C': 1}, {'a': 1}, {'p': 1}, {'i': 1}, {'t': 1}, {'o': 1}, {'l': 1}, {' ': 1}, {'i': 1}, {'n': 1}, {' ': 1}, {'D': 1}, {'e': 1}, {'n': 1}, {'v': 1}, {'e': 1}, {'r': 1}, {'.': 1}, {' ': 1}, {'“': 1}, {'I': 1}, {'t': 1}, {'’': 1}, {'s': 1}, {' ': 1}, {'a': 1}, {'m': 1}, {'a': 1}, {'z': 1}, {'i': 1}, {'n': 1}, {'g': 1}, {',': 1}, {' ': 1}, {'i': 1}, {'t': 1}, {'’': 1}, {'s': 1}, {' ': 1}, {'a': 1}, {'n': 1}, {'o': 1}, {'t': 1}, {'h': 1}, {'e': 1}, {'r': 1}, {' ': 1}, {'b': 1}, {'o': 1}, {'x': 1}, {' ': 1}, {'w': 1}, {'e': 1}, {' ': 1}, {'c': 1}, {'a': 1}, {'n': 1}, {' ': 1}, {'c': 1}, {'h': 1}, {'e': 1}, {'c': 1}, {'k': 1}, {',': 1}, {'”': 1}, {' ': 1}, {'s': 1}, {'h': 1}, {'e': 1}, {' ': 1}, {'s': 1}, {'a': 1}, {'i': 1}, {'d': 1}, {'.': 1}, {' ': 1}, {'“': 1}, {'B': 1}, {'u': 1}, {'t': 1}, {' ': 1}, {'i': 1}, {'t': 1}, {' ': 1}, {'g': 1}, {'o': 1}, {'e': 1}, {'s': 1}, {' ': 1}, {'u': 1}, {'p': 1}, {' ': 1}, {'s': 1}, {'o': 1}, {' ': 1}, {'m': 1}, {'u': 1}, {'c': 1}, {'h': 1}, {' ': 1}, {'h': 1}, {'i': 1}, {'g': 1}, {'h': 1}, {'e': 1}, {'r': 1}, {'.': 1}, {' ': 1}, {'I': 1}, {'t': 1}, {'’': 1}, {'s': 1}, {' ': 1}, {'a': 1}, {'b': 1}, {'o': 1}, {'u': 1}, {'t': 1}, {' ': 1}, {'t': 1}, {'h': 1}, {'e': 1}, {' ': 1}, {'s': 1}, {'y': 1}, {'s': 1}, {'t': 1}, {'e': 1}, {'m': 1}, {'.': 1}, {'”': 1}, {' ': 1}, {'I': 1}, {'n': 1}, {' ': 1}, {'S': 1}, {'a': 1}, {'n': 1}, {' ': 1}, {'F': 1}, {'r': 1}, {'a': 1}, {'n': 1}, {'c': 1}, {'i': 1}, {'s': 1}, {'c': 1}, {'o': 1}, {',': 1}, {' ': 1}, {'T': 1}, {'e': 1}, {'v': 1}, {'i': 1}, {'t': 1}, {'a': 1}, {' ': 1}, {'T': 1}, {'o': 1}, {'m': 1}, {'a': 1}, {'s': 1}, {'i': 1}, {' ': 1}, {'—': 1}, {' ': 1}, {'w': 1}, {'h': 1}, {'o': 1}, {' ': 1}, {'i': 1}, {'s': 1}, {' ': 1}, {'o': 1}, {'f': 1}, {' ': 1}, {'P': 1}, {'o': 1}, {'l': 1}, {'y': 1}, {'n': 1}, {'e': 1}, {'s': 1}, {'i': 1}, {'a': 1}, {'n': 1}, {' ': 1}, {'d': 1}, {'e': 1}, {'s': 1}, {'c': 1}, {'e': 1}, {'n': 1}, {'t': 1}, {' ': 1}, {'a': 1}, {'n': 1}, {'d': 1}, {' ': 1}, {'d': 1}, {'e': 1}, {'s': 1}, {'c': 1}, {'r': 1}, {'i': 1}, {'b': 1}, {'e': 1}, {'d': 1}, {' ': 1}, {'h': 1}, {'i': 1}, {'m': 1}, {'s': 1}, {'e': 1}, {'l': 1}, {'f': 1}, {' ': 1}, {'a': 1}, {'s': 1}, {' ': 1}, {'“': 1}, {'d': 1}, {'a': 1}, {'r': 1}, {'k': 1}, {' ': 1}, {'a': 1}, {'n': 1}, {'d': 1}, {' ': 1}, {'t': 1}, {'a': 1}, {'l': 1}, {'l': 1}, {' ': 1}, {'a': 1}, {'n': 1}, {'d': 1}, {' ': 1}, {'b': 1}, {'i': 1}, {'g': 1}, {'”': 1}, {' ': 1}, {'—': 1}, {' ': 1}, {'s': 1}, {'a': 1}, {'i': 1}, {'d': 1}, {' ': 1}, {'h': 1}, {'e': 1}, {' ': 1}, {'r': 1}, {'e': 1}, {'g': 1}, {'u': 1}, {'l': 1}, {'a': 1}, {'r': 1}, {'l': 1}, {'y': 1}, {' ': 1}, {'f': 1}, {'a': 1}, {'c': 1}, {'e': 1}, {'d': 1}, {' ': 1}, {'r': 1}, {'a': 1}, {'c': 1}, {'i': 1}, {'a': 1}, {'l': 1}, {' ': 1}, {'p': 1}, {'r': 1}, {'o': 1}, {'f': 1}, {'i': 1}, {'l': 1}, {'i': 1}, {'n': 1}, {'g': 1}, {',': 1}, {' ': 1}, {'e': 1}, {'v': 1}, {'i': 1}, {'d': 1}, {'e': 1}, {'n': 1}, {'c': 1}, {'e': 1}, {' ': 1}, {'o': 1}, {'f': 1}, {' ': 1}, {'t': 1}, {'h': 1}, {'e': 1}, {' ': 1}, {'b': 1}, {'i': 1}, {'g': 1}, {'g': 1}, {'e': 1}, {'r': 1}, {' ': 1}, {'f': 1}, {'o': 1}, {'r': 1}, {'c': 1}, {'e': 1}, {'s': 1}, {' ': 1}, {'t': 1}, {'h': 1}, {'a': 1}, {'t': 1}, {' ': 1}, {'m': 1}, {'u': 1}, {'s': 1}, {'t': 1}, {' ': 1}, {'b': 1}, {'e': 1}, {' ': 1}, {'o': 1}, {'v': 1}, {'e': 1}, {'r': 1}, {'c': 1}, {'o': 1}, {'m': 1}, {'e': 1}, {'.': 1}, {' ': 1}, {'O': 1}, {'n': 1}, {' ': 1}, {'W': 1}, {'e': 1}, {'d': 1}, {'n': 1}, {'e': 1}, {'s': 1}, {'d': 1}, {'a': 1}, {'y': 1}, {',': 1}, {' ': 1}, {'h': 1}, {'e': 1}, {' ': 1}, {'d': 1}, {'i': 1}, {'s': 1}, {'t': 1}, {'r': 1}, {'i': 1}, {'b': 1}, {'u': 1}, {'t': 1}, {'e': 1}, {'d': 1}, {' ': 1}, {'b': 1}, {'o': 1}, {'t': 1}, {'t': 1}, {'l': 1}, {'e': 1}, {'d': 1}, {' ': 1}, {'w': 1}, {'a': 1}, {'t': 1}, {'e': 1}, {'r': 1}, {' ': 1}, {'a': 1}, {'t': 1}, {' ': 1}, {'w': 1}, {'h': 1}, {'a': 1}, {'t': 1}, {' ': 1}, {'h': 1}, {'e': 1}, {' ': 1}, {'s': 1}, {'a': 1}, {'i': 1}, {'d': 1}, {' ': 1}, {'w': 1}, {'a': 1}, {'s': 1}, {' ': 1}, {'h': 1}, {'i': 1}, {'s': 1}, {' ': 1}, {'f': 1}, {'i': 1}, {'r': 1}, {'s': 1}, {'t': 1}, {' ': 1}, {'d': 1}, {'e': 1}, {'m': 1}, {'o': 1}, {'n': 1}, {'s': 1}, {'t': 1}, {'r': 1}, {'a': 1}, {'t': 1}, {'i': 1}, {'o': 1}, {'n': 1}, {',': 1}, {' ': 1}, {'b': 1}, {'u': 1}, {'t': 1}, {' ': 1}, {'o': 1}, {'n': 1}, {'e': 1}, {' ': 1}, {'t': 1}, {'h': 1}, {'a': 1}, {'t': 1}, {' ': 1}, {'w': 1}, {'o': 1}, {'u': 1}, {'l': 1}, {'d': 1}, {' ': 1}, {'n': 1}, {'o': 1}, {'t': 1}, {' ': 1}, {'b': 1}, {'e': 1}, {' ': 1}, {'h': 1}, {'i': 1}, {'s': 1}, {' ': 1}, {'l': 1}, {'a': 1}, {'s': 1}, {'t': 1}, {'.': 1}, {' ': 1}, {'W': 1}, {'h': 1}, {'a': 1}, {'t': 1}, {' ': 1}, {'w': 1}, {'o': 1}, {'u': 1}, {'l': 1}, {'d': 1}, {' ': 1}, {'s': 1}, {'t': 1}, {'o': 1}, {'p': 1}, {' ': 1}, {'h': 1}, {'i': 1}, {'m': 1}, {' ': 1}, {'f': 1}, {'r': 1}, {'o': 1}, {'m': 1}, {' ': 1}, {'p': 1}, {'r': 1}, {'o': 1}, {'t': 1}, {'e': 1}, {'s': 1}, {'t': 1}, {'i': 1}, {'n': 1}, {'g': 1}, {'?': 1}]\n"
          ],
          "name": "stdout"
        }
      ]
    },
    {
      "cell_type": "markdown",
      "metadata": {
        "id": "cNxSF9zA1bnn"
      },
      "source": [
        "* HINT: use list of *python* [dictionaries](https://docs.python.org/3/tutorial/datastructures.html#dictionaries) to store the character counts in the map\n",
        "* HINT 2: merge the dicts in reduce"
      ]
    },
    {
      "cell_type": "code",
      "metadata": {
        "id": "l1rjaJ-H1bnn",
        "outputId": "dca25291-29e8-4481-f8a3-9310808b692e",
        "colab": {
          "base_uri": "https://localhost:8080/"
        }
      },
      "source": [
        "def count(characters):\n",
        "    return functools.reduce(reducer, map(lambda char: dict([[char, 1]]), characters))\n",
        "    \n",
        "def reducer(i, j):\n",
        "    for k in j:\n",
        "       i[k] = i.get(k, 0) + j.get(k, 0)\n",
        "    return i\n",
        "\n",
        "print(count(text))"
      ],
      "execution_count": 17,
      "outputs": [
        {
          "output_type": "stream",
          "text": [
            "{' ': 176, 'B': 2, 'y': 13, 'r': 38, 'o': 52, 'n': 49, 'S': 5, 'p': 10, 'e': 89, 'c': 25, ',': 11, 'h': 39, 'a': 72, 'd': 36, 'i': 49, 'g': 19, 'u': 17, 't': 72, 'w': 13, 'b': 16, 's': 59, 'L': 1, 'A': 1, 'l': 28, 'C': 3, 'H': 2, '“': 6, 'f': 12, '”': 6, '.': 10, 'v': 9, 'k': 5, 'm': 18, 'I': 8, '’': 8, '5': 2, '—': 3, 'P': 2, 'T': 3, 'D': 2, 'z': 1, 'x': 1, 'F': 1, 'O': 1, 'W': 2, '?': 1}\n"
          ],
          "name": "stdout"
        }
      ]
    }
  ]
}