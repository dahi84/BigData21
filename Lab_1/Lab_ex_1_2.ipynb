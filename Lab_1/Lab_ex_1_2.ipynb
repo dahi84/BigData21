{
  "nbformat": 4,
  "nbformat_minor": 0,
  "metadata": {
    "kernelspec": {
      "display_name": "Python 3",
      "language": "python",
      "name": "python3"
    },
    "language_info": {
      "codemirror_mode": {
        "name": "ipython",
        "version": 3
      },
      "file_extension": ".py",
      "mimetype": "text/x-python",
      "name": "python",
      "nbconvert_exporter": "python",
      "pygments_lexer": "ipython3",
      "version": "3.7.6"
    },
    "colab": {
      "name": "Lab_ex_1_2.ipynb",
      "provenance": [],
      "toc_visible": true
    },
    "accelerator": "GPU"
  },
  "cells": [
    {
      "cell_type": "markdown",
      "metadata": {
        "id": "n17ZKukCGvXh"
      },
      "source": [
        "# Ex 1.2: A simple parallel MapReduce framework in Python\n",
        "Now we use the [*multiprocessing*](https://docs.python.org/3/library/multiprocessing.html) lib to actually do things in parallel"
      ]
    },
    {
      "cell_type": "code",
      "metadata": {
        "id": "U8LbAyG2GvXl"
      },
      "source": [
        "import collections\n",
        "import itertools\n",
        "import multiprocessing\n",
        "\n",
        "\n",
        "class SimpleMapReduce:\n",
        "\n",
        "    def __init__(self, map_func, reduce_func, num_workers=None):\n",
        "        \"\"\"\n",
        "        map_func\n",
        "\n",
        "          Function to map inputs to intermediate data. Takes as\n",
        "          argument one input value and returns a tuple with the\n",
        "          key and a value to be reduced.\n",
        "\n",
        "        reduce_func\n",
        "\n",
        "          Function to reduce partitioned version of intermediate\n",
        "          data to final output. Takes as argument a key as\n",
        "          produced by map_func and a sequence of the values\n",
        "          associated with that key.\n",
        "\n",
        "        num_workers\n",
        "\n",
        "          The number of workers to create in the pool. Defaults\n",
        "          to the number of CPUs available on the current host.\n",
        "        \"\"\"\n",
        "        self.map_func = map_func\n",
        "        self.reduce_func = reduce_func\n",
        "        self.pool = multiprocessing.Pool(num_workers)\n",
        "\n",
        "    def partition(self, mapped_values):\n",
        "        \"\"\"Organize the mapped values by their key.\n",
        "        Returns an unsorted sequence of tuples with a key\n",
        "        and a sequence of values.\n",
        "        \"\"\"\n",
        "        partitioned_data = collections.defaultdict(list)\n",
        "        for key, value in mapped_values:\n",
        "            partitioned_data[key].append(value)\n",
        "        return partitioned_data.items()\n",
        "\n",
        "    def __call__(self, inputs, chunksize=1):\n",
        "        \"\"\"Process the inputs through the map and reduce functions\n",
        "        given.\n",
        "\n",
        "        inputs\n",
        "          An iterable containing the input data to be processed.\n",
        "\n",
        "        chunksize=1\n",
        "          The portion of the input data to hand to each worker.\n",
        "          This can be used to tune performance during the mapping\n",
        "          phase.\n",
        "        \"\"\"\n",
        "        map_responses = self.pool.map(\n",
        "            self.map_func,\n",
        "            inputs,\n",
        "            chunksize=chunksize,\n",
        "        )\n",
        "        partitioned_data = self.partition(\n",
        "            itertools.chain(*map_responses)\n",
        "        )\n",
        "        reduced_values = self.pool.map(\n",
        "            self.reduce_func,\n",
        "            partitioned_data,\n",
        "        )\n",
        "        return reduced_values"
      ],
      "execution_count": 1,
      "outputs": []
    },
    {
      "cell_type": "markdown",
      "metadata": {
        "id": "cgWPBZHyGvXn"
      },
      "source": [
        "### A Word Count example"
      ]
    },
    {
      "cell_type": "code",
      "metadata": {
        "id": "vBEumA5QGvXo"
      },
      "source": [
        "import string\n",
        "\n",
        "# map - read file and count words\n",
        "def file_to_words(filename):\n",
        "    \"\"\"Read a file and return a sequence of\n",
        "    (word, occurences) values.\n",
        "    \"\"\"\n",
        "    STOP_WORDS = set([\n",
        "        'a', 'an', 'and', 'are', 'as', 'be', 'by', 'for', 'if',\n",
        "        'in', 'is', 'it', 'of', 'or', 'py', 'rst', 'that', 'the',\n",
        "        'to', 'with',\n",
        "    ])\n",
        "    TR = str.maketrans({\n",
        "        p: ' '\n",
        "        for p in string.punctuation\n",
        "    })\n",
        "\n",
        "    print('{} reading {}'.format(\n",
        "        multiprocessing.current_process().name, filename))\n",
        "    output = []\n",
        "\n",
        "    with open(filename, 'rt') as f:\n",
        "        for line in f:\n",
        "            # Skip comment lines.\n",
        "            if line.lstrip().startswith('..'):\n",
        "                continue\n",
        "            line = line.translate(TR)  # Strip punctuation\n",
        "            for word in line.split():\n",
        "                word = word.lower()\n",
        "                if word.isalpha() and word not in STOP_WORDS:\n",
        "                    output.append((word, 1))\n",
        "    return output\n",
        "\n",
        "# reduce\n",
        "def count_words(item):\n",
        "    \"\"\"Convert the partitioned data for a word to a\n",
        "    tuple containing the word and the number of occurences.\n",
        "    \"\"\"\n",
        "    word, occurences = item\n",
        "    return (word, sum(occurences))"
      ],
      "execution_count": 2,
      "outputs": []
    },
    {
      "cell_type": "code",
      "metadata": {
        "id": "2EKHjOZvGvXp",
        "colab": {
          "base_uri": "https://localhost:8080/",
          "height": 292
        },
        "outputId": "4b41ab37-57d2-4189-8a78-d0cb5165406a"
      },
      "source": [
        "import operator\n",
        "import glob #easy file access\n",
        "\n",
        "input_files = glob.glob('*.rst')#get all text files names \n",
        "\n",
        "mapper = SimpleMapReduce(file_to_words, count_words)#get mapreduce instance with custom map and reduce functions\n",
        "word_counts = mapper(input_files)#call parallel mapreduce on files\n",
        "\n",
        "word_counts.sort(key=operator.itemgetter(1))#sort results\n",
        "word_counts.reverse()\n",
        "\n",
        "print('\\nTOP 20 WORDS BY FREQUENCY\\n')\n",
        "top20 = word_counts[:20]\n",
        "longest = max(len(word) for word, count in top20)\n",
        "for word, count in top20:\n",
        "    print('{word:<{len}}: {count:5}'.format(\n",
        "            len=longest + 1,\n",
        "            word=word,\n",
        "            count=count)\n",
        "    )"
      ],
      "execution_count": 3,
      "outputs": [
        {
          "output_type": "stream",
          "text": [
            "\n",
            "TOP 20 WORDS BY FREQUENCY\n",
            "\n"
          ],
          "name": "stdout"
        },
        {
          "output_type": "error",
          "ename": "ValueError",
          "evalue": "ignored",
          "traceback": [
            "\u001b[0;31m---------------------------------------------------------------------------\u001b[0m",
            "\u001b[0;31mValueError\u001b[0m                                Traceback (most recent call last)",
            "\u001b[0;32m<ipython-input-3-dbc7911f56a8>\u001b[0m in \u001b[0;36m<module>\u001b[0;34m()\u001b[0m\n\u001b[1;32m     12\u001b[0m \u001b[0mprint\u001b[0m\u001b[0;34m(\u001b[0m\u001b[0;34m'\\nTOP 20 WORDS BY FREQUENCY\\n'\u001b[0m\u001b[0;34m)\u001b[0m\u001b[0;34m\u001b[0m\u001b[0;34m\u001b[0m\u001b[0m\n\u001b[1;32m     13\u001b[0m \u001b[0mtop20\u001b[0m \u001b[0;34m=\u001b[0m \u001b[0mword_counts\u001b[0m\u001b[0;34m[\u001b[0m\u001b[0;34m:\u001b[0m\u001b[0;36m20\u001b[0m\u001b[0;34m]\u001b[0m\u001b[0;34m\u001b[0m\u001b[0;34m\u001b[0m\u001b[0m\n\u001b[0;32m---> 14\u001b[0;31m \u001b[0mlongest\u001b[0m \u001b[0;34m=\u001b[0m \u001b[0mmax\u001b[0m\u001b[0;34m(\u001b[0m\u001b[0mlen\u001b[0m\u001b[0;34m(\u001b[0m\u001b[0mword\u001b[0m\u001b[0;34m)\u001b[0m \u001b[0;32mfor\u001b[0m \u001b[0mword\u001b[0m\u001b[0;34m,\u001b[0m \u001b[0mcount\u001b[0m \u001b[0;32min\u001b[0m \u001b[0mtop20\u001b[0m\u001b[0;34m)\u001b[0m\u001b[0;34m\u001b[0m\u001b[0;34m\u001b[0m\u001b[0m\n\u001b[0m\u001b[1;32m     15\u001b[0m \u001b[0;32mfor\u001b[0m \u001b[0mword\u001b[0m\u001b[0;34m,\u001b[0m \u001b[0mcount\u001b[0m \u001b[0;32min\u001b[0m \u001b[0mtop20\u001b[0m\u001b[0;34m:\u001b[0m\u001b[0;34m\u001b[0m\u001b[0;34m\u001b[0m\u001b[0m\n\u001b[1;32m     16\u001b[0m     print('{word:<{len}}: {count:5}'.format(\n",
            "\u001b[0;31mValueError\u001b[0m: max() arg is an empty sequence"
          ]
        }
      ]
    },
    {
      "cell_type": "markdown",
      "metadata": {
        "id": "FYz3-bNIGvXq"
      },
      "source": [
        "## K-Means implementation\n",
        "Use the simple frame work to implement K-Means"
      ]
    },
    {
      "cell_type": "code",
      "metadata": {
        "id": "sXU0JexYGvXr"
      },
      "source": [
        "import numpy as np\n",
        "import matplotlib.pyplot as plt\n",
        "\n",
        "from sklearn.cluster import KMeans\n",
        "from sklearn.datasets import make_blobs\n",
        "from scipy.spatial import distance"
      ],
      "execution_count": 5,
      "outputs": []
    },
    {
      "cell_type": "code",
      "metadata": {
        "id": "3AoyBG1aGvXr",
        "colab": {
          "base_uri": "https://localhost:8080/",
          "height": 388
        },
        "outputId": "bda47e48-f47c-473b-ab14-439f30664afe"
      },
      "source": [
        "#generate data with K=4\n",
        "X, y = make_blobs(n_samples=1500, centers=4)\n",
        "plt.scatter(X[:, 0], X[:, 1])\n",
        "X"
      ],
      "execution_count": 8,
      "outputs": [
        {
          "output_type": "execute_result",
          "data": {
            "text/plain": [
              "array([[ 2.02041244, -7.41849771],\n",
              "       [-6.08300268, 10.52667948],\n",
              "       [ 0.8770873 , -7.28048839],\n",
              "       ...,\n",
              "       [ 1.7365328 , -9.08569714],\n",
              "       [ 0.23096158, -8.00386133],\n",
              "       [-4.17577344,  9.36948769]])"
            ]
          },
          "metadata": {
            "tags": []
          },
          "execution_count": 8
        },
        {
          "output_type": "display_data",
          "data": {
            "image/png": "[encoded data removed]",
            "text/plain": [
              "<Figure size 432x288 with 1 Axes>"
            ]
          },
          "metadata": {
            "tags": [],
            "needs_background": "light"
          }
        }
      ]
    },
    {
      "cell_type": "code",
      "metadata": {
        "id": "ZLoYl9a3GvXs",
        "colab": {
          "base_uri": "https://localhost:8080/",
          "height": 300
        },
        "outputId": "e12815e2-6e3d-4e2c-9c9c-bbef12599949"
      },
      "source": [
        "%%time\n",
        "#K-Means ref implementation\n",
        "k = KMeans(n_clusters=4)\n",
        "y_pred = k.fit_predict(X)\n",
        "\n",
        "plt.scatter(X[:, 0], X[:, 1], c=y_pred)"
      ],
      "execution_count": 9,
      "outputs": [
        {
          "output_type": "stream",
          "text": [
            "CPU times: user 128 ms, sys: 145 ms, total: 273 ms\n",
            "Wall time: 143 ms\n"
          ],
          "name": "stdout"
        },
        {
          "output_type": "display_data",
          "data": {
            "image/png": "[encoded data removed]",
            "text/plain": [
              "<Figure size 432x288 with 1 Axes>"
            ]
          },
          "metadata": {
            "tags": [],
            "needs_background": "light"
          }
        }
      ]
    },
    {
      "cell_type": "code",
      "metadata": {
        "id": "FJ8ICvOEGvXt",
        "outputId": "9179cc05-ad58-45d1-c504-4fb48ff9c32d"
      },
      "source": [
        "k.cluster_centers_"
      ],
      "execution_count": null,
      "outputs": [
        {
          "output_type": "execute_result",
          "data": {
            "text/plain": [
              "array([[-9.99249643, -3.96847878],\n",
              "       [ 4.46390788,  4.52830799],\n",
              "       [-0.48955215,  6.7685505 ],\n",
              "       [-6.07098139, -2.91811314]])"
            ]
          },
          "metadata": {
            "tags": []
          },
          "execution_count": 10
        }
      ]
    },
    {
      "cell_type": "markdown",
      "metadata": {
        "id": "VIq8IZO1N-Ov"
      },
      "source": [
        "##Kmeans implementation with MapReduce"
      ]
    },
    {
      "cell_type": "markdown",
      "metadata": {
        "id": "ZVScG_rvOT6o"
      },
      "source": [
        "Mapper Function\n",
        "\n",
        "//Map function find nearest centers to the coordinates\n",
        "\n",
        "Map Phase input:<k1, v1>\n",
        "\n",
        "k1- line number\n",
        "\n",
        "v1- point(coordinates)\n",
        "\n",
        "//Find minimum center from point\n",
        "\n",
        "For each center\n",
        "\n",
        "Find minimum distance to point\n",
        "\n",
        "End for\n",
        "\n",
        "k2-nearest center\n",
        "\n",
        "V2-point\n",
        "\n",
        "Output: <k2,v2>\n",
        "\n",
        "Reducer Function\n",
        "\n",
        "//Compute new cluster centers\n",
        "\n",
        "Reduce Phase input:<k2, List<v2>>\n",
        "\n",
        "Calculate mean value for v2 points\n",
        "\n",
        "new center point-mean value\n",
        "\n",
        "k3-new center point\n",
        "\n",
        "v3-points\n",
        "\n",
        "Output: <k3,v3>\n",
        "\n",
        "Continue the process till the clusters are converged."
      ]
    },
    {
      "cell_type": "code",
      "metadata": {
        "id": "X70QkwCXGvXt"
      },
      "source": [
        "#implement map -> assign data to center\n",
        "# (random) cluster center = m1, m2, m3, m4, ..., mn\n",
        "# data point xi = one data point with a set of x and y axixs \n",
        "def kMap(cluster_center_mj, data_point_xi): \n",
        "  min_dist = float(\"inf\")\n",
        "  centroids = cluster_center_mj\n",
        "  nearest_centroid = 0\n",
        "  for i in range(len(centroids)):\n",
        "      dist = distance.euclidean(centroids[i],data_point_xi)\n",
        "      if(dist < min_dist):\n",
        "          min_dist = distance\n",
        "          cluster_label_zi = i\n",
        "  return cluster_label_zi, data_point_xi    # cluster label zi / data points who's cluster center is zi \n"
      ],
      "execution_count": 11,
      "outputs": []
    },
    {
      "cell_type": "code",
      "metadata": {
        "id": "uY4nefkgGvXu"
      },
      "source": [
        "#implement reduce -> compute new centers\n",
        "def kReduce(cluster_label_zi, data_point_xi):\n",
        "  sum = 0\n",
        "  count = 0\n",
        "  for x in data_point_xi:\n",
        "      sum += x\n",
        "      count += 1\n",
        "  new_mean = sum/count\n",
        "  return cluster_label_zi, new_mean    # indiviudal cluster label / new computed mean\n"
      ],
      "execution_count": 18,
      "outputs": []
    },
    {
      "cell_type": "code",
      "metadata": {
        "id": "hneTBg1eGvXu",
        "outputId": "2ba970d2-2b52-428c-84aa-1924cbd6ce14",
        "colab": {
          "base_uri": "https://localhost:8080/"
        }
      },
      "source": [
        "#init centers\n",
        "center = X[np.random.randint(X.shape[0], size=4), :]#get 4 random datapoints\n",
        "print('init center', center)"
      ],
      "execution_count": 19,
      "outputs": [
        {
          "output_type": "stream",
          "text": [
            "init center [[ 6.93881948 -1.57420966]\n",
            " [ 4.58763911 -0.73863969]\n",
            " [ 5.25915754 -0.59422591]\n",
            " [ 5.31369982 -1.98529423]]\n"
          ],
          "name": "stdout"
        }
      ]
    },
    {
      "cell_type": "code",
      "metadata": {
        "id": "82hBazOiGvXv",
        "outputId": "e655edc9-a18c-4554-8e83-8163cb8df4ae",
        "colab": {
          "base_uri": "https://localhost:8080/",
          "height": 601
        }
      },
      "source": [
        "#use framework\n",
        "mapper = SimpleMapReduce(kMap, kReduce)#get mapreduce instance with custom map and reduce functions\n",
        "center = mapper(inputs=(center, X))#call parallel mapreduce oo data\n",
        "print('Center from MapReduce:', center)"
      ],
      "execution_count": 31,
      "outputs": [
        {
          "output_type": "error",
          "ename": "TypeError",
          "evalue": "ignored",
          "traceback": [
            "\u001b[0;31m---------------------------------------------------------------------------\u001b[0m",
            "\u001b[0;31mRemoteTraceback\u001b[0m                           Traceback (most recent call last)",
            "\u001b[0;31mRemoteTraceback\u001b[0m: \n\"\"\"\nTraceback (most recent call last):\n  File \"/usr/lib/python3.7/multiprocessing/pool.py\", line 121, in worker\n    result = (True, func(*args, **kwds))\n  File \"/usr/lib/python3.7/multiprocessing/pool.py\", line 44, in mapstar\n    return list(map(*args))\nTypeError: kMap() missing 1 required positional argument: 'data_point_xi'\n\"\"\"",
            "\nThe above exception was the direct cause of the following exception:\n",
            "\u001b[0;31mTypeError\u001b[0m                                 Traceback (most recent call last)",
            "\u001b[0;32m<ipython-input-31-c268f9fe2807>\u001b[0m in \u001b[0;36m<module>\u001b[0;34m()\u001b[0m\n\u001b[1;32m      1\u001b[0m \u001b[0;31m#use framework\u001b[0m\u001b[0;34m\u001b[0m\u001b[0;34m\u001b[0m\u001b[0;34m\u001b[0m\u001b[0m\n\u001b[1;32m      2\u001b[0m \u001b[0mmapper\u001b[0m \u001b[0;34m=\u001b[0m \u001b[0mSimpleMapReduce\u001b[0m\u001b[0;34m(\u001b[0m\u001b[0mkMap\u001b[0m\u001b[0;34m,\u001b[0m \u001b[0mkReduce\u001b[0m\u001b[0;34m)\u001b[0m\u001b[0;31m#get mapreduce instance with custom map and reduce functions\u001b[0m\u001b[0;34m\u001b[0m\u001b[0;34m\u001b[0m\u001b[0m\n\u001b[0;32m----> 3\u001b[0;31m \u001b[0mcenter\u001b[0m \u001b[0;34m=\u001b[0m \u001b[0mmapper\u001b[0m\u001b[0;34m(\u001b[0m\u001b[0minputs\u001b[0m\u001b[0;34m=\u001b[0m\u001b[0;34m(\u001b[0m\u001b[0mcenter\u001b[0m\u001b[0;34m,\u001b[0m \u001b[0mX\u001b[0m\u001b[0;34m.\u001b[0m\u001b[0mall\u001b[0m\u001b[0;34m)\u001b[0m\u001b[0;34m)\u001b[0m\u001b[0;31m#call parallel mapreduce oo data\u001b[0m\u001b[0;34m\u001b[0m\u001b[0;34m\u001b[0m\u001b[0m\n\u001b[0m\u001b[1;32m      4\u001b[0m \u001b[0mprint\u001b[0m\u001b[0;34m(\u001b[0m\u001b[0;34m'Center from MapReduce:'\u001b[0m\u001b[0;34m,\u001b[0m \u001b[0mcenter\u001b[0m\u001b[0;34m)\u001b[0m\u001b[0;34m\u001b[0m\u001b[0;34m\u001b[0m\u001b[0m\n",
            "\u001b[0;32m<ipython-input-1-aeb6966de391>\u001b[0m in \u001b[0;36m__call__\u001b[0;34m(self, inputs, chunksize)\u001b[0m\n\u001b[1;32m     56\u001b[0m             \u001b[0mself\u001b[0m\u001b[0;34m.\u001b[0m\u001b[0mmap_func\u001b[0m\u001b[0;34m,\u001b[0m\u001b[0;34m\u001b[0m\u001b[0;34m\u001b[0m\u001b[0m\n\u001b[1;32m     57\u001b[0m             \u001b[0minputs\u001b[0m\u001b[0;34m,\u001b[0m\u001b[0;34m\u001b[0m\u001b[0;34m\u001b[0m\u001b[0m\n\u001b[0;32m---> 58\u001b[0;31m             \u001b[0mchunksize\u001b[0m\u001b[0;34m=\u001b[0m\u001b[0mchunksize\u001b[0m\u001b[0;34m,\u001b[0m\u001b[0;34m\u001b[0m\u001b[0;34m\u001b[0m\u001b[0m\n\u001b[0m\u001b[1;32m     59\u001b[0m         )\n\u001b[1;32m     60\u001b[0m         partitioned_data = self.partition(\n",
            "\u001b[0;32m/usr/lib/python3.7/multiprocessing/pool.py\u001b[0m in \u001b[0;36mmap\u001b[0;34m(self, func, iterable, chunksize)\u001b[0m\n\u001b[1;32m    266\u001b[0m         \u001b[0;32min\u001b[0m \u001b[0ma\u001b[0m \u001b[0mlist\u001b[0m \u001b[0mthat\u001b[0m \u001b[0;32mis\u001b[0m \u001b[0mreturned\u001b[0m\u001b[0;34m.\u001b[0m\u001b[0;34m\u001b[0m\u001b[0;34m\u001b[0m\u001b[0m\n\u001b[1;32m    267\u001b[0m         '''\n\u001b[0;32m--> 268\u001b[0;31m         \u001b[0;32mreturn\u001b[0m \u001b[0mself\u001b[0m\u001b[0;34m.\u001b[0m\u001b[0m_map_async\u001b[0m\u001b[0;34m(\u001b[0m\u001b[0mfunc\u001b[0m\u001b[0;34m,\u001b[0m \u001b[0miterable\u001b[0m\u001b[0;34m,\u001b[0m \u001b[0mmapstar\u001b[0m\u001b[0;34m,\u001b[0m \u001b[0mchunksize\u001b[0m\u001b[0;34m)\u001b[0m\u001b[0;34m.\u001b[0m\u001b[0mget\u001b[0m\u001b[0;34m(\u001b[0m\u001b[0;34m)\u001b[0m\u001b[0;34m\u001b[0m\u001b[0;34m\u001b[0m\u001b[0m\n\u001b[0m\u001b[1;32m    269\u001b[0m \u001b[0;34m\u001b[0m\u001b[0m\n\u001b[1;32m    270\u001b[0m     \u001b[0;32mdef\u001b[0m \u001b[0mstarmap\u001b[0m\u001b[0;34m(\u001b[0m\u001b[0mself\u001b[0m\u001b[0;34m,\u001b[0m \u001b[0mfunc\u001b[0m\u001b[0;34m,\u001b[0m \u001b[0miterable\u001b[0m\u001b[0;34m,\u001b[0m \u001b[0mchunksize\u001b[0m\u001b[0;34m=\u001b[0m\u001b[0;32mNone\u001b[0m\u001b[0;34m)\u001b[0m\u001b[0;34m:\u001b[0m\u001b[0;34m\u001b[0m\u001b[0;34m\u001b[0m\u001b[0m\n",
            "\u001b[0;32m/usr/lib/python3.7/multiprocessing/pool.py\u001b[0m in \u001b[0;36mget\u001b[0;34m(self, timeout)\u001b[0m\n\u001b[1;32m    655\u001b[0m             \u001b[0;32mreturn\u001b[0m \u001b[0mself\u001b[0m\u001b[0;34m.\u001b[0m\u001b[0m_value\u001b[0m\u001b[0;34m\u001b[0m\u001b[0;34m\u001b[0m\u001b[0m\n\u001b[1;32m    656\u001b[0m         \u001b[0;32melse\u001b[0m\u001b[0;34m:\u001b[0m\u001b[0;34m\u001b[0m\u001b[0;34m\u001b[0m\u001b[0m\n\u001b[0;32m--> 657\u001b[0;31m             \u001b[0;32mraise\u001b[0m \u001b[0mself\u001b[0m\u001b[0;34m.\u001b[0m\u001b[0m_value\u001b[0m\u001b[0;34m\u001b[0m\u001b[0;34m\u001b[0m\u001b[0m\n\u001b[0m\u001b[1;32m    658\u001b[0m \u001b[0;34m\u001b[0m\u001b[0m\n\u001b[1;32m    659\u001b[0m     \u001b[0;32mdef\u001b[0m \u001b[0m_set\u001b[0m\u001b[0;34m(\u001b[0m\u001b[0mself\u001b[0m\u001b[0;34m,\u001b[0m \u001b[0mi\u001b[0m\u001b[0;34m,\u001b[0m \u001b[0mobj\u001b[0m\u001b[0;34m)\u001b[0m\u001b[0;34m:\u001b[0m\u001b[0;34m\u001b[0m\u001b[0;34m\u001b[0m\u001b[0m\n",
            "\u001b[0;31mTypeError\u001b[0m: kMap() missing 1 required positional argument: 'data_point_xi'"
          ]
        }
      ]
    },
    {
      "cell_type": "code",
      "metadata": {
        "id": "MCvSdb5dGvXv"
      },
      "source": [
        ""
      ],
      "execution_count": null,
      "outputs": []
    }
  ]
}